{
 "cells": [
  {
   "cell_type": "markdown",
   "metadata": {},
   "source": [
    "## Get variant image from a BAM file\n",
    "\n",
    "Here, we take a variant and construct a multichannel image from it to prepare Neural Network data.\n",
    "\n",
    "The variant position is taken from the VCF file and the image is constructed out of the reads exctracted from BAM file. No variant annotations from VCF file are encoded in the image"
   ]
  },
  {
   "cell_type": "markdown",
   "metadata": {},
   "source": [
    "The idea is to fetch COLUMNS of pileup image. Working with columns is more complicated than workin with ROWS (reads), but this way it's easier to place insertions at any place of the pileup image.\n",
    "\n",
    "Here we use pysam pileup. It does not always take into account read qualities correctly! Read qualities must be obtained separately with pysam.fetch() (TO DO)"
   ]
  },
  {
   "cell_type": "code",
   "execution_count": 1,
   "metadata": {},
   "outputs": [],
   "source": [
    "import numpy as np\n",
    "import pysam\n",
    "import matplotlib.pyplot as plt\n",
    "import re\n",
    "%matplotlib inline\n",
    "\n",
    "\n",
    "refname = '/storage/groups/epigenereg01/workspace/projects/vale/TCGA-LAML_calling/resources_GRCh37-lite/reference/GRCh37-lite.fa'\n",
    "bamfile = '/storage/groups/epigenereg01/projects/vale/data/202011061/TCGA/LAML_WGS/03fcf98d-69fc-4abf-a465-8c834383c1f8/2ea3d714e132b70377761db557387c05.bam'\n",
    "germline_vcf = '/storage/groups/epigenereg01/workspace/projects/vale/TCGA-LAML_calling/dna-seq-gatk-variant-calling-TCGA-LAML/filtered/thr_90_0/all.snvs.recalibrated.vcf.gz'\n",
    "#germline_vcf = '/storage/groups/epigenereg01/workspace/projects/vale/TCGA-LAML_calling/dna-seq-gatk-variant-calling-TCGA-LAML/filtered/thr_90_0/all.indels.recalibrated.vcf.gz'"
   ]
  },
  {
   "cell_type": "code",
   "execution_count": 2,
   "metadata": {},
   "outputs": [
    {
     "name": "stdout",
     "output_type": "stream",
     "text": [
      "1\t69356272\trs6588341\tG\tA\t310.05\tPASS\tAC=2;AF=1;AN=2;DB;DP=9;ExcessHet=3.0103;FS=0;MLEAC=2;MLEAF=1;MQ=44.01;POSITIVE_TRAIN_SITE;QD=34.45;SOR=0.892;VQSLOD=5.37;culprit=FS\tGT:AD:DP:GQ:PL\t./.:.:.:.:.\t./.:.:.:.:.\t./.:.:.:.:.\t./.:.:.:.:.\t./.:.:.:.:.\t./.:.:.:.:.\t./.:.:.:.:.\t./.:.:.:.:.\t./.:.:.:.:.\t./.:.:.:.:.\t./.:.:.:.:.\t./.:.:.:.:.\t./.:.:.:.:.\t./.:.:.:.:.\t./.:.:.:.:.\t./.:.:.:.:.\t./.:.:.:.:.\t./.:.:.:.:.\t1/1:0,9:9:27:324,27,0\t./.:.:.:.:.\t./.:.:.:.:.\t./.:.:.:.:.\t./.:.:.:.:.\t./.:.:.:.:.\t./.:.:.:.:.\t./.:.:.:.:.\t./.:.:.:.:.\t./.:.:.:.:.\t./.:.:.:.:.\t./.:.:.:.:.\t./.:.:.:.:.\t./.:.:.:.:.\t./.:.:.:.:.\t./.:.:.:.:.\t./.:.:.:.:.\t./.:.:.:.:.\t./.:.:.:.:.\n",
      "\n",
      "1\t69359943\trs10889791\tC\tT\t450.06\tPASS\tAC=2;AF=1;AN=2;DB;DP=14;ExcessHet=3.0103;FS=0;MLEAC=2;MLEAF=1;MQ=36.64;POSITIVE_TRAIN_SITE;QD=32.15;SOR=0.976;VQSLOD=4.77;culprit=FS\tGT:AD:DP:GQ:PL\t./.:.:.:.:.\t./.:.:.:.:.\t./.:.:.:.:.\t./.:.:.:.:.\t./.:.:.:.:.\t./.:.:.:.:.\t./.:.:.:.:.\t./.:.:.:.:.\t./.:.:.:.:.\t./.:.:.:.:.\t./.:.:.:.:.\t./.:.:.:.:.\t./.:.:.:.:.\t./.:.:.:.:.\t./.:.:.:.:.\t./.:.:.:.:.\t./.:.:.:.:.\t./.:.:.:.:.\t1/1:0,14:14:42:464,42,0\t./.:.:.:.:.\t./.:.:.:.:.\t./.:.:.:.:.\t./.:.:.:.:.\t./.:.:.:.:.\t./.:.:.:.:.\t./.:.:.:.:.\t./.:.:.:.:.\t./.:.:.:.:.\t./.:.:.:.:.\t./.:.:.:.:.\t./.:.:.:.:.\t./.:.:.:.:.\t./.:.:.:.:.\t./.:.:.:.:.\t./.:.:.:.:.\t./.:.:.:.:.\t./.:.:.:.:.\n",
      "\n",
      "1\t69364064\trs7554768\tA\tG\t478.06\tPASS\tAC=2;AF=1;AN=2;DB;DP=14;ExcessHet=3.0103;FS=0;MLEAC=2;MLEAF=1;MQ=49.93;QD=34.15;SOR=2.303;VQSLOD=2.85;culprit=FS\tGT:AD:DP:GQ:PL\t./.:.:.:.:.\t./.:.:.:.:.\t./.:.:.:.:.\t./.:.:.:.:.\t./.:.:.:.:.\t./.:.:.:.:.\t./.:.:.:.:.\t./.:.:.:.:.\t./.:.:.:.:.\t./.:.:.:.:.\t./.:.:.:.:.\t./.:.:.:.:.\t./.:.:.:.:.\t./.:.:.:.:.\t./.:.:.:.:.\t./.:.:.:.:.\t./.:.:.:.:.\t./.:.:.:.:.\t1/1:0,14:14:42:492,42,0\t./.:.:.:.:.\t./.:.:.:.:.\t./.:.:.:.:.\t./.:.:.:.:.\t./.:.:.:.:.\t./.:.:.:.:.\t./.:.:.:.:.\t./.:.:.:.:.\t./.:.:.:.:.\t./.:.:.:.:.\t./.:.:.:.:.\t./.:.:.:.:.\t./.:.:.:.:.\t./.:.:.:.:.\t./.:.:.:.:.\t./.:.:.:.:.\t./.:.:.:.:.\t./.:.:.:.:.\n",
      "\n",
      "1\t69364488\t.\tC\tA\t1058.06\tPASS\tAC=4;AF=1;AN=4;DP=49;ExcessHet=3.0103;FS=0;MLEAC=2;MLEAF=1;MQ=58.49;POSITIVE_TRAIN_SITE;QD=28.34;SOR=1.071;VQSLOD=5.25;culprit=FS\tGT:AD:DP:GQ:PL\t./.:.:.:.:.\t./.:.:.:.:.\t./.:.:.:.:.\t./.:.:.:.:.\t./.:.:.:.:.\t./.:.:.:.:.\t./.:.:.:.:.\t./.:.:.:.:.\t1/1:0,29:29:87:1072,87,0\t./.:.:.:.:.\t./.:.:.:.:.\t./.:.:.:.:.\t./.:.:.:.:.\t./.:.:.:.:.\t./.:.:.:.:.\t./.:.:.:.:.\t./.:.:.:.:.\t./.:.:.:.:.\t1/1:0,14:14:42:480,42,0\t./.:.:.:.:.\t./.:.:.:.:.\t./.:.:.:.:.\t./.:.:.:.:.\t./.:.:.:.:.\t./.:.:.:.:.\t./.:.:.:.:.\t./.:.:.:.:.\t./.:.:.:.:.\t./.:.:.:.:.\t./.:.:.:.:.\t./.:.:.:.:.\t./.:.:.:.:.\t./.:.:.:.:.\t./.:.:.:.:.\t./.:.:.:.:.\t./.:.:.:.:.\t./.:.:.:.:.\n",
      "\n",
      "1\t69369837\trs7551318\tG\tT\t671.06\tPASS\tAC=2;AF=1;AN=2;DB;DP=22;ExcessHet=3.0103;FS=0;MLEAC=2;MLEAF=1;MQ=51.89;POSITIVE_TRAIN_SITE;QD=28.73;SOR=1.609;VQSLOD=5.59;culprit=FS\tGT:AD:DP:GQ:PL\t./.:.:.:.:.\t./.:.:.:.:.\t./.:.:.:.:.\t./.:.:.:.:.\t./.:.:.:.:.\t./.:.:.:.:.\t./.:.:.:.:.\t./.:.:.:.:.\t./.:.:.:.:.\t./.:.:.:.:.\t./.:.:.:.:.\t./.:.:.:.:.\t./.:.:.:.:.\t./.:.:.:.:.\t./.:.:.:.:.\t./.:.:.:.:.\t./.:.:.:.:.\t./.:.:.:.:.\t1/1:0,19:19:57:685,57,0\t./.:.:.:.:.\t./.:.:.:.:.\t./.:.:.:.:.\t./.:.:.:.:.\t./.:.:.:.:.\t./.:.:.:.:.\t./.:.:.:.:.\t./.:.:.:.:.\t./.:.:.:.:.\t./.:.:.:.:.\t./.:.:.:.:.\t./.:.:.:.:.\t./.:.:.:.:.\t./.:.:.:.:.\t./.:.:.:.:.\t./.:.:.:.:.\t./.:.:.:.:.\t./.:.:.:.:.\n",
      "\n",
      "1\t69377375\trs9436856\tT\tG\t1740.06\tPASS\tAC=4;AF=1;AN=4;DB;DP=96;ExcessHet=3.0103;FS=0;MLEAC=2;MLEAF=1;MQ=55.97;POSITIVE_TRAIN_SITE;QD=31.87;SOR=1.345;VQSLOD=5.4;culprit=FS\tGT:AD:DP:GQ:PL\t./.:.:.:.:.\t./.:.:.:.:.\t./.:.:.:.:.\t./.:.:.:.:.\t./.:.:.:.:.\t./.:.:.:.:.\t./.:.:.:.:.\t./.:.:.:.:.\t1/1:0,49:49:99:1754,147,0\t./.:.:.:.:.\t./.:.:.:.:.\t./.:.:.:.:.\t./.:.:.:.:.\t./.:.:.:.:.\t./.:.:.:.:.\t./.:.:.:.:.\t./.:.:.:.:.\t./.:.:.:.:.\t1/1:0,42:42:99:1354,125,0\t./.:.:.:.:.\t./.:.:.:.:.\t./.:.:.:.:.\t./.:.:.:.:.\t./.:.:.:.:.\t./.:.:.:.:.\t./.:.:.:.:.\t./.:.:.:.:.\t./.:.:.:.:.\t./.:.:.:.:.\t./.:.:.:.:.\t./.:.:.:.:.\t./.:.:.:.:.\t./.:.:.:.:.\t./.:.:.:.:.\t./.:.:.:.:.\t./.:.:.:.:.\t./.:.:.:.:.\n",
      "\n",
      "1\t69377859\trs542634949\tA\tG\t436.64\tPASS\tAC=1;AF=0.5;AN=2;BaseQRankSum=0.126;DB;DP=22;ExcessHet=3.0103;FS=0;MLEAC=1;MLEAF=0.5;MQ=50.34;MQRankSum=-0.551;QD=21.83;ReadPosRankSum=0.578;SOR=0.467;VQSLOD=4.14;culprit=FS\tGT:AD:DP:GQ:PL\t./.:.:.:.:.\t./.:.:.:.:.\t./.:.:.:.:.\t./.:.:.:.:.\t./.:.:.:.:.\t./.:.:.:.:.\t./.:.:.:.:.\t./.:.:.:.:.\t./.:.:.:.:.\t./.:.:.:.:.\t./.:.:.:.:.\t./.:.:.:.:.\t./.:.:.:.:.\t./.:.:.:.:.\t./.:.:.:.:.\t./.:.:.:.:.\t./.:.:.:.:.\t./.:.:.:.:.\t0/1:6,14:20:99:444,0,165\t./.:.:.:.:.\t./.:.:.:.:.\t./.:.:.:.:.\t./.:.:.:.:.\t./.:.:.:.:.\t./.:.:.:.:.\t./.:.:.:.:.\t./.:.:.:.:.\t./.:.:.:.:.\t./.:.:.:.:.\t./.:.:.:.:.\t./.:.:.:.:.\t./.:.:.:.:.\t./.:.:.:.:.\t./.:.:.:.:.\t./.:.:.:.:.\t./.:.:.:.:.\t./.:.:.:.:.\n",
      "\n",
      "1\t69383272\trs6588343\tG\tA\t1753.06\tPASS\tAC=4;AF=1;AN=4;DB;DP=87;ExcessHet=3.0103;FS=0;MLEAC=2;MLEAF=1;MQ=58.87;POSITIVE_TRAIN_SITE;QD=32.69;SOR=1.203;VQSLOD=6.12;culprit=FS\tGT:AD:DP:GQ:PL\t./.:.:.:.:.\t./.:.:.:.:.\t./.:.:.:.:.\t./.:.:.:.:.\t./.:.:.:.:.\t./.:.:.:.:.\t./.:.:.:.:.\t./.:.:.:.:.\t1/1:0,46:46:99:1767,138,0\t./.:.:.:.:.\t./.:.:.:.:.\t./.:.:.:.:.\t./.:.:.:.:.\t./.:.:.:.:.\t./.:.:.:.:.\t./.:.:.:.:.\t./.:.:.:.:.\t./.:.:.:.:.\t1/1:0,35:35:99:1256,105,0\t./.:.:.:.:.\t./.:.:.:.:.\t./.:.:.:.:.\t./.:.:.:.:.\t./.:.:.:.:.\t./.:.:.:.:.\t./.:.:.:.:.\t./.:.:.:.:.\t./.:.:.:.:.\t./.:.:.:.:.\t./.:.:.:.:.\t./.:.:.:.:.\t./.:.:.:.:.\t./.:.:.:.:.\t./.:.:.:.:.\t./.:.:.:.:.\t./.:.:.:.:.\t./.:.:.:.:.\n",
      "\n",
      "1\t69385766\trs4558025\tT\tC\t362.06\tPASS\tAC=2;AF=1;AN=2;DB;DP=12;ExcessHet=3.0103;FS=0;MLEAC=2;MLEAF=1;MQ=52.2;POSITIVE_TRAIN_SITE;QD=32.91;SOR=1.27;VQSLOD=5.5;culprit=FS\tGT:AD:DP:GQ:PL\t./.:.:.:.:.\t./.:.:.:.:.\t./.:.:.:.:.\t./.:.:.:.:.\t./.:.:.:.:.\t./.:.:.:.:.\t./.:.:.:.:.\t./.:.:.:.:.\t./.:.:.:.:.\t./.:.:.:.:.\t./.:.:.:.:.\t./.:.:.:.:.\t./.:.:.:.:.\t./.:.:.:.:.\t./.:.:.:.:.\t./.:.:.:.:.\t./.:.:.:.:.\t./.:.:.:.:.\t1/1:0,11:11:33:376,33,0\t./.:.:.:.:.\t./.:.:.:.:.\t./.:.:.:.:.\t./.:.:.:.:.\t./.:.:.:.:.\t./.:.:.:.:.\t./.:.:.:.:.\t./.:.:.:.:.\t./.:.:.:.:.\t./.:.:.:.:.\t./.:.:.:.:.\t./.:.:.:.:.\t./.:.:.:.:.\t./.:.:.:.:.\t./.:.:.:.:.\t./.:.:.:.:.\t./.:.:.:.:.\t./.:.:.:.:.\n",
      "\n",
      "1\t69394194\trs78323029\tT\tC\t60.32\tPASS\tAC=2;AF=1;AN=2;DB;DP=3;ExcessHet=3.0103;FS=0;MLEAC=1;MLEAF=0.5;MQ=42.02;QD=30.16;SOR=2.303;VQSLOD=3.52;culprit=FS\tGT:AD:DP:GQ:PL\t./.:.:.:.:.\t./.:.:.:.:.\t./.:.:.:.:.\t./.:.:.:.:.\t./.:.:.:.:.\t./.:.:.:.:.\t./.:.:.:.:.\t./.:.:.:.:.\t./.:.:.:.:.\t./.:.:.:.:.\t./.:.:.:.:.\t./.:.:.:.:.\t./.:.:.:.:.\t./.:.:.:.:.\t./.:.:.:.:.\t./.:.:.:.:.\t./.:.:.:.:.\t./.:.:.:.:.\t1/1:0,2:2:6:72,6,0\t./.:.:.:.:.\t./.:.:.:.:.\t./.:.:.:.:.\t./.:.:.:.:.\t./.:.:.:.:.\t./.:.:.:.:.\t./.:.:.:.:.\t./.:.:.:.:.\t./.:.:.:.:.\t./.:.:.:.:.\t./.:.:.:.:.\t./.:.:.:.:.\t./.:.:.:.:.\t./.:.:.:.:.\t./.:.:.:.:.\t./.:.:.:.:.\t./.:.:.:.:.\t./.:.:.:.:.\n",
      "\n",
      "1\t69395432\t.\tG\tT\t1294.06\tPASS\tAC=4;AF=1;AN=4;DP=37;ExcessHet=3.0103;FS=0;MLEAC=1;MLEAF=0.5;MQ=57.94;POSITIVE_TRAIN_SITE;QD=30.98;SOR=1.418;VQSLOD=4.94;culprit=FS\tGT:AD:DP:GQ:PL\t./.:.:.:.:.\t./.:.:.:.:.\t./.:.:.:.:.\t./.:.:.:.:.\t./.:.:.:.:.\t./.:.:.:.:.\t./.:.:.:.:.\t./.:.:.:.:.\t1/1:0,34:34:99:1308,102,0\t./.:.:.:.:.\t./.:.:.:.:.\t./.:.:.:.:.\t./.:.:.:.:.\t./.:.:.:.:.\t./.:.:.:.:.\t./.:.:.:.:.\t./.:.:.:.:.\t./.:.:.:.:.\t1/1:0,3:3:9:104,9,0\t./.:.:.:.:.\t./.:.:.:.:.\t./.:.:.:.:.\t./.:.:.:.:.\t./.:.:.:.:.\t./.:.:.:.:.\t./.:.:.:.:.\t./.:.:.:.:.\t./.:.:.:.:.\t./.:.:.:.:.\t./.:.:.:.:.\t./.:.:.:.:.\t./.:.:.:.:.\t./.:.:.:.:.\t./.:.:.:.:.\t./.:.:.:.:.\t./.:.:.:.:.\t./.:.:.:.:.\n",
      "\n",
      "1\t69402199\trs6690112\tC\tT\t1758.06\tPASS\tAC=4;AF=1;AN=4;DB;DP=68;ExcessHet=3.0103;FS=0;MLEAC=2;MLEAF=1;MQ=59.51;POSITIVE_TRAIN_SITE;QD=29.24;SOR=1.28;VQSLOD=5.45;culprit=FS\tGT:AD:DP:GQ:PL\t./.:.:.:.:.\t./.:.:.:.:.\t./.:.:.:.:.\t./.:.:.:.:.\t./.:.:.:.:.\t./.:.:.:.:.\t./.:.:.:.:.\t./.:.:.:.:.\t1/1:0,45:45:99:1772,135,0\t./.:.:.:.:.\t./.:.:.:.:.\t./.:.:.:.:.\t./.:.:.:.:.\t./.:.:.:.:.\t./.:.:.:.:.\t./.:.:.:.:.\t./.:.:.:.:.\t./.:.:.:.:.\t1/1:0,20:20:60:667,60,0\t./.:.:.:.:.\t./.:.:.:.:.\t./.:.:.:.:.\t./.:.:.:.:.\t./.:.:.:.:.\t./.:.:.:.:.\t./.:.:.:.:.\t./.:.:.:.:.\t./.:.:.:.:.\t./.:.:.:.:.\t./.:.:.:.:.\t./.:.:.:.:.\t./.:.:.:.:.\t./.:.:.:.:.\t./.:.:.:.:.\t./.:.:.:.:.\t./.:.:.:.:.\t./.:.:.:.:.\n",
      "\n",
      "1\t69406796\trs72682212\tG\tA\t616.64\tPASS\tAC=1;AF=0.5;AN=2;BaseQRankSum=0.919;DB;DP=28;ExcessHet=3.0103;FS=1.983;MLEAC=1;MLEAF=0.5;MQ=58.5;MQRankSum=-0.507;POSITIVE_TRAIN_SITE;QD=22.84;ReadPosRankSum=-0.444;SOR=0.318;VQSLOD=2.82;culprit=FS\tGT:AD:DP:GQ:PL\t./.:.:.:.:.\t./.:.:.:.:.\t./.:.:.:.:.\t./.:.:.:.:.\t./.:.:.:.:.\t./.:.:.:.:.\t./.:.:.:.:.\t./.:.:.:.:.\t./.:.:.:.:.\t./.:.:.:.:.\t./.:.:.:.:.\t./.:.:.:.:.\t./.:.:.:.:.\t./.:.:.:.:.\t./.:.:.:.:.\t./.:.:.:.:.\t./.:.:.:.:.\t./.:.:.:.:.\t0/1:7,20:27:99:624,0,154\t./.:.:.:.:.\t./.:.:.:.:.\t./.:.:.:.:.\t./.:.:.:.:.\t./.:.:.:.:.\t./.:.:.:.:.\t./.:.:.:.:.\t./.:.:.:.:.\t./.:.:.:.:.\t./.:.:.:.:.\t./.:.:.:.:.\t./.:.:.:.:.\t./.:.:.:.:.\t./.:.:.:.:.\t./.:.:.:.:.\t./.:.:.:.:.\t./.:.:.:.:.\t./.:.:.:.:.\n",
      "\n",
      "1\t69420375\trs4301671\tT\tA\t823.06\tPASS\tAC=2;AF=1;AN=2;DB;DP=24;ExcessHet=3.0103;FS=0;MLEAC=2;MLEAF=1;MQ=57.05;POSITIVE_TRAIN_SITE;QD=27.24;SOR=1.179;VQSLOD=5.02;culprit=FS\tGT:AD:DP:GQ:PL\t./.:.:.:.:.\t./.:.:.:.:.\t./.:.:.:.:.\t./.:.:.:.:.\t./.:.:.:.:.\t./.:.:.:.:.\t./.:.:.:.:.\t./.:.:.:.:.\t./.:.:.:.:.\t./.:.:.:.:.\t./.:.:.:.:.\t./.:.:.:.:.\t./.:.:.:.:.\t./.:.:.:.:.\t./.:.:.:.:.\t./.:.:.:.:.\t./.:.:.:.:.\t./.:.:.:.:.\t1/1:0,23:23:69:837,69,0\t./.:.:.:.:.\t./.:.:.:.:.\t./.:.:.:.:.\t./.:.:.:.:.\t./.:.:.:.:.\t./.:.:.:.:.\t./.:.:.:.:.\t./.:.:.:.:.\t./.:.:.:.:.\t./.:.:.:.:.\t./.:.:.:.:.\t./.:.:.:.:.\t./.:.:.:.:.\t./.:.:.:.:.\t./.:.:.:.:.\t./.:.:.:.:.\t./.:.:.:.:.\t./.:.:.:.:.\n",
      "\n",
      "1\t69421826\trs1396022\tG\tA\t749.06\tPASS\tAC=2;AF=1;AN=2;DB;DP=23;ExcessHet=3.0103;FS=0;MLEAC=2;MLEAF=1;MQ=48.94;POSITIVE_TRAIN_SITE;QD=34.05;SOR=1.609;VQSLOD=5.16;culprit=FS\tGT:AD:DP:GQ:PL\t./.:.:.:.:.\t./.:.:.:.:.\t./.:.:.:.:.\t./.:.:.:.:.\t./.:.:.:.:.\t./.:.:.:.:.\t./.:.:.:.:.\t./.:.:.:.:.\t./.:.:.:.:.\t./.:.:.:.:.\t./.:.:.:.:.\t./.:.:.:.:.\t./.:.:.:.:.\t./.:.:.:.:.\t./.:.:.:.:.\t./.:.:.:.:.\t./.:.:.:.:.\t./.:.:.:.:.\t1/1:0,22:22:66:763,66,0\t./.:.:.:.:.\t./.:.:.:.:.\t./.:.:.:.:.\t./.:.:.:.:.\t./.:.:.:.:.\t./.:.:.:.:.\t./.:.:.:.:.\t./.:.:.:.:.\t./.:.:.:.:.\t./.:.:.:.:.\t./.:.:.:.:.\t./.:.:.:.:.\t./.:.:.:.:.\t./.:.:.:.:.\t./.:.:.:.:.\t./.:.:.:.:.\t./.:.:.:.:.\t./.:.:.:.:.\n",
      "\n",
      "1\t69422680\trs1507858\tT\tC\t797.06\tPASS\tAC=2;AF=1;AN=2;DB;DP=25;ExcessHet=3.0103;FS=0;MLEAC=2;MLEAF=1;MQ=55.17;POSITIVE_TRAIN_SITE;QD=34.65;SOR=1.426;VQSLOD=4.17;culprit=FS\tGT:AD:DP:GQ:PL\t./.:.:.:.:.\t./.:.:.:.:.\t./.:.:.:.:.\t./.:.:.:.:.\t./.:.:.:.:.\t./.:.:.:.:.\t./.:.:.:.:.\t./.:.:.:.:.\t./.:.:.:.:.\t./.:.:.:.:.\t./.:.:.:.:.\t./.:.:.:.:.\t./.:.:.:.:.\t./.:.:.:.:.\t./.:.:.:.:.\t./.:.:.:.:.\t./.:.:.:.:.\t./.:.:.:.:.\t1/1:0,23:23:69:811,69,0\t./.:.:.:.:.\t./.:.:.:.:.\t./.:.:.:.:.\t./.:.:.:.:.\t./.:.:.:.:.\t./.:.:.:.:.\t./.:.:.:.:.\t./.:.:.:.:.\t./.:.:.:.:.\t./.:.:.:.:.\t./.:.:.:.:.\t./.:.:.:.:.\t./.:.:.:.:.\t./.:.:.:.:.\t./.:.:.:.:.\t./.:.:.:.:.\t./.:.:.:.:.\t./.:.:.:.:.\n",
      "\n",
      "1\t69423415\trs12087596\tC\tT\t710.06\tPASS\tAC=2;AF=1;AN=2;DB;DP=25;ExcessHet=3.0103;FS=0;MLEAC=2;MLEAF=1;MQ=57.17;POSITIVE_TRAIN_SITE;QD=32.28;SOR=0.693;VQSLOD=6.84;culprit=FS\tGT:AD:DP:GQ:PL\t./.:.:.:.:.\t./.:.:.:.:.\t./.:.:.:.:.\t./.:.:.:.:.\t./.:.:.:.:.\t./.:.:.:.:.\t./.:.:.:.:.\t./.:.:.:.:.\t./.:.:.:.:.\t./.:.:.:.:.\t./.:.:.:.:.\t./.:.:.:.:.\t./.:.:.:.:.\t./.:.:.:.:.\t./.:.:.:.:.\t./.:.:.:.:.\t./.:.:.:.:.\t./.:.:.:.:.\t1/1:0,22:22:65:724,65,0\t./.:.:.:.:.\t./.:.:.:.:.\t./.:.:.:.:.\t./.:.:.:.:.\t./.:.:.:.:.\t./.:.:.:.:.\t./.:.:.:.:.\t./.:.:.:.:.\t./.:.:.:.:.\t./.:.:.:.:.\t./.:.:.:.:.\t./.:.:.:.:.\t./.:.:.:.:.\t./.:.:.:.:.\t./.:.:.:.:.\t./.:.:.:.:.\t./.:.:.:.:.\t./.:.:.:.:.\n",
      "\n",
      "1\t69423628\trs4649905\tG\tA\t1983.06\tPASS\tAC=4;AF=1;AN=4;DB;DP=80;ExcessHet=3.0103;FS=0;MLEAC=2;MLEAF=1;MQ=59.67;POSITIVE_TRAIN_SITE;QD=35.08;SOR=0.804;VQSLOD=5.73;culprit=FS\tGT:AD:DP:GQ:PL\t./.:.:.:.:.\t./.:.:.:.:.\t./.:.:.:.:.\t./.:.:.:.:.\t./.:.:.:.:.\t./.:.:.:.:.\t./.:.:.:.:.\t./.:.:.:.:.\t1/1:0,55:55:99:1997,162,0\t./.:.:.:.:.\t./.:.:.:.:.\t./.:.:.:.:.\t./.:.:.:.:.\t./.:.:.:.:.\t./.:.:.:.:.\t./.:.:.:.:.\t./.:.:.:.:.\t./.:.:.:.:.\t1/1:0,24:24:72:875,72,0\t./.:.:.:.:.\t./.:.:.:.:.\t./.:.:.:.:.\t./.:.:.:.:.\t./.:.:.:.:.\t./.:.:.:.:.\t./.:.:.:.:.\t./.:.:.:.:.\t./.:.:.:.:.\t./.:.:.:.:.\t./.:.:.:.:.\t./.:.:.:.:.\t./.:.:.:.:.\t./.:.:.:.:.\t./.:.:.:.:.\t./.:.:.:.:.\t./.:.:.:.:.\t./.:.:.:.:.\n",
      "\n",
      "1\t69423725\trs4649904\tG\tA\t599.06\tPASS\tAC=2;AF=1;AN=2;DB;DP=18;ExcessHet=3.0103;FS=0;MLEAC=2;MLEAF=1;MQ=51.14;POSITIVE_TRAIN_SITE;QD=25;SOR=0.804;VQSLOD=5.84;culprit=FS\tGT:AD:DP:GQ:PL\t./.:.:.:.:.\t./.:.:.:.:.\t./.:.:.:.:.\t./.:.:.:.:.\t./.:.:.:.:.\t./.:.:.:.:.\t./.:.:.:.:.\t./.:.:.:.:.\t./.:.:.:.:.\t./.:.:.:.:.\t./.:.:.:.:.\t./.:.:.:.:.\t./.:.:.:.:.\t./.:.:.:.:.\t./.:.:.:.:.\t./.:.:.:.:.\t./.:.:.:.:.\t./.:.:.:.:.\t1/1:0,17:17:51:613,51,0\t./.:.:.:.:.\t./.:.:.:.:.\t./.:.:.:.:.\t./.:.:.:.:.\t./.:.:.:.:.\t./.:.:.:.:.\t./.:.:.:.:.\t./.:.:.:.:.\t./.:.:.:.:.\t./.:.:.:.:.\t./.:.:.:.:.\t./.:.:.:.:.\t./.:.:.:.:.\t./.:.:.:.:.\t./.:.:.:.:.\t./.:.:.:.:.\t./.:.:.:.:.\t./.:.:.:.:.\n",
      "\n",
      "1\t69424337\trs1507855\tG\tA\t1191.06\tPASS\tAC=2;AF=1;AN=2;DB;DP=33;ExcessHet=3.0103;FS=0;MLEAC=2;MLEAF=1;MQ=57.15;POSITIVE_TRAIN_SITE;QD=29.56;SOR=0.752;VQSLOD=5.73;culprit=FS\tGT:AD:DP:GQ:PL\t./.:.:.:.:.\t./.:.:.:.:.\t./.:.:.:.:.\t./.:.:.:.:.\t./.:.:.:.:.\t./.:.:.:.:.\t./.:.:.:.:.\t./.:.:.:.:.\t./.:.:.:.:.\t./.:.:.:.:.\t./.:.:.:.:.\t./.:.:.:.:.\t./.:.:.:.:.\t./.:.:.:.:.\t./.:.:.:.:.\t./.:.:.:.:.\t./.:.:.:.:.\t./.:.:.:.:.\t1/1:0,33:33:99:1205,99,0\t./.:.:.:.:.\t./.:.:.:.:.\t./.:.:.:.:.\t./.:.:.:.:.\t./.:.:.:.:.\t./.:.:.:.:.\t./.:.:.:.:.\t./.:.:.:.:.\t./.:.:.:.:.\t./.:.:.:.:.\t./.:.:.:.:.\t./.:.:.:.:.\t./.:.:.:.:.\t./.:.:.:.:.\t./.:.:.:.:.\t./.:.:.:.:.\t./.:.:.:.:.\t./.:.:.:.:.\n",
      "\n",
      "1\t69426948\trs7541697\tC\tT\t1265.06\tPASS\tAC=4;AF=1;AN=4;DB;DP=77;ExcessHet=3.0103;FS=0;MLEAC=2;MLEAF=1;MQ=57.66;POSITIVE_TRAIN_SITE;QD=32.44;SOR=1.096;VQSLOD=5.95;culprit=FS\tGT:AD:DP:GQ:PL\t./.:.:.:.:.\t./.:.:.:.:.\t./.:.:.:.:.\t./.:.:.:.:.\t./.:.:.:.:.\t./.:.:.:.:.\t./.:.:.:.:.\t./.:.:.:.:.\t1/1:0,39:39:99:1279,116,0\t./.:.:.:.:.\t./.:.:.:.:.\t./.:.:.:.:.\t./.:.:.:.:.\t./.:.:.:.:.\t./.:.:.:.:.\t./.:.:.:.:.\t./.:.:.:.:.\t./.:.:.:.:.\t1/1:0,35:35:99:1111,103,0\t./.:.:.:.:.\t./.:.:.:.:.\t./.:.:.:.:.\t./.:.:.:.:.\t./.:.:.:.:.\t./.:.:.:.:.\t./.:.:.:.:.\t./.:.:.:.:.\t./.:.:.:.:.\t./.:.:.:.:.\t./.:.:.:.:.\t./.:.:.:.:.\t./.:.:.:.:.\t./.:.:.:.:.\t./.:.:.:.:.\t./.:.:.:.:.\t./.:.:.:.:.\t./.:.:.:.:.\n",
      "\n",
      "1\t69427141\trs10889794\tG\tA\t1288.06\tPASS\tAC=4;AF=1;AN=4;DB;DP=71;ExcessHet=3.0103;FS=0;MLEAC=2;MLEAF=1;MQ=56.85;POSITIVE_TRAIN_SITE;QD=33.25;SOR=0.927;VQSLOD=5.94;culprit=FS\tGT:AD:DP:GQ:PL\t./.:.:.:.:.\t./.:.:.:.:.\t./.:.:.:.:.\t./.:.:.:.:.\t./.:.:.:.:.\t./.:.:.:.:.\t./.:.:.:.:.\t./.:.:.:.:.\t1/1:0,36:36:99:1302,108,0\t./.:.:.:.:.\t./.:.:.:.:.\t./.:.:.:.:.\t./.:.:.:.:.\t./.:.:.:.:.\t./.:.:.:.:.\t./.:.:.:.:.\t./.:.:.:.:.\t./.:.:.:.:.\t1/1:0,30:30:90:1039,90,0\t./.:.:.:.:.\t./.:.:.:.:.\t./.:.:.:.:.\t./.:.:.:.:.\t./.:.:.:.:.\t./.:.:.:.:.\t./.:.:.:.:.\t./.:.:.:.:.\t./.:.:.:.:.\t./.:.:.:.:.\t./.:.:.:.:.\t./.:.:.:.:.\t./.:.:.:.:.\t./.:.:.:.:.\t./.:.:.:.:.\t./.:.:.:.:.\t./.:.:.:.:.\t./.:.:.:.:.\n",
      "\n",
      "1\t69427200\trs11209371\tT\tC\t1379.06\tPASS\tAC=4;AF=1;AN=4;DB;DP=73;ExcessHet=3.0103;FS=0;MLEAC=2;MLEAF=1;MQ=59.3;POSITIVE_TRAIN_SITE;QD=29.15;SOR=0.88;VQSLOD=6.21;culprit=FS\tGT:AD:DP:GQ:PL\t./.:.:.:.:.\t./.:.:.:.:.\t./.:.:.:.:.\t./.:.:.:.:.\t./.:.:.:.:.\t./.:.:.:.:.\t./.:.:.:.:.\t./.:.:.:.:.\t1/1:0,33:33:99:1261,99,0\t./.:.:.:.:.\t./.:.:.:.:.\t./.:.:.:.:.\t./.:.:.:.:.\t./.:.:.:.:.\t./.:.:.:.:.\t./.:.:.:.:.\t./.:.:.:.:.\t./.:.:.:.:.\t1/1:0,40:40:99:1393,120,0\t./.:.:.:.:.\t./.:.:.:.:.\t./.:.:.:.:.\t./.:.:.:.:.\t./.:.:.:.:.\t./.:.:.:.:.\t./.:.:.:.:.\t./.:.:.:.:.\t./.:.:.:.:.\t./.:.:.:.:.\t./.:.:.:.:.\t./.:.:.:.:.\t./.:.:.:.:.\t./.:.:.:.:.\t./.:.:.:.:.\t./.:.:.:.:.\t./.:.:.:.:.\t./.:.:.:.:.\n",
      "\n",
      "1\t69427276\trs10789276\tC\tA\t1160.06\tPASS\tAC=4;AF=1;AN=4;DB;DP=61;ExcessHet=3.0103;FS=0;MLEAC=2;MLEAF=1;MQ=59.14;POSITIVE_TRAIN_SITE;QD=34.56;SOR=1.101;VQSLOD=5.47;culprit=FS\tGT:AD:DP:GQ:PL\t./.:.:.:.:.\t./.:.:.:.:.\t./.:.:.:.:.\t./.:.:.:.:.\t./.:.:.:.:.\t./.:.:.:.:.\t./.:.:.:.:.\t./.:.:.:.:.\t1/1:0,27:27:80:947,80,0\t./.:.:.:.:.\t./.:.:.:.:.\t./.:.:.:.:.\t./.:.:.:.:.\t./.:.:.:.:.\t./.:.:.:.:.\t./.:.:.:.:.\t./.:.:.:.:.\t./.:.:.:.:.\t1/1:0,33:33:99:1174,99,0\t./.:.:.:.:.\t./.:.:.:.:.\t./.:.:.:.:.\t./.:.:.:.:.\t./.:.:.:.:.\t./.:.:.:.:.\t./.:.:.:.:.\t./.:.:.:.:.\t./.:.:.:.:.\t./.:.:.:.:.\t./.:.:.:.:.\t./.:.:.:.:.\t./.:.:.:.:.\t./.:.:.:.:.\t./.:.:.:.:.\t./.:.:.:.:.\t./.:.:.:.:.\t./.:.:.:.:.\n",
      "\n",
      "1\t69427609\trs6691623\tG\tA\t2557.06\tPASS\tAC=4;AF=1;AN=4;DB;DP=81;ExcessHet=3.0103;FS=0;MLEAC=2;MLEAF=1;MQ=59.31;POSITIVE_TRAIN_SITE;QD=32.05;SOR=1;VQSLOD=6.15;culprit=FS\tGT:AD:DP:GQ:PL\t./.:.:.:.:.\t./.:.:.:.:.\t./.:.:.:.:.\t./.:.:.:.:.\t./.:.:.:.:.\t./.:.:.:.:.\t./.:.:.:.:.\t./.:.:.:.:.\t1/1:0,65:65:99:2571,196,0\t./.:.:.:.:.\t./.:.:.:.:.\t./.:.:.:.:.\t./.:.:.:.:.\t./.:.:.:.:.\t./.:.:.:.:.\t./.:.:.:.:.\t./.:.:.:.:.\t./.:.:.:.:.\t1/1:0,14:14:42:511,42,0\t./.:.:.:.:.\t./.:.:.:.:.\t./.:.:.:.:.\t./.:.:.:.:.\t./.:.:.:.:.\t./.:.:.:.:.\t./.:.:.:.:.\t./.:.:.:.:.\t./.:.:.:.:.\t./.:.:.:.:.\t./.:.:.:.:.\t./.:.:.:.:.\t./.:.:.:.:.\t./.:.:.:.:.\t./.:.:.:.:.\t./.:.:.:.:.\t./.:.:.:.:.\t./.:.:.:.:.\n",
      "\n",
      "1\t69429179\trs11209372\tC\tT\t1550.06\tPASS\tAC=4;AF=1;AN=4;DB;DP=73;ExcessHet=3.0103;FS=0;MLEAC=2;MLEAF=1;MQ=58.35;POSITIVE_TRAIN_SITE;QD=33.93;SOR=1.609;VQSLOD=5.77;culprit=FS\tGT:AD:DP:GQ:PL\t./.:.:.:.:.\t./.:.:.:.:.\t./.:.:.:.:.\t./.:.:.:.:.\t./.:.:.:.:.\t./.:.:.:.:.\t./.:.:.:.:.\t./.:.:.:.:.\t1/1:0,25:25:75:953,75,0\t./.:.:.:.:.\t./.:.:.:.:.\t./.:.:.:.:.\t./.:.:.:.:.\t./.:.:.:.:.\t./.:.:.:.:.\t./.:.:.:.:.\t./.:.:.:.:.\t./.:.:.:.:.\t1/1:0,44:44:99:1564,132,0\t./.:.:.:.:.\t./.:.:.:.:.\t./.:.:.:.:.\t./.:.:.:.:.\t./.:.:.:.:.\t./.:.:.:.:.\t./.:.:.:.:.\t./.:.:.:.:.\t./.:.:.:.:.\t./.:.:.:.:.\t./.:.:.:.:.\t./.:.:.:.:.\t./.:.:.:.:.\t./.:.:.:.:.\t./.:.:.:.:.\t./.:.:.:.:.\t./.:.:.:.:.\t./.:.:.:.:.\n",
      "\n",
      "1\t69429369\trs12029002\tG\tA\t1264.06\tPASS\tAC=2;AF=1;AN=2;DB;DP=41;ExcessHet=3.0103;FS=0;MLEAC=2;MLEAF=1;MQ=46.81;POSITIVE_TRAIN_SITE;QD=34.16;SOR=0.859;VQSLOD=5.82;culprit=FS\tGT:AD:DP:GQ:PL\t./.:.:.:.:.\t./.:.:.:.:.\t./.:.:.:.:.\t./.:.:.:.:.\t./.:.:.:.:.\t./.:.:.:.:.\t./.:.:.:.:.\t./.:.:.:.:.\t./.:.:.:.:.\t./.:.:.:.:.\t./.:.:.:.:.\t./.:.:.:.:.\t./.:.:.:.:.\t./.:.:.:.:.\t./.:.:.:.:.\t./.:.:.:.:.\t./.:.:.:.:.\t./.:.:.:.:.\t1/1:0,37:37:99:1278,111,0\t./.:.:.:.:.\t./.:.:.:.:.\t./.:.:.:.:.\t./.:.:.:.:.\t./.:.:.:.:.\t./.:.:.:.:.\t./.:.:.:.:.\t./.:.:.:.:.\t./.:.:.:.:.\t./.:.:.:.:.\t./.:.:.:.:.\t./.:.:.:.:.\t./.:.:.:.:.\t./.:.:.:.:.\t./.:.:.:.:.\t./.:.:.:.:.\t./.:.:.:.:.\t./.:.:.:.:.\n",
      "\n",
      "1\t69429599\trs6662585\tT\tG\t43.32\tPASS\tAC=2;AF=1;AN=2;DB;DP=2;ExcessHet=3.0103;FS=0;MLEAC=1;MLEAF=0.5;MQ=29;QD=21.66;SOR=0.693;VQSLOD=4.75;culprit=FS\tGT:AD:DP:GQ:PL\t./.:.:.:.:.\t./.:.:.:.:.\t./.:.:.:.:.\t./.:.:.:.:.\t./.:.:.:.:.\t./.:.:.:.:.\t./.:.:.:.:.\t./.:.:.:.:.\t./.:.:.:.:.\t./.:.:.:.:.\t./.:.:.:.:.\t./.:.:.:.:.\t./.:.:.:.:.\t./.:.:.:.:.\t./.:.:.:.:.\t./.:.:.:.:.\t./.:.:.:.:.\t./.:.:.:.:.\t1/1:0,2:2:6:55,6,0\t./.:.:.:.:.\t./.:.:.:.:.\t./.:.:.:.:.\t./.:.:.:.:.\t./.:.:.:.:.\t./.:.:.:.:.\t./.:.:.:.:.\t./.:.:.:.:.\t./.:.:.:.:.\t./.:.:.:.:.\t./.:.:.:.:.\t./.:.:.:.:.\t./.:.:.:.:.\t./.:.:.:.:.\t./.:.:.:.:.\t./.:.:.:.:.\t./.:.:.:.:.\t./.:.:.:.:.\n",
      "\n",
      "1\t69431263\trs12030971\tG\tA\t789.06\tPASS\tAC=2;AF=1;AN=2;DB;DP=23;ExcessHet=3.0103;FS=0;MLEAC=2;MLEAF=1;MQ=49.92;POSITIVE_TRAIN_SITE;QD=34.31;SOR=0.963;VQSLOD=5.78;culprit=FS\tGT:AD:DP:GQ:PL\t./.:.:.:.:.\t./.:.:.:.:.\t./.:.:.:.:.\t./.:.:.:.:.\t./.:.:.:.:.\t./.:.:.:.:.\t./.:.:.:.:.\t./.:.:.:.:.\t./.:.:.:.:.\t./.:.:.:.:.\t./.:.:.:.:.\t./.:.:.:.:.\t./.:.:.:.:.\t./.:.:.:.:.\t./.:.:.:.:.\t./.:.:.:.:.\t./.:.:.:.:.\t./.:.:.:.:.\t1/1:0,23:23:69:803,69,0\t./.:.:.:.:.\t./.:.:.:.:.\t./.:.:.:.:.\t./.:.:.:.:.\t./.:.:.:.:.\t./.:.:.:.:.\t./.:.:.:.:.\t./.:.:.:.:.\t./.:.:.:.:.\t./.:.:.:.:.\t./.:.:.:.:.\t./.:.:.:.:.\t./.:.:.:.:.\t./.:.:.:.:.\t./.:.:.:.:.\t./.:.:.:.:.\t./.:.:.:.:.\t./.:.:.:.:.\n",
      "\n",
      "1\t69432044\trs1022013\tG\tA\t1462.06\tPASS\tAC=2;AF=1;AN=2;DB;DP=43;ExcessHet=3.0103;FS=0;MLEAC=2;MLEAF=1;MQ=54.48;POSITIVE_TRAIN_SITE;QD=34.81;SOR=1.402;VQSLOD=6.04;culprit=FS\tGT:AD:DP:GQ:PL\t./.:.:.:.:.\t./.:.:.:.:.\t./.:.:.:.:.\t./.:.:.:.:.\t./.:.:.:.:.\t./.:.:.:.:.\t./.:.:.:.:.\t./.:.:.:.:.\t./.:.:.:.:.\t./.:.:.:.:.\t./.:.:.:.:.\t./.:.:.:.:.\t./.:.:.:.:.\t./.:.:.:.:.\t./.:.:.:.:.\t./.:.:.:.:.\t./.:.:.:.:.\t./.:.:.:.:.\t1/1:0,42:42:99:1476,126,0\t./.:.:.:.:.\t./.:.:.:.:.\t./.:.:.:.:.\t./.:.:.:.:.\t./.:.:.:.:.\t./.:.:.:.:.\t./.:.:.:.:.\t./.:.:.:.:.\t./.:.:.:.:.\t./.:.:.:.:.\t./.:.:.:.:.\t./.:.:.:.:.\t./.:.:.:.:.\t./.:.:.:.:.\t./.:.:.:.:.\t./.:.:.:.:.\t./.:.:.:.:.\t./.:.:.:.:.\n",
      "\n",
      "1\t69432166\trs4649903\tT\tC\t1509.06\tPASS\tAC=4;AF=1;AN=4;DB;DP=75;ExcessHet=3.0103;FS=0;MLEAC=2;MLEAF=1;MQ=59.05;POSITIVE_TRAIN_SITE;QD=28.56;SOR=2.303;VQSLOD=4.34;culprit=FS\tGT:AD:DP:GQ:PL\t./.:.:.:.:.\t./.:.:.:.:.\t./.:.:.:.:.\t./.:.:.:.:.\t./.:.:.:.:.\t./.:.:.:.:.\t./.:.:.:.:.\t./.:.:.:.:.\t1/1:0,42:42:99:1523,126,0\t./.:.:.:.:.\t./.:.:.:.:.\t./.:.:.:.:.\t./.:.:.:.:.\t./.:.:.:.:.\t./.:.:.:.:.\t./.:.:.:.:.\t./.:.:.:.:.\t./.:.:.:.:.\t1/1:0,25:25:75:795,75,0\t./.:.:.:.:.\t./.:.:.:.:.\t./.:.:.:.:.\t./.:.:.:.:.\t./.:.:.:.:.\t./.:.:.:.:.\t./.:.:.:.:.\t./.:.:.:.:.\t./.:.:.:.:.\t./.:.:.:.:.\t./.:.:.:.:.\t./.:.:.:.:.\t./.:.:.:.:.\t./.:.:.:.:.\t./.:.:.:.:.\t./.:.:.:.:.\t./.:.:.:.:.\t./.:.:.:.:.\n",
      "\n",
      "1\t69433435\trs6669357\tA\tG\t308.05\tPASS\tAC=2;AF=1;AN=2;DB;DP=12;ExcessHet=3.0103;FS=0;MLEAC=2;MLEAF=1;MQ=56.04;POSITIVE_TRAIN_SITE;QD=34.23;SOR=2.093;VQSLOD=4.89;culprit=FS\tGT:AD:DP:GQ:PL\t./.:.:.:.:.\t./.:.:.:.:.\t./.:.:.:.:.\t./.:.:.:.:.\t./.:.:.:.:.\t./.:.:.:.:.\t./.:.:.:.:.\t./.:.:.:.:.\t./.:.:.:.:.\t./.:.:.:.:.\t./.:.:.:.:.\t./.:.:.:.:.\t./.:.:.:.:.\t./.:.:.:.:.\t./.:.:.:.:.\t./.:.:.:.:.\t./.:.:.:.:.\t./.:.:.:.:.\t1/1:0,9:9:27:322,27,0\t./.:.:.:.:.\t./.:.:.:.:.\t./.:.:.:.:.\t./.:.:.:.:.\t./.:.:.:.:.\t./.:.:.:.:.\t./.:.:.:.:.\t./.:.:.:.:.\t./.:.:.:.:.\t./.:.:.:.:.\t./.:.:.:.:.\t./.:.:.:.:.\t./.:.:.:.:.\t./.:.:.:.:.\t./.:.:.:.:.\t./.:.:.:.:.\t./.:.:.:.:.\t./.:.:.:.:.\n",
      "\n",
      "1\t69438777\trs2420551\tT\tA\t287.04\tPASS\tAC=2;AF=1;AN=2;DB;DP=9;ExcessHet=3.0103;FS=0;MLEAC=2;MLEAF=1;MQ=52.34;POSITIVE_TRAIN_SITE;QD=31.98;SOR=1.179;VQSLOD=5.85;culprit=FS\tGT:AD:DP:GQ:PL\t./.:.:.:.:.\t./.:.:.:.:.\t./.:.:.:.:.\t./.:.:.:.:.\t./.:.:.:.:.\t./.:.:.:.:.\t./.:.:.:.:.\t./.:.:.:.:.\t./.:.:.:.:.\t./.:.:.:.:.\t./.:.:.:.:.\t./.:.:.:.:.\t./.:.:.:.:.\t./.:.:.:.:.\t./.:.:.:.:.\t./.:.:.:.:.\t./.:.:.:.:.\t./.:.:.:.:.\t1/1:0,8:8:24:301,24,0\t./.:.:.:.:.\t./.:.:.:.:.\t./.:.:.:.:.\t./.:.:.:.:.\t./.:.:.:.:.\t./.:.:.:.:.\t./.:.:.:.:.\t./.:.:.:.:.\t./.:.:.:.:.\t./.:.:.:.:.\t./.:.:.:.:.\t./.:.:.:.:.\t./.:.:.:.:.\t./.:.:.:.:.\t./.:.:.:.:.\t./.:.:.:.:.\t./.:.:.:.:.\t./.:.:.:.:.\n",
      "\n",
      "1\t69438790\trs4650013\tT\tC\t1498.06\tPASS\tAC=4;AF=1;AN=4;DB;DP=49;ExcessHet=3.0103;FS=0;MLEAC=2;MLEAF=1;MQ=59.48;POSITIVE_TRAIN_SITE;QD=32.57;SOR=1.329;VQSLOD=5.18;culprit=FS\tGT:AD:DP:GQ:PL\t./.:.:.:.:.\t./.:.:.:.:.\t./.:.:.:.:.\t./.:.:.:.:.\t./.:.:.:.:.\t./.:.:.:.:.\t./.:.:.:.:.\t./.:.:.:.:.\t1/1:0,38:38:99:1512,114,0\t./.:.:.:.:.\t./.:.:.:.:.\t./.:.:.:.:.\t./.:.:.:.:.\t./.:.:.:.:.\t./.:.:.:.:.\t./.:.:.:.:.\t./.:.:.:.:.\t./.:.:.:.:.\t1/1:0,5:5:15:165,15,0\t./.:.:.:.:.\t./.:.:.:.:.\t./.:.:.:.:.\t./.:.:.:.:.\t./.:.:.:.:.\t./.:.:.:.:.\t./.:.:.:.:.\t./.:.:.:.:.\t./.:.:.:.:.\t./.:.:.:.:.\t./.:.:.:.:.\t./.:.:.:.:.\t./.:.:.:.:.\t./.:.:.:.:.\t./.:.:.:.:.\t./.:.:.:.:.\t./.:.:.:.:.\t./.:.:.:.:.\n",
      "\n",
      "1\t69441414\trs12732980\tG\tA\t1194.06\tPASS\tAC=2;AF=1;AN=2;DB;DP=37;ExcessHet=3.0103;FS=0;MLEAC=2;MLEAF=1;MQ=53.83;POSITIVE_TRAIN_SITE;QD=27.51;SOR=0.693;VQSLOD=6.25;culprit=QD\tGT:AD:DP:GQ:PL\t./.:.:.:.:.\t./.:.:.:.:.\t./.:.:.:.:.\t./.:.:.:.:.\t./.:.:.:.:.\t./.:.:.:.:.\t./.:.:.:.:.\t./.:.:.:.:.\t./.:.:.:.:.\t./.:.:.:.:.\t./.:.:.:.:.\t./.:.:.:.:.\t./.:.:.:.:.\t./.:.:.:.:.\t./.:.:.:.:.\t./.:.:.:.:.\t./.:.:.:.:.\t./.:.:.:.:.\t1/1:0,34:34:99:1208,102,0\t./.:.:.:.:.\t./.:.:.:.:.\t./.:.:.:.:.\t./.:.:.:.:.\t./.:.:.:.:.\t./.:.:.:.:.\t./.:.:.:.:.\t./.:.:.:.:.\t./.:.:.:.:.\t./.:.:.:.:.\t./.:.:.:.:.\t./.:.:.:.:.\t./.:.:.:.:.\t./.:.:.:.:.\t./.:.:.:.:.\t./.:.:.:.:.\t./.:.:.:.:.\t./.:.:.:.:.\n",
      "\n",
      "1\t69441868\trs6703426\tC\tG\t1195.06\tPASS\tAC=4;AF=1;AN=4;DB;DP=75;ExcessHet=3.0103;FS=0;MLEAC=2;MLEAF=1;MQ=59.54;POSITIVE_TRAIN_SITE;QD=32.3;SOR=0.859;VQSLOD=6.55;culprit=FS\tGT:AD:DP:GQ:PL\t./.:.:.:.:.\t./.:.:.:.:.\t./.:.:.:.:.\t./.:.:.:.:.\t./.:.:.:.:.\t./.:.:.:.:.\t./.:.:.:.:.\t./.:.:.:.:.\t1/1:0,37:37:99:1209,109,0\t./.:.:.:.:.\t./.:.:.:.:.\t./.:.:.:.:.\t./.:.:.:.:.\t./.:.:.:.:.\t./.:.:.:.:.\t./.:.:.:.:.\t./.:.:.:.:.\t./.:.:.:.:.\t1/1:0,31:31:93:963,93,0\t./.:.:.:.:.\t./.:.:.:.:.\t./.:.:.:.:.\t./.:.:.:.:.\t./.:.:.:.:.\t./.:.:.:.:.\t./.:.:.:.:.\t./.:.:.:.:.\t./.:.:.:.:.\t./.:.:.:.:.\t./.:.:.:.:.\t./.:.:.:.:.\t./.:.:.:.:.\t./.:.:.:.:.\t./.:.:.:.:.\t./.:.:.:.:.\t./.:.:.:.:.\t./.:.:.:.:.\n",
      "\n",
      "1\t69441920\trs2048156\tA\tC\t1575.06\tPASS\tAC=2;AF=1;AN=2;DB;DP=47;ExcessHet=3.0103;FS=0;MLEAC=2;MLEAF=1;MQ=58.71;POSITIVE_TRAIN_SITE;QD=34.24;SOR=1.329;VQSLOD=5.2;culprit=FS\tGT:AD:DP:GQ:PL\t./.:.:.:.:.\t./.:.:.:.:.\t./.:.:.:.:.\t./.:.:.:.:.\t./.:.:.:.:.\t./.:.:.:.:.\t./.:.:.:.:.\t./.:.:.:.:.\t./.:.:.:.:.\t./.:.:.:.:.\t./.:.:.:.:.\t./.:.:.:.:.\t./.:.:.:.:.\t./.:.:.:.:.\t./.:.:.:.:.\t./.:.:.:.:.\t./.:.:.:.:.\t./.:.:.:.:.\t1/1:0,46:46:99:1589,138,0\t./.:.:.:.:.\t./.:.:.:.:.\t./.:.:.:.:.\t./.:.:.:.:.\t./.:.:.:.:.\t./.:.:.:.:.\t./.:.:.:.:.\t./.:.:.:.:.\t./.:.:.:.:.\t./.:.:.:.:.\t./.:.:.:.:.\t./.:.:.:.:.\t./.:.:.:.:.\t./.:.:.:.:.\t./.:.:.:.:.\t./.:.:.:.:.\t./.:.:.:.:.\t./.:.:.:.:.\n",
      "\n",
      "1\t69442271\trs4339906\tC\tT\t1447.06\tPASS\tAC=4;AF=1;AN=4;DB;DP=74;ExcessHet=3.0103;FS=0;MLEAC=2;MLEAF=1;MQ=58.98;POSITIVE_TRAIN_SITE;QD=26.61;SOR=1.329;VQSLOD=5.42;culprit=FS\tGT:AD:DP:GQ:PL\t./.:.:.:.:.\t./.:.:.:.:.\t./.:.:.:.:.\t./.:.:.:.:.\t./.:.:.:.:.\t./.:.:.:.:.\t./.:.:.:.:.\t./.:.:.:.:.\t1/1:0,38:38:99:1461,114,0\t./.:.:.:.:.\t./.:.:.:.:.\t./.:.:.:.:.\t./.:.:.:.:.\t./.:.:.:.:.\t./.:.:.:.:.\t./.:.:.:.:.\t./.:.:.:.:.\t./.:.:.:.:.\t1/1:0,31:31:93:1105,93,0\t./.:.:.:.:.\t./.:.:.:.:.\t./.:.:.:.:.\t./.:.:.:.:.\t./.:.:.:.:.\t./.:.:.:.:.\t./.:.:.:.:.\t./.:.:.:.:.\t./.:.:.:.:.\t./.:.:.:.:.\t./.:.:.:.:.\t./.:.:.:.:.\t./.:.:.:.:.\t./.:.:.:.:.\t./.:.:.:.:.\t./.:.:.:.:.\t./.:.:.:.:.\t./.:.:.:.:.\n",
      "\n",
      "1\t69442664\trs1507853\tC\tT\t400.64\tPASS\tAC=1;AF=0.5;AN=2;BaseQRankSum=3.5;DB;DP=25;ExcessHet=3.0103;FS=1.623;MLEAC=1;MLEAF=0.5;MQ=56.39;MQRankSum=0.213;POSITIVE_TRAIN_SITE;QD=16.03;ReadPosRankSum=0.572;SOR=1.179;VQSLOD=4.37;culprit=FS\tGT:AD:DP:GQ:PL\t./.:.:.:.:.\t./.:.:.:.:.\t./.:.:.:.:.\t./.:.:.:.:.\t./.:.:.:.:.\t./.:.:.:.:.\t./.:.:.:.:.\t./.:.:.:.:.\t./.:.:.:.:.\t./.:.:.:.:.\t./.:.:.:.:.\t./.:.:.:.:.\t./.:.:.:.:.\t./.:.:.:.:.\t./.:.:.:.:.\t./.:.:.:.:.\t./.:.:.:.:.\t./.:.:.:.:.\t0/1:12,13:25:99:408,0,321\t./.:.:.:.:.\t./.:.:.:.:.\t./.:.:.:.:.\t./.:.:.:.:.\t./.:.:.:.:.\t./.:.:.:.:.\t./.:.:.:.:.\t./.:.:.:.:.\t./.:.:.:.:.\t./.:.:.:.:.\t./.:.:.:.:.\t./.:.:.:.:.\t./.:.:.:.:.\t./.:.:.:.:.\t./.:.:.:.:.\t./.:.:.:.:.\t./.:.:.:.:.\t./.:.:.:.:.\n",
      "\n",
      "1\t69446281\trs6588344\tT\tG\t571.64\tPASS\tAC=1;AF=0.5;AN=2;BaseQRankSum=0.031;DB;DP=41;ExcessHet=3.0103;FS=0;MLEAC=1;MLEAF=0.5;MQ=55.68;MQRankSum=1.124;POSITIVE_TRAIN_SITE;QD=15.45;ReadPosRankSum=-0.322;SOR=0.521;VQSLOD=5.42;culprit=FS\tGT:AD:DP:GQ:PL\t./.:.:.:.:.\t./.:.:.:.:.\t./.:.:.:.:.\t./.:.:.:.:.\t./.:.:.:.:.\t./.:.:.:.:.\t./.:.:.:.:.\t./.:.:.:.:.\t./.:.:.:.:.\t./.:.:.:.:.\t./.:.:.:.:.\t./.:.:.:.:.\t./.:.:.:.:.\t./.:.:.:.:.\t./.:.:.:.:.\t./.:.:.:.:.\t./.:.:.:.:.\t./.:.:.:.:.\t0/1:16,21:37:99:579,0,460\t./.:.:.:.:.\t./.:.:.:.:.\t./.:.:.:.:.\t./.:.:.:.:.\t./.:.:.:.:.\t./.:.:.:.:.\t./.:.:.:.:.\t./.:.:.:.:.\t./.:.:.:.:.\t./.:.:.:.:.\t./.:.:.:.:.\t./.:.:.:.:.\t./.:.:.:.:.\t./.:.:.:.:.\t./.:.:.:.:.\t./.:.:.:.:.\t./.:.:.:.:.\t./.:.:.:.:.\n",
      "\n",
      "1\t69446281\trs6588344\tT\tG\t571.64\tPASS\tAC=1;AF=0.5;AN=2;BaseQRankSum=0.031;DB;DP=41;ExcessHet=3.0103;FS=0;MLEAC=1;MLEAF=0.5;MQ=55.68;MQRankSum=1.124;POSITIVE_TRAIN_SITE;QD=15.45;ReadPosRankSum=-0.322;SOR=0.521;VQSLOD=5.42;culprit=FS\tGT:AD:DP:GQ:PL\t./.:.:.:.:.\t./.:.:.:.:.\t./.:.:.:.:.\t./.:.:.:.:.\t./.:.:.:.:.\t./.:.:.:.:.\t./.:.:.:.:.\t./.:.:.:.:.\t./.:.:.:.:.\t./.:.:.:.:.\t./.:.:.:.:.\t./.:.:.:.:.\t./.:.:.:.:.\t./.:.:.:.:.\t./.:.:.:.:.\t./.:.:.:.:.\t./.:.:.:.:.\t./.:.:.:.:.\t0/1:16,21:37:99:579,0,460\t./.:.:.:.:.\t./.:.:.:.:.\t./.:.:.:.:.\t./.:.:.:.:.\t./.:.:.:.:.\t./.:.:.:.:.\t./.:.:.:.:.\t./.:.:.:.:.\t./.:.:.:.:.\t./.:.:.:.:.\t./.:.:.:.:.\t./.:.:.:.:.\t./.:.:.:.:.\t./.:.:.:.:.\t./.:.:.:.:.\t./.:.:.:.:.\t./.:.:.:.:.\t./.:.:.:.:.\n",
      "\n"
     ]
    }
   ],
   "source": [
    "vcf_in = pysam.VariantFile(germline_vcf)\n",
    "\n",
    "row_idx = 0\n",
    "\n",
    "variants = []\n",
    "\n",
    "for rec in vcf_in.fetch():\n",
    "    if rec.samples['H_KA-478908-0815169']['GT']==(None,None):# or len(rec.alts[0])<3:\n",
    "        continue\n",
    "    print(rec)\n",
    "    row_idx += 1\n",
    "    if row_idx==40:\n",
    "            break\n",
    "    variants.append(dict(chrom=rec.chrom, pos=rec.pos, ref=rec.ref, alts=rec.alts))\n",
    "\n",
    "print(rec)\n",
    "pos=rec.pos\n",
    "ref=rec.ref\n",
    "alt=rec.alts[0]"
   ]
  },
  {
   "cell_type": "code",
   "execution_count": 3,
   "metadata": {},
   "outputs": [],
   "source": [
    "def nucl_map(letters):\n",
    "    nmap={'A':0,'C':1,'T':2,'G':3, 'N':4, 'K':5, '*':6} #asterix for deletion\n",
    "    if len(letters)>1:\n",
    "        return([nmap[n] for n in letters])\n",
    "    else:      \n",
    "        return nmap[letters] #ACTGNK-->012345\n",
    "    \n",
    "def nucl_unmap(numbers):\n",
    "    unmap=('A','C','T','G','N','K','*')\n",
    "    if isinstance(numbers, (list, tuple, np.ndarray)):\n",
    "        return([unmap[int(n)] for n in numbers])\n",
    "    else:      \n",
    "        return unmap[int(numbers)] #012345-->ACTGNK\n",
    "    \n",
    "def phred_qual(qual_val, kind):\n",
    "    if kind == 'base':\n",
    "        #assert isinstance(qual_val, str), \"When the kind kwarg is 'base', the input is expected to be a str\"\n",
    "        acc = 10 ** ((ord(qual_val) - 33) / -10)\n",
    "    elif kind == 'map':\n",
    "        #assert isinstance(qual_val, int), \"When the kind kwarg is 'map', the input is expected to be an in\"\n",
    "        acc = 10 ** (qual_val / -10)\n",
    "    return acc"
   ]
  },
  {
   "cell_type": "code",
   "execution_count": 4,
   "metadata": {},
   "outputs": [
    {
     "data": {
      "text/plain": [
       "{'chrom': '1', 'pos': 69377375, 'ref': 'T', 'alts': ('G',)}"
      ]
     },
     "execution_count": 4,
     "metadata": {},
     "output_type": "execute_result"
    }
   ],
   "source": [
    "variant=variants[5]\n",
    "variant"
   ]
  },
  {
   "cell_type": "code",
   "execution_count": 5,
   "metadata": {},
   "outputs": [],
   "source": [
    "max_reads = 70 #max image height, the probability to have a read depth above this value should be small\n",
    "insert_only_variant = 1 #insert extra columns only at the variant position when the variant is an insertion\n",
    "\n",
    "width = 150 # image width: 2x the most probable read length\n",
    "\n",
    "reads_cut_strategy = 'topbottom'\n",
    "#sort_reads = False #sort reads by base in variant column and then by position"
   ]
  },
  {
   "cell_type": "code",
   "execution_count": 6,
   "metadata": {},
   "outputs": [],
   "source": [
    "start_column_pos = variant['pos']-1-width//2 #coordinate of the 0th image column in the reference genome, go from 1-based coordinates (VCF) to 0-based coordinates (BAM)\n",
    "variant_is_insertion = variant['ref']=='-' or len(variant['ref'])<len(variant['alts'][0])\n",
    "\n",
    "#we schall pileup the reads around the variant position\n",
    "#in pysam, such a pileup can only be adressed by columns\n",
    "\n",
    "columns_all = []\n",
    "columns_reads_qnames = [] #read names for each column\n",
    "columns_bases = [] #bases for each column: one base per read\n",
    "columns_qualities = [] #quality scores for each column\n",
    "#columns_pos = []\n",
    "all_reads = {} #all distinct reads, their positions and flags in the pileup image\n",
    "all_ins = [] #all insertions \n",
    "#ins_check = []\n",
    "#del_check = []\n",
    "pileup_shift = None #shift image by this value to place the variant exactly in the center\n",
    "\n",
    "samfile = pysam.AlignmentFile(bamfile, \"rb\" )\n",
    "\n",
    "column_idx = 0\n",
    "\n",
    "for pileupcolumn in samfile.pileup(variant['chrom'], variant['pos']-2, variant['pos']+2, \n",
    "                                   flag_filter=(0x4|0x200|0x400), #exclude unmapped,duplicates and not passing filters alingments\n",
    "                                   max_depth = 300, #certain sites can be very deep.. \n",
    "                                   min_base_quality = 0\n",
    "                                  ):\n",
    "    \n",
    "    #print (\"\\ncoverage at base %s = %s\" %\n",
    "    #       (pileupcolumn.pos, pileupcolumn.n))\n",
    "    #if pileupcolumn.n>10:\n",
    "    \n",
    "    if pileupcolumn.pos<start_column_pos: \n",
    "        continue\n",
    "    elif pileup_shift == None:\n",
    "        pileup_shift = pileupcolumn.pos - start_column_pos      \n",
    "            \n",
    "        #variant_column_idx = width//2-pileup_shift \n",
    "\n",
    "        #if pileup_shift>0:\n",
    "        #    columns_reads_qnames.append([]*pileup_shift)\n",
    "        #    columns_bases.append([]*pileup_shift)\n",
    "\n",
    "    #columns_pos.append(pileupcolumn.pos)\n",
    "    \n",
    "    #print(f'{colomn_idx}:{pileupcolumn.n}')\n",
    "    #print(pileupcolumn.pos)\n",
    "    #print(pileupcolumn.get_query_sequences(add_indels=True))\n",
    "    \n",
    "    bases = pileupcolumn.get_query_sequences(add_indels=True)\n",
    "    qualities = pileupcolumn.get_query_qualities()\n",
    "    pos = pileupcolumn.get_query_positions()\n",
    "    \n",
    "    read_qnames = []\n",
    "    #read_qpos = []\n",
    "\n",
    "    for read_idx, read in enumerate(pileupcolumn.pileups):\n",
    "        \n",
    "        read_qname = read.alignment.qname+str(read.alignment.flag) #combine with flag to assure unique names\n",
    "        read_qnames.append(read_qname)\n",
    "        #read_qpos.append(read.query_position)\n",
    "\n",
    "        if len(bases[read_idx])>1 and bases[read_idx][1]=='+': #insertion detected\n",
    "            \n",
    "            if insert_only_variant and (not variant_is_insertion or column_idx!= width//2 - pileup_shift):\n",
    "                continue\n",
    "            \n",
    "            \n",
    "            ins_pos=pos[read_idx]+1  #position of the inserted segment (don't count the ref base that's the same)\n",
    "            \n",
    "            ins_len, ins_seq = re.search('\\+([0-9]+)([ACGTNacgtn]+)', bases[read_idx]).groups(1)\n",
    "            \n",
    "            qual = read.alignment.query_qualities\n",
    "            seq = read.alignment.query_sequence\n",
    "            #ins_check.append((ins_len,ins_pos,\n",
    "            #                  read.alignment.query_sequence,\n",
    "            #                  read.alignment.query_alignment_sequence,qual))\n",
    "            \n",
    "            ins_qualities = list(qual[ins_pos:ins_pos+int(ins_len)])\n",
    "                        \n",
    "            all_ins.append((read_qname, \n",
    "                            column_idx, int(ins_len), \n",
    "                            ins_seq.upper(), \n",
    "                            ins_qualities, \n",
    "                           )\n",
    "                          )\n",
    "            \n",
    "        if not read_qname in all_reads.keys():\n",
    "            all_reads[read_qname] = (read.alignment.pos,read.alignment.flag,read.alignment.reference_length)\n",
    "\n",
    "    #columns_reads_qnames.append(read_qnames)\n",
    "    #columns_bases.append(bases)\n",
    "    #columns_qualities.append(qualities)\n",
    "    #print(pileupcolumn)\n",
    "    columns_all.append(list(zip(read_qnames,bases,qualities)))\n",
    "    #del_check.append(list(zip(read_qnames,bases,pos,read_qpos)))\n",
    "    column_idx+=1\n",
    "\n",
    "N_cols = column_idx\n",
    "\n",
    "all_reads = {k: v for k, v in sorted(all_reads.items(), key=lambda item: item[1][0])} #sort reads by position"
   ]
  },
  {
   "cell_type": "code",
   "execution_count": 7,
   "metadata": {},
   "outputs": [],
   "source": [
    "##check how to get insertion quality scores\n",
    "##does pileupcolumn.get_query_positions correspond to positions in read.alignment.query_sequence\n",
    "#or in read.alignment.query_alingment_sequence ?\n",
    "#does read.alignment.query_qualities correspond to read.alignment.query_alingment_sequence \n",
    "#or read.alignment.query_sequence?\n",
    "\n",
    "#print(len(ins_check))\n",
    "#for r in ins_check:\n",
    "#    ins_len,pos,seq,al_seq,qual = r\n",
    "#    print(f'seq length length:{len(seq)}')\n",
    "#    print(f'seq length = qual length:{len(seq)==len(qual)}')\n",
    "#    print(f'seq {seq[pos:pos+int(ins_len)]}')\n",
    "\n",
    "#for r in del_check[width//2-pileup_shift]:\n",
    "#    read_name,base,pos,qpos=r\n",
    "#    print(read_name,base,pos,qpos)\n",
    "\n",
    "#print('')\n",
    "#for r in del_check[width//2-pileup_shift+7]:\n",
    "#    read_name,base,pos,qpos=r\n",
    "#    print(read_name,base,pos,qpos)\n",
    "#Answers:\n",
    "#read.alignment.query_qualities correspond to read.alignment.query_sequence\n",
    "#pileupcolumn.get_query_positions gives positions in read.alignment.query_sequence"
   ]
  },
  {
   "cell_type": "code",
   "execution_count": 8,
   "metadata": {},
   "outputs": [],
   "source": [
    "#take only reads that cover the variant site\n",
    "reads_to_keep = [read_name for read_name,(read_pos,_,read_ref_length) in all_reads.items() if read_pos<=variant['pos']-1 and  read_pos+read_ref_length>variant['pos']-1]\n",
    "\n",
    "N_reads_tot = len(reads_to_keep) \n",
    "\n",
    "#if there're too many reads, take only some of them\n",
    "\n",
    "N_reads_to_skip = max(N_reads_tot-max_reads, 0)\n",
    "\n",
    "if reads_cut_strategy == 'center':\n",
    "    #keep reads at the top and at the bottom, remove the central part\n",
    "    start_skip = N_reads_tot//2-N_reads_to_skip//2\n",
    "    reads_to_skip = range(start_skip,start_skip+N_reads_to_skip)\n",
    "elif reads_cut_strategy == 'topbottom':\n",
    "    #keep reads in the center, remove at the top and at the bottom\n",
    "    reads_to_skip = list(range(N_reads_to_skip//2))\n",
    "    reads_to_skip.extend(list(range(N_reads_to_skip//2+max_reads, N_reads_tot)))\n",
    "\n",
    "reads_to_keep = [r for n,r in enumerate(reads_to_keep) if not n in reads_to_skip]\n",
    "\n",
    "#remove filtered reads from all_reads\n",
    "all_reads = {read_name: read_info for read_name, read_info in all_reads.items() if read_name in reads_to_keep} \n",
    "\n",
    "N_reads = len(reads_to_keep) #total number of unique reads = total number of reads in the pileup image\n",
    "\n",
    "#for indexing we'll need to have integer indices instead of symbolic names\n",
    "read_name_to_read_idx = {k: read_idx for read_idx, k in enumerate(all_reads)} #assing a line in the pileup image for each read name\n",
    "#convert read names to read indices in the pileup image for all columns while keeping only allowed reads\n",
    "columns_all = [[(read_name_to_read_idx[base[0]], base[1],base[2]) for base in column if base[0] in reads_to_keep] for column in columns_all]"
   ]
  },
  {
   "cell_type": "code",
   "execution_count": 9,
   "metadata": {},
   "outputs": [
    {
     "name": "stdout",
     "output_type": "stream",
     "text": [
      "42\n",
      "42\n"
     ]
    }
   ],
   "source": [
    "print(N_reads_tot)\n",
    "print(len(reads_to_keep))"
   ]
  },
  {
   "cell_type": "code",
   "execution_count": 10,
   "metadata": {},
   "outputs": [],
   "source": [
    "all_ins = [ins for ins in all_ins if ins[0] in reads_to_keep] #take only insertions in the reads that we chose to keep\n",
    "\n",
    "ins_length_per_column = np.zeros((width,),dtype=np.ubyte) #how many columns should we insert after each existing column due to insertions\n",
    "\n",
    "all_ins_array = [[] for _ in range(width)] #array of insertions for each (initial/untouched) column\n",
    "\n",
    "for ins in all_ins:\n",
    "    ins_length_per_column[ins[1]] = int(max(ins_length_per_column[ins[1]],ins[2]))\n",
    "    all_ins_array[ins[1]].append((read_name_to_read_idx[ins[0]],ins[2], ins[3], ins[4])) \n",
    "    \n",
    "total_insertion_length = int(ins_length_per_column.sum()) #total insertion length for the whole image\n",
    "n_ins_before_variant = sum(ins_length_per_column[:width//2-pileup_shift])#number of insertions before the variant position\n",
    "#ins_accum = columns_with_ins.cumsum().astype(np.ubyte) "
   ]
  },
  {
   "cell_type": "code",
   "execution_count": 11,
   "metadata": {},
   "outputs": [],
   "source": [
    "#number of pileup image columns to take\n",
    "#must take total_insertion_length and pileup_schift into account\n",
    "N_cols = min(N_cols,width)-pileup_shift-total_insertion_length"
   ]
  },
  {
   "cell_type": "code",
   "execution_count": 12,
   "metadata": {},
   "outputs": [],
   "source": [
    "#get the original reference sequence from the fasta file, variant being roughly in the center\n",
    "reffile = pysam.FastaFile(refname)\n",
    "ref_bases = np.array(list(reffile.fetch(variant['chrom'], variant['pos']-width//2-1+n_ins_before_variant, variant['pos']-width//2+width-1+n_ins_before_variant))) #piece of reference genome, variant being in center"
   ]
  },
  {
   "cell_type": "code",
   "execution_count": 13,
   "metadata": {},
   "outputs": [],
   "source": [
    "#add deletions to the reference where we have insertions in reads\n",
    "ins_acc=0\n",
    "for ins_idx, ins_len in enumerate(ins_length_per_column):\n",
    "    if ins_len:\n",
    "        #print(ins_idx+pileup_shift+1+ins_acc)\n",
    "        ref_bases = np.insert(ref_bases,ins_idx+pileup_shift+1+ins_acc, (['*']*ins_len))\n",
    "        ins_acc+=ins_len\n",
    "ref_bases = ref_bases[:width]\n",
    "ref_bases = np.array(list(map(nucl_map,ref_bases))) # letters to numbers"
   ]
  },
  {
   "cell_type": "code",
   "execution_count": 14,
   "metadata": {},
   "outputs": [],
   "source": [
    "# The image for each variant consists of 4 tensors\n",
    "# each tensor has the dimensions N_reads x width x N_channels\n",
    "# N_reads and width are the same for all 3 tensors\n",
    "# one_hot_ref: one-hot encoding for reference bases (4 channels)\n",
    "# p_hot_reads: p-hot encoding of quality scores in reads (4 channels)\n",
    "# indels_chn: indicates whether there is an indel in the sequence (2 channels)\n",
    "# flags_reads: read flags encoding (5 channels)\n",
    "\n",
    "reads_im = np.zeros((N_reads,2,width)) #reads_image: N_reads x bases/quality x width\n",
    "reads_im[:,0,:] = nucl_map('N') #bases for all reads, default: no data ('N')\n",
    "reads_im[:,1,:] = 0.25 #probability to have the corresponding basis, default:equal probability of all bases 0.2\n",
    "\n",
    "indels_chn = np.zeros((N_reads,width,2)) # encoding of indels\n",
    "\n",
    "p_hot_reads = np.zeros((N_reads,width,4)) #p-hot encoding of reads probabilities \n",
    "\n",
    "flags_reads = np.zeros((N_reads,width,6)) # encoding of read flags\n",
    "\n",
    "ins_accum = 0 #accumulated length of insertions before the current column\n",
    "\n",
    "#loop over all columns of the initial pileup image\n",
    "for col_idx in range(N_cols):\n",
    "\n",
    "    column = list(zip(*columns_all[col_idx]))\n",
    "    \n",
    "    #column index in the final image is different from the column index of the original pileup image\n",
    "    #because we shift all original columns by pileup_shift and add insertions \n",
    "    col_idx_in_image = col_idx+pileup_shift+ins_accum-n_ins_before_variant\n",
    "    \n",
    "    if len(column)==0 or col_idx_in_image<0:\n",
    "        continue\n",
    "\n",
    "    column = list(zip(*columns_all[col_idx]))\n",
    "    column_reads_idx = column[0]\n",
    "    column_bases = column[1]\n",
    "    column_qualities = column[2]  \n",
    "    \n",
    "    #is_dels = [True  if len(x)>1 and x[1]=='-' else False for x in column_bases]  #if there's a deletion in the next column\n",
    "    #indels_chn[column_reads_idx,col_idx_in_image+ins_length_per_column[col_idx],1] = is_dels #is there's an insertion in the next column, shift the deletion mark to the end of insertion\n",
    "\n",
    "    #is_ins = [True  if len(x)>1 and x[1]=='+' else False for x in column_bases] #if there's an insertion in the next column \n",
    "    #indels_chn[column_reads_idx,col_idx_in_image,0] = is_ins #indicate insertion in the next column\n",
    "\n",
    "    max_ins_length = ins_length_per_column[col_idx] #maximum insertion length after this column\n",
    "    \n",
    "    if ins_length_per_column[col_idx]: #if there're insertions after this column\n",
    "        \n",
    "        #first, add deletions for all reads up to the maximal insertion length\n",
    "        reads_im[column_reads_idx,0,col_idx_in_image+1:col_idx_in_image+1+max_ins_length] = nucl_map('*')\n",
    "        reads_im[column_reads_idx,1,col_idx_in_image+1:col_idx_in_image+1+max_ins_length] = 0\n",
    "\n",
    "        for ins in all_ins_array[col_idx]: #for reads that have an insertion, insert this insertion at the place of deletions\n",
    "            ins_len = ins[1]\n",
    "            ins_qual = np.array([phred_qual(qual_val, 'map') for qual_val in ins[3]]) \n",
    "            ins_seq = nucl_map(ins[2])# letters to numbers\n",
    "            reads_im[ins[0],0,col_idx_in_image+1:col_idx_in_image+1+ins_len] = ins_seq\n",
    "            reads_im[ins[0],1,col_idx_in_image+1:col_idx_in_image+1+ins_len] = 1.-ins_qual #probability that the base is called CORRECTLY\n",
    "            \n",
    "            indels_chn[ins[0],col_idx_in_image+1:col_idx_in_image+1+ins_len,0] = True\n",
    "            \n",
    "    #print(col_idx)\n",
    "    #print(col_idx_in_image)\n",
    "    #print(column_bases)\n",
    "    #print(ref_bases_fa[pileup_shift+col_idx])\n",
    "    #if col_idx==100:\n",
    "    #    break\n",
    "    \n",
    "    column_bases = [nucl_map(x[:1].upper()) for x in column_bases] # letters to numbers  \n",
    "    column_qualities = np.array([phred_qual(qual_val, 'map') for qual_val in column_qualities])\n",
    "    \n",
    "    reads_im[column_reads_idx,0,col_idx_in_image] = column_bases\n",
    "    reads_im[column_reads_idx,1,col_idx_in_image] = 1.-column_qualities #probability that the base is called CORRECTLY\n",
    "    \n",
    "\n",
    "        \n",
    "    ins_accum += int(ins_length_per_column[col_idx])\n",
    "\n",
    "for basis_idx in range(4):\n",
    "    p_hot_reads[:,:,basis_idx] = np.where(reads_im[:,0,:]==basis_idx, reads_im[:,1,:], (1.-reads_im[:,1,:])/3.)\n",
    "\n",
    "del_row, del_col = np.where(reads_im[:,0,:]==6) #deletions\n",
    "p_hot_reads[del_row, del_col, :] = 0.\n",
    "indels_chn[del_row, del_col, 1] = True\n",
    "\n",
    "K_row, K_col = np.where(reads_im[:,0,:]==5) #K: either G or T, each with probability 0.5\n",
    "p_hot_reads[K_row, K_col, 2] = 1\n",
    "p_hot_reads[K_row, K_col, 3] = 1\n",
    "\n",
    "for read_idx, (_,flag,_) in enumerate(all_reads.values()):\n",
    "    flags_reads[read_idx,:,0]=flag&0x2   #each segment properly aligned according to the aligner\n",
    "    flags_reads[read_idx,:,1]=flag&0x8   #next segment unmapped\n",
    "    flags_reads[read_idx,:,2]=flag&0x10  #SEQ being reverse complemented\n",
    "    flags_reads[read_idx,:,3]=flag&0x20  #SEQ of the next segment in the template being reverse complemented\n",
    "    flags_reads[read_idx,:,4]=flag&0x100 #secondary alignment\n",
    "    flags_reads[read_idx,:,5]=flag&0x800 #supplementary alignment\n",
    "    flags_reads[read_idx,:] = flags_reads[read_idx,:]>0\n",
    "\n",
    "#one-hot encoding of reference bases in the 1st 4 channels of all reads\n",
    "one_hot_ref = np.zeros((N_reads,width,4)) \n",
    "for basis_idx in range(4):\n",
    "    one_hot_ref[:,(ref_bases==basis_idx),basis_idx] = 1.\n",
    "one_hot_ref[:,(ref_bases==4),:] = 1 #N\n",
    "one_hot_ref[:,(ref_bases==5),2] = 1 #K\n",
    "one_hot_ref[:,(ref_bases==5),3] = 1 #K"
   ]
  },
  {
   "cell_type": "code",
   "execution_count": 15,
   "metadata": {},
   "outputs": [
    {
     "data": {
      "text/plain": [
       "<matplotlib.image.AxesImage at 0x7fde20b7ae80>"
      ]
     },
     "execution_count": 15,
     "metadata": {},
     "output_type": "execute_result"
    },
    {
     "data": {
      "image/png": "[encoded data removed]",
      "text/plain": [
       "<Figure size 720x720 with 1 Axes>"
      ]
     },
     "metadata": {},
     "output_type": "display_data"
    }
   ],
   "source": [
    "#visualize difference image\n",
    "\n",
    "#ref_im = ref_bases.reshape(1,-1)*np.ones((N_reads,width)) #broadcast to the right size\n",
    "diff=reads_im[:,0,:]-ref_bases\n",
    "diff[diff!=0]=0.5 #where bases are different btw reads and reference\n",
    "diff[diff==0]=1\n",
    "diff[reads_im[:,0,:]==4]=0 #where there is no data (N)\n",
    "\n",
    "fig = plt.figure(figsize = (10,10))\n",
    "ax = plt.gca()\n",
    "ax.set_xticks([])\n",
    "ax.set_yticks([])\n",
    "plt.imshow(diff, cmap='viridis')\n"
   ]
  },
  {
   "cell_type": "code",
   "execution_count": 16,
   "metadata": {},
   "outputs": [
    {
     "name": "stdout",
     "output_type": "stream",
     "text": [
      "TACCCATCTGAGGTATTCTTTCAAG\u001b[34mT\u001b[0mCCTGCATACCAGTGAAATTACTGA\n",
      "TACCCATCTGAGGTATTCTTTCAAG\u001b[31mG\u001b[0mNNNNNNNNNNNNNNNNNNNNNNNN\n",
      "TACCCATCTGAGGTATTCTTTCAAG\u001b[31mG\u001b[0mCCNNNNNNNNNNNNNNNNNNNNNN\n",
      "TACCCATCTGAGGTATTCTTTCAAG\u001b[31mG\u001b[0mCCTGNNNNNNNNNNNNNNNNNNNN\n",
      "TACCCATCTGAGGTATTCTTTCAAG\u001b[31mG\u001b[0mCCTGCATNNNNNNNNNNNNNNNNN\n",
      "TACCCATCTGAGGTATTCTTTCAAG\u001b[31mG\u001b[0mCCTGCATACCAGTNNNNNNNNNNN\n",
      "TACCCATCTGAGGTATTCTTTCAAG\u001b[31mG\u001b[0mCCTGCATACCAGTNNNNNNNNNNN\n",
      "TACCCATCTGAGGTATTCTTTCAAG\u001b[31mG\u001b[0mCCTGCATACCAGTGNNNNNNNNNN\n",
      "TACCCATCTGAGGTATTCTTTCAAG\u001b[31mG\u001b[0mCCTGCATACCAGTGAANNNNNNNN\n",
      "TACCCATCTGAGGTATTCTTTCAAG\u001b[31mG\u001b[0mCCTGCATACCAGTGAAANNNNNNN\n",
      "TACCCATCTGAGGTATTCTTTCAAG\u001b[31mG\u001b[0mCCTGCATACCAGTGAAATNNNNNN\n",
      "TACCCATCTGAGGTATTCTTTCAAG\u001b[31mG\u001b[0mCCTGCATACCAGTGAAATNNNNNN\n",
      "TACCCATCTGAGGTATTCTTTCAAG\u001b[31mG\u001b[0mCCTGCATACCAGTGAAATTNNNNN\n",
      "TACCCATCTGAGGTATTCTTTCAAG\u001b[31mG\u001b[0mCCTGCATACCAGTGAAATTANNNN\n",
      "TACCCATCTGAGGTATTCTTTCAAG\u001b[31mG\u001b[0mCCTGCATACCAGTGAAATTACNNN\n",
      "TACCCATCTGAGGTATTCTTTCAAG\u001b[31mG\u001b[0mCCTGCATACCAGTGAAATTACTGN\n",
      "TACCCATCTGAGGTATTCTTTCAAG\u001b[31mG\u001b[0mCCTGCATACCAGTGAAATTACTGA\n",
      "TACCCATCTGAGGTATTCTTTCAAG\u001b[31mG\u001b[0mCCTGCATACCAGTGAAATTACTGA\n",
      "TACCCATCTGAGGTATTCTTTCAAG\u001b[31mG\u001b[0mCCTGCATACCAGTGAAATTACTGA\n",
      "TACCCATCTGAGGTATTCTTTCAAG\u001b[31mG\u001b[0mCCTGCATACCAGTGAAATTACTGA\n",
      "TACCCATCTGAGGTATTCTTTCAAG\u001b[31mG\u001b[0mCCTGCATACCAGTGAAATTACTGA\n",
      "TACCCATCTGAGGTATTCTTTCAAG\u001b[31mG\u001b[0mCCTGCATACCAGTGAAATTACTGA\n",
      "TACCCATCTGAGGTATTCTTTCAAG\u001b[31mG\u001b[0mCCTGCATACCAGTGAAATTACTGA\n",
      "TACCCATCTGAGGTATTCTTTCAAG\u001b[31mG\u001b[0mCCTGCATACCAGTGAAATTACTGA\n",
      "TACCCATCTGAGGTATTCTTTCAAG\u001b[31mG\u001b[0mCCTGCATACCAGTGAAATTACTGA\n",
      "TACCCATCTGAGGTATTCTTTCA\u001b[31m*\u001b[0m\u001b[31m*\u001b[0m\u001b[31m*\u001b[0m\u001b[31m*\u001b[0m\u001b[31m*\u001b[0mTGCATACCAGTGAAATTACTGA\n",
      "TACCCATCTGAGGTATTCTTTCAAG\u001b[31mG\u001b[0mNCTGCATACCAGTGAAATTACTGA\n",
      "TACCCATCTGAGGTATTCTTTCAAG\u001b[31mG\u001b[0mCCTGCATACCAGTGAAATTACTGA\n",
      "TACCCATCTGAGGTATTCTTTCAAG\u001b[31mG\u001b[0mCCTGCATACCAGTGAAATTACTGA\n",
      "TACCCATCTGAGGTATTCTTTCAAG\u001b[31mG\u001b[0mCCTGCATACCAGTGAAATTACTGA\n",
      "NNNNNATCTGAGGTATTCTTTCAAG\u001b[31mG\u001b[0mCCTGCATACCAGTGAAATTACTGA\n",
      "NNNNNNTCTGAGGTATTCTTTCAAG\u001b[31mG\u001b[0mCCTGCATACCAGTGAAATTACTGA\n",
      "NNNNNNNNTGAGGTATTCTTTCAAG\u001b[31mG\u001b[0mCCTGCATACCAGTGAAATTACTGA\n",
      "NNNNNNNNNGAGGTATTCTTTCAAG\u001b[31mG\u001b[0mCCTGCATACCAGTGAAATTACTGA\n",
      "NNNNNNNNNNNNNTATTCTTTCAAG\u001b[31mG\u001b[0mCCTGCATACCAGTGAAATTACTGA\n",
      "NNNNNNNNNNNNNTATTCTTTCAAG\u001b[31mG\u001b[0mCCTGCATACCAGTGAAATTACTGA\n",
      "NNNNNNNNNNNNNNNNTCTTTCAAG\u001b[31mG\u001b[0mCCTGCATACCAGTGAAATTACTGA\n",
      "NNNNNNNNNNNNNNNNNCTTTCAAG\u001b[31mG\u001b[0mCCTGCATACCAGTGAAATTACTGA\n",
      "NNNNNNNNNNNNNNNNNCTTTCAAG\u001b[31mG\u001b[0mCCTGCATACCAGTGAAATTACTGA\n",
      "NNNNNNNNNNNNNNNNNCTTTCAAG\u001b[31mG\u001b[0mCCTGCATACCAGTGAAATTACTGA\n",
      "NNNNNNNNNNNNNNNNNNNTTCAAG\u001b[31mG\u001b[0mCCTGCATACCAGTGAAATTACTGA\n",
      "NNNNNNNNNNNNNNNNNNNNNNAAG\u001b[31mG\u001b[0mCCTGCATACCAGTGAAATTACTGA\n",
      "NNNNNNNNNNNNNNNNNNNNNNNNG\u001b[31mG\u001b[0mCCTGCATACCAGTGAAATTACTGA\n"
     ]
    }
   ],
   "source": [
    "#visualise reads pileup in text\n",
    "diff = reads_im[:,0,:]-ref_bases\n",
    "diff = (diff!=0)\n",
    "variant_column = width//2\n",
    "\n",
    "reads_letters = [list(map(lambda x:nucl_unmap(x), x)) for x in reads_im[:,0,:]] #map numbers back to letters\n",
    "#reads_strs = list(map(lambda x:''.join(x), reads_letters))\n",
    "\n",
    "ref_letters = nucl_unmap(ref_bases)  #map numbers back to letters\n",
    "ref_letters[variant_column] = \"\\x1b[34m{}\\x1b[0m\".format(ref_letters[variant_column]) #dye the site at variant position in blue using ANSI escape code\n",
    "ref_str = ''.join(ref_letters) #ref bases as a string\n",
    "\n",
    "N_crop = 50 #bases to omit on each side \n",
    "\n",
    "print(ref_str[N_crop:-N_crop])\n",
    "\n",
    "highlight_column = -1#choose any column to highlight\n",
    "\n",
    "for idx_read in range(0,N_reads,1):\n",
    "    read = reads_letters[idx_read] #read bases as a string\n",
    "    read = read[N_crop:-N_crop]\n",
    "    for c_ind in range(len(read)):\n",
    "        read[c_ind] = (read[c_ind] if N_crop+c_ind!=highlight_column else \"\\x1b[36m{}\\x1b[0m\".format(read[c_ind]))\n",
    "        read[c_ind] = (read[c_ind] if not diff[idx_read,N_crop+c_ind] or read[c_ind] in ('N') else \"\\x1b[31m{}\\x1b[0m\".format(read[c_ind]))#dye the site at mismatches in red using ANSI escape code\n",
    "    read_str = ''.join(read)\n",
    "    print(read_str)\n"
   ]
  },
  {
   "cell_type": "code",
   "execution_count": 18,
   "metadata": {},
   "outputs": [],
   "source": [
    "def pcolor(image, yticklabels=[],xticklabels=[], cmap='binary',figsize = (10,10)):\n",
    "    fig = plt.figure(figsize = figsize)\n",
    "    ax = plt.gca()\n",
    "    ax.set_xticks([])\n",
    "    ax.set_yticks([])\n",
    "    plt.imshow(image, cmap = cmap)\n",
    "    \n",
    "    #major ticks - grid\n",
    "    ax.set_yticks(np.arange(-0.5, image.shape[0]-1, 1), minor=False)\n",
    "    ax.set_xticks(np.arange(-0.5, image.shape[1]-1, 1), minor=False)\n",
    "    ax.set_yticklabels([], minor=False)\n",
    "    ax.set_xticklabels([], minor=False)  \n",
    "    ax.tick_params(axis=\"y\",direction=\"in\", pad=-22)\n",
    "    ax.tick_params(axis=\"x\",direction=\"in\", pad=-22)\n",
    "    #minor ticks - labels\n",
    "    if yticklabels:\n",
    "        ax.set_yticks(np.arange(-0.1, image.shape[0]-1, 1), minor=True)\n",
    "        ax.set_yticklabels(yticklabels, minor=True)\n",
    "    if xticklabels:\n",
    "        ax.set_xticks(np.arange(-0.1, image.shape[1]-1, 1), minor=True)\n",
    "        ax.set_xticklabels(xticklabels, minor=True)\n",
    "    \n",
    "    ax.grid(which='major', axis='both', linestyle='-', color='k', linewidth=2)"
   ]
  },
  {
   "cell_type": "code",
   "execution_count": 19,
   "metadata": {},
   "outputs": [
    {
     "data": {
      "image/png": "[encoded data removed]",
      "text/plain": [
       "<Figure size 1080x1080 with 1 Axes>"
      ]
     },
     "metadata": {
      "needs_background": "light"
     },
     "output_type": "display_data"
    }
   ],
   "source": [
    "from matplotlib.colors import ListedColormap\n",
    "nucl_colors=np.array([(255,255,255), (228,26,28), (55,126,184), (77,175,74), (152,78,163)])/255. #colors for NACTG\n",
    "nucl_cmap = ListedColormap(nucl_colors)\n",
    "\n",
    "#visualize reference channels (they are the same for all reads)\n",
    "\n",
    "ref_im = np.transpose(one_hot_ref[0,N_crop:-N_crop,:]).copy().astype(np.ubyte) #reference tensor is the same for all reads, we choose read 0\n",
    "\n",
    "for nucl_idx in range(4):\n",
    "    ref_im[nucl_idx,:]=ref_im[nucl_idx,:]*(nucl_idx+1)\n",
    "\n",
    "ref_letters = nucl_unmap(ref_bases) #map numbers back to letters\n",
    "\n",
    "pcolor(ref_im, yticklabels=['A','C','T','G'], xticklabels=ref_letters[N_crop:-N_crop], cmap=nucl_cmap,figsize = (15,15))"
   ]
  },
  {
   "cell_type": "code",
   "execution_count": 20,
   "metadata": {},
   "outputs": [
    {
     "data": {
      "image/png": "[encoded data removed]",
      "text/plain": [
       "<Figure size 1080x1080 with 1 Axes>"
      ]
     },
     "metadata": {
      "needs_background": "light"
     },
     "output_type": "display_data"
    },
    {
     "data": {
      "image/png": "[encoded data removed]",
      "text/plain": [
       "<Figure size 1080x1080 with 1 Axes>"
      ]
     },
     "metadata": {
      "needs_background": "light"
     },
     "output_type": "display_data"
    },
    {
     "data": {
      "image/png": "[encoded data removed]",
      "text/plain": [
       "<Figure size 1080x1080 with 1 Axes>"
      ]
     },
     "metadata": {
      "needs_background": "light"
     },
     "output_type": "display_data"
    }
   ],
   "source": [
    "#visualize channels specific to a given read\n",
    "\n",
    "read_number = 4\n",
    "N_crop = 50\n",
    "\n",
    "reads_letters = [list(map(lambda x:nucl_unmap(x), x)) for x in reads_im[:,0,:]] #map numbers back to letters\n",
    "\n",
    "phreads_im = np.transpose(p_hot_reads[read_number,N_crop:-N_crop,:]).copy() \n",
    "pcolor(phreads_im, yticklabels=['A','C','T','G'], xticklabels=reads_letters[read_number][N_crop:-N_crop], cmap='Greens',figsize = (15,15))\n",
    "\n",
    "\n",
    "indels_im = np.transpose(indels_chn[read_number,N_crop:-N_crop,:]) \n",
    "pcolor(indels_im, yticklabels=['INS','DEL'], xticklabels=reads_letters[read_number][N_crop:-N_crop], cmap='binary',figsize = (15,15))\n",
    "\n",
    "\n",
    "flags_im = np.transpose(flags_reads[read_number,N_crop:-N_crop,:])\n",
    "pcolor(flags_im, yticklabels=['0x2','0x8','0x10','0x20','0x100', '0x800'], xticklabels=reads_letters[read_number][N_crop:-N_crop], cmap='binary',figsize = (15,15))\n"
   ]
  },
  {
   "cell_type": "code",
   "execution_count": 21,
   "metadata": {},
   "outputs": [
    {
     "name": "stdout",
     "output_type": "stream",
     "text": [
      "Flag: 99\n",
      "\n",
      "Flag    1 (0x1  ): True\n",
      "Flag    2 (0x2  ): True\n",
      "Flag    4 (0x4  ): False\n",
      "Flag    8 (0x8  ): False\n",
      "Flag   16 (0x10 ): False\n",
      "Flag   32 (0x20 ): True\n",
      "Flag   64 (0x40 ): True\n",
      "Flag  128 (0x80 ): False\n",
      "Flag  256 (0x100): False\n",
      "Flag  512 (0x200): False\n",
      "Flag 1024 (0x400): False\n",
      "Flag 2048 (0x800): False\n"
     ]
    }
   ],
   "source": [
    "#print values of all flags\n",
    "all_reads_flags = [flag for _,flag,_ in all_reads.values()]\n",
    "print(f'Flag: {all_reads_flags[read_number]}\\n')\n",
    "for flag in map(lambda x: 2**x,range(12)):\n",
    "    print(f'Flag {flag:4d} ({hex(flag):5}): {all_reads_flags[read_number]&flag>0}')"
   ]
  },
  {
   "cell_type": "code",
   "execution_count": 22,
   "metadata": {},
   "outputs": [],
   "source": [
    "# How much memory takes one image?\n",
    "import pickle\n",
    "with open('test.img', 'wb') as f:\n",
    "    pickle.dump({'one_hot_ref':one_hot_ref.astype(np.bool), 'p_hot_reads':(p_hot_reads*10000).astype(np.ushort), 'indels_chn':indels_chn.astype(np.bool), 'flags_reads':flags_reads.astype(np.bool)},f)\n"
   ]
  },
  {
   "cell_type": "code",
   "execution_count": 23,
   "metadata": {},
   "outputs": [
    {
     "name": "stdout",
     "output_type": "stream",
     "text": [
      "-rw-r--r--. 1 sergey.vilov OG-ICB-User 124K May 10 09:13 test.img\n"
     ]
    }
   ],
   "source": [
    "!ls -alh test.img"
   ]
  }
 ],
 "metadata": {
  "kernelspec": {
   "display_name": "Python 3",
   "language": "python",
   "name": "python3"
  },
  "language_info": {
   "codemirror_mode": {
    "name": "ipython",
    "version": 3
   },
   "file_extension": ".py",
   "mimetype": "text/x-python",
   "name": "python",
   "nbconvert_exporter": "python",
   "pygments_lexer": "ipython3",
   "version": "3.6.13"
  }
 },
 "nbformat": 4,
 "nbformat_minor": 4
}

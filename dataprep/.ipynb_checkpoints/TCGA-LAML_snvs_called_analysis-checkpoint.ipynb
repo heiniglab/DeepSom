{
 "cells": [
  {
   "cell_type": "markdown",
   "metadata": {},
   "source": [
    "# Germline calls\n",
    "\n",
    "After calling germline variants, we obtain a vcf file. Here, we schall analyse this file to undestand:\n",
    "\n",
    "<ol>\n",
    "<li>Do we have any invalid records ?</li>\n",
    "<li>What is the read depth distribution ?</li>\n",
    "<li>What is the variant allele fraction distribution ?</li>\n",
    "<li>How many sample have the same variant ?</li>\n",
    "<li>How many variants are in total ? How many are heterozygous ? How many are homozygous ?</li>\n",
    "<li>What is the fraction of variants that are also in dbSNP database ?</li>\n",
    "\n",
    "</ol>"
   ]
  },
  {
   "cell_type": "code",
   "execution_count": 1,
   "metadata": {},
   "outputs": [],
   "source": [
    "import numpy as np\n",
    "import pysam\n",
    "import matplotlib.pyplot as plt\n",
    "%matplotlib inline"
   ]
  },
  {
   "cell_type": "code",
   "execution_count": 2,
   "metadata": {},
   "outputs": [],
   "source": [
    "mutation_type = 'snvs' # 'snvs' or 'indels'\n",
    "germline_vcf = '/storage/groups/epigenereg01/workspace/projects/vale/TCGA-LAML_calling/dna-seq-gatk-variant-calling-TCGA-LAML/filtered/thr_90_0/all.snvs.recalibrated.vcf.gz'\n",
    "#mutation_type = 'indels' # 'snvs' or 'indels'\n",
    "#germline_vcf = '/storage/groups/epigenereg01/workspace/projects/vale/TCGA-LAML_calling/dna-seq-gatk-variant-calling-TCGA-LAML/filtered/thr_90_0/all.indels.recalibrated.vcf.gz'"
   ]
  },
  {
   "cell_type": "code",
   "execution_count": 3,
   "metadata": {},
   "outputs": [],
   "source": [
    "def is_invalid_snp_record(rec, AD, DP, verbose = True):\n",
    "    \n",
    "#invalid record:\n",
    "#ref or alt allele not in ['A', 'C', 'T', 'G']\n",
    "#allele depth (AD) field has more than 2 values (i.e. not a bialleic variant)\n",
    "#read depth (DP) is somehow 0\n",
    "    \n",
    "    def raise_warning(msg, verbose, rec):\n",
    "        if verbose: \n",
    "            print(\"\\n \\x1b[31m{}\\x1b[0m\".format(msg))\n",
    "            print(\"\\x1b[34m{}\\x1b[0m\".format(rec))\n",
    "        \n",
    "    ref = rec.ref\n",
    "    alt = rec.alts[0]\n",
    "    \n",
    "    if not ref in ['A', 'C', 'T', 'G']:\n",
    "        raise_warning('Warning: Wrong letter in ref allele', verbose, rec)\n",
    "        return 1\n",
    "        \n",
    "    if not alt in ['A', 'C', 'T', 'G']:\n",
    "        raise_warning('Warning: Wrong letter in alt allele', verbose, rec)  \n",
    "        return 2\n",
    "        \n",
    "    if len(AD)!=2:\n",
    "        raise_warning('Warning: Not a bialleic variant', verbose, rec)  \n",
    "        return 3\n",
    "        \n",
    "    if DP<=0:\n",
    "        raise_warning('Warning: Wrong read depth', verbose, rec)  \n",
    "        return 4\n",
    "    \n",
    "    return 0\n",
    "\n",
    "def is_invalid_indel_record(ref, alts, verbose=True):\n",
    "    \n",
    "#invalid record:\n",
    "#ref or alt allele not in ['A', 'C', 'T', 'G']\n",
    "#Not a bialleic variant\n",
    "    \n",
    "    def raise_warning(msg, verbose):\n",
    "        if verbose: \n",
    "            print(\"\\n \\x1b[31m{}\\x1b[0m\".format(msg))\n",
    "            #print(\"\\x1b[34m{}\\x1b[0m\".format(rec))\n",
    "    \n",
    "    if any([False if x in ['A', 'C', 'T', 'G', '-'] else True for x in ref]):\n",
    "        raise_warning(f'Warning: wrong letter in ref allele: {ref}', verbose)\n",
    "        return 1\n",
    "        \n",
    "    if any([False if x in ['A', 'C', 'T', 'G', '-'] else True for x in alts[0]]):\n",
    "        raise_warning(f'Warning: wrong letter in alt allele: {alts[0]}', verbose)  \n",
    "        return 2\n",
    "        \n",
    "    if len(alts)!=1:\n",
    "        raise_warning(f'Warning: not a bialleic variant: {alts[0]}', verbose)  \n",
    "        return 3\n",
    "        \n",
    "    #if DP<=0:\n",
    "    #    raise_warning('Warning: wrong read depth', verbose)  \n",
    "    #    return 4\n",
    "    \n",
    "    return 0"
   ]
  },
  {
   "cell_type": "code",
   "execution_count": 4,
   "metadata": {},
   "outputs": [],
   "source": [
    "def get_stats(vcf_name):\n",
    "    \n",
    "    vcf_in = pysam.VariantFile(vcf_name)\n",
    "    all_samples=list(vcf_in.header.samples)\n",
    "    variants_iterator=enumerate(iter(vcf_in.fetch()))\n",
    "\n",
    "    all_stats = list()\n",
    "    \n",
    "    variants_per_sample = dict()\n",
    "\n",
    "    #loop over all records, say which are invalid and collect statistics\n",
    "\n",
    "    for row_idx, rec in variants_iterator:\n",
    "        \n",
    "            bam_sample_names = [s for s in all_samples if rec.samples[s]['GT']!=(None,None)]\n",
    "        \n",
    "            samples_with_variant = len(bam_sample_names) #number of samples that have this variant\n",
    "            \n",
    "            if 'DP' in rec.info.keys():\n",
    "                DP = rec.info['DP']/samples_with_variant #general DP per sample, as in BAM file\n",
    "            else:\n",
    "                continue\n",
    "                \n",
    "            for s in bam_sample_names:\n",
    "                \n",
    "                \n",
    "                #https://gatk.broadinstitute.org/hc/en-us/articles/360035532252-Allele-Depth-AD-is-lower-than-expected\n",
    "                DP_inf = rec.samples[s]['DP'] #DP that includes only informative reads\n",
    "                \n",
    "                AD = rec.samples[s]['AD']\n",
    "                \n",
    "                if ((mutation_type=='indels' and not is_invalid_indel_record(rec.ref, rec.alts)) or \n",
    "                    (mutation_type=='snvs'  and not is_invalid_snp_record(rec, AD, DP_inf))):\n",
    "                    \n",
    "                    if rec.id: #if record is present in dbsnp database\n",
    "                        in_dbsnp = 1\n",
    "                    else:\n",
    "                        in_dbsnp = 0\n",
    "                        \n",
    "                    VAF = AD[1]/DP_inf #variant allele fraction\n",
    "                    \n",
    "                    all_stats.append((DP,DP_inf,VAF,in_dbsnp,samples_with_variant))\n",
    "                    \n",
    "                    if not s in variants_per_sample.keys():\n",
    "                        variants_per_sample[s] = 1\n",
    "                    else:\n",
    "                        variants_per_sample[s] += 1\n",
    "                    \n",
    "\n",
    "            if (row_idx+1)%1e5==0:\n",
    "                print(\"\\x1b[32m{:7d} lines processed \\x1b[0m\".format(row_idx+1))\n",
    "                \n",
    "    print(\"\\x1b[32m{:7d} lines processed \\x1b[0m\".format(row_idx+1))\n",
    "    return all_stats, variants_per_sample\n"
   ]
  },
  {
   "cell_type": "code",
   "execution_count": 5,
   "metadata": {},
   "outputs": [
    {
     "name": "stdout",
     "output_type": "stream",
     "text": [
      "\u001b[32m 100000 lines processed \u001b[0m\n",
      "\u001b[32m 200000 lines processed \u001b[0m\n",
      "\u001b[32m 300000 lines processed \u001b[0m\n",
      "\u001b[32m 400000 lines processed \u001b[0m\n",
      "\u001b[32m 500000 lines processed \u001b[0m\n",
      "\u001b[32m 600000 lines processed \u001b[0m\n",
      "\u001b[32m 700000 lines processed \u001b[0m\n",
      "\u001b[32m 800000 lines processed \u001b[0m\n",
      "\u001b[32m 900000 lines processed \u001b[0m\n",
      "\u001b[32m1000000 lines processed \u001b[0m\n",
      "\u001b[32m1100000 lines processed \u001b[0m\n",
      "\u001b[32m1200000 lines processed \u001b[0m\n",
      "\u001b[32m1300000 lines processed \u001b[0m\n",
      "\u001b[32m1400000 lines processed \u001b[0m\n",
      "\u001b[32m1500000 lines processed \u001b[0m\n",
      "\u001b[32m1600000 lines processed \u001b[0m\n",
      "\u001b[32m1700000 lines processed \u001b[0m\n",
      "\u001b[32m1800000 lines processed \u001b[0m\n",
      "\u001b[32m1900000 lines processed \u001b[0m\n",
      "\u001b[32m2000000 lines processed \u001b[0m\n",
      "\u001b[32m2100000 lines processed \u001b[0m\n",
      "\u001b[32m2200000 lines processed \u001b[0m\n",
      "\u001b[32m2300000 lines processed \u001b[0m\n",
      "\u001b[32m2400000 lines processed \u001b[0m\n",
      "\u001b[32m2500000 lines processed \u001b[0m\n",
      "\u001b[32m2600000 lines processed \u001b[0m\n",
      "\u001b[32m2700000 lines processed \u001b[0m\n",
      "\u001b[32m2800000 lines processed \u001b[0m\n",
      "\u001b[32m2900000 lines processed \u001b[0m\n",
      "\u001b[32m3000000 lines processed \u001b[0m\n",
      "\u001b[32m3100000 lines processed \u001b[0m\n",
      "\u001b[32m3200000 lines processed \u001b[0m\n",
      "\u001b[32m3300000 lines processed \u001b[0m\n",
      "\u001b[32m3400000 lines processed \u001b[0m\n",
      "\u001b[32m3500000 lines processed \u001b[0m\n",
      "\n",
      " \u001b[31mWarning: Wrong read depth\u001b[0m\n",
      "\u001b[34m18\t74638776\t.\tG\tA\t1359.06\tPASS\tAC=4;AF=1;AN=4;DP=68;ExcessHet=3.0103;FS=0;MLEAC=2;MLEAF=1;MQ=47.42;POSITIVE_TRAIN_SITE;QD=0.91;SOR=0.693;VQSLOD=4.82;culprit=FS\tGT:AD:DP:GQ:PL\t./.:.:.:.:.\t./.:.:.:.:.\t./.:.:.:.:.\t./.:.:.:.:.\t./.:.:.:.:.\t./.:.:.:.:.\t./.:.:.:.:.\t./.:.:.:.:.\t1/1:0,0:0:19:44,19,0\t./.:.:.:.:.\t./.:.:.:.:.\t./.:.:.:.:.\t./.:.:.:.:.\t./.:.:.:.:.\t./.:.:.:.:.\t./.:.:.:.:.\t./.:.:.:.:.\t./.:.:.:.:.\t./.:.:.:.:.\t./.:.:.:.:.\t./.:.:.:.:.\t./.:.:.:.:.\t./.:.:.:.:.\t1/1:0,31:31:93:1373,93,0\t./.:.:.:.:.\t./.:.:.:.:.\t./.:.:.:.:.\t./.:.:.:.:.\t./.:.:.:.:.\t./.:.:.:.:.\t./.:.:.:.:.\t./.:.:.:.:.\t./.:.:.:.:.\t./.:.:.:.:.\t./.:.:.:.:.\t./.:.:.:.:.\t./.:.:.:.:.\n",
      "\u001b[0m\n",
      "\u001b[32m3600000 lines processed \u001b[0m\n",
      "\u001b[32m3700000 lines processed \u001b[0m\n",
      "\u001b[32m3800000 lines processed \u001b[0m\n",
      "\u001b[32m3900000 lines processed \u001b[0m\n",
      "\u001b[32m3972201 lines processed \u001b[0m\n"
     ]
    }
   ],
   "source": [
    "all_stats,variants_per_sample = get_stats(germline_vcf)\n",
    "all_DP_GL, all_DP_inf_GL, all_VAF_GL, in_dbsnp_GL, samples_with_variant_GL = zip(*all_stats)"
   ]
  },
  {
   "cell_type": "code",
   "execution_count": 6,
   "metadata": {},
   "outputs": [
    {
     "name": "stderr",
     "output_type": "stream",
     "text": [
      "/home/icb/sergey.vilov/miniconda3/envs/vale/lib/python3.6/site-packages/ipykernel_launcher.py:6: UserWarning: FixedFormatter should only be used together with FixedLocator\n",
      "  \n"
     ]
    },
    {
     "data": {
      "text/plain": [
       "Text(0, 0.5, '# of variants')"
      ]
     },
     "execution_count": 6,
     "metadata": {},
     "output_type": "execute_result"
    },
    {
     "data": {
      "image/png": "[encoded data removed]",
      "text/plain": [
       "<Figure size 432x288 with 1 Axes>"
      ]
     },
     "metadata": {
      "needs_background": "light"
     },
     "output_type": "display_data"
    }
   ],
   "source": [
    "#Let's first check that we don't have strange samples with extremly low or extremely high number of varinats:\n",
    "\n",
    "samples_per_variant = [variants_per_sample[s] for s in variants_per_sample.keys()]\n",
    "plt.bar(range(len(samples_per_variant)),samples_per_variant, width=0.5)\n",
    "ax=plt.gca()\n",
    "ax.set_xticklabels(variants_per_sample.keys(), rotation='vertical')\n",
    "ax.set_ylabel('# of variants')"
   ]
  },
  {
   "cell_type": "code",
   "execution_count": 7,
   "metadata": {},
   "outputs": [
    {
     "name": "stdout",
     "output_type": "stream",
     "text": [
      "Average read depth: 29\n",
      "Median read depth: 29\n"
     ]
    },
    {
     "data": {
      "image/png": "[encoded data removed]",
      "text/plain": [
       "<Figure size 432x288 with 1 Axes>"
      ]
     },
     "metadata": {
      "needs_background": "light"
     },
     "output_type": "display_data"
    }
   ],
   "source": [
    "#Read Depth (as in BAM file) distribution\n",
    "\n",
    "DP_hist, bin_edges = np.histogram(all_DP_GL, bins=50, range=(1.,100.))\n",
    "bin_centers = [(bin_edges[i]+bin_edges[i-1])/2. for i in range(1,len(bin_edges))]\n",
    "\n",
    "plt.bar(bin_centers,DP_hist, width=bin_centers[1]-bin_centers[0])\n",
    "ax=plt.gca()\n",
    "ax.set_xlabel('Read Depth')\n",
    "ax.set_ylabel('# of variants')\n",
    "print(f'Average read depth: {np.mean(all_DP_GL):.0f}')\n",
    "print(f'Median read depth: {np.median(all_DP_GL):.0f}')"
   ]
  },
  {
   "cell_type": "code",
   "execution_count": 8,
   "metadata": {},
   "outputs": [
    {
     "name": "stdout",
     "output_type": "stream",
     "text": [
      "Average read depth: 28\n",
      "Median read depth: 27\n"
     ]
    },
    {
     "data": {
      "image/png": "[encoded data removed]",
      "text/plain": [
       "<Figure size 432x288 with 1 Axes>"
      ]
     },
     "metadata": {
      "needs_background": "light"
     },
     "output_type": "display_data"
    }
   ],
   "source": [
    "#Read Depth (only informative reads) distribution\n",
    "\n",
    "DP_hist, bin_edges = np.histogram(all_DP_inf_GL, bins=50, range=(1.,100.))\n",
    "bin_centers = [(bin_edges[i]+bin_edges[i-1])/2. for i in range(1,len(bin_edges))]\n",
    "\n",
    "plt.bar(bin_centers,DP_hist, width=bin_centers[1]-bin_centers[0])\n",
    "ax=plt.gca()\n",
    "ax.set_xlabel('Read Depth')\n",
    "ax.set_ylabel('# of variants')\n",
    "print(f'Average read depth: {np.mean(all_DP_inf_GL):.0f}')\n",
    "print(f'Median read depth: {np.median(all_DP_inf_GL):.0f}')"
   ]
  },
  {
   "cell_type": "code",
   "execution_count": 9,
   "metadata": {},
   "outputs": [
    {
     "name": "stdout",
     "output_type": "stream",
     "text": [
      "# of variants: 6,575,761\n",
      "# of homozygous variants: 2,970,074\n",
      "# of heterozygous variants: 3,605,687\n"
     ]
    },
    {
     "data": {
      "image/png": "[encoded data removed]",
      "text/plain": [
       "<Figure size 432x288 with 1 Axes>"
      ]
     },
     "metadata": {
      "needs_background": "light"
     },
     "output_type": "display_data"
    }
   ],
   "source": [
    "#Variant Allele Fraction distribution\n",
    "min_DP = 0 #consider only variants with DP above this value\n",
    "\n",
    "all_VAF_GL = np.array(all_VAF_GL)\n",
    "all_DP_inf_GL = np.array(all_DP_inf_GL)\n",
    "\n",
    "VAF_hist, bin_edges = np.histogram(all_VAF_GL[all_DP_inf_GL>=min_DP], bins=20, range=(0.,1.))\n",
    "bin_centers = np.array([(bin_edges[i]+bin_edges[i-1])/2. for i in range(1,len(bin_edges))])\n",
    "bin_centers = bin_centers*100\n",
    "\n",
    "plt.bar(bin_centers,VAF_hist, width=bin_centers[1]-bin_centers[0])\n",
    "ax=plt.gca()\n",
    "ax.set_xlabel('VAF, %')\n",
    "ax.set_ylabel('# of variants')\n",
    "\n",
    "print(f'# of variants: {np.sum(VAF_hist):,}')\n",
    "print(f'# of homozygous variants: {np.sum(VAF_hist[bin_centers>=75]):,}')\n",
    "print(f'# of heterozygous variants: {np.sum(VAF_hist[bin_centers<75]):,}')\n",
    "\n",
    "\n",
    "#print(f'VAF std for heterozygous variants: {np.std(all_VAF_GL_f[all_VAF_GL_f<75])*100:.0f}')"
   ]
  },
  {
   "cell_type": "code",
   "execution_count": 10,
   "metadata": {},
   "outputs": [
    {
     "name": "stdout",
     "output_type": "stream",
     "text": [
      "Mean number of samples per vcf record: 4.2\n",
      "Median number of samples per vcf record: 2.0\n"
     ]
    }
   ],
   "source": [
    "print(f'Mean number of samples per vcf record: {np.mean(samples_with_variant_GL):.1f}')\n",
    "print(f'Median number of samples per vcf record: {np.median(samples_with_variant_GL):.1f}')"
   ]
  },
  {
   "cell_type": "code",
   "execution_count": 11,
   "metadata": {},
   "outputs": [
    {
     "name": "stdout",
     "output_type": "stream",
     "text": [
      "Fraction of variants that are also in dbsnp: 0.96\n"
     ]
    }
   ],
   "source": [
    "print(f'Fraction of variants that are also in dbsnp: {np.mean(in_dbsnp_GL):.2f}')"
   ]
  },
  {
   "cell_type": "markdown",
   "metadata": {},
   "source": [
    "# True negatives calls\n",
    "\n",
    "Let's answer to similar questions for true negatives\n",
    "\n",
    "<ol>\n",
    "<li>Do we have any invalid records ?</li>\n",
    "<li>What is the read depth distribution ?</li>\n",
    "<li>What is the variant allele fraction distribution ?</li>\n",
    "<li>How many variants are in total ? How many are heterozygous ? How many are homozygous ?</li>\n",
    "\n",
    "</ol>"
   ]
  },
  {
   "cell_type": "code",
   "execution_count": 12,
   "metadata": {},
   "outputs": [],
   "source": [
    "true_negatives_vcf = '/storage/groups/epigenereg01/workspace/projects/vale/TCGA-LAML_calling/true_negatives/true_negatives_snvs.vcf'"
   ]
  },
  {
   "cell_type": "code",
   "execution_count": 13,
   "metadata": {
    "scrolled": true,
    "tags": []
   },
   "outputs": [
    {
     "name": "stdout",
     "output_type": "stream",
     "text": [
      "\n",
      " \u001b[31mWarning: Wrong read depth\u001b[0m\n",
      "\u001b[34m1\t59743003\t.\tT\tA\t.\t.\tAS_SB_TABLE=0,0|0,0;DP=19;ECNT=2;MBQ=0,0;MFRL=0,0;MMQ=60,60;MPOS=50;POPAF=7.3;TLOD=4.26\tGT:AD:AF:DP:F1R2:F2R1:PGT:PID:PS:SB\t./.:.:.:.:.:.:.:.:.:.\t./.:.:.:.:.:.:.:.:.:.\t./.:.:.:.:.:.:.:.:.:.\t./.:.:.:.:.:.:.:.:.:.\t./.:.:.:.:.:.:.:.:.:.\t./.:.:.:.:.:.:.:.:.:.\t./.:.:.:.:.:.:.:.:.:.\t./.:.:.:.:.:.:.:.:.:.\t./.:.:.:.:.:.:.:.:.:.\t./.:.:.:.:.:.:.:.:.:.\t./.:.:.:.:.:.:.:.:.:.\t./.:.:.:.:.:.:.:.:.:.\t./.:.:.:.:.:.:.:.:.:.\t./.:.:.:.:.:.:.:.:.:.\t./.:.:.:.:.:.:.:.:.:.\t./.:.:.:.:.:.:.:.:.:.\t./.:.:.:.:.:.:.:.:.:.\t./.:.:.:.:.:.:.:.:.:.\t./.:.:.:.:.:.:.:.:.:.\t./.:.:.:.:.:.:.:.:.:.\t./.:.:.:.:.:.:.:.:.:.\t./.:.:.:.:.:.:.:.:.:.\t./.:.:.:.:.:.:.:.:.:.\t./.:.:.:.:.:.:.:.:.:.\t./.:.:.:.:.:.:.:.:.:.\t./.:.:.:.:.:.:.:.:.:.\t./.:.:.:.:.:.:.:.:.:.\t0|1:0,0:0.844:0:0,0:0,0:0|1:59743003_T_A:59743003:0,0,0,0\t./.:.:.:.:.:.:.:.:.:.\t./.:.:.:.:.:.:.:.:.:.\t./.:.:.:.:.:.:.:.:.:.\t./.:.:.:.:.:.:.:.:.:.\t./.:.:.:.:.:.:.:.:.:.\t./.:.:.:.:.:.:.:.:.:.\t./.:.:.:.:.:.:.:.:.:.\t./.:.:.:.:.:.:.:.:.:.\t./.:.:.:.:.:.:.:.:.:.\n",
      "\u001b[0m\n",
      "\n",
      " \u001b[31mWarning: Wrong read depth\u001b[0m\n",
      "\u001b[34m1\t93286838\t.\tC\tT\t.\t.\tAS_SB_TABLE=0,0|0,0;DP=9;ECNT=7;MBQ=0,0;MFRL=0,0;MMQ=60,60;MPOS=50;POPAF=7.3;TLOD=5.67\tGT:AD:AF:DP:F1R2:F2R1:PGT:PID:PS:SB\t./.:.:.:.:.:.:.:.:.:.\t./.:.:.:.:.:.:.:.:.:.\t./.:.:.:.:.:.:.:.:.:.\t./.:.:.:.:.:.:.:.:.:.\t./.:.:.:.:.:.:.:.:.:.\t./.:.:.:.:.:.:.:.:.:.\t./.:.:.:.:.:.:.:.:.:.\t./.:.:.:.:.:.:.:.:.:.\t./.:.:.:.:.:.:.:.:.:.\t./.:.:.:.:.:.:.:.:.:.\t./.:.:.:.:.:.:.:.:.:.\t./.:.:.:.:.:.:.:.:.:.\t0|1:0,0:0.842:0:0,0:0,0:0|1:93286780_C_CGT:93286780:0,0,0,0\t./.:.:.:.:.:.:.:.:.:.\t./.:.:.:.:.:.:.:.:.:.\t./.:.:.:.:.:.:.:.:.:.\t./.:.:.:.:.:.:.:.:.:.\t./.:.:.:.:.:.:.:.:.:.\t./.:.:.:.:.:.:.:.:.:.\t./.:.:.:.:.:.:.:.:.:.\t./.:.:.:.:.:.:.:.:.:.\t./.:.:.:.:.:.:.:.:.:.\t./.:.:.:.:.:.:.:.:.:.\t./.:.:.:.:.:.:.:.:.:.\t./.:.:.:.:.:.:.:.:.:.\t./.:.:.:.:.:.:.:.:.:.\t./.:.:.:.:.:.:.:.:.:.\t./.:.:.:.:.:.:.:.:.:.\t./.:.:.:.:.:.:.:.:.:.\t./.:.:.:.:.:.:.:.:.:.\t./.:.:.:.:.:.:.:.:.:.\t./.:.:.:.:.:.:.:.:.:.\t./.:.:.:.:.:.:.:.:.:.\t./.:.:.:.:.:.:.:.:.:.\t./.:.:.:.:.:.:.:.:.:.\t./.:.:.:.:.:.:.:.:.:.\t./.:.:.:.:.:.:.:.:.:.\n",
      "\u001b[0m\n",
      "\u001b[32m 100000 lines processed \u001b[0m\n",
      "\n",
      " \u001b[31mWarning: Wrong read depth\u001b[0m\n",
      "\u001b[34m1\t245826050\t.\tA\tG\t.\t.\tAS_SB_TABLE=0,0|0,0;DP=13;ECNT=24;MBQ=0,0;MFRL=0,0;MMQ=60,60;MPOS=50;POPAF=7.3;TLOD=13.28\tGT:AD:AF:DP:F1R2:F2R1:PGT:PID:PS:SB\t./.:.:.:.:.:.:.:.:.:.\t./.:.:.:.:.:.:.:.:.:.\t./.:.:.:.:.:.:.:.:.:.\t./.:.:.:.:.:.:.:.:.:.\t./.:.:.:.:.:.:.:.:.:.\t./.:.:.:.:.:.:.:.:.:.\t./.:.:.:.:.:.:.:.:.:.\t./.:.:.:.:.:.:.:.:.:.\t./.:.:.:.:.:.:.:.:.:.\t./.:.:.:.:.:.:.:.:.:.\t./.:.:.:.:.:.:.:.:.:.\t./.:.:.:.:.:.:.:.:.:.\t./.:.:.:.:.:.:.:.:.:.\t./.:.:.:.:.:.:.:.:.:.\t./.:.:.:.:.:.:.:.:.:.\t./.:.:.:.:.:.:.:.:.:.\t./.:.:.:.:.:.:.:.:.:.\t0|1:0,0:0.887:0:0,0:0,0:0|1:245825871_C_CA:245825871:0,0,0,0\t./.:.:.:.:.:.:.:.:.:.\t./.:.:.:.:.:.:.:.:.:.\t./.:.:.:.:.:.:.:.:.:.\t./.:.:.:.:.:.:.:.:.:.\t./.:.:.:.:.:.:.:.:.:.\t./.:.:.:.:.:.:.:.:.:.\t./.:.:.:.:.:.:.:.:.:.\t./.:.:.:.:.:.:.:.:.:.\t./.:.:.:.:.:.:.:.:.:.\t./.:.:.:.:.:.:.:.:.:.\t./.:.:.:.:.:.:.:.:.:.\t./.:.:.:.:.:.:.:.:.:.\t./.:.:.:.:.:.:.:.:.:.\t./.:.:.:.:.:.:.:.:.:.\t./.:.:.:.:.:.:.:.:.:.\t./.:.:.:.:.:.:.:.:.:.\t./.:.:.:.:.:.:.:.:.:.\t./.:.:.:.:.:.:.:.:.:.\t./.:.:.:.:.:.:.:.:.:.\n",
      "\u001b[0m\n",
      "\n",
      " \u001b[31mWarning: Wrong read depth\u001b[0m\n",
      "\u001b[34m1\t247597334\t.\tT\tG\t.\t.\tAS_SB_TABLE=2,4|0,0;DP=47;ECNT=20;MBQ=0,0;MFRL=0,0;MMQ=60,60;MPOS=50;POPAF=7.3;TLOD=6.74\tGT:AD:AF:DP:F1R2:F2R1:PGT:PID:PS:SB\t./.:.:.:.:.:.:.:.:.:.\t./.:.:.:.:.:.:.:.:.:.\t./.:.:.:.:.:.:.:.:.:.\t./.:.:.:.:.:.:.:.:.:.\t0|1:0,0:0.603:0:0,0:0,0:0|1:247597216_C_G:247597216:0,0,0,0\t./.:.:.:.:.:.:.:.:.:.\t./.:.:.:.:.:.:.:.:.:.\t./.:.:.:.:.:.:.:.:.:.\t./.:.:.:.:.:.:.:.:.:.\t./.:.:.:.:.:.:.:.:.:.\t./.:.:.:.:.:.:.:.:.:.\t./.:.:.:.:.:.:.:.:.:.\t./.:.:.:.:.:.:.:.:.:.\t./.:.:.:.:.:.:.:.:.:.\t./.:.:.:.:.:.:.:.:.:.\t0|1:6,0:0.348:6:0,0:4,0:0|1:247597216_C_G:247597216:2,4,0,0\t./.:.:.:.:.:.:.:.:.:.\t./.:.:.:.:.:.:.:.:.:.\t./.:.:.:.:.:.:.:.:.:.\t./.:.:.:.:.:.:.:.:.:.\t./.:.:.:.:.:.:.:.:.:.\t./.:.:.:.:.:.:.:.:.:.\t./.:.:.:.:.:.:.:.:.:.\t./.:.:.:.:.:.:.:.:.:.\t./.:.:.:.:.:.:.:.:.:.\t./.:.:.:.:.:.:.:.:.:.\t./.:.:.:.:.:.:.:.:.:.\t./.:.:.:.:.:.:.:.:.:.\t./.:.:.:.:.:.:.:.:.:.\t./.:.:.:.:.:.:.:.:.:.\t./.:.:.:.:.:.:.:.:.:.\t./.:.:.:.:.:.:.:.:.:.\t./.:.:.:.:.:.:.:.:.:.\t./.:.:.:.:.:.:.:.:.:.\t./.:.:.:.:.:.:.:.:.:.\t./.:.:.:.:.:.:.:.:.:.\t./.:.:.:.:.:.:.:.:.:.\n",
      "\u001b[0m\n",
      "\n",
      " \u001b[31mWarning: Wrong read depth\u001b[0m\n",
      "\u001b[34m1\t247597337\t.\tT\tC\t.\t.\tAS_SB_TABLE=0,4|0,0;DP=48;ECNT=20;MBQ=0,0;MFRL=0,0;MMQ=60,60;MPOS=50;POPAF=7.3;TLOD=6.89\tGT:AD:AF:DP:F1R2:F2R1:PGT:PID:PS:SB\t./.:.:.:.:.:.:.:.:.:.\t./.:.:.:.:.:.:.:.:.:.\t./.:.:.:.:.:.:.:.:.:.\t./.:.:.:.:.:.:.:.:.:.\t0|1:0,0:0.626:0:0,0:0,0:0|1:247597216_C_G:247597216:0,0,0,0\t./.:.:.:.:.:.:.:.:.:.\t./.:.:.:.:.:.:.:.:.:.\t./.:.:.:.:.:.:.:.:.:.\t./.:.:.:.:.:.:.:.:.:.\t./.:.:.:.:.:.:.:.:.:.\t./.:.:.:.:.:.:.:.:.:.\t./.:.:.:.:.:.:.:.:.:.\t./.:.:.:.:.:.:.:.:.:.\t./.:.:.:.:.:.:.:.:.:.\t./.:.:.:.:.:.:.:.:.:.\t0|1:4,0:0.37:4:0,0:3,0:0|1:247597216_C_G:247597216:0,4,0,0\t./.:.:.:.:.:.:.:.:.:.\t./.:.:.:.:.:.:.:.:.:.\t./.:.:.:.:.:.:.:.:.:.\t./.:.:.:.:.:.:.:.:.:.\t./.:.:.:.:.:.:.:.:.:.\t./.:.:.:.:.:.:.:.:.:.\t./.:.:.:.:.:.:.:.:.:.\t./.:.:.:.:.:.:.:.:.:.\t./.:.:.:.:.:.:.:.:.:.\t./.:.:.:.:.:.:.:.:.:.\t./.:.:.:.:.:.:.:.:.:.\t./.:.:.:.:.:.:.:.:.:.\t./.:.:.:.:.:.:.:.:.:.\t./.:.:.:.:.:.:.:.:.:.\t./.:.:.:.:.:.:.:.:.:.\t./.:.:.:.:.:.:.:.:.:.\t./.:.:.:.:.:.:.:.:.:.\t./.:.:.:.:.:.:.:.:.:.\t./.:.:.:.:.:.:.:.:.:.\t./.:.:.:.:.:.:.:.:.:.\t./.:.:.:.:.:.:.:.:.:.\n",
      "\u001b[0m\n",
      "\n",
      " \u001b[31mWarning: Wrong read depth\u001b[0m\n",
      "\u001b[34m1\t247597339\t.\tC\tT\t.\t.\tAS_SB_TABLE=0,3|0,0;DP=47;ECNT=20;MBQ=0,0;MFRL=0,0;MMQ=60,60;MPOS=50;POPAF=7.3;TLOD=6.95\tGT:AD:AF:DP:F1R2:F2R1:PGT:PID:PS:SB\t./.:.:.:.:.:.:.:.:.:.\t./.:.:.:.:.:.:.:.:.:.\t./.:.:.:.:.:.:.:.:.:.\t./.:.:.:.:.:.:.:.:.:.\t0|1:0,0:0.635:0:0,0:0,0:0|1:247597216_C_G:247597216:0,0,0,0\t./.:.:.:.:.:.:.:.:.:.\t./.:.:.:.:.:.:.:.:.:.\t./.:.:.:.:.:.:.:.:.:.\t./.:.:.:.:.:.:.:.:.:.\t./.:.:.:.:.:.:.:.:.:.\t./.:.:.:.:.:.:.:.:.:.\t./.:.:.:.:.:.:.:.:.:.\t./.:.:.:.:.:.:.:.:.:.\t./.:.:.:.:.:.:.:.:.:.\t./.:.:.:.:.:.:.:.:.:.\t0|1:3,0:0.42:3:0,0:3,0:0|1:247597216_C_G:247597216:0,3,0,0\t./.:.:.:.:.:.:.:.:.:.\t./.:.:.:.:.:.:.:.:.:.\t./.:.:.:.:.:.:.:.:.:.\t./.:.:.:.:.:.:.:.:.:.\t./.:.:.:.:.:.:.:.:.:.\t./.:.:.:.:.:.:.:.:.:.\t./.:.:.:.:.:.:.:.:.:.\t./.:.:.:.:.:.:.:.:.:.\t./.:.:.:.:.:.:.:.:.:.\t./.:.:.:.:.:.:.:.:.:.\t./.:.:.:.:.:.:.:.:.:.\t./.:.:.:.:.:.:.:.:.:.\t./.:.:.:.:.:.:.:.:.:.\t./.:.:.:.:.:.:.:.:.:.\t./.:.:.:.:.:.:.:.:.:.\t./.:.:.:.:.:.:.:.:.:.\t./.:.:.:.:.:.:.:.:.:.\t./.:.:.:.:.:.:.:.:.:.\t./.:.:.:.:.:.:.:.:.:.\t./.:.:.:.:.:.:.:.:.:.\t./.:.:.:.:.:.:.:.:.:.\n",
      "\u001b[0m\n",
      "\u001b[32m 200000 lines processed \u001b[0m\n",
      "\n",
      " \u001b[31mWarning: Wrong read depth\u001b[0m\n",
      "\u001b[34m2\t68425524\t.\tT\tC\t.\t.\tAS_SB_TABLE=0,0|0,0;DP=31;ECNT=13;MBQ=0,0;MFRL=0,0;MMQ=60,60;MPOS=50;POPAF=7.3;TLOD=19.29\tGT:AD:AF:DP:F1R2:F2R1:PGT:PID:PS:SB\t./.:.:.:.:.:.:.:.:.:.\t./.:.:.:.:.:.:.:.:.:.\t./.:.:.:.:.:.:.:.:.:.\t./.:.:.:.:.:.:.:.:.:.\t./.:.:.:.:.:.:.:.:.:.\t./.:.:.:.:.:.:.:.:.:.\t./.:.:.:.:.:.:.:.:.:.\t./.:.:.:.:.:.:.:.:.:.\t./.:.:.:.:.:.:.:.:.:.\t./.:.:.:.:.:.:.:.:.:.\t./.:.:.:.:.:.:.:.:.:.\t./.:.:.:.:.:.:.:.:.:.\t./.:.:.:.:.:.:.:.:.:.\t./.:.:.:.:.:.:.:.:.:.\t./.:.:.:.:.:.:.:.:.:.\t0|1:0,0:0.746:0:0,0:0,0:0|1:68425372_CAT_C:68425372:0,0,0,0\t./.:.:.:.:.:.:.:.:.:.\t./.:.:.:.:.:.:.:.:.:.\t./.:.:.:.:.:.:.:.:.:.\t./.:.:.:.:.:.:.:.:.:.\t./.:.:.:.:.:.:.:.:.:.\t./.:.:.:.:.:.:.:.:.:.\t./.:.:.:.:.:.:.:.:.:.\t./.:.:.:.:.:.:.:.:.:.\t./.:.:.:.:.:.:.:.:.:.\t./.:.:.:.:.:.:.:.:.:.\t./.:.:.:.:.:.:.:.:.:.\t./.:.:.:.:.:.:.:.:.:.\t./.:.:.:.:.:.:.:.:.:.\t./.:.:.:.:.:.:.:.:.:.\t./.:.:.:.:.:.:.:.:.:.\t./.:.:.:.:.:.:.:.:.:.\t./.:.:.:.:.:.:.:.:.:.\t./.:.:.:.:.:.:.:.:.:.\t./.:.:.:.:.:.:.:.:.:.\t./.:.:.:.:.:.:.:.:.:.\t./.:.:.:.:.:.:.:.:.:.\n",
      "\u001b[0m\n",
      "\n",
      " \u001b[31mWarning: Wrong read depth\u001b[0m\n",
      "\u001b[34m2\t68425533\t.\tA\tG\t.\t.\tAS_SB_TABLE=0,0|0,0;DP=27;ECNT=13;MBQ=0,0;MFRL=0,0;MMQ=60,60;MPOS=50;POPAF=7.3;TLOD=19.47\tGT:AD:AF:DP:F1R2:F2R1:PGT:PID:PS:SB\t./.:.:.:.:.:.:.:.:.:.\t./.:.:.:.:.:.:.:.:.:.\t./.:.:.:.:.:.:.:.:.:.\t./.:.:.:.:.:.:.:.:.:.\t./.:.:.:.:.:.:.:.:.:.\t./.:.:.:.:.:.:.:.:.:.\t./.:.:.:.:.:.:.:.:.:.\t./.:.:.:.:.:.:.:.:.:.\t./.:.:.:.:.:.:.:.:.:.\t./.:.:.:.:.:.:.:.:.:.\t./.:.:.:.:.:.:.:.:.:.\t./.:.:.:.:.:.:.:.:.:.\t./.:.:.:.:.:.:.:.:.:.\t./.:.:.:.:.:.:.:.:.:.\t./.:.:.:.:.:.:.:.:.:.\t0|1:0,0:0.771:0:0,0:0,0:0|1:68425372_CAT_C:68425372:0,0,0,0\t./.:.:.:.:.:.:.:.:.:.\t./.:.:.:.:.:.:.:.:.:.\t./.:.:.:.:.:.:.:.:.:.\t./.:.:.:.:.:.:.:.:.:.\t./.:.:.:.:.:.:.:.:.:.\t./.:.:.:.:.:.:.:.:.:.\t./.:.:.:.:.:.:.:.:.:.\t./.:.:.:.:.:.:.:.:.:.\t./.:.:.:.:.:.:.:.:.:.\t./.:.:.:.:.:.:.:.:.:.\t./.:.:.:.:.:.:.:.:.:.\t./.:.:.:.:.:.:.:.:.:.\t./.:.:.:.:.:.:.:.:.:.\t./.:.:.:.:.:.:.:.:.:.\t./.:.:.:.:.:.:.:.:.:.\t./.:.:.:.:.:.:.:.:.:.\t./.:.:.:.:.:.:.:.:.:.\t./.:.:.:.:.:.:.:.:.:.\t./.:.:.:.:.:.:.:.:.:.\t./.:.:.:.:.:.:.:.:.:.\t./.:.:.:.:.:.:.:.:.:.\n",
      "\u001b[0m\n",
      "\n",
      " \u001b[31mWarning: Wrong read depth\u001b[0m\n",
      "\u001b[34m2\t68425547\t.\tG\tA\t.\t.\tAS_SB_TABLE=0,0|0,0;DP=31;ECNT=13;MBQ=0,0;MFRL=0,0;MMQ=60,60;MPOS=50;POPAF=7.3;TLOD=19.52\tGT:AD:AF:DP:F1R2:F2R1:PGT:PID:PS:SB\t./.:.:.:.:.:.:.:.:.:.\t./.:.:.:.:.:.:.:.:.:.\t./.:.:.:.:.:.:.:.:.:.\t./.:.:.:.:.:.:.:.:.:.\t./.:.:.:.:.:.:.:.:.:.\t./.:.:.:.:.:.:.:.:.:.\t./.:.:.:.:.:.:.:.:.:.\t./.:.:.:.:.:.:.:.:.:.\t./.:.:.:.:.:.:.:.:.:.\t./.:.:.:.:.:.:.:.:.:.\t./.:.:.:.:.:.:.:.:.:.\t./.:.:.:.:.:.:.:.:.:.\t./.:.:.:.:.:.:.:.:.:.\t./.:.:.:.:.:.:.:.:.:.\t./.:.:.:.:.:.:.:.:.:.\t0|1:0,0:0.779:0:0,0:0,0:0|1:68425372_CAT_C:68425372:0,0,0,0\t./.:.:.:.:.:.:.:.:.:.\t./.:.:.:.:.:.:.:.:.:.\t./.:.:.:.:.:.:.:.:.:.\t./.:.:.:.:.:.:.:.:.:.\t./.:.:.:.:.:.:.:.:.:.\t./.:.:.:.:.:.:.:.:.:.\t./.:.:.:.:.:.:.:.:.:.\t./.:.:.:.:.:.:.:.:.:.\t./.:.:.:.:.:.:.:.:.:.\t./.:.:.:.:.:.:.:.:.:.\t./.:.:.:.:.:.:.:.:.:.\t./.:.:.:.:.:.:.:.:.:.\t./.:.:.:.:.:.:.:.:.:.\t./.:.:.:.:.:.:.:.:.:.\t./.:.:.:.:.:.:.:.:.:.\t./.:.:.:.:.:.:.:.:.:.\t./.:.:.:.:.:.:.:.:.:.\t./.:.:.:.:.:.:.:.:.:.\t./.:.:.:.:.:.:.:.:.:.\t./.:.:.:.:.:.:.:.:.:.\t./.:.:.:.:.:.:.:.:.:.\n",
      "\u001b[0m\n",
      "\u001b[32m 300000 lines processed \u001b[0m\n",
      "\n",
      " \u001b[31mWarning: Wrong read depth\u001b[0m\n",
      "\u001b[34m3\t2719152\t.\tC\tA\t.\t.\tAS_SB_TABLE=0,0|0,0;DP=38;ECNT=5;MBQ=0,0;MFRL=0,0;MMQ=60,60;MPOS=50;POPAF=7.3;TLOD=22.18\tGT:AD:AF:DP:F1R2:F2R1:PGT:PID:PS:SB\t./.:.:.:.:.:.:.:.:.:.\t./.:.:.:.:.:.:.:.:.:.\t./.:.:.:.:.:.:.:.:.:.\t./.:.:.:.:.:.:.:.:.:.\t./.:.:.:.:.:.:.:.:.:.\t./.:.:.:.:.:.:.:.:.:.\t./.:.:.:.:.:.:.:.:.:.\t./.:.:.:.:.:.:.:.:.:.\t./.:.:.:.:.:.:.:.:.:.\t./.:.:.:.:.:.:.:.:.:.\t./.:.:.:.:.:.:.:.:.:.\t./.:.:.:.:.:.:.:.:.:.\t./.:.:.:.:.:.:.:.:.:.\t./.:.:.:.:.:.:.:.:.:.\t./.:.:.:.:.:.:.:.:.:.\t./.:.:.:.:.:.:.:.:.:.\t./.:.:.:.:.:.:.:.:.:.\t./.:.:.:.:.:.:.:.:.:.\t./.:.:.:.:.:.:.:.:.:.\t./.:.:.:.:.:.:.:.:.:.\t./.:.:.:.:.:.:.:.:.:.\t./.:.:.:.:.:.:.:.:.:.\t0|1:0,0:0.831:0:0,0:0,0:0|1:2719133_T_TAGAG:2719133:0,0,0,0\t./.:.:.:.:.:.:.:.:.:.\t./.:.:.:.:.:.:.:.:.:.\t./.:.:.:.:.:.:.:.:.:.\t./.:.:.:.:.:.:.:.:.:.\t./.:.:.:.:.:.:.:.:.:.\t./.:.:.:.:.:.:.:.:.:.\t./.:.:.:.:.:.:.:.:.:.\t./.:.:.:.:.:.:.:.:.:.\t./.:.:.:.:.:.:.:.:.:.\t./.:.:.:.:.:.:.:.:.:.\t./.:.:.:.:.:.:.:.:.:.\t./.:.:.:.:.:.:.:.:.:.\t./.:.:.:.:.:.:.:.:.:.\t./.:.:.:.:.:.:.:.:.:.\n",
      "\u001b[0m\n",
      "\n",
      " \u001b[31mWarning: Wrong read depth\u001b[0m\n",
      "\u001b[34m3\t36960013\t.\tA\tG\t.\t.\tAS_SB_TABLE=0,0|0,0;DP=9;ECNT=5;MBQ=0,0;MFRL=0,0;MMQ=60,60;MPOS=50;POPAF=7.3;TLOD=3.42\tGT:AD:AF:DP:F1R2:F2R1:SB\t./.:.:.:.:.:.:.\t./.:.:.:.:.:.:.\t./.:.:.:.:.:.:.\t./.:.:.:.:.:.:.\t./.:.:.:.:.:.:.\t./.:.:.:.:.:.:.\t./.:.:.:.:.:.:.\t./.:.:.:.:.:.:.\t./.:.:.:.:.:.:.\t./.:.:.:.:.:.:.\t./.:.:.:.:.:.:.\t./.:.:.:.:.:.:.\t./.:.:.:.:.:.:.\t./.:.:.:.:.:.:.\t./.:.:.:.:.:.:.\t./.:.:.:.:.:.:.\t./.:.:.:.:.:.:.\t./.:.:.:.:.:.:.\t./.:.:.:.:.:.:.\t./.:.:.:.:.:.:.\t./.:.:.:.:.:.:.\t./.:.:.:.:.:.:.\t./.:.:.:.:.:.:.\t./.:.:.:.:.:.:.\t./.:.:.:.:.:.:.\t./.:.:.:.:.:.:.\t./.:.:.:.:.:.:.\t./.:.:.:.:.:.:.\t./.:.:.:.:.:.:.\t./.:.:.:.:.:.:.\t0/1:0,0:0.432:0:0,0:0,0:0,0,0,0\t./.:.:.:.:.:.:.\t./.:.:.:.:.:.:.\t./.:.:.:.:.:.:.\t./.:.:.:.:.:.:.\t./.:.:.:.:.:.:.\t./.:.:.:.:.:.:.\n",
      "\u001b[0m\n",
      "\n",
      " \u001b[31mWarning: Wrong read depth\u001b[0m\n",
      "\u001b[34m3\t36960017\t.\tA\tG\t.\t.\tAS_SB_TABLE=0,0|0,0;DP=9;ECNT=5;MBQ=0,0;MFRL=0,0;MMQ=60,60;MPOS=50;POPAF=7.3;TLOD=3.44\tGT:AD:AF:DP:F1R2:F2R1:PGT:PID:PS:SB\t./.:.:.:.:.:.:.:.:.:.\t./.:.:.:.:.:.:.:.:.:.\t./.:.:.:.:.:.:.:.:.:.\t./.:.:.:.:.:.:.:.:.:.\t./.:.:.:.:.:.:.:.:.:.\t./.:.:.:.:.:.:.:.:.:.\t./.:.:.:.:.:.:.:.:.:.\t./.:.:.:.:.:.:.:.:.:.\t./.:.:.:.:.:.:.:.:.:.\t./.:.:.:.:.:.:.:.:.:.\t./.:.:.:.:.:.:.:.:.:.\t./.:.:.:.:.:.:.:.:.:.\t./.:.:.:.:.:.:.:.:.:.\t./.:.:.:.:.:.:.:.:.:.\t./.:.:.:.:.:.:.:.:.:.\t./.:.:.:.:.:.:.:.:.:.\t./.:.:.:.:.:.:.:.:.:.\t./.:.:.:.:.:.:.:.:.:.\t./.:.:.:.:.:.:.:.:.:.\t./.:.:.:.:.:.:.:.:.:.\t./.:.:.:.:.:.:.:.:.:.\t./.:.:.:.:.:.:.:.:.:.\t./.:.:.:.:.:.:.:.:.:.\t./.:.:.:.:.:.:.:.:.:.\t./.:.:.:.:.:.:.:.:.:.\t./.:.:.:.:.:.:.:.:.:.\t./.:.:.:.:.:.:.:.:.:.\t./.:.:.:.:.:.:.:.:.:.\t./.:.:.:.:.:.:.:.:.:.\t./.:.:.:.:.:.:.:.:.:.\t0|1:0,0:0.432:0:0,0:0,0:0|1:36960017_A_G:36960017:0,0,0,0\t./.:.:.:.:.:.:.:.:.:.\t./.:.:.:.:.:.:.:.:.:.\t./.:.:.:.:.:.:.:.:.:.\t./.:.:.:.:.:.:.:.:.:.\t./.:.:.:.:.:.:.:.:.:.\t./.:.:.:.:.:.:.:.:.:.\n",
      "\u001b[0m\n",
      "\n",
      " \u001b[31mWarning: Wrong read depth\u001b[0m\n",
      "\u001b[34m3\t36960021\t.\tA\tG\t.\t.\tAS_SB_TABLE=0,0|0,0;DP=10;ECNT=5;MBQ=0,0;MFRL=0,0;MMQ=60,60;MPOS=50;POPAF=7.3;TLOD=3.41\tGT:AD:AF:DP:F1R2:F2R1:PGT:PID:PS:SB\t./.:.:.:.:.:.:.:.:.:.\t./.:.:.:.:.:.:.:.:.:.\t./.:.:.:.:.:.:.:.:.:.\t./.:.:.:.:.:.:.:.:.:.\t./.:.:.:.:.:.:.:.:.:.\t./.:.:.:.:.:.:.:.:.:.\t./.:.:.:.:.:.:.:.:.:.\t./.:.:.:.:.:.:.:.:.:.\t./.:.:.:.:.:.:.:.:.:.\t./.:.:.:.:.:.:.:.:.:.\t./.:.:.:.:.:.:.:.:.:.\t./.:.:.:.:.:.:.:.:.:.\t./.:.:.:.:.:.:.:.:.:.\t./.:.:.:.:.:.:.:.:.:.\t./.:.:.:.:.:.:.:.:.:.\t./.:.:.:.:.:.:.:.:.:.\t./.:.:.:.:.:.:.:.:.:.\t./.:.:.:.:.:.:.:.:.:.\t./.:.:.:.:.:.:.:.:.:.\t./.:.:.:.:.:.:.:.:.:.\t./.:.:.:.:.:.:.:.:.:.\t./.:.:.:.:.:.:.:.:.:.\t./.:.:.:.:.:.:.:.:.:.\t./.:.:.:.:.:.:.:.:.:.\t./.:.:.:.:.:.:.:.:.:.\t./.:.:.:.:.:.:.:.:.:.\t./.:.:.:.:.:.:.:.:.:.\t./.:.:.:.:.:.:.:.:.:.\t./.:.:.:.:.:.:.:.:.:.\t./.:.:.:.:.:.:.:.:.:.\t0|1:0,0:0.428:0:0,0:0,0:0|1:36960017_A_G:36960017:0,0,0,0\t./.:.:.:.:.:.:.:.:.:.\t./.:.:.:.:.:.:.:.:.:.\t./.:.:.:.:.:.:.:.:.:.\t./.:.:.:.:.:.:.:.:.:.\t./.:.:.:.:.:.:.:.:.:.\t./.:.:.:.:.:.:.:.:.:.\n",
      "\u001b[0m\n",
      "\n",
      " \u001b[31mWarning: Wrong read depth\u001b[0m\n",
      "\u001b[34m3\t79820386\t.\tA\tG\t.\t.\tAS_SB_TABLE=0,0|0,0;DP=80;ECNT=8;MBQ=0,0;MFRL=0,0;MMQ=60,60;MPOS=50;POPAF=7.3;TLOD=18.26\tGT:AD:AF:DP:F1R2:F2R1:SB\t./.:.:.:.:.:.:.\t./.:.:.:.:.:.:.\t./.:.:.:.:.:.:.\t./.:.:.:.:.:.:.\t./.:.:.:.:.:.:.\t./.:.:.:.:.:.:.\t./.:.:.:.:.:.:.\t./.:.:.:.:.:.:.\t./.:.:.:.:.:.:.\t0/1:0,0:0.275:0:0,0:0,0:0,0,0,0\t./.:.:.:.:.:.:.\t./.:.:.:.:.:.:.\t./.:.:.:.:.:.:.\t./.:.:.:.:.:.:.\t./.:.:.:.:.:.:.\t./.:.:.:.:.:.:.\t./.:.:.:.:.:.:.\t./.:.:.:.:.:.:.\t./.:.:.:.:.:.:.\t./.:.:.:.:.:.:.\t./.:.:.:.:.:.:.\t./.:.:.:.:.:.:.\t./.:.:.:.:.:.:.\t./.:.:.:.:.:.:.\t./.:.:.:.:.:.:.\t./.:.:.:.:.:.:.\t./.:.:.:.:.:.:.\t./.:.:.:.:.:.:.\t./.:.:.:.:.:.:.\t./.:.:.:.:.:.:.\t./.:.:.:.:.:.:.\t./.:.:.:.:.:.:.\t./.:.:.:.:.:.:.\t./.:.:.:.:.:.:.\t./.:.:.:.:.:.:.\t./.:.:.:.:.:.:.\t./.:.:.:.:.:.:.\n",
      "\u001b[0m\n",
      "\u001b[32m 400000 lines processed \u001b[0m\n",
      "\u001b[32m 500000 lines processed \u001b[0m\n",
      "\n",
      " \u001b[31mWarning: Wrong read depth\u001b[0m\n",
      "\u001b[34m4\t145770282\t.\tC\tA\t.\t.\tAS_SB_TABLE=0,0|0,0;DP=17;ECNT=5;MBQ=0,0;MFRL=0,0;MMQ=60,60;MPOS=50;POPAF=7.3;TLOD=4.02\tGT:AD:AF:DP:F1R2:F2R1:PGT:PID:PS:SB\t./.:.:.:.:.:.:.:.:.:.\t./.:.:.:.:.:.:.:.:.:.\t./.:.:.:.:.:.:.:.:.:.\t./.:.:.:.:.:.:.:.:.:.\t./.:.:.:.:.:.:.:.:.:.\t./.:.:.:.:.:.:.:.:.:.\t./.:.:.:.:.:.:.:.:.:.\t./.:.:.:.:.:.:.:.:.:.\t./.:.:.:.:.:.:.:.:.:.\t./.:.:.:.:.:.:.:.:.:.\t./.:.:.:.:.:.:.:.:.:.\t./.:.:.:.:.:.:.:.:.:.\t./.:.:.:.:.:.:.:.:.:.\t./.:.:.:.:.:.:.:.:.:.\t./.:.:.:.:.:.:.:.:.:.\t0|1:0,0:0.794:0:0,0:0,0:0|1:145770282_C_A:145770282:0,0,0,0\t./.:.:.:.:.:.:.:.:.:.\t./.:.:.:.:.:.:.:.:.:.\t./.:.:.:.:.:.:.:.:.:.\t./.:.:.:.:.:.:.:.:.:.\t./.:.:.:.:.:.:.:.:.:.\t./.:.:.:.:.:.:.:.:.:.\t./.:.:.:.:.:.:.:.:.:.\t./.:.:.:.:.:.:.:.:.:.\t./.:.:.:.:.:.:.:.:.:.\t./.:.:.:.:.:.:.:.:.:.\t./.:.:.:.:.:.:.:.:.:.\t./.:.:.:.:.:.:.:.:.:.\t./.:.:.:.:.:.:.:.:.:.\t./.:.:.:.:.:.:.:.:.:.\t./.:.:.:.:.:.:.:.:.:.\t./.:.:.:.:.:.:.:.:.:.\t./.:.:.:.:.:.:.:.:.:.\t./.:.:.:.:.:.:.:.:.:.\t./.:.:.:.:.:.:.:.:.:.\t./.:.:.:.:.:.:.:.:.:.\t./.:.:.:.:.:.:.:.:.:.\n",
      "\u001b[0m\n",
      "\n",
      " \u001b[31mWarning: Wrong read depth\u001b[0m\n",
      "\u001b[34m4\t145770284\t.\tC\tA\t.\t.\tAS_SB_TABLE=0,0|0,0;DP=18;ECNT=5;MBQ=0,0;MFRL=0,0;MMQ=60,60;MPOS=50;POPAF=7.3;TLOD=4.02\tGT:AD:AF:DP:F1R2:F2R1:PGT:PID:PS:SB\t./.:.:.:.:.:.:.:.:.:.\t./.:.:.:.:.:.:.:.:.:.\t./.:.:.:.:.:.:.:.:.:.\t./.:.:.:.:.:.:.:.:.:.\t./.:.:.:.:.:.:.:.:.:.\t./.:.:.:.:.:.:.:.:.:.\t./.:.:.:.:.:.:.:.:.:.\t./.:.:.:.:.:.:.:.:.:.\t./.:.:.:.:.:.:.:.:.:.\t./.:.:.:.:.:.:.:.:.:.\t./.:.:.:.:.:.:.:.:.:.\t./.:.:.:.:.:.:.:.:.:.\t./.:.:.:.:.:.:.:.:.:.\t./.:.:.:.:.:.:.:.:.:.\t./.:.:.:.:.:.:.:.:.:.\t0|1:0,0:0.794:0:0,0:0,0:0|1:145770282_C_A:145770282:0,0,0,0\t./.:.:.:.:.:.:.:.:.:.\t./.:.:.:.:.:.:.:.:.:.\t./.:.:.:.:.:.:.:.:.:.\t./.:.:.:.:.:.:.:.:.:.\t./.:.:.:.:.:.:.:.:.:.\t./.:.:.:.:.:.:.:.:.:.\t./.:.:.:.:.:.:.:.:.:.\t./.:.:.:.:.:.:.:.:.:.\t./.:.:.:.:.:.:.:.:.:.\t./.:.:.:.:.:.:.:.:.:.\t./.:.:.:.:.:.:.:.:.:.\t./.:.:.:.:.:.:.:.:.:.\t./.:.:.:.:.:.:.:.:.:.\t./.:.:.:.:.:.:.:.:.:.\t./.:.:.:.:.:.:.:.:.:.\t./.:.:.:.:.:.:.:.:.:.\t./.:.:.:.:.:.:.:.:.:.\t./.:.:.:.:.:.:.:.:.:.\t./.:.:.:.:.:.:.:.:.:.\t./.:.:.:.:.:.:.:.:.:.\t./.:.:.:.:.:.:.:.:.:.\n",
      "\u001b[0m\n",
      "\u001b[32m 600000 lines processed \u001b[0m\n",
      "\n",
      " \u001b[31mWarning: Wrong read depth\u001b[0m\n",
      "\u001b[34m5\t40738616\t.\tC\tA\t.\t.\tAS_SB_TABLE=0,0|0,0;DP=34;ECNT=6;MBQ=0,0;MFRL=0,0;MMQ=60,60;MPOS=50;POPAF=7.3;TLOD=37.45\tGT:AD:AF:DP:F1R2:F2R1:SB\t./.:.:.:.:.:.:.\t./.:.:.:.:.:.:.\t./.:.:.:.:.:.:.\t./.:.:.:.:.:.:.\t./.:.:.:.:.:.:.\t./.:.:.:.:.:.:.\t./.:.:.:.:.:.:.\t./.:.:.:.:.:.:.\t./.:.:.:.:.:.:.\t./.:.:.:.:.:.:.\t./.:.:.:.:.:.:.\t./.:.:.:.:.:.:.\t./.:.:.:.:.:.:.\t./.:.:.:.:.:.:.\t./.:.:.:.:.:.:.\t./.:.:.:.:.:.:.\t./.:.:.:.:.:.:.\t./.:.:.:.:.:.:.\t./.:.:.:.:.:.:.\t./.:.:.:.:.:.:.\t./.:.:.:.:.:.:.\t0/1:0,0:0.934:0:0,0:0,0:0,0,0,0\t./.:.:.:.:.:.:.\t./.:.:.:.:.:.:.\t./.:.:.:.:.:.:.\t./.:.:.:.:.:.:.\t./.:.:.:.:.:.:.\t./.:.:.:.:.:.:.\t./.:.:.:.:.:.:.\t./.:.:.:.:.:.:.\t./.:.:.:.:.:.:.\t./.:.:.:.:.:.:.\t./.:.:.:.:.:.:.\t./.:.:.:.:.:.:.\t./.:.:.:.:.:.:.\t./.:.:.:.:.:.:.\t./.:.:.:.:.:.:.\n",
      "\u001b[0m\n",
      "\n",
      " \u001b[31mWarning: Wrong read depth\u001b[0m\n",
      "\u001b[34m5\t40738621\t.\tA\tC\t.\t.\tAS_SB_TABLE=0,0|0,0;DP=35;ECNT=6;MBQ=0,0;MFRL=0,0;MMQ=60,60;MPOS=50;POPAF=7.3;TLOD=37.44\tGT:AD:AF:DP:F1R2:F2R1:SB\t./.:.:.:.:.:.:.\t./.:.:.:.:.:.:.\t./.:.:.:.:.:.:.\t./.:.:.:.:.:.:.\t./.:.:.:.:.:.:.\t./.:.:.:.:.:.:.\t./.:.:.:.:.:.:.\t./.:.:.:.:.:.:.\t./.:.:.:.:.:.:.\t./.:.:.:.:.:.:.\t./.:.:.:.:.:.:.\t./.:.:.:.:.:.:.\t./.:.:.:.:.:.:.\t./.:.:.:.:.:.:.\t./.:.:.:.:.:.:.\t./.:.:.:.:.:.:.\t./.:.:.:.:.:.:.\t./.:.:.:.:.:.:.\t./.:.:.:.:.:.:.\t./.:.:.:.:.:.:.\t./.:.:.:.:.:.:.\t0/1:0,0:0.935:0:0,0:0,0:0,0,0,0\t./.:.:.:.:.:.:.\t./.:.:.:.:.:.:.\t./.:.:.:.:.:.:.\t./.:.:.:.:.:.:.\t./.:.:.:.:.:.:.\t./.:.:.:.:.:.:.\t./.:.:.:.:.:.:.\t./.:.:.:.:.:.:.\t./.:.:.:.:.:.:.\t./.:.:.:.:.:.:.\t./.:.:.:.:.:.:.\t./.:.:.:.:.:.:.\t./.:.:.:.:.:.:.\t./.:.:.:.:.:.:.\t./.:.:.:.:.:.:.\n",
      "\u001b[0m\n",
      "\n",
      " \u001b[31mWarning: Wrong read depth\u001b[0m\n",
      "\u001b[34m6\t1291847\t.\tC\tT\t.\t.\tAS_SB_TABLE=0,0|0,0;DP=79;ECNT=4;MBQ=0,0;MFRL=0,0;MMQ=60,60;MPOS=50;POPAF=7.3;TLOD=32.76\tGT:AD:AF:DP:F1R2:F2R1:PGT:PID:PS:SB\t./.:.:.:.:.:.:.:.:.:.\t./.:.:.:.:.:.:.:.:.:.\t./.:.:.:.:.:.:.:.:.:.\t./.:.:.:.:.:.:.:.:.:.\t./.:.:.:.:.:.:.:.:.:.\t./.:.:.:.:.:.:.:.:.:.\t./.:.:.:.:.:.:.:.:.:.\t./.:.:.:.:.:.:.:.:.:.\t./.:.:.:.:.:.:.:.:.:.\t./.:.:.:.:.:.:.:.:.:.\t./.:.:.:.:.:.:.:.:.:.\t0|1:0,0:0.931:0:0,0:0,0:0|1:1291847_C_T:1291847:0,0,0,0\t./.:.:.:.:.:.:.:.:.:.\t./.:.:.:.:.:.:.:.:.:.\t./.:.:.:.:.:.:.:.:.:.\t./.:.:.:.:.:.:.:.:.:.\t./.:.:.:.:.:.:.:.:.:.\t./.:.:.:.:.:.:.:.:.:.\t./.:.:.:.:.:.:.:.:.:.\t./.:.:.:.:.:.:.:.:.:.\t./.:.:.:.:.:.:.:.:.:.\t0|1:0,0:0.753:0:0,0:0,0:0|1:1291847_C_T:1291847:0,0,0,0\t./.:.:.:.:.:.:.:.:.:.\t./.:.:.:.:.:.:.:.:.:.\t./.:.:.:.:.:.:.:.:.:.\t./.:.:.:.:.:.:.:.:.:.\t./.:.:.:.:.:.:.:.:.:.\t./.:.:.:.:.:.:.:.:.:.\t./.:.:.:.:.:.:.:.:.:.\t./.:.:.:.:.:.:.:.:.:.\t./.:.:.:.:.:.:.:.:.:.\t./.:.:.:.:.:.:.:.:.:.\t./.:.:.:.:.:.:.:.:.:.\t./.:.:.:.:.:.:.:.:.:.\t./.:.:.:.:.:.:.:.:.:.\t./.:.:.:.:.:.:.:.:.:.\t./.:.:.:.:.:.:.:.:.:.\n",
      "\u001b[0m\n",
      "\n",
      " \u001b[31mWarning: Wrong read depth\u001b[0m\n",
      "\u001b[34m6\t1291847\t.\tC\tT\t.\t.\tAS_SB_TABLE=0,0|0,0;DP=79;ECNT=4;MBQ=0,0;MFRL=0,0;MMQ=60,60;MPOS=50;POPAF=7.3;TLOD=32.76\tGT:AD:AF:DP:F1R2:F2R1:PGT:PID:PS:SB\t./.:.:.:.:.:.:.:.:.:.\t./.:.:.:.:.:.:.:.:.:.\t./.:.:.:.:.:.:.:.:.:.\t./.:.:.:.:.:.:.:.:.:.\t./.:.:.:.:.:.:.:.:.:.\t./.:.:.:.:.:.:.:.:.:.\t./.:.:.:.:.:.:.:.:.:.\t./.:.:.:.:.:.:.:.:.:.\t./.:.:.:.:.:.:.:.:.:.\t./.:.:.:.:.:.:.:.:.:.\t./.:.:.:.:.:.:.:.:.:.\t0|1:0,0:0.931:0:0,0:0,0:0|1:1291847_C_T:1291847:0,0,0,0\t./.:.:.:.:.:.:.:.:.:.\t./.:.:.:.:.:.:.:.:.:.\t./.:.:.:.:.:.:.:.:.:.\t./.:.:.:.:.:.:.:.:.:.\t./.:.:.:.:.:.:.:.:.:.\t./.:.:.:.:.:.:.:.:.:.\t./.:.:.:.:.:.:.:.:.:.\t./.:.:.:.:.:.:.:.:.:.\t./.:.:.:.:.:.:.:.:.:.\t0|1:0,0:0.753:0:0,0:0,0:0|1:1291847_C_T:1291847:0,0,0,0\t./.:.:.:.:.:.:.:.:.:.\t./.:.:.:.:.:.:.:.:.:.\t./.:.:.:.:.:.:.:.:.:.\t./.:.:.:.:.:.:.:.:.:.\t./.:.:.:.:.:.:.:.:.:.\t./.:.:.:.:.:.:.:.:.:.\t./.:.:.:.:.:.:.:.:.:.\t./.:.:.:.:.:.:.:.:.:.\t./.:.:.:.:.:.:.:.:.:.\t./.:.:.:.:.:.:.:.:.:.\t./.:.:.:.:.:.:.:.:.:.\t./.:.:.:.:.:.:.:.:.:.\t./.:.:.:.:.:.:.:.:.:.\t./.:.:.:.:.:.:.:.:.:.\t./.:.:.:.:.:.:.:.:.:.\n",
      "\u001b[0m\n",
      "\u001b[32m 700000 lines processed \u001b[0m\n",
      "\n",
      " \u001b[31mWarning: Wrong read depth\u001b[0m\n",
      "\u001b[34m6\t20152577\t.\tT\tA\t.\t.\tAS_SB_TABLE=0,0|0,0;DP=2;ECNT=7;MBQ=0,0;MFRL=0,0;MMQ=60,60;MPOS=50;POPAF=7.3;TLOD=3.74\tGT:AD:AF:DP:F1R2:F2R1:PGT:PID:PS:SB\t./.:.:.:.:.:.:.:.:.:.\t./.:.:.:.:.:.:.:.:.:.\t0|1:0,0:0.681:0:0,0:0,0:0|1:20152575_A_AT:20152575:0,0,0,0\t./.:.:.:.:.:.:.:.:.:.\t./.:.:.:.:.:.:.:.:.:.\t./.:.:.:.:.:.:.:.:.:.\t./.:.:.:.:.:.:.:.:.:.\t./.:.:.:.:.:.:.:.:.:.\t./.:.:.:.:.:.:.:.:.:.\t./.:.:.:.:.:.:.:.:.:.\t./.:.:.:.:.:.:.:.:.:.\t./.:.:.:.:.:.:.:.:.:.\t./.:.:.:.:.:.:.:.:.:.\t./.:.:.:.:.:.:.:.:.:.\t./.:.:.:.:.:.:.:.:.:.\t./.:.:.:.:.:.:.:.:.:.\t./.:.:.:.:.:.:.:.:.:.\t./.:.:.:.:.:.:.:.:.:.\t./.:.:.:.:.:.:.:.:.:.\t./.:.:.:.:.:.:.:.:.:.\t./.:.:.:.:.:.:.:.:.:.\t./.:.:.:.:.:.:.:.:.:.\t./.:.:.:.:.:.:.:.:.:.\t./.:.:.:.:.:.:.:.:.:.\t./.:.:.:.:.:.:.:.:.:.\t./.:.:.:.:.:.:.:.:.:.\t./.:.:.:.:.:.:.:.:.:.\t./.:.:.:.:.:.:.:.:.:.\t./.:.:.:.:.:.:.:.:.:.\t./.:.:.:.:.:.:.:.:.:.\t./.:.:.:.:.:.:.:.:.:.\t./.:.:.:.:.:.:.:.:.:.\t./.:.:.:.:.:.:.:.:.:.\t./.:.:.:.:.:.:.:.:.:.\t./.:.:.:.:.:.:.:.:.:.\t./.:.:.:.:.:.:.:.:.:.\t./.:.:.:.:.:.:.:.:.:.\n",
      "\u001b[0m\n",
      "\n",
      " \u001b[31mWarning: Wrong read depth\u001b[0m\n",
      "\u001b[34m6\t43319921\t.\tT\tC\t.\t.\tAS_SB_TABLE=0,0|0,0;DP=35;ECNT=2;MBQ=0,0;MFRL=0,0;MMQ=60,60;MPOS=50;POPAF=7.3;TLOD=23.16\tGT:AD:AF:DP:F1R2:F2R1:PGT:PID:PS:SB\t./.:.:.:.:.:.:.:.:.:.\t./.:.:.:.:.:.:.:.:.:.\t./.:.:.:.:.:.:.:.:.:.\t./.:.:.:.:.:.:.:.:.:.\t./.:.:.:.:.:.:.:.:.:.\t./.:.:.:.:.:.:.:.:.:.\t0|1:0,0:0.709:0:0,0:0,0:0|1:43319921_T_C:43319921:0,0,0,0\t./.:.:.:.:.:.:.:.:.:.\t./.:.:.:.:.:.:.:.:.:.\t./.:.:.:.:.:.:.:.:.:.\t./.:.:.:.:.:.:.:.:.:.\t./.:.:.:.:.:.:.:.:.:.\t./.:.:.:.:.:.:.:.:.:.\t./.:.:.:.:.:.:.:.:.:.\t./.:.:.:.:.:.:.:.:.:.\t./.:.:.:.:.:.:.:.:.:.\t./.:.:.:.:.:.:.:.:.:.\t./.:.:.:.:.:.:.:.:.:.\t./.:.:.:.:.:.:.:.:.:.\t./.:.:.:.:.:.:.:.:.:.\t./.:.:.:.:.:.:.:.:.:.\t./.:.:.:.:.:.:.:.:.:.\t./.:.:.:.:.:.:.:.:.:.\t./.:.:.:.:.:.:.:.:.:.\t./.:.:.:.:.:.:.:.:.:.\t./.:.:.:.:.:.:.:.:.:.\t./.:.:.:.:.:.:.:.:.:.\t./.:.:.:.:.:.:.:.:.:.\t./.:.:.:.:.:.:.:.:.:.\t./.:.:.:.:.:.:.:.:.:.\t./.:.:.:.:.:.:.:.:.:.\t./.:.:.:.:.:.:.:.:.:.\t./.:.:.:.:.:.:.:.:.:.\t./.:.:.:.:.:.:.:.:.:.\t./.:.:.:.:.:.:.:.:.:.\t./.:.:.:.:.:.:.:.:.:.\t./.:.:.:.:.:.:.:.:.:.\n",
      "\u001b[0m\n",
      "\n",
      " \u001b[31mWarning: Wrong read depth\u001b[0m\n",
      "\u001b[34m6\t67942919\t.\tC\tG\t.\t.\tAS_SB_TABLE=0,0|0,0;DP=16;ECNT=2;MBQ=0,0;MFRL=0,0;MMQ=60,60;MPOS=50;POPAF=7.3;TLOD=10.28\tGT:AD:AF:DP:F1R2:F2R1:PGT:PID:PS:SB\t./.:.:.:.:.:.:.:.:.:.\t./.:.:.:.:.:.:.:.:.:.\t./.:.:.:.:.:.:.:.:.:.\t./.:.:.:.:.:.:.:.:.:.\t./.:.:.:.:.:.:.:.:.:.\t./.:.:.:.:.:.:.:.:.:.\t./.:.:.:.:.:.:.:.:.:.\t./.:.:.:.:.:.:.:.:.:.\t./.:.:.:.:.:.:.:.:.:.\t./.:.:.:.:.:.:.:.:.:.\t./.:.:.:.:.:.:.:.:.:.\t./.:.:.:.:.:.:.:.:.:.\t./.:.:.:.:.:.:.:.:.:.\t./.:.:.:.:.:.:.:.:.:.\t./.:.:.:.:.:.:.:.:.:.\t./.:.:.:.:.:.:.:.:.:.\t./.:.:.:.:.:.:.:.:.:.\t./.:.:.:.:.:.:.:.:.:.\t./.:.:.:.:.:.:.:.:.:.\t./.:.:.:.:.:.:.:.:.:.\t./.:.:.:.:.:.:.:.:.:.\t./.:.:.:.:.:.:.:.:.:.\t0|1:0,0:0.887:0:0,0:0,0:0|1:67942919_C_G:67942919:0,0,0,0\t./.:.:.:.:.:.:.:.:.:.\t./.:.:.:.:.:.:.:.:.:.\t./.:.:.:.:.:.:.:.:.:.\t./.:.:.:.:.:.:.:.:.:.\t./.:.:.:.:.:.:.:.:.:.\t./.:.:.:.:.:.:.:.:.:.\t./.:.:.:.:.:.:.:.:.:.\t./.:.:.:.:.:.:.:.:.:.\t./.:.:.:.:.:.:.:.:.:.\t./.:.:.:.:.:.:.:.:.:.\t./.:.:.:.:.:.:.:.:.:.\t./.:.:.:.:.:.:.:.:.:.\t./.:.:.:.:.:.:.:.:.:.\t./.:.:.:.:.:.:.:.:.:.\n",
      "\u001b[0m\n",
      "\n",
      " \u001b[31mWarning: Wrong read depth\u001b[0m\n",
      "\u001b[34m6\t82105231\t.\tG\tA\t.\t.\tAS_SB_TABLE=0,0|0,0;DP=3;ECNT=1;MBQ=0,0;MFRL=0,0;MMQ=60,60;MPOS=50;POPAF=7.3;TLOD=5.55\tGT:AD:AF:DP:F1R2:F2R1:SB\t./.:.:.:.:.:.:.\t./.:.:.:.:.:.:.\t./.:.:.:.:.:.:.\t./.:.:.:.:.:.:.\t0/1:0,0:0.763:0:0,0:0,0:0,0,0,0\t./.:.:.:.:.:.:.\t./.:.:.:.:.:.:.\t./.:.:.:.:.:.:.\t./.:.:.:.:.:.:.\t./.:.:.:.:.:.:.\t./.:.:.:.:.:.:.\t./.:.:.:.:.:.:.\t./.:.:.:.:.:.:.\t./.:.:.:.:.:.:.\t./.:.:.:.:.:.:.\t./.:.:.:.:.:.:.\t./.:.:.:.:.:.:.\t./.:.:.:.:.:.:.\t./.:.:.:.:.:.:.\t./.:.:.:.:.:.:.\t./.:.:.:.:.:.:.\t./.:.:.:.:.:.:.\t./.:.:.:.:.:.:.\t./.:.:.:.:.:.:.\t./.:.:.:.:.:.:.\t./.:.:.:.:.:.:.\t./.:.:.:.:.:.:.\t./.:.:.:.:.:.:.\t./.:.:.:.:.:.:.\t./.:.:.:.:.:.:.\t./.:.:.:.:.:.:.\t./.:.:.:.:.:.:.\t./.:.:.:.:.:.:.\t./.:.:.:.:.:.:.\t./.:.:.:.:.:.:.\t./.:.:.:.:.:.:.\t./.:.:.:.:.:.:.\n",
      "\u001b[0m\n",
      "\n",
      " \u001b[31mWarning: Wrong read depth\u001b[0m\n",
      "\u001b[34m6\t98351292\t.\tC\tG\t.\t.\tAS_SB_TABLE=0,0|0,0;DP=25;ECNT=3;MBQ=0,0;MFRL=0,0;MMQ=60,60;MPOS=50;POPAF=7.3;TLOD=6.66\tGT:AD:AF:DP:F1R2:F2R1:PGT:PID:PS:SB\t./.:.:.:.:.:.:.:.:.:.\t./.:.:.:.:.:.:.:.:.:.\t./.:.:.:.:.:.:.:.:.:.\t./.:.:.:.:.:.:.:.:.:.\t./.:.:.:.:.:.:.:.:.:.\t./.:.:.:.:.:.:.:.:.:.\t./.:.:.:.:.:.:.:.:.:.\t./.:.:.:.:.:.:.:.:.:.\t./.:.:.:.:.:.:.:.:.:.\t./.:.:.:.:.:.:.:.:.:.\t./.:.:.:.:.:.:.:.:.:.\t./.:.:.:.:.:.:.:.:.:.\t./.:.:.:.:.:.:.:.:.:.\t./.:.:.:.:.:.:.:.:.:.\t./.:.:.:.:.:.:.:.:.:.\t./.:.:.:.:.:.:.:.:.:.\t./.:.:.:.:.:.:.:.:.:.\t./.:.:.:.:.:.:.:.:.:.\t./.:.:.:.:.:.:.:.:.:.\t0|1:0,0:0.794:0:0,0:0,0:0|1:98351292_C_G:98351292:0,0,0,0\t./.:.:.:.:.:.:.:.:.:.\t./.:.:.:.:.:.:.:.:.:.\t./.:.:.:.:.:.:.:.:.:.\t./.:.:.:.:.:.:.:.:.:.\t./.:.:.:.:.:.:.:.:.:.\t./.:.:.:.:.:.:.:.:.:.\t./.:.:.:.:.:.:.:.:.:.\t./.:.:.:.:.:.:.:.:.:.\t./.:.:.:.:.:.:.:.:.:.\t./.:.:.:.:.:.:.:.:.:.\t./.:.:.:.:.:.:.:.:.:.\t./.:.:.:.:.:.:.:.:.:.\t./.:.:.:.:.:.:.:.:.:.\t./.:.:.:.:.:.:.:.:.:.\t./.:.:.:.:.:.:.:.:.:.\t./.:.:.:.:.:.:.:.:.:.\t./.:.:.:.:.:.:.:.:.:.\n",
      "\u001b[0m\n",
      "\n",
      " \u001b[31mWarning: Wrong read depth\u001b[0m\n",
      "\u001b[34m6\t101545774\t.\tC\tT\t.\t.\tAS_SB_TABLE=0,0|1,2;DP=16;ECNT=9;MBQ=0,0;MFRL=0,0;MMQ=60,60;MPOS=50;POPAF=7.3;TLOD=3.51\tGT:AD:AF:DP:F1R2:F2R1:PGT:PID:PS:SB\t./.:.:.:.:.:.:.:.:.:.\t./.:.:.:.:.:.:.:.:.:.\t./.:.:.:.:.:.:.:.:.:.\t./.:.:.:.:.:.:.:.:.:.\t./.:.:.:.:.:.:.:.:.:.\t./.:.:.:.:.:.:.:.:.:.\t./.:.:.:.:.:.:.:.:.:.\t./.:.:.:.:.:.:.:.:.:.\t0|1:0,0:0.606:0:0,0:0,0:0|1:101545753_T_TTA:101545753:0,0,0,0\t0|1:0,3:0.813:3:0,0:0,0:0|1:101545753_T_TTA:101545753:0,0,1,2\t./.:.:.:.:.:.:.:.:.:.\t./.:.:.:.:.:.:.:.:.:.\t./.:.:.:.:.:.:.:.:.:.\t./.:.:.:.:.:.:.:.:.:.\t./.:.:.:.:.:.:.:.:.:.\t./.:.:.:.:.:.:.:.:.:.\t./.:.:.:.:.:.:.:.:.:.\t./.:.:.:.:.:.:.:.:.:.\t./.:.:.:.:.:.:.:.:.:.\t./.:.:.:.:.:.:.:.:.:.\t./.:.:.:.:.:.:.:.:.:.\t./.:.:.:.:.:.:.:.:.:.\t./.:.:.:.:.:.:.:.:.:.\t./.:.:.:.:.:.:.:.:.:.\t./.:.:.:.:.:.:.:.:.:.\t./.:.:.:.:.:.:.:.:.:.\t./.:.:.:.:.:.:.:.:.:.\t./.:.:.:.:.:.:.:.:.:.\t./.:.:.:.:.:.:.:.:.:.\t./.:.:.:.:.:.:.:.:.:.\t./.:.:.:.:.:.:.:.:.:.\t./.:.:.:.:.:.:.:.:.:.\t./.:.:.:.:.:.:.:.:.:.\t./.:.:.:.:.:.:.:.:.:.\t./.:.:.:.:.:.:.:.:.:.\t./.:.:.:.:.:.:.:.:.:.\t./.:.:.:.:.:.:.:.:.:.\n",
      "\u001b[0m\n",
      "\n",
      " \u001b[31mWarning: Wrong read depth\u001b[0m\n",
      "\u001b[34m6\t101545781\t.\tC\tG\t.\t.\tAS_SB_TABLE=0,0|0,0;DP=17;ECNT=9;MBQ=0,0;MFRL=0,0;MMQ=60,60;MPOS=50;POPAF=7.3;TLOD=3.51\tGT:AD:AF:DP:F1R2:F2R1:PGT:PID:PS:SB\t./.:.:.:.:.:.:.:.:.:.\t./.:.:.:.:.:.:.:.:.:.\t./.:.:.:.:.:.:.:.:.:.\t./.:.:.:.:.:.:.:.:.:.\t./.:.:.:.:.:.:.:.:.:.\t./.:.:.:.:.:.:.:.:.:.\t./.:.:.:.:.:.:.:.:.:.\t./.:.:.:.:.:.:.:.:.:.\t0|1:0,0:0.606:0:0,0:0,0:0|1:101545753_T_TTA:101545753:0,0,0,0\t0|1:0,0:0.653:0:0,0:0,0:0|1:101545753_T_TTA:101545753:0,0,0,0\t./.:.:.:.:.:.:.:.:.:.\t./.:.:.:.:.:.:.:.:.:.\t./.:.:.:.:.:.:.:.:.:.\t./.:.:.:.:.:.:.:.:.:.\t./.:.:.:.:.:.:.:.:.:.\t./.:.:.:.:.:.:.:.:.:.\t./.:.:.:.:.:.:.:.:.:.\t./.:.:.:.:.:.:.:.:.:.\t./.:.:.:.:.:.:.:.:.:.\t./.:.:.:.:.:.:.:.:.:.\t./.:.:.:.:.:.:.:.:.:.\t./.:.:.:.:.:.:.:.:.:.\t./.:.:.:.:.:.:.:.:.:.\t./.:.:.:.:.:.:.:.:.:.\t./.:.:.:.:.:.:.:.:.:.\t./.:.:.:.:.:.:.:.:.:.\t./.:.:.:.:.:.:.:.:.:.\t./.:.:.:.:.:.:.:.:.:.\t./.:.:.:.:.:.:.:.:.:.\t./.:.:.:.:.:.:.:.:.:.\t./.:.:.:.:.:.:.:.:.:.\t./.:.:.:.:.:.:.:.:.:.\t./.:.:.:.:.:.:.:.:.:.\t./.:.:.:.:.:.:.:.:.:.\t./.:.:.:.:.:.:.:.:.:.\t./.:.:.:.:.:.:.:.:.:.\t./.:.:.:.:.:.:.:.:.:.\n",
      "\u001b[0m\n",
      "\n",
      " \u001b[31mWarning: Wrong read depth\u001b[0m\n",
      "\u001b[34m6\t101545781\t.\tC\tG\t.\t.\tAS_SB_TABLE=0,0|0,0;DP=17;ECNT=9;MBQ=0,0;MFRL=0,0;MMQ=60,60;MPOS=50;POPAF=7.3;TLOD=3.51\tGT:AD:AF:DP:F1R2:F2R1:PGT:PID:PS:SB\t./.:.:.:.:.:.:.:.:.:.\t./.:.:.:.:.:.:.:.:.:.\t./.:.:.:.:.:.:.:.:.:.\t./.:.:.:.:.:.:.:.:.:.\t./.:.:.:.:.:.:.:.:.:.\t./.:.:.:.:.:.:.:.:.:.\t./.:.:.:.:.:.:.:.:.:.\t./.:.:.:.:.:.:.:.:.:.\t0|1:0,0:0.606:0:0,0:0,0:0|1:101545753_T_TTA:101545753:0,0,0,0\t0|1:0,0:0.653:0:0,0:0,0:0|1:101545753_T_TTA:101545753:0,0,0,0\t./.:.:.:.:.:.:.:.:.:.\t./.:.:.:.:.:.:.:.:.:.\t./.:.:.:.:.:.:.:.:.:.\t./.:.:.:.:.:.:.:.:.:.\t./.:.:.:.:.:.:.:.:.:.\t./.:.:.:.:.:.:.:.:.:.\t./.:.:.:.:.:.:.:.:.:.\t./.:.:.:.:.:.:.:.:.:.\t./.:.:.:.:.:.:.:.:.:.\t./.:.:.:.:.:.:.:.:.:.\t./.:.:.:.:.:.:.:.:.:.\t./.:.:.:.:.:.:.:.:.:.\t./.:.:.:.:.:.:.:.:.:.\t./.:.:.:.:.:.:.:.:.:.\t./.:.:.:.:.:.:.:.:.:.\t./.:.:.:.:.:.:.:.:.:.\t./.:.:.:.:.:.:.:.:.:.\t./.:.:.:.:.:.:.:.:.:.\t./.:.:.:.:.:.:.:.:.:.\t./.:.:.:.:.:.:.:.:.:.\t./.:.:.:.:.:.:.:.:.:.\t./.:.:.:.:.:.:.:.:.:.\t./.:.:.:.:.:.:.:.:.:.\t./.:.:.:.:.:.:.:.:.:.\t./.:.:.:.:.:.:.:.:.:.\t./.:.:.:.:.:.:.:.:.:.\t./.:.:.:.:.:.:.:.:.:.\n",
      "\u001b[0m\n",
      "\n",
      " \u001b[31mWarning: Wrong read depth\u001b[0m\n",
      "\u001b[34m6\t101545795\t.\tT\tA\t.\t.\tAS_SB_TABLE=0,0|0,0;DP=8;ECNT=9;MBQ=0,0;MFRL=0,0;MMQ=60,60;MPOS=50;POPAF=7.3;TLOD=3.16\tGT:AD:AF:DP:F1R2:F2R1:PGT:PID:PS:SB\t./.:.:.:.:.:.:.:.:.:.\t./.:.:.:.:.:.:.:.:.:.\t./.:.:.:.:.:.:.:.:.:.\t./.:.:.:.:.:.:.:.:.:.\t./.:.:.:.:.:.:.:.:.:.\t./.:.:.:.:.:.:.:.:.:.\t./.:.:.:.:.:.:.:.:.:.\t./.:.:.:.:.:.:.:.:.:.\t./.:.:.:.:.:.:.:.:.:.\t0|1:0,0:0.652:0:0,0:0,0:0|1:101545795_T_A:101545795:0,0,0,0\t./.:.:.:.:.:.:.:.:.:.\t./.:.:.:.:.:.:.:.:.:.\t./.:.:.:.:.:.:.:.:.:.\t./.:.:.:.:.:.:.:.:.:.\t./.:.:.:.:.:.:.:.:.:.\t./.:.:.:.:.:.:.:.:.:.\t./.:.:.:.:.:.:.:.:.:.\t./.:.:.:.:.:.:.:.:.:.\t./.:.:.:.:.:.:.:.:.:.\t./.:.:.:.:.:.:.:.:.:.\t./.:.:.:.:.:.:.:.:.:.\t./.:.:.:.:.:.:.:.:.:.\t./.:.:.:.:.:.:.:.:.:.\t./.:.:.:.:.:.:.:.:.:.\t./.:.:.:.:.:.:.:.:.:.\t./.:.:.:.:.:.:.:.:.:.\t./.:.:.:.:.:.:.:.:.:.\t./.:.:.:.:.:.:.:.:.:.\t./.:.:.:.:.:.:.:.:.:.\t./.:.:.:.:.:.:.:.:.:.\t./.:.:.:.:.:.:.:.:.:.\t./.:.:.:.:.:.:.:.:.:.\t./.:.:.:.:.:.:.:.:.:.\t./.:.:.:.:.:.:.:.:.:.\t./.:.:.:.:.:.:.:.:.:.\t./.:.:.:.:.:.:.:.:.:.\t./.:.:.:.:.:.:.:.:.:.\n",
      "\u001b[0m\n",
      "\n",
      " \u001b[31mWarning: Wrong read depth\u001b[0m\n",
      "\u001b[34m6\t101545814\t.\tG\tC\t.\t.\tAS_SB_TABLE=0,0|0,0;DP=16;ECNT=9;MBQ=0,0;MFRL=0,0;MMQ=60,60;MPOS=50;POPAF=7.3;TLOD=3.59\tGT:AD:AF:DP:F1R2:F2R1:PGT:PID:PS:SB\t./.:.:.:.:.:.:.:.:.:.\t./.:.:.:.:.:.:.:.:.:.\t./.:.:.:.:.:.:.:.:.:.\t./.:.:.:.:.:.:.:.:.:.\t./.:.:.:.:.:.:.:.:.:.\t./.:.:.:.:.:.:.:.:.:.\t./.:.:.:.:.:.:.:.:.:.\t./.:.:.:.:.:.:.:.:.:.\t0|1:0,0:0.623:0:0,0:0,0:0|1:101545753_T_TTA:101545753:0,0,0,0\t0|1:0,0:0.657:0:0,0:0,0:0|1:101545753_T_TTA:101545753:0,0,0,0\t./.:.:.:.:.:.:.:.:.:.\t./.:.:.:.:.:.:.:.:.:.\t./.:.:.:.:.:.:.:.:.:.\t./.:.:.:.:.:.:.:.:.:.\t./.:.:.:.:.:.:.:.:.:.\t./.:.:.:.:.:.:.:.:.:.\t./.:.:.:.:.:.:.:.:.:.\t./.:.:.:.:.:.:.:.:.:.\t./.:.:.:.:.:.:.:.:.:.\t./.:.:.:.:.:.:.:.:.:.\t./.:.:.:.:.:.:.:.:.:.\t./.:.:.:.:.:.:.:.:.:.\t./.:.:.:.:.:.:.:.:.:.\t./.:.:.:.:.:.:.:.:.:.\t./.:.:.:.:.:.:.:.:.:.\t./.:.:.:.:.:.:.:.:.:.\t./.:.:.:.:.:.:.:.:.:.\t./.:.:.:.:.:.:.:.:.:.\t./.:.:.:.:.:.:.:.:.:.\t./.:.:.:.:.:.:.:.:.:.\t./.:.:.:.:.:.:.:.:.:.\t./.:.:.:.:.:.:.:.:.:.\t./.:.:.:.:.:.:.:.:.:.\t./.:.:.:.:.:.:.:.:.:.\t./.:.:.:.:.:.:.:.:.:.\t./.:.:.:.:.:.:.:.:.:.\t./.:.:.:.:.:.:.:.:.:.\n",
      "\u001b[0m\n",
      "\n",
      " \u001b[31mWarning: Wrong read depth\u001b[0m\n",
      "\u001b[34m6\t101545814\t.\tG\tC\t.\t.\tAS_SB_TABLE=0,0|0,0;DP=16;ECNT=9;MBQ=0,0;MFRL=0,0;MMQ=60,60;MPOS=50;POPAF=7.3;TLOD=3.59\tGT:AD:AF:DP:F1R2:F2R1:PGT:PID:PS:SB\t./.:.:.:.:.:.:.:.:.:.\t./.:.:.:.:.:.:.:.:.:.\t./.:.:.:.:.:.:.:.:.:.\t./.:.:.:.:.:.:.:.:.:.\t./.:.:.:.:.:.:.:.:.:.\t./.:.:.:.:.:.:.:.:.:.\t./.:.:.:.:.:.:.:.:.:.\t./.:.:.:.:.:.:.:.:.:.\t0|1:0,0:0.623:0:0,0:0,0:0|1:101545753_T_TTA:101545753:0,0,0,0\t0|1:0,0:0.657:0:0,0:0,0:0|1:101545753_T_TTA:101545753:0,0,0,0\t./.:.:.:.:.:.:.:.:.:.\t./.:.:.:.:.:.:.:.:.:.\t./.:.:.:.:.:.:.:.:.:.\t./.:.:.:.:.:.:.:.:.:.\t./.:.:.:.:.:.:.:.:.:.\t./.:.:.:.:.:.:.:.:.:.\t./.:.:.:.:.:.:.:.:.:.\t./.:.:.:.:.:.:.:.:.:.\t./.:.:.:.:.:.:.:.:.:.\t./.:.:.:.:.:.:.:.:.:.\t./.:.:.:.:.:.:.:.:.:.\t./.:.:.:.:.:.:.:.:.:.\t./.:.:.:.:.:.:.:.:.:.\t./.:.:.:.:.:.:.:.:.:.\t./.:.:.:.:.:.:.:.:.:.\t./.:.:.:.:.:.:.:.:.:.\t./.:.:.:.:.:.:.:.:.:.\t./.:.:.:.:.:.:.:.:.:.\t./.:.:.:.:.:.:.:.:.:.\t./.:.:.:.:.:.:.:.:.:.\t./.:.:.:.:.:.:.:.:.:.\t./.:.:.:.:.:.:.:.:.:.\t./.:.:.:.:.:.:.:.:.:.\t./.:.:.:.:.:.:.:.:.:.\t./.:.:.:.:.:.:.:.:.:.\t./.:.:.:.:.:.:.:.:.:.\t./.:.:.:.:.:.:.:.:.:.\n",
      "\u001b[0m\n",
      "\u001b[32m 800000 lines processed \u001b[0m\n",
      "\n",
      " \u001b[31mWarning: Wrong read depth\u001b[0m\n",
      "\u001b[34m7\t28150166\t.\tA\tG\t.\t.\tAS_SB_TABLE=0,0|0,0;DP=19;ECNT=10;MBQ=0,0;MFRL=0,0;MMQ=60,60;MPOS=50;POPAF=7.3;TLOD=14.99\tGT:AD:AF:DP:F1R2:F2R1:PGT:PID:PS:SB\t./.:.:.:.:.:.:.:.:.:.\t./.:.:.:.:.:.:.:.:.:.\t./.:.:.:.:.:.:.:.:.:.\t./.:.:.:.:.:.:.:.:.:.\t./.:.:.:.:.:.:.:.:.:.\t./.:.:.:.:.:.:.:.:.:.\t./.:.:.:.:.:.:.:.:.:.\t./.:.:.:.:.:.:.:.:.:.\t./.:.:.:.:.:.:.:.:.:.\t./.:.:.:.:.:.:.:.:.:.\t./.:.:.:.:.:.:.:.:.:.\t./.:.:.:.:.:.:.:.:.:.\t./.:.:.:.:.:.:.:.:.:.\t./.:.:.:.:.:.:.:.:.:.\t./.:.:.:.:.:.:.:.:.:.\t./.:.:.:.:.:.:.:.:.:.\t./.:.:.:.:.:.:.:.:.:.\t./.:.:.:.:.:.:.:.:.:.\t./.:.:.:.:.:.:.:.:.:.\t./.:.:.:.:.:.:.:.:.:.\t./.:.:.:.:.:.:.:.:.:.\t./.:.:.:.:.:.:.:.:.:.\t./.:.:.:.:.:.:.:.:.:.\t./.:.:.:.:.:.:.:.:.:.\t./.:.:.:.:.:.:.:.:.:.\t./.:.:.:.:.:.:.:.:.:.\t./.:.:.:.:.:.:.:.:.:.\t0|1:0,0:0.899:0:0,0:0,0:0|1:28150102_G_GA:28150102:0,0,0,0\t./.:.:.:.:.:.:.:.:.:.\t./.:.:.:.:.:.:.:.:.:.\t./.:.:.:.:.:.:.:.:.:.\t./.:.:.:.:.:.:.:.:.:.\t./.:.:.:.:.:.:.:.:.:.\t./.:.:.:.:.:.:.:.:.:.\t./.:.:.:.:.:.:.:.:.:.\t./.:.:.:.:.:.:.:.:.:.\t./.:.:.:.:.:.:.:.:.:.\n",
      "\u001b[0m\n",
      "\n",
      " \u001b[31mWarning: Wrong read depth\u001b[0m\n",
      "\u001b[34m7\t28150226\t.\tA\tG\t.\t.\tAS_SB_TABLE=1,1|1,3;DP=54;ECNT=3;MBQ=0,0;MFRL=0,0;MMQ=60,60;MPOS=50;POPAF=7.3;TLOD=12.13\tGT:AD:AF:DP:F1R2:F2R1:PGT:PID:PS:SB\t./.:.:.:.:.:.:.:.:.:.\t./.:.:.:.:.:.:.:.:.:.\t./.:.:.:.:.:.:.:.:.:.\t./.:.:.:.:.:.:.:.:.:.\t./.:.:.:.:.:.:.:.:.:.\t./.:.:.:.:.:.:.:.:.:.\t./.:.:.:.:.:.:.:.:.:.\t./.:.:.:.:.:.:.:.:.:.\t./.:.:.:.:.:.:.:.:.:.\t./.:.:.:.:.:.:.:.:.:.\t./.:.:.:.:.:.:.:.:.:.\t./.:.:.:.:.:.:.:.:.:.\t0|1:2,4:0.665:6:0,0:2,3:0|1:28150186_A_G:28150186:1,1,1,3\t./.:.:.:.:.:.:.:.:.:.\t./.:.:.:.:.:.:.:.:.:.\t./.:.:.:.:.:.:.:.:.:.\t./.:.:.:.:.:.:.:.:.:.\t./.:.:.:.:.:.:.:.:.:.\t./.:.:.:.:.:.:.:.:.:.\t./.:.:.:.:.:.:.:.:.:.\t./.:.:.:.:.:.:.:.:.:.\t./.:.:.:.:.:.:.:.:.:.\t./.:.:.:.:.:.:.:.:.:.\t./.:.:.:.:.:.:.:.:.:.\t./.:.:.:.:.:.:.:.:.:.\t./.:.:.:.:.:.:.:.:.:.\t./.:.:.:.:.:.:.:.:.:.\t0|1:0,0:0.907:0:0,0:0,0:0|1:28150102_G_GA:28150102:0,0,0,0\t./.:.:.:.:.:.:.:.:.:.\t./.:.:.:.:.:.:.:.:.:.\t./.:.:.:.:.:.:.:.:.:.\t./.:.:.:.:.:.:.:.:.:.\t./.:.:.:.:.:.:.:.:.:.\t./.:.:.:.:.:.:.:.:.:.\t./.:.:.:.:.:.:.:.:.:.\t./.:.:.:.:.:.:.:.:.:.\t./.:.:.:.:.:.:.:.:.:.\n",
      "\u001b[0m\n",
      "\n",
      " \u001b[31mWarning: Wrong read depth\u001b[0m\n",
      "\u001b[34m7\t38481406\t.\tA\tC\t.\t.\tAS_SB_TABLE=0,0|0,0;DP=30;ECNT=4;MBQ=0,0;MFRL=0,0;MMQ=60,60;MPOS=50;POPAF=7.3;TLOD=5.33\tGT:AD:AF:DP:F1R2:F2R1:SB\t./.:.:.:.:.:.:.\t./.:.:.:.:.:.:.\t./.:.:.:.:.:.:.\t./.:.:.:.:.:.:.\t./.:.:.:.:.:.:.\t./.:.:.:.:.:.:.\t./.:.:.:.:.:.:.\t./.:.:.:.:.:.:.\t./.:.:.:.:.:.:.\t./.:.:.:.:.:.:.\t./.:.:.:.:.:.:.\t./.:.:.:.:.:.:.\t./.:.:.:.:.:.:.\t./.:.:.:.:.:.:.\t./.:.:.:.:.:.:.\t./.:.:.:.:.:.:.\t./.:.:.:.:.:.:.\t./.:.:.:.:.:.:.\t./.:.:.:.:.:.:.\t./.:.:.:.:.:.:.\t./.:.:.:.:.:.:.\t./.:.:.:.:.:.:.\t./.:.:.:.:.:.:.\t./.:.:.:.:.:.:.\t./.:.:.:.:.:.:.\t./.:.:.:.:.:.:.\t./.:.:.:.:.:.:.\t0/1:0,0:0.731:0:0,0:0,0:0,0,0,0\t./.:.:.:.:.:.:.\t./.:.:.:.:.:.:.\t./.:.:.:.:.:.:.\t./.:.:.:.:.:.:.\t./.:.:.:.:.:.:.\t./.:.:.:.:.:.:.\t./.:.:.:.:.:.:.\t./.:.:.:.:.:.:.\t./.:.:.:.:.:.:.\n",
      "\u001b[0m\n",
      "\u001b[32m 900000 lines processed \u001b[0m\n",
      "\n",
      " \u001b[31mWarning: Wrong read depth\u001b[0m\n",
      "\u001b[34m7\t137323210\t.\tG\tA\t.\t.\tAS_SB_TABLE=0,0|0,0;DP=12;ECNT=10;MBQ=0,0;MFRL=0,0;MMQ=60,60;MPOS=50;POPAF=7.3;TLOD=7.81\tGT:AD:AF:DP:F1R2:F2R1:PGT:PID:PS:SB\t./.:.:.:.:.:.:.:.:.:.\t./.:.:.:.:.:.:.:.:.:.\t./.:.:.:.:.:.:.:.:.:.\t./.:.:.:.:.:.:.:.:.:.\t./.:.:.:.:.:.:.:.:.:.\t./.:.:.:.:.:.:.:.:.:.\t./.:.:.:.:.:.:.:.:.:.\t./.:.:.:.:.:.:.:.:.:.\t./.:.:.:.:.:.:.:.:.:.\t./.:.:.:.:.:.:.:.:.:.\t./.:.:.:.:.:.:.:.:.:.\t./.:.:.:.:.:.:.:.:.:.\t./.:.:.:.:.:.:.:.:.:.\t./.:.:.:.:.:.:.:.:.:.\t./.:.:.:.:.:.:.:.:.:.\t./.:.:.:.:.:.:.:.:.:.\t./.:.:.:.:.:.:.:.:.:.\t./.:.:.:.:.:.:.:.:.:.\t./.:.:.:.:.:.:.:.:.:.\t./.:.:.:.:.:.:.:.:.:.\t./.:.:.:.:.:.:.:.:.:.\t./.:.:.:.:.:.:.:.:.:.\t./.:.:.:.:.:.:.:.:.:.\t./.:.:.:.:.:.:.:.:.:.\t./.:.:.:.:.:.:.:.:.:.\t./.:.:.:.:.:.:.:.:.:.\t./.:.:.:.:.:.:.:.:.:.\t./.:.:.:.:.:.:.:.:.:.\t./.:.:.:.:.:.:.:.:.:.\t./.:.:.:.:.:.:.:.:.:.\t1|0:0,0:0.83:0:0,0:0,0:1|0:137323189_TACACACACAC_T:137323189:0,0,0,0\t./.:.:.:.:.:.:.:.:.:.\t./.:.:.:.:.:.:.:.:.:.\t./.:.:.:.:.:.:.:.:.:.\t./.:.:.:.:.:.:.:.:.:.\t./.:.:.:.:.:.:.:.:.:.\t./.:.:.:.:.:.:.:.:.:.\n",
      "\u001b[0m\n",
      "\u001b[32m1000000 lines processed \u001b[0m\n",
      "\n",
      " \u001b[31mWarning: Wrong read depth\u001b[0m\n",
      "\u001b[34m9\t30205625\t.\tC\tT\t.\t.\tAS_SB_TABLE=0,0|0,0;DP=12;ECNT=10;MBQ=0,0;MFRL=0,0;MMQ=60,60;MPOS=50;POPAF=7.3;TLOD=4.5\tGT:AD:AF:DP:F1R2:F2R1:PGT:PID:PS:SB\t./.:.:.:.:.:.:.:.:.:.\t./.:.:.:.:.:.:.:.:.:.\t./.:.:.:.:.:.:.:.:.:.\t./.:.:.:.:.:.:.:.:.:.\t./.:.:.:.:.:.:.:.:.:.\t./.:.:.:.:.:.:.:.:.:.\t./.:.:.:.:.:.:.:.:.:.\t./.:.:.:.:.:.:.:.:.:.\t./.:.:.:.:.:.:.:.:.:.\t./.:.:.:.:.:.:.:.:.:.\t./.:.:.:.:.:.:.:.:.:.\t./.:.:.:.:.:.:.:.:.:.\t./.:.:.:.:.:.:.:.:.:.\t./.:.:.:.:.:.:.:.:.:.\t./.:.:.:.:.:.:.:.:.:.\t./.:.:.:.:.:.:.:.:.:.\t./.:.:.:.:.:.:.:.:.:.\t./.:.:.:.:.:.:.:.:.:.\t./.:.:.:.:.:.:.:.:.:.\t./.:.:.:.:.:.:.:.:.:.\t./.:.:.:.:.:.:.:.:.:.\t./.:.:.:.:.:.:.:.:.:.\t./.:.:.:.:.:.:.:.:.:.\t./.:.:.:.:.:.:.:.:.:.\t./.:.:.:.:.:.:.:.:.:.\t0|1:0,0:0.526:0:0,0:0,0:0|1:30205625_C_T:30205625:0,0,0,0\t./.:.:.:.:.:.:.:.:.:.\t./.:.:.:.:.:.:.:.:.:.\t./.:.:.:.:.:.:.:.:.:.\t./.:.:.:.:.:.:.:.:.:.\t./.:.:.:.:.:.:.:.:.:.\t./.:.:.:.:.:.:.:.:.:.\t./.:.:.:.:.:.:.:.:.:.\t./.:.:.:.:.:.:.:.:.:.\t./.:.:.:.:.:.:.:.:.:.\t./.:.:.:.:.:.:.:.:.:.\t./.:.:.:.:.:.:.:.:.:.\n",
      "\u001b[0m\n",
      "\n",
      " \u001b[31mWarning: Wrong read depth\u001b[0m\n",
      "\u001b[34m9\t83608464\t.\tT\tC\t.\t.\tAS_SB_TABLE=0,0|0,0;DP=19;ECNT=8;MBQ=0,0;MFRL=0,0;MMQ=60,60;MPOS=50;POPAF=7.3;TLOD=3.59\tGT:AD:AF:DP:F1R2:F2R1:SB\t./.:.:.:.:.:.:.\t./.:.:.:.:.:.:.\t./.:.:.:.:.:.:.\t./.:.:.:.:.:.:.\t./.:.:.:.:.:.:.\t./.:.:.:.:.:.:.\t./.:.:.:.:.:.:.\t./.:.:.:.:.:.:.\t./.:.:.:.:.:.:.\t./.:.:.:.:.:.:.\t./.:.:.:.:.:.:.\t./.:.:.:.:.:.:.\t./.:.:.:.:.:.:.\t./.:.:.:.:.:.:.\t./.:.:.:.:.:.:.\t./.:.:.:.:.:.:.\t0/1:0,0:0.33:0:0,0:0,0:0,0,0,0\t./.:.:.:.:.:.:.\t./.:.:.:.:.:.:.\t./.:.:.:.:.:.:.\t./.:.:.:.:.:.:.\t./.:.:.:.:.:.:.\t./.:.:.:.:.:.:.\t./.:.:.:.:.:.:.\t./.:.:.:.:.:.:.\t./.:.:.:.:.:.:.\t./.:.:.:.:.:.:.\t./.:.:.:.:.:.:.\t./.:.:.:.:.:.:.\t./.:.:.:.:.:.:.\t./.:.:.:.:.:.:.\t./.:.:.:.:.:.:.\t./.:.:.:.:.:.:.\t./.:.:.:.:.:.:.\t./.:.:.:.:.:.:.\t./.:.:.:.:.:.:.\t./.:.:.:.:.:.:.\n",
      "\u001b[0m\n",
      "\u001b[32m1100000 lines processed \u001b[0m\n",
      "\u001b[32m1200000 lines processed \u001b[0m\n",
      "\n",
      " \u001b[31mWarning: Wrong read depth\u001b[0m\n",
      "\u001b[34m10\t135443370\t.\tG\tA\t.\t.\tAS_SB_TABLE=0,0|0,0;DP=8;ECNT=9;MBQ=32,35;MFRL=0,161;MMQ=20,25;MPOS=22;POPAF=7.3;TLOD=15.08\tGT:AD:AF:DP:F1R2:F2R1:PGT:PID:PS:SB\t./.:.:.:.:.:.:.:.:.:.\t./.:.:.:.:.:.:.:.:.:.\t./.:.:.:.:.:.:.:.:.:.\t./.:.:.:.:.:.:.:.:.:.\t./.:.:.:.:.:.:.:.:.:.\t./.:.:.:.:.:.:.:.:.:.\t./.:.:.:.:.:.:.:.:.:.\t./.:.:.:.:.:.:.:.:.:.\t./.:.:.:.:.:.:.:.:.:.\t./.:.:.:.:.:.:.:.:.:.\t./.:.:.:.:.:.:.:.:.:.\t0|1:6,2:0.364:8:1,1:3,1:0|1:135443322_C_T:135443322:5,1,0,2\t./.:.:.:.:.:.:.:.:.:.\t./.:.:.:.:.:.:.:.:.:.\t./.:.:.:.:.:.:.:.:.:.\t./.:.:.:.:.:.:.:.:.:.\t./.:.:.:.:.:.:.:.:.:.\t./.:.:.:.:.:.:.:.:.:.\t./.:.:.:.:.:.:.:.:.:.\t./.:.:.:.:.:.:.:.:.:.\t./.:.:.:.:.:.:.:.:.:.\t./.:.:.:.:.:.:.:.:.:.\t./.:.:.:.:.:.:.:.:.:.\t./.:.:.:.:.:.:.:.:.:.\t0/1:0,0:0.6:0:0,0:0,0:.:.:.:0,0,0,0\t./.:.:.:.:.:.:.:.:.:.\t./.:.:.:.:.:.:.:.:.:.\t./.:.:.:.:.:.:.:.:.:.\t./.:.:.:.:.:.:.:.:.:.\t./.:.:.:.:.:.:.:.:.:.\t./.:.:.:.:.:.:.:.:.:.\t./.:.:.:.:.:.:.:.:.:.\t./.:.:.:.:.:.:.:.:.:.\t./.:.:.:.:.:.:.:.:.:.\t./.:.:.:.:.:.:.:.:.:.\t./.:.:.:.:.:.:.:.:.:.\t./.:.:.:.:.:.:.:.:.:.\n",
      "\u001b[0m\n",
      "\n",
      " \u001b[31mWarning: Wrong read depth\u001b[0m\n",
      "\u001b[34m11\t82127718\t.\tT\tC\t.\t.\tAS_SB_TABLE=0,0|0,0;DP=32;ECNT=16;MBQ=0,0;MFRL=0,0;MMQ=60,60;MPOS=50;POPAF=7.3;TLOD=9.92\tGT:AD:AF:DP:F1R2:F2R1:PGT:PID:PS:SB\t./.:.:.:.:.:.:.:.:.:.\t./.:.:.:.:.:.:.:.:.:.\t./.:.:.:.:.:.:.:.:.:.\t./.:.:.:.:.:.:.:.:.:.\t./.:.:.:.:.:.:.:.:.:.\t./.:.:.:.:.:.:.:.:.:.\t./.:.:.:.:.:.:.:.:.:.\t./.:.:.:.:.:.:.:.:.:.\t./.:.:.:.:.:.:.:.:.:.\t./.:.:.:.:.:.:.:.:.:.\t./.:.:.:.:.:.:.:.:.:.\t./.:.:.:.:.:.:.:.:.:.\t./.:.:.:.:.:.:.:.:.:.\t./.:.:.:.:.:.:.:.:.:.\t./.:.:.:.:.:.:.:.:.:.\t0|1:0,0:0.326:0:0,0:0,0:0|1:82127654_T_C:82127654:0,0,0,0\t./.:.:.:.:.:.:.:.:.:.\t./.:.:.:.:.:.:.:.:.:.\t./.:.:.:.:.:.:.:.:.:.\t./.:.:.:.:.:.:.:.:.:.\t./.:.:.:.:.:.:.:.:.:.\t./.:.:.:.:.:.:.:.:.:.\t./.:.:.:.:.:.:.:.:.:.\t./.:.:.:.:.:.:.:.:.:.\t./.:.:.:.:.:.:.:.:.:.\t./.:.:.:.:.:.:.:.:.:.\t./.:.:.:.:.:.:.:.:.:.\t./.:.:.:.:.:.:.:.:.:.\t./.:.:.:.:.:.:.:.:.:.\t./.:.:.:.:.:.:.:.:.:.\t./.:.:.:.:.:.:.:.:.:.\t./.:.:.:.:.:.:.:.:.:.\t./.:.:.:.:.:.:.:.:.:.\t./.:.:.:.:.:.:.:.:.:.\t./.:.:.:.:.:.:.:.:.:.\t./.:.:.:.:.:.:.:.:.:.\t./.:.:.:.:.:.:.:.:.:.\n",
      "\u001b[0m\n",
      "\u001b[32m1300000 lines processed \u001b[0m\n",
      "\n",
      " \u001b[31mWarning: Wrong read depth\u001b[0m\n",
      "\u001b[34m12\t83391101\t.\tG\tC\t.\t.\tAS_SB_TABLE=0,0|0,0;DP=9;ECNT=5;MBQ=0,0;MFRL=0,0;MMQ=60,60;MPOS=50;POPAF=7.3;TLOD=4.66\tGT:AD:AF:DP:F1R2:F2R1:PGT:PID:PS:SB\t./.:.:.:.:.:.:.:.:.:.\t./.:.:.:.:.:.:.:.:.:.\t./.:.:.:.:.:.:.:.:.:.\t./.:.:.:.:.:.:.:.:.:.\t./.:.:.:.:.:.:.:.:.:.\t./.:.:.:.:.:.:.:.:.:.\t./.:.:.:.:.:.:.:.:.:.\t./.:.:.:.:.:.:.:.:.:.\t./.:.:.:.:.:.:.:.:.:.\t./.:.:.:.:.:.:.:.:.:.\t./.:.:.:.:.:.:.:.:.:.\t./.:.:.:.:.:.:.:.:.:.\t./.:.:.:.:.:.:.:.:.:.\t./.:.:.:.:.:.:.:.:.:.\t./.:.:.:.:.:.:.:.:.:.\t./.:.:.:.:.:.:.:.:.:.\t./.:.:.:.:.:.:.:.:.:.\t./.:.:.:.:.:.:.:.:.:.\t./.:.:.:.:.:.:.:.:.:.\t./.:.:.:.:.:.:.:.:.:.\t./.:.:.:.:.:.:.:.:.:.\t./.:.:.:.:.:.:.:.:.:.\t./.:.:.:.:.:.:.:.:.:.\t0|1:0,0:0.764:0:0,0:0,0:0|1:83391101_G_C:83391101:0,0,0,0\t./.:.:.:.:.:.:.:.:.:.\t./.:.:.:.:.:.:.:.:.:.\t./.:.:.:.:.:.:.:.:.:.\t./.:.:.:.:.:.:.:.:.:.\t./.:.:.:.:.:.:.:.:.:.\t./.:.:.:.:.:.:.:.:.:.\t./.:.:.:.:.:.:.:.:.:.\t./.:.:.:.:.:.:.:.:.:.\t./.:.:.:.:.:.:.:.:.:.\t./.:.:.:.:.:.:.:.:.:.\t./.:.:.:.:.:.:.:.:.:.\t./.:.:.:.:.:.:.:.:.:.\t./.:.:.:.:.:.:.:.:.:.\n",
      "\u001b[0m\n",
      "\n",
      " \u001b[31mWarning: Wrong read depth\u001b[0m\n",
      "\u001b[34m12\t83391103\t.\tC\tG\t.\t.\tAS_SB_TABLE=0,0|0,0;DP=10;ECNT=5;MBQ=0,0;MFRL=0,0;MMQ=60,60;MPOS=50;POPAF=7.3;TLOD=4.61\tGT:AD:AF:DP:F1R2:F2R1:PGT:PID:PS:SB\t./.:.:.:.:.:.:.:.:.:.\t./.:.:.:.:.:.:.:.:.:.\t./.:.:.:.:.:.:.:.:.:.\t./.:.:.:.:.:.:.:.:.:.\t./.:.:.:.:.:.:.:.:.:.\t./.:.:.:.:.:.:.:.:.:.\t./.:.:.:.:.:.:.:.:.:.\t./.:.:.:.:.:.:.:.:.:.\t./.:.:.:.:.:.:.:.:.:.\t./.:.:.:.:.:.:.:.:.:.\t./.:.:.:.:.:.:.:.:.:.\t./.:.:.:.:.:.:.:.:.:.\t./.:.:.:.:.:.:.:.:.:.\t./.:.:.:.:.:.:.:.:.:.\t./.:.:.:.:.:.:.:.:.:.\t./.:.:.:.:.:.:.:.:.:.\t./.:.:.:.:.:.:.:.:.:.\t./.:.:.:.:.:.:.:.:.:.\t./.:.:.:.:.:.:.:.:.:.\t./.:.:.:.:.:.:.:.:.:.\t./.:.:.:.:.:.:.:.:.:.\t./.:.:.:.:.:.:.:.:.:.\t./.:.:.:.:.:.:.:.:.:.\t0|1:0,0:0.759:0:0,0:0,0:0|1:83391101_G_C:83391101:0,0,0,0\t./.:.:.:.:.:.:.:.:.:.\t./.:.:.:.:.:.:.:.:.:.\t./.:.:.:.:.:.:.:.:.:.\t./.:.:.:.:.:.:.:.:.:.\t./.:.:.:.:.:.:.:.:.:.\t./.:.:.:.:.:.:.:.:.:.\t./.:.:.:.:.:.:.:.:.:.\t./.:.:.:.:.:.:.:.:.:.\t./.:.:.:.:.:.:.:.:.:.\t./.:.:.:.:.:.:.:.:.:.\t./.:.:.:.:.:.:.:.:.:.\t./.:.:.:.:.:.:.:.:.:.\t./.:.:.:.:.:.:.:.:.:.\n",
      "\u001b[0m\n",
      "\n",
      " \u001b[31mWarning: Wrong read depth\u001b[0m\n",
      "\u001b[34m12\t133046303\t.\tT\tG\t.\t.\tAS_SB_TABLE=0,0|0,0;DP=12;ECNT=24;MBQ=0,0;MFRL=0,0;MMQ=60,60;MPOS=50;POPAF=7.3;TLOD=9.18\tGT:AD:AF:DP:F1R2:F2R1:PGT:PID:PS:SB\t./.:.:.:.:.:.:.:.:.:.\t./.:.:.:.:.:.:.:.:.:.\t./.:.:.:.:.:.:.:.:.:.\t./.:.:.:.:.:.:.:.:.:.\t./.:.:.:.:.:.:.:.:.:.\t./.:.:.:.:.:.:.:.:.:.\t./.:.:.:.:.:.:.:.:.:.\t./.:.:.:.:.:.:.:.:.:.\t./.:.:.:.:.:.:.:.:.:.\t./.:.:.:.:.:.:.:.:.:.\t./.:.:.:.:.:.:.:.:.:.\t./.:.:.:.:.:.:.:.:.:.\t./.:.:.:.:.:.:.:.:.:.\t./.:.:.:.:.:.:.:.:.:.\t./.:.:.:.:.:.:.:.:.:.\t./.:.:.:.:.:.:.:.:.:.\t./.:.:.:.:.:.:.:.:.:.\t./.:.:.:.:.:.:.:.:.:.\t./.:.:.:.:.:.:.:.:.:.\t./.:.:.:.:.:.:.:.:.:.\t0|1:0,0:0.753:0:0,0:0,0:0|1:133046263_G_T:133046263:0,0,0,0\t./.:.:.:.:.:.:.:.:.:.\t./.:.:.:.:.:.:.:.:.:.\t./.:.:.:.:.:.:.:.:.:.\t./.:.:.:.:.:.:.:.:.:.\t./.:.:.:.:.:.:.:.:.:.\t./.:.:.:.:.:.:.:.:.:.\t./.:.:.:.:.:.:.:.:.:.\t./.:.:.:.:.:.:.:.:.:.\t./.:.:.:.:.:.:.:.:.:.\t./.:.:.:.:.:.:.:.:.:.\t./.:.:.:.:.:.:.:.:.:.\t./.:.:.:.:.:.:.:.:.:.\t./.:.:.:.:.:.:.:.:.:.\t./.:.:.:.:.:.:.:.:.:.\t./.:.:.:.:.:.:.:.:.:.\t./.:.:.:.:.:.:.:.:.:.\n",
      "\u001b[0m\n",
      "\u001b[32m1400000 lines processed \u001b[0m\n",
      "\n",
      " \u001b[31mWarning: Wrong read depth\u001b[0m\n",
      "\u001b[34m13\t108548062\t.\tG\tA\t.\t.\tAS_SB_TABLE=1,0|11,19;DP=66;ECNT=5;MBQ=0,0;MFRL=0,0;MMQ=60,60;MPOS=50;POPAF=7.3;TLOD=41.3\tGT:AD:AF:DP:F1R2:F2R1:PGT:PID:PS:SB\t./.:.:.:.:.:.:.:.:.:.\t./.:.:.:.:.:.:.:.:.:.\t./.:.:.:.:.:.:.:.:.:.\t./.:.:.:.:.:.:.:.:.:.\t./.:.:.:.:.:.:.:.:.:.\t./.:.:.:.:.:.:.:.:.:.\t./.:.:.:.:.:.:.:.:.:.\t0|1:0,0:0.964:0:0,0:0,0:0|1:108548062_G_A:108548062:0,0,0,0\t./.:.:.:.:.:.:.:.:.:.\t./.:.:.:.:.:.:.:.:.:.\t./.:.:.:.:.:.:.:.:.:.\t./.:.:.:.:.:.:.:.:.:.\t./.:.:.:.:.:.:.:.:.:.\t./.:.:.:.:.:.:.:.:.:.\t./.:.:.:.:.:.:.:.:.:.\t./.:.:.:.:.:.:.:.:.:.\t./.:.:.:.:.:.:.:.:.:.\t./.:.:.:.:.:.:.:.:.:.\t./.:.:.:.:.:.:.:.:.:.\t./.:.:.:.:.:.:.:.:.:.\t./.:.:.:.:.:.:.:.:.:.\t0/1:1,30:0.965:31:1,23:0,7:.:.:.:1,0,11,19\t./.:.:.:.:.:.:.:.:.:.\t./.:.:.:.:.:.:.:.:.:.\t./.:.:.:.:.:.:.:.:.:.\t./.:.:.:.:.:.:.:.:.:.\t./.:.:.:.:.:.:.:.:.:.\t./.:.:.:.:.:.:.:.:.:.\t./.:.:.:.:.:.:.:.:.:.\t./.:.:.:.:.:.:.:.:.:.\t./.:.:.:.:.:.:.:.:.:.\t./.:.:.:.:.:.:.:.:.:.\t./.:.:.:.:.:.:.:.:.:.\t./.:.:.:.:.:.:.:.:.:.\t./.:.:.:.:.:.:.:.:.:.\t./.:.:.:.:.:.:.:.:.:.\t./.:.:.:.:.:.:.:.:.:.\n",
      "\u001b[0m\n",
      "\n",
      " \u001b[31mWarning: Wrong read depth\u001b[0m\n",
      "\u001b[34m14\t56942383\t.\tT\tC\t.\t.\tAS_SB_TABLE=0,0|0,0;DP=9;ECNT=9;MBQ=0,0;MFRL=0,0;MMQ=60,60;MPOS=50;POPAF=7.3;TLOD=15.35\tGT:AD:AF:DP:F1R2:F2R1:PGT:PID:PS:SB\t./.:.:.:.:.:.:.:.:.:.\t./.:.:.:.:.:.:.:.:.:.\t./.:.:.:.:.:.:.:.:.:.\t./.:.:.:.:.:.:.:.:.:.\t./.:.:.:.:.:.:.:.:.:.\t./.:.:.:.:.:.:.:.:.:.\t./.:.:.:.:.:.:.:.:.:.\t./.:.:.:.:.:.:.:.:.:.\t./.:.:.:.:.:.:.:.:.:.\t./.:.:.:.:.:.:.:.:.:.\t0|1:0,0:0.884:0:0,0:0,0:0|1:56942312_G_GTA:56942312:0,0,0,0\t./.:.:.:.:.:.:.:.:.:.\t./.:.:.:.:.:.:.:.:.:.\t./.:.:.:.:.:.:.:.:.:.\t./.:.:.:.:.:.:.:.:.:.\t./.:.:.:.:.:.:.:.:.:.\t./.:.:.:.:.:.:.:.:.:.\t./.:.:.:.:.:.:.:.:.:.\t./.:.:.:.:.:.:.:.:.:.\t./.:.:.:.:.:.:.:.:.:.\t./.:.:.:.:.:.:.:.:.:.\t./.:.:.:.:.:.:.:.:.:.\t./.:.:.:.:.:.:.:.:.:.\t./.:.:.:.:.:.:.:.:.:.\t./.:.:.:.:.:.:.:.:.:.\t./.:.:.:.:.:.:.:.:.:.\t./.:.:.:.:.:.:.:.:.:.\t./.:.:.:.:.:.:.:.:.:.\t./.:.:.:.:.:.:.:.:.:.\t./.:.:.:.:.:.:.:.:.:.\t./.:.:.:.:.:.:.:.:.:.\t./.:.:.:.:.:.:.:.:.:.\t./.:.:.:.:.:.:.:.:.:.\t./.:.:.:.:.:.:.:.:.:.\t./.:.:.:.:.:.:.:.:.:.\t./.:.:.:.:.:.:.:.:.:.\t./.:.:.:.:.:.:.:.:.:.\n",
      "\u001b[0m\n",
      "\u001b[32m1500000 lines processed \u001b[0m\n",
      "\n",
      " \u001b[31mWarning: Wrong read depth\u001b[0m\n",
      "\u001b[34m15\t26180761\t.\tA\tG\t.\t.\tAS_SB_TABLE=0,0|0,0;DP=1;ECNT=6;MBQ=0,0;MFRL=0,0;MMQ=60,60;MPOS=50;POPAF=7.3;TLOD=3.56\tGT:AD:AF:DP:F1R2:F2R1:PGT:PID:PS:SB\t./.:.:.:.:.:.:.:.:.:.\t./.:.:.:.:.:.:.:.:.:.\t./.:.:.:.:.:.:.:.:.:.\t./.:.:.:.:.:.:.:.:.:.\t./.:.:.:.:.:.:.:.:.:.\t./.:.:.:.:.:.:.:.:.:.\t./.:.:.:.:.:.:.:.:.:.\t./.:.:.:.:.:.:.:.:.:.\t./.:.:.:.:.:.:.:.:.:.\t./.:.:.:.:.:.:.:.:.:.\t./.:.:.:.:.:.:.:.:.:.\t./.:.:.:.:.:.:.:.:.:.\t./.:.:.:.:.:.:.:.:.:.\t./.:.:.:.:.:.:.:.:.:.\t./.:.:.:.:.:.:.:.:.:.\t./.:.:.:.:.:.:.:.:.:.\t0|1:0,0:0.667:0:0,0:0,0:0|1:26180748_G_A:26180748:0,0,0,0\t./.:.:.:.:.:.:.:.:.:.\t./.:.:.:.:.:.:.:.:.:.\t./.:.:.:.:.:.:.:.:.:.\t./.:.:.:.:.:.:.:.:.:.\t./.:.:.:.:.:.:.:.:.:.\t./.:.:.:.:.:.:.:.:.:.\t./.:.:.:.:.:.:.:.:.:.\t./.:.:.:.:.:.:.:.:.:.\t./.:.:.:.:.:.:.:.:.:.\t./.:.:.:.:.:.:.:.:.:.\t./.:.:.:.:.:.:.:.:.:.\t./.:.:.:.:.:.:.:.:.:.\t./.:.:.:.:.:.:.:.:.:.\t./.:.:.:.:.:.:.:.:.:.\t./.:.:.:.:.:.:.:.:.:.\t./.:.:.:.:.:.:.:.:.:.\t./.:.:.:.:.:.:.:.:.:.\t./.:.:.:.:.:.:.:.:.:.\t./.:.:.:.:.:.:.:.:.:.\t./.:.:.:.:.:.:.:.:.:.\n",
      "\u001b[0m\n",
      "\n",
      " \u001b[31mWarning: Wrong read depth\u001b[0m\n",
      "\u001b[34m15\t97899674\t.\tT\tA\t.\t.\tAS_SB_TABLE=0,0|0,0;DP=31;ECNT=9;MBQ=0,0;MFRL=0,0;MMQ=60,60;MPOS=50;POPAF=7.3;TLOD=20.36\tGT:AD:AF:DP:F1R2:F2R1:PGT:PID:PS:SB\t./.:.:.:.:.:.:.:.:.:.\t./.:.:.:.:.:.:.:.:.:.\t./.:.:.:.:.:.:.:.:.:.\t./.:.:.:.:.:.:.:.:.:.\t./.:.:.:.:.:.:.:.:.:.\t./.:.:.:.:.:.:.:.:.:.\t./.:.:.:.:.:.:.:.:.:.\t./.:.:.:.:.:.:.:.:.:.\t./.:.:.:.:.:.:.:.:.:.\t./.:.:.:.:.:.:.:.:.:.\t./.:.:.:.:.:.:.:.:.:.\t./.:.:.:.:.:.:.:.:.:.\t./.:.:.:.:.:.:.:.:.:.\t./.:.:.:.:.:.:.:.:.:.\t./.:.:.:.:.:.:.:.:.:.\t0|1:0,0:0.916:0:0,0:0,0:0|1:97899674_T_A:97899674:0,0,0,0\t./.:.:.:.:.:.:.:.:.:.\t./.:.:.:.:.:.:.:.:.:.\t./.:.:.:.:.:.:.:.:.:.\t./.:.:.:.:.:.:.:.:.:.\t./.:.:.:.:.:.:.:.:.:.\t./.:.:.:.:.:.:.:.:.:.\t./.:.:.:.:.:.:.:.:.:.\t./.:.:.:.:.:.:.:.:.:.\t./.:.:.:.:.:.:.:.:.:.\t./.:.:.:.:.:.:.:.:.:.\t./.:.:.:.:.:.:.:.:.:.\t./.:.:.:.:.:.:.:.:.:.\t./.:.:.:.:.:.:.:.:.:.\t./.:.:.:.:.:.:.:.:.:.\t./.:.:.:.:.:.:.:.:.:.\t./.:.:.:.:.:.:.:.:.:.\t./.:.:.:.:.:.:.:.:.:.\t./.:.:.:.:.:.:.:.:.:.\t./.:.:.:.:.:.:.:.:.:.\t./.:.:.:.:.:.:.:.:.:.\t./.:.:.:.:.:.:.:.:.:.\n",
      "\u001b[0m\n",
      "\n",
      " \u001b[31mWarning: Wrong read depth\u001b[0m\n",
      "\u001b[34m15\t101051818\t.\tA\tG\t.\t.\tAS_SB_TABLE=0,0|0,0;DP=3;ECNT=8;MBQ=0,0;MFRL=0,181;MMQ=60,29;MPOS=50;POPAF=7.3;TLOD=4.5\tGT:AD:AF:DP:F1R2:F2R1:PGT:PID:PS:SB\t./.:.:.:.:.:.:.:.:.:.\t./.:.:.:.:.:.:.:.:.:.\t0|1:0,1:0.667:1:0,0:0,0:0|1:101051739_G_C:101051739:0,0,0,1\t./.:.:.:.:.:.:.:.:.:.\t./.:.:.:.:.:.:.:.:.:.\t./.:.:.:.:.:.:.:.:.:.\t./.:.:.:.:.:.:.:.:.:.\t./.:.:.:.:.:.:.:.:.:.\t./.:.:.:.:.:.:.:.:.:.\t./.:.:.:.:.:.:.:.:.:.\t./.:.:.:.:.:.:.:.:.:.\t./.:.:.:.:.:.:.:.:.:.\t./.:.:.:.:.:.:.:.:.:.\t./.:.:.:.:.:.:.:.:.:.\t./.:.:.:.:.:.:.:.:.:.\t./.:.:.:.:.:.:.:.:.:.\t./.:.:.:.:.:.:.:.:.:.\t./.:.:.:.:.:.:.:.:.:.\t./.:.:.:.:.:.:.:.:.:.\t./.:.:.:.:.:.:.:.:.:.\t0|1:0,0:0.667:0:0,0:0,0:0|1:101051739_G_C:101051739:0,0,0,0\t./.:.:.:.:.:.:.:.:.:.\t0|1:0,2:0.833:2:0,0:0,0:0|1:101051739_G_C:101051739:0,0,0,2\t./.:.:.:.:.:.:.:.:.:.\t./.:.:.:.:.:.:.:.:.:.\t./.:.:.:.:.:.:.:.:.:.\t./.:.:.:.:.:.:.:.:.:.\t./.:.:.:.:.:.:.:.:.:.\t./.:.:.:.:.:.:.:.:.:.\t0|1:0,0:0.833:0:0,0:0,0:0|1:101051739_G_C:101051739:0,0,0,0\t./.:.:.:.:.:.:.:.:.:.\t./.:.:.:.:.:.:.:.:.:.\t./.:.:.:.:.:.:.:.:.:.\t./.:.:.:.:.:.:.:.:.:.\t./.:.:.:.:.:.:.:.:.:.\t./.:.:.:.:.:.:.:.:.:.\t0|1:0,0:0.8:0:0,0:0,0:0|1:101051739_G_C:101051739:0,0,0,0\n",
      "\u001b[0m\n",
      "\n",
      " \u001b[31mWarning: Wrong read depth\u001b[0m\n",
      "\u001b[34m15\t101051818\t.\tA\tG\t.\t.\tAS_SB_TABLE=0,0|0,0;DP=3;ECNT=8;MBQ=0,0;MFRL=0,181;MMQ=60,29;MPOS=50;POPAF=7.3;TLOD=4.5\tGT:AD:AF:DP:F1R2:F2R1:PGT:PID:PS:SB\t./.:.:.:.:.:.:.:.:.:.\t./.:.:.:.:.:.:.:.:.:.\t0|1:0,1:0.667:1:0,0:0,0:0|1:101051739_G_C:101051739:0,0,0,1\t./.:.:.:.:.:.:.:.:.:.\t./.:.:.:.:.:.:.:.:.:.\t./.:.:.:.:.:.:.:.:.:.\t./.:.:.:.:.:.:.:.:.:.\t./.:.:.:.:.:.:.:.:.:.\t./.:.:.:.:.:.:.:.:.:.\t./.:.:.:.:.:.:.:.:.:.\t./.:.:.:.:.:.:.:.:.:.\t./.:.:.:.:.:.:.:.:.:.\t./.:.:.:.:.:.:.:.:.:.\t./.:.:.:.:.:.:.:.:.:.\t./.:.:.:.:.:.:.:.:.:.\t./.:.:.:.:.:.:.:.:.:.\t./.:.:.:.:.:.:.:.:.:.\t./.:.:.:.:.:.:.:.:.:.\t./.:.:.:.:.:.:.:.:.:.\t./.:.:.:.:.:.:.:.:.:.\t0|1:0,0:0.667:0:0,0:0,0:0|1:101051739_G_C:101051739:0,0,0,0\t./.:.:.:.:.:.:.:.:.:.\t0|1:0,2:0.833:2:0,0:0,0:0|1:101051739_G_C:101051739:0,0,0,2\t./.:.:.:.:.:.:.:.:.:.\t./.:.:.:.:.:.:.:.:.:.\t./.:.:.:.:.:.:.:.:.:.\t./.:.:.:.:.:.:.:.:.:.\t./.:.:.:.:.:.:.:.:.:.\t./.:.:.:.:.:.:.:.:.:.\t0|1:0,0:0.833:0:0,0:0,0:0|1:101051739_G_C:101051739:0,0,0,0\t./.:.:.:.:.:.:.:.:.:.\t./.:.:.:.:.:.:.:.:.:.\t./.:.:.:.:.:.:.:.:.:.\t./.:.:.:.:.:.:.:.:.:.\t./.:.:.:.:.:.:.:.:.:.\t./.:.:.:.:.:.:.:.:.:.\t0|1:0,0:0.8:0:0,0:0,0:0|1:101051739_G_C:101051739:0,0,0,0\n",
      "\u001b[0m\n",
      "\n",
      " \u001b[31mWarning: Wrong read depth\u001b[0m\n",
      "\u001b[34m15\t101051818\t.\tA\tG\t.\t.\tAS_SB_TABLE=0,0|0,0;DP=3;ECNT=8;MBQ=0,0;MFRL=0,181;MMQ=60,29;MPOS=50;POPAF=7.3;TLOD=4.5\tGT:AD:AF:DP:F1R2:F2R1:PGT:PID:PS:SB\t./.:.:.:.:.:.:.:.:.:.\t./.:.:.:.:.:.:.:.:.:.\t0|1:0,1:0.667:1:0,0:0,0:0|1:101051739_G_C:101051739:0,0,0,1\t./.:.:.:.:.:.:.:.:.:.\t./.:.:.:.:.:.:.:.:.:.\t./.:.:.:.:.:.:.:.:.:.\t./.:.:.:.:.:.:.:.:.:.\t./.:.:.:.:.:.:.:.:.:.\t./.:.:.:.:.:.:.:.:.:.\t./.:.:.:.:.:.:.:.:.:.\t./.:.:.:.:.:.:.:.:.:.\t./.:.:.:.:.:.:.:.:.:.\t./.:.:.:.:.:.:.:.:.:.\t./.:.:.:.:.:.:.:.:.:.\t./.:.:.:.:.:.:.:.:.:.\t./.:.:.:.:.:.:.:.:.:.\t./.:.:.:.:.:.:.:.:.:.\t./.:.:.:.:.:.:.:.:.:.\t./.:.:.:.:.:.:.:.:.:.\t./.:.:.:.:.:.:.:.:.:.\t0|1:0,0:0.667:0:0,0:0,0:0|1:101051739_G_C:101051739:0,0,0,0\t./.:.:.:.:.:.:.:.:.:.\t0|1:0,2:0.833:2:0,0:0,0:0|1:101051739_G_C:101051739:0,0,0,2\t./.:.:.:.:.:.:.:.:.:.\t./.:.:.:.:.:.:.:.:.:.\t./.:.:.:.:.:.:.:.:.:.\t./.:.:.:.:.:.:.:.:.:.\t./.:.:.:.:.:.:.:.:.:.\t./.:.:.:.:.:.:.:.:.:.\t0|1:0,0:0.833:0:0,0:0,0:0|1:101051739_G_C:101051739:0,0,0,0\t./.:.:.:.:.:.:.:.:.:.\t./.:.:.:.:.:.:.:.:.:.\t./.:.:.:.:.:.:.:.:.:.\t./.:.:.:.:.:.:.:.:.:.\t./.:.:.:.:.:.:.:.:.:.\t./.:.:.:.:.:.:.:.:.:.\t0|1:0,0:0.8:0:0,0:0,0:0|1:101051739_G_C:101051739:0,0,0,0\n",
      "\u001b[0m\n",
      "\u001b[32m1600000 lines processed \u001b[0m\n",
      "\n",
      " \u001b[31mWarning: Wrong read depth\u001b[0m\n",
      "\u001b[34m16\t23887080\t.\tT\tC\t.\t.\tAS_SB_TABLE=0,0|0,0;DP=16;ECNT=5;MBQ=0,0;MFRL=0,0;MMQ=60,60;MPOS=50;POPAF=7.3;TLOD=12.53\tGT:AD:AF:DP:F1R2:F2R1:PGT:PID:PS:SB\t./.:.:.:.:.:.:.:.:.:.\t./.:.:.:.:.:.:.:.:.:.\t./.:.:.:.:.:.:.:.:.:.\t./.:.:.:.:.:.:.:.:.:.\t./.:.:.:.:.:.:.:.:.:.\t./.:.:.:.:.:.:.:.:.:.\t./.:.:.:.:.:.:.:.:.:.\t./.:.:.:.:.:.:.:.:.:.\t./.:.:.:.:.:.:.:.:.:.\t./.:.:.:.:.:.:.:.:.:.\t./.:.:.:.:.:.:.:.:.:.\t./.:.:.:.:.:.:.:.:.:.\t./.:.:.:.:.:.:.:.:.:.\t./.:.:.:.:.:.:.:.:.:.\t./.:.:.:.:.:.:.:.:.:.\t./.:.:.:.:.:.:.:.:.:.\t./.:.:.:.:.:.:.:.:.:.\t./.:.:.:.:.:.:.:.:.:.\t./.:.:.:.:.:.:.:.:.:.\t./.:.:.:.:.:.:.:.:.:.\t0|1:0,0:0.888:0:0,0:0,0:0|1:23887005_C_T:23887005:0,0,0,0\t./.:.:.:.:.:.:.:.:.:.\t./.:.:.:.:.:.:.:.:.:.\t./.:.:.:.:.:.:.:.:.:.\t./.:.:.:.:.:.:.:.:.:.\t./.:.:.:.:.:.:.:.:.:.\t./.:.:.:.:.:.:.:.:.:.\t./.:.:.:.:.:.:.:.:.:.\t./.:.:.:.:.:.:.:.:.:.\t./.:.:.:.:.:.:.:.:.:.\t./.:.:.:.:.:.:.:.:.:.\t./.:.:.:.:.:.:.:.:.:.\t./.:.:.:.:.:.:.:.:.:.\t./.:.:.:.:.:.:.:.:.:.\t./.:.:.:.:.:.:.:.:.:.\t./.:.:.:.:.:.:.:.:.:.\t./.:.:.:.:.:.:.:.:.:.\n",
      "\u001b[0m\n",
      "\n",
      " \u001b[31mWarning: Wrong read depth\u001b[0m\n",
      "\u001b[34m16\t71287454\t.\tG\tA\t.\t.\tAS_SB_TABLE=0,0|0,0;DP=20;ECNT=5;MBQ=0,0;MFRL=0,0;MMQ=60,60;MPOS=50;POPAF=7.3;TLOD=6.74\tGT:AD:AF:DP:F1R2:F2R1:SB\t./.:.:.:.:.:.:.\t./.:.:.:.:.:.:.\t./.:.:.:.:.:.:.\t./.:.:.:.:.:.:.\t./.:.:.:.:.:.:.\t./.:.:.:.:.:.:.\t0/1:0,0:0.77:0:0,0:0,0:0,0,0,0\t./.:.:.:.:.:.:.\t./.:.:.:.:.:.:.\t./.:.:.:.:.:.:.\t./.:.:.:.:.:.:.\t./.:.:.:.:.:.:.\t./.:.:.:.:.:.:.\t./.:.:.:.:.:.:.\t./.:.:.:.:.:.:.\t./.:.:.:.:.:.:.\t./.:.:.:.:.:.:.\t./.:.:.:.:.:.:.\t./.:.:.:.:.:.:.\t./.:.:.:.:.:.:.\t./.:.:.:.:.:.:.\t./.:.:.:.:.:.:.\t./.:.:.:.:.:.:.\t./.:.:.:.:.:.:.\t./.:.:.:.:.:.:.\t./.:.:.:.:.:.:.\t./.:.:.:.:.:.:.\t./.:.:.:.:.:.:.\t./.:.:.:.:.:.:.\t./.:.:.:.:.:.:.\t./.:.:.:.:.:.:.\t./.:.:.:.:.:.:.\t./.:.:.:.:.:.:.\t./.:.:.:.:.:.:.\t./.:.:.:.:.:.:.\t./.:.:.:.:.:.:.\t./.:.:.:.:.:.:.\n",
      "\u001b[0m\n",
      "\n",
      " \u001b[31mWarning: Wrong read depth\u001b[0m\n",
      "\u001b[34m16\t74144299\t.\tA\tG\t.\t.\tAS_SB_TABLE=0,0|0,0;DP=77;ECNT=4;MBQ=34,0;MFRL=207,0;MMQ=60,60;MPOS=50;POPAF=7.3;TLOD=16.24\tGT:AD:AF:DP:F1R2:F2R1:PGT:PID:PS:SB\t./.:.:.:.:.:.:.:.:.:.\t./.:.:.:.:.:.:.:.:.:.\t./.:.:.:.:.:.:.:.:.:.\t./.:.:.:.:.:.:.:.:.:.\t./.:.:.:.:.:.:.:.:.:.\t./.:.:.:.:.:.:.:.:.:.\t./.:.:.:.:.:.:.:.:.:.\t./.:.:.:.:.:.:.:.:.:.\t./.:.:.:.:.:.:.:.:.:.\t./.:.:.:.:.:.:.:.:.:.\t./.:.:.:.:.:.:.:.:.:.\t./.:.:.:.:.:.:.:.:.:.\t./.:.:.:.:.:.:.:.:.:.\t./.:.:.:.:.:.:.:.:.:.\t./.:.:.:.:.:.:.:.:.:.\t./.:.:.:.:.:.:.:.:.:.\t./.:.:.:.:.:.:.:.:.:.\t./.:.:.:.:.:.:.:.:.:.\t./.:.:.:.:.:.:.:.:.:.\t./.:.:.:.:.:.:.:.:.:.\t./.:.:.:.:.:.:.:.:.:.\t./.:.:.:.:.:.:.:.:.:.\t0|1:0,0:0.819:0:0,0:0,0:0|1:74144299_A_G:74144299:0,0,0,0\t./.:.:.:.:.:.:.:.:.:.\t./.:.:.:.:.:.:.:.:.:.\t0|1:7,0:0.828:7:2,0:5,0:0|1:74144299_A_G:74144299:3,4,0,0\t./.:.:.:.:.:.:.:.:.:.\t./.:.:.:.:.:.:.:.:.:.\t./.:.:.:.:.:.:.:.:.:.\t./.:.:.:.:.:.:.:.:.:.\t./.:.:.:.:.:.:.:.:.:.\t./.:.:.:.:.:.:.:.:.:.\t./.:.:.:.:.:.:.:.:.:.\t./.:.:.:.:.:.:.:.:.:.\t./.:.:.:.:.:.:.:.:.:.\t./.:.:.:.:.:.:.:.:.:.\t./.:.:.:.:.:.:.:.:.:.\n",
      "\u001b[0m\n",
      "\u001b[32m1700000 lines processed \u001b[0m\n",
      "\n",
      " \u001b[31mWarning: Wrong read depth\u001b[0m\n",
      "\u001b[34m17\t80109062\t.\tC\tT\t.\t.\tAS_SB_TABLE=0,0|0,0;DP=33;ECNT=11;MBQ=32,31;MFRL=162,181;MMQ=60,26;MPOS=25;POPAF=7.3;TLOD=8.81\tGT:AD:AF:DP:F1R2:F2R1:PGT:PID:PS:SB\t./.:.:.:.:.:.:.:.:.:.\t./.:.:.:.:.:.:.:.:.:.\t./.:.:.:.:.:.:.:.:.:.\t./.:.:.:.:.:.:.:.:.:.\t./.:.:.:.:.:.:.:.:.:.\t./.:.:.:.:.:.:.:.:.:.\t./.:.:.:.:.:.:.:.:.:.\t./.:.:.:.:.:.:.:.:.:.\t./.:.:.:.:.:.:.:.:.:.\t./.:.:.:.:.:.:.:.:.:.\t./.:.:.:.:.:.:.:.:.:.\t./.:.:.:.:.:.:.:.:.:.\t./.:.:.:.:.:.:.:.:.:.\t./.:.:.:.:.:.:.:.:.:.\t./.:.:.:.:.:.:.:.:.:.\t./.:.:.:.:.:.:.:.:.:.\t0|1:5,2:0.464:7:2,1:2,1:0|1:80109028_T_C:80109028:4,1,1,1\t./.:.:.:.:.:.:.:.:.:.\t./.:.:.:.:.:.:.:.:.:.\t./.:.:.:.:.:.:.:.:.:.\t./.:.:.:.:.:.:.:.:.:.\t./.:.:.:.:.:.:.:.:.:.\t./.:.:.:.:.:.:.:.:.:.\t./.:.:.:.:.:.:.:.:.:.\t./.:.:.:.:.:.:.:.:.:.\t./.:.:.:.:.:.:.:.:.:.\t./.:.:.:.:.:.:.:.:.:.\t./.:.:.:.:.:.:.:.:.:.\t0|1:0,0:0.789:0:0,0:0,0:0|1:80109028_T_C:80109028:0,0,0,0\t./.:.:.:.:.:.:.:.:.:.\t./.:.:.:.:.:.:.:.:.:.\t./.:.:.:.:.:.:.:.:.:.\t./.:.:.:.:.:.:.:.:.:.\t./.:.:.:.:.:.:.:.:.:.\t./.:.:.:.:.:.:.:.:.:.\t./.:.:.:.:.:.:.:.:.:.\t./.:.:.:.:.:.:.:.:.:.\n",
      "\u001b[0m\n",
      "\n",
      " \u001b[31mWarning: Wrong read depth\u001b[0m\n",
      "\u001b[34m17\t80109073\t.\tG\tA\t.\t.\tAS_SB_TABLE=0,0|0,0;DP=25;ECNT=11;MBQ=0,0;MFRL=0,0;MMQ=60,60;MPOS=50;POPAF=7.3;TLOD=3.25\tGT:AD:AF:DP:F1R2:F2R1:PGT:PID:PS:SB\t./.:.:.:.:.:.:.:.:.:.\t./.:.:.:.:.:.:.:.:.:.\t./.:.:.:.:.:.:.:.:.:.\t./.:.:.:.:.:.:.:.:.:.\t./.:.:.:.:.:.:.:.:.:.\t./.:.:.:.:.:.:.:.:.:.\t./.:.:.:.:.:.:.:.:.:.\t./.:.:.:.:.:.:.:.:.:.\t./.:.:.:.:.:.:.:.:.:.\t./.:.:.:.:.:.:.:.:.:.\t./.:.:.:.:.:.:.:.:.:.\t./.:.:.:.:.:.:.:.:.:.\t./.:.:.:.:.:.:.:.:.:.\t./.:.:.:.:.:.:.:.:.:.\t./.:.:.:.:.:.:.:.:.:.\t./.:.:.:.:.:.:.:.:.:.\t./.:.:.:.:.:.:.:.:.:.\t./.:.:.:.:.:.:.:.:.:.\t./.:.:.:.:.:.:.:.:.:.\t./.:.:.:.:.:.:.:.:.:.\t./.:.:.:.:.:.:.:.:.:.\t./.:.:.:.:.:.:.:.:.:.\t./.:.:.:.:.:.:.:.:.:.\t./.:.:.:.:.:.:.:.:.:.\t./.:.:.:.:.:.:.:.:.:.\t./.:.:.:.:.:.:.:.:.:.\t./.:.:.:.:.:.:.:.:.:.\t./.:.:.:.:.:.:.:.:.:.\t0|1:0,0:0.789:0:0,0:0,0:0|1:80109028_T_C:80109028:0,0,0,0\t./.:.:.:.:.:.:.:.:.:.\t./.:.:.:.:.:.:.:.:.:.\t./.:.:.:.:.:.:.:.:.:.\t./.:.:.:.:.:.:.:.:.:.\t./.:.:.:.:.:.:.:.:.:.\t./.:.:.:.:.:.:.:.:.:.\t./.:.:.:.:.:.:.:.:.:.\t./.:.:.:.:.:.:.:.:.:.\n",
      "\u001b[0m\n",
      "\n",
      " \u001b[31mWarning: Wrong read depth\u001b[0m\n",
      "\u001b[34m17\t80476541\t.\tG\tA\t.\t.\tAS_SB_TABLE=3,0|0,3;DP=616;ECNT=2;MBQ=32,25;MFRL=174,323;MMQ=60,45;MPOS=22;POPAF=7.3;TLOD=3.28\tGT:AD:AF:DP:F1R2:F2R1:PGT:PID:PS:SB\t./.:.:.:.:.:.:.:.:.:.\t./.:.:.:.:.:.:.:.:.:.\t0/1:0,0:0.895:0:0,0:0,0:.:.:.:0,0,0,0\t1|0:4,1:0.368:5:2,0:2,0:1|0:80476521_G_GTATATAGTTCATATATATAATTCATATATATATAGTTCATA:80476521:3,1,0,1\t0|1:0,1:0.886:1:0,0:0,1:0|1:80476541_G_A:80476541:0,0,0,1\t./.:.:.:.:.:.:.:.:.:.\t0|1:0,2:0.879:2:0,0:0,0:0|1:80476541_G_A:80476541:0,0,0,2\t./.:.:.:.:.:.:.:.:.:.\t0|1:10,1:0.315:11:6,0:4,1:0|1:80476541_G_A:80476541:3,7,1,0\t0|1:24,0:0.088:24:14,0:10,0:0|1:80476541_G_A:80476541:12,12,0,0\t1|0:6,0:0.336:6:3,0:2,0:1|0:80476521_G_GTATATAGTTCATATATATAATTCATATA:80476521:4,2,0,0\t./.:.:.:.:.:.:.:.:.:.\t./.:.:.:.:.:.:.:.:.:.\t0/1:7,2:0.27:9:3,0:4,2:.:.:.:5,2,0,2\t./.:.:.:.:.:.:.:.:.:.\t0|1:0,1:0.933:1:0,0:0,1:0|1:80476541_G_A:80476541:0,0,1,0\t./.:.:.:.:.:.:.:.:.:.\t0/1:8,2:0.3:10:5,1:3,1:.:.:.:3,5,2,0\t./.:.:.:.:.:.:.:.:.:.\t0|1:15,4:0.274:19:7,3:8,0:0|1:80476541_G_A:80476541:6,9,2,2\t0|1:5,0:0.231:5:2,0:3,0:0|1:80476541_G_A:80476541:1,4,0,0\t0|1:0,4:0.872:4:0,3:0,1:0|1:80476541_G_A:80476541:0,0,2,2\t1|0:10,2:0.309:12:5,0:5,1:1|0:80476521_G_GTATATAGTTCATATATATAATTCATATA:80476521:4,6,1,1\t0|1:0,2:0.93:2:0,0:0,1:0|1:80476541_G_A:80476541:0,0,0,2\t./.:.:.:.:.:.:.:.:.:.\t0|1:8,0:0.368:8:3,0:5,0:0|1:80476541_G_A:80476541:3,5,0,0\t0/1:4,2:0.375:6:2,1:2,1:.:.:.:3,1,1,1\t0|1:0,2:0.864:2:0,1:0,0:0|1:80476541_G_A:80476541:0,0,0,2\t0/1:0,3:0.92:3:0,2:0,1:.:.:.:0,0,3,0\t./.:.:.:.:.:.:.:.:.:.\t./.:.:.:.:.:.:.:.:.:.\t./.:.:.:.:.:.:.:.:.:.\t0/1:0,0:0.929:0:0,0:0,0:.:.:.:0,0,0,0\t0/1:3,3:0.5:6:1,2:2,1:.:.:.:3,0,0,3\t./.:.:.:.:.:.:.:.:.:.\t./.:.:.:.:.:.:.:.:.:.\t0|1:0,2:0.869:2:0,1:0,1:0|1:80476541_G_A:80476541:0,0,1,1\n",
      "\u001b[0m\n",
      "\n",
      " \u001b[31mWarning: Wrong read depth\u001b[0m\n",
      "\u001b[34m17\t80476541\t.\tG\tA\t.\t.\tAS_SB_TABLE=3,0|0,3;DP=616;ECNT=2;MBQ=32,25;MFRL=174,323;MMQ=60,45;MPOS=22;POPAF=7.3;TLOD=3.28\tGT:AD:AF:DP:F1R2:F2R1:PGT:PID:PS:SB\t./.:.:.:.:.:.:.:.:.:.\t./.:.:.:.:.:.:.:.:.:.\t0/1:0,0:0.895:0:0,0:0,0:.:.:.:0,0,0,0\t1|0:4,1:0.368:5:2,0:2,0:1|0:80476521_G_GTATATAGTTCATATATATAATTCATATATATATAGTTCATA:80476521:3,1,0,1\t0|1:0,1:0.886:1:0,0:0,1:0|1:80476541_G_A:80476541:0,0,0,1\t./.:.:.:.:.:.:.:.:.:.\t0|1:0,2:0.879:2:0,0:0,0:0|1:80476541_G_A:80476541:0,0,0,2\t./.:.:.:.:.:.:.:.:.:.\t0|1:10,1:0.315:11:6,0:4,1:0|1:80476541_G_A:80476541:3,7,1,0\t0|1:24,0:0.088:24:14,0:10,0:0|1:80476541_G_A:80476541:12,12,0,0\t1|0:6,0:0.336:6:3,0:2,0:1|0:80476521_G_GTATATAGTTCATATATATAATTCATATA:80476521:4,2,0,0\t./.:.:.:.:.:.:.:.:.:.\t./.:.:.:.:.:.:.:.:.:.\t0/1:7,2:0.27:9:3,0:4,2:.:.:.:5,2,0,2\t./.:.:.:.:.:.:.:.:.:.\t0|1:0,1:0.933:1:0,0:0,1:0|1:80476541_G_A:80476541:0,0,1,0\t./.:.:.:.:.:.:.:.:.:.\t0/1:8,2:0.3:10:5,1:3,1:.:.:.:3,5,2,0\t./.:.:.:.:.:.:.:.:.:.\t0|1:15,4:0.274:19:7,3:8,0:0|1:80476541_G_A:80476541:6,9,2,2\t0|1:5,0:0.231:5:2,0:3,0:0|1:80476541_G_A:80476541:1,4,0,0\t0|1:0,4:0.872:4:0,3:0,1:0|1:80476541_G_A:80476541:0,0,2,2\t1|0:10,2:0.309:12:5,0:5,1:1|0:80476521_G_GTATATAGTTCATATATATAATTCATATA:80476521:4,6,1,1\t0|1:0,2:0.93:2:0,0:0,1:0|1:80476541_G_A:80476541:0,0,0,2\t./.:.:.:.:.:.:.:.:.:.\t0|1:8,0:0.368:8:3,0:5,0:0|1:80476541_G_A:80476541:3,5,0,0\t0/1:4,2:0.375:6:2,1:2,1:.:.:.:3,1,1,1\t0|1:0,2:0.864:2:0,1:0,0:0|1:80476541_G_A:80476541:0,0,0,2\t0/1:0,3:0.92:3:0,2:0,1:.:.:.:0,0,3,0\t./.:.:.:.:.:.:.:.:.:.\t./.:.:.:.:.:.:.:.:.:.\t./.:.:.:.:.:.:.:.:.:.\t0/1:0,0:0.929:0:0,0:0,0:.:.:.:0,0,0,0\t0/1:3,3:0.5:6:1,2:2,1:.:.:.:3,0,0,3\t./.:.:.:.:.:.:.:.:.:.\t./.:.:.:.:.:.:.:.:.:.\t0|1:0,2:0.869:2:0,1:0,1:0|1:80476541_G_A:80476541:0,0,1,1\n",
      "\u001b[0m\n",
      "\n",
      " \u001b[31mWarning: Wrong read depth\u001b[0m\n",
      "\u001b[34m18\t5308155\t.\tA\tG\t.\t.\tAS_SB_TABLE=0,0|2,2;DP=32;ECNT=10;MBQ=0,0;MFRL=0,0;MMQ=60,60;MPOS=50;POPAF=7.3;TLOD=12.91\tGT:AD:AF:DP:F1R2:F2R1:PGT:PID:PS:SB\t./.:.:.:.:.:.:.:.:.:.\t./.:.:.:.:.:.:.:.:.:.\t./.:.:.:.:.:.:.:.:.:.\t./.:.:.:.:.:.:.:.:.:.\t./.:.:.:.:.:.:.:.:.:.\t./.:.:.:.:.:.:.:.:.:.\t./.:.:.:.:.:.:.:.:.:.\t./.:.:.:.:.:.:.:.:.:.\t0|1:0,0:0.913:0:0,0:0,0:0|1:5308089_ATATATATACCTATACATATATG_A:5308089:0,0,0,0\t./.:.:.:.:.:.:.:.:.:.\t./.:.:.:.:.:.:.:.:.:.\t./.:.:.:.:.:.:.:.:.:.\t./.:.:.:.:.:.:.:.:.:.\t./.:.:.:.:.:.:.:.:.:.\t./.:.:.:.:.:.:.:.:.:.\t./.:.:.:.:.:.:.:.:.:.\t./.:.:.:.:.:.:.:.:.:.\t./.:.:.:.:.:.:.:.:.:.\t./.:.:.:.:.:.:.:.:.:.\t0|1:0,4:0.686:4:0,4:0,0:0|1:5308089_ATATATATACCTATACATATATG_A:5308089:0,0,2,2\t./.:.:.:.:.:.:.:.:.:.\t./.:.:.:.:.:.:.:.:.:.\t./.:.:.:.:.:.:.:.:.:.\t./.:.:.:.:.:.:.:.:.:.\t./.:.:.:.:.:.:.:.:.:.\t./.:.:.:.:.:.:.:.:.:.\t./.:.:.:.:.:.:.:.:.:.\t./.:.:.:.:.:.:.:.:.:.\t./.:.:.:.:.:.:.:.:.:.\t./.:.:.:.:.:.:.:.:.:.\t./.:.:.:.:.:.:.:.:.:.\t./.:.:.:.:.:.:.:.:.:.\t./.:.:.:.:.:.:.:.:.:.\t./.:.:.:.:.:.:.:.:.:.\t./.:.:.:.:.:.:.:.:.:.\t./.:.:.:.:.:.:.:.:.:.\t./.:.:.:.:.:.:.:.:.:.\n",
      "\u001b[0m\n",
      "\u001b[32m1800000 lines processed \u001b[0m\n",
      "\n",
      " \u001b[31mWarning: Wrong read depth\u001b[0m\n",
      "\u001b[34m19\t29586343\t.\tC\tT\t.\t.\tAS_SB_TABLE=0,0|0,0;DP=26;ECNT=3;MBQ=0,0;MFRL=0,0;MMQ=60,60;MPOS=50;POPAF=7.3;TLOD=12.87\tGT:AD:AF:DP:F1R2:F2R1:PGT:PID:PS:SB\t./.:.:.:.:.:.:.:.:.:.\t./.:.:.:.:.:.:.:.:.:.\t./.:.:.:.:.:.:.:.:.:.\t./.:.:.:.:.:.:.:.:.:.\t./.:.:.:.:.:.:.:.:.:.\t./.:.:.:.:.:.:.:.:.:.\t./.:.:.:.:.:.:.:.:.:.\t./.:.:.:.:.:.:.:.:.:.\t./.:.:.:.:.:.:.:.:.:.\t./.:.:.:.:.:.:.:.:.:.\t./.:.:.:.:.:.:.:.:.:.\t./.:.:.:.:.:.:.:.:.:.\t./.:.:.:.:.:.:.:.:.:.\t./.:.:.:.:.:.:.:.:.:.\t./.:.:.:.:.:.:.:.:.:.\t./.:.:.:.:.:.:.:.:.:.\t./.:.:.:.:.:.:.:.:.:.\t./.:.:.:.:.:.:.:.:.:.\t./.:.:.:.:.:.:.:.:.:.\t./.:.:.:.:.:.:.:.:.:.\t./.:.:.:.:.:.:.:.:.:.\t./.:.:.:.:.:.:.:.:.:.\t0|1:0,0:0.885:0:0,0:0,0:0|1:29586294_T_TCTTTC:29586294:0,0,0,0\t./.:.:.:.:.:.:.:.:.:.\t./.:.:.:.:.:.:.:.:.:.\t./.:.:.:.:.:.:.:.:.:.\t./.:.:.:.:.:.:.:.:.:.\t./.:.:.:.:.:.:.:.:.:.\t./.:.:.:.:.:.:.:.:.:.\t./.:.:.:.:.:.:.:.:.:.\t./.:.:.:.:.:.:.:.:.:.\t./.:.:.:.:.:.:.:.:.:.\t./.:.:.:.:.:.:.:.:.:.\t./.:.:.:.:.:.:.:.:.:.\t./.:.:.:.:.:.:.:.:.:.\t./.:.:.:.:.:.:.:.:.:.\t./.:.:.:.:.:.:.:.:.:.\n",
      "\u001b[0m\n",
      "\n",
      " \u001b[31mWarning: Wrong read depth\u001b[0m\n",
      "\u001b[34m20\t24188891\t.\tC\tT\t.\t.\tAS_SB_TABLE=0,0|0,0;DP=26;ECNT=14;MBQ=0,0;MFRL=0,0;MMQ=60,60;MPOS=50;POPAF=7.3;TLOD=8.14\tGT:AD:AF:DP:F1R2:F2R1:PGT:PID:PS:SB\t./.:.:.:.:.:.:.:.:.:.\t./.:.:.:.:.:.:.:.:.:.\t./.:.:.:.:.:.:.:.:.:.\t./.:.:.:.:.:.:.:.:.:.\t./.:.:.:.:.:.:.:.:.:.\t./.:.:.:.:.:.:.:.:.:.\t./.:.:.:.:.:.:.:.:.:.\t./.:.:.:.:.:.:.:.:.:.\t./.:.:.:.:.:.:.:.:.:.\t./.:.:.:.:.:.:.:.:.:.\t./.:.:.:.:.:.:.:.:.:.\t./.:.:.:.:.:.:.:.:.:.\t0|1:0,0:0.884:0:0,0:0,0:0|1:24188887_CTT_C:24188887:0,0,0,0\t./.:.:.:.:.:.:.:.:.:.\t./.:.:.:.:.:.:.:.:.:.\t./.:.:.:.:.:.:.:.:.:.\t./.:.:.:.:.:.:.:.:.:.\t./.:.:.:.:.:.:.:.:.:.\t./.:.:.:.:.:.:.:.:.:.\t./.:.:.:.:.:.:.:.:.:.\t./.:.:.:.:.:.:.:.:.:.\t./.:.:.:.:.:.:.:.:.:.\t./.:.:.:.:.:.:.:.:.:.\t./.:.:.:.:.:.:.:.:.:.\t./.:.:.:.:.:.:.:.:.:.\t./.:.:.:.:.:.:.:.:.:.\t./.:.:.:.:.:.:.:.:.:.\t./.:.:.:.:.:.:.:.:.:.\t./.:.:.:.:.:.:.:.:.:.\t./.:.:.:.:.:.:.:.:.:.\t./.:.:.:.:.:.:.:.:.:.\t./.:.:.:.:.:.:.:.:.:.\t./.:.:.:.:.:.:.:.:.:.\t./.:.:.:.:.:.:.:.:.:.\t./.:.:.:.:.:.:.:.:.:.\t./.:.:.:.:.:.:.:.:.:.\t./.:.:.:.:.:.:.:.:.:.\n",
      "\u001b[0m\n",
      "\n",
      " \u001b[31mWarning: Wrong read depth\u001b[0m\n",
      "\u001b[34m20\t24188904\t.\tC\tG\t.\t.\tAS_SB_TABLE=0,0|0,0;DP=26;ECNT=14;MBQ=0,0;MFRL=0,0;MMQ=60,60;MPOS=50;POPAF=7.3;TLOD=7.87\tGT:AD:AF:DP:F1R2:F2R1:PGT:PID:PS:SB\t./.:.:.:.:.:.:.:.:.:.\t./.:.:.:.:.:.:.:.:.:.\t./.:.:.:.:.:.:.:.:.:.\t./.:.:.:.:.:.:.:.:.:.\t./.:.:.:.:.:.:.:.:.:.\t./.:.:.:.:.:.:.:.:.:.\t./.:.:.:.:.:.:.:.:.:.\t./.:.:.:.:.:.:.:.:.:.\t./.:.:.:.:.:.:.:.:.:.\t./.:.:.:.:.:.:.:.:.:.\t./.:.:.:.:.:.:.:.:.:.\t./.:.:.:.:.:.:.:.:.:.\t0|1:0,0:0.869:0:0,0:0,0:0|1:24188887_CTT_C:24188887:0,0,0,0\t./.:.:.:.:.:.:.:.:.:.\t./.:.:.:.:.:.:.:.:.:.\t./.:.:.:.:.:.:.:.:.:.\t./.:.:.:.:.:.:.:.:.:.\t./.:.:.:.:.:.:.:.:.:.\t./.:.:.:.:.:.:.:.:.:.\t./.:.:.:.:.:.:.:.:.:.\t./.:.:.:.:.:.:.:.:.:.\t./.:.:.:.:.:.:.:.:.:.\t./.:.:.:.:.:.:.:.:.:.\t./.:.:.:.:.:.:.:.:.:.\t./.:.:.:.:.:.:.:.:.:.\t./.:.:.:.:.:.:.:.:.:.\t./.:.:.:.:.:.:.:.:.:.\t./.:.:.:.:.:.:.:.:.:.\t./.:.:.:.:.:.:.:.:.:.\t./.:.:.:.:.:.:.:.:.:.\t./.:.:.:.:.:.:.:.:.:.\t./.:.:.:.:.:.:.:.:.:.\t./.:.:.:.:.:.:.:.:.:.\t./.:.:.:.:.:.:.:.:.:.\t./.:.:.:.:.:.:.:.:.:.\t./.:.:.:.:.:.:.:.:.:.\t./.:.:.:.:.:.:.:.:.:.\n",
      "\u001b[0m\n",
      "\n",
      " \u001b[31mWarning: Wrong read depth\u001b[0m\n",
      "\u001b[34m20\t24188924\t.\tC\tG\t.\t.\tAS_SB_TABLE=0,0|0,0;DP=22;ECNT=14;MBQ=0,0;MFRL=0,0;MMQ=60,60;MPOS=50;POPAF=7.3;TLOD=7.57\tGT:AD:AF:DP:F1R2:F2R1:PGT:PID:PS:SB\t./.:.:.:.:.:.:.:.:.:.\t./.:.:.:.:.:.:.:.:.:.\t./.:.:.:.:.:.:.:.:.:.\t./.:.:.:.:.:.:.:.:.:.\t./.:.:.:.:.:.:.:.:.:.\t./.:.:.:.:.:.:.:.:.:.\t./.:.:.:.:.:.:.:.:.:.\t./.:.:.:.:.:.:.:.:.:.\t./.:.:.:.:.:.:.:.:.:.\t./.:.:.:.:.:.:.:.:.:.\t./.:.:.:.:.:.:.:.:.:.\t./.:.:.:.:.:.:.:.:.:.\t0|1:0,0:0.846:0:0,0:0,0:0|1:24188887_CTT_C:24188887:0,0,0,0\t./.:.:.:.:.:.:.:.:.:.\t./.:.:.:.:.:.:.:.:.:.\t./.:.:.:.:.:.:.:.:.:.\t./.:.:.:.:.:.:.:.:.:.\t./.:.:.:.:.:.:.:.:.:.\t./.:.:.:.:.:.:.:.:.:.\t./.:.:.:.:.:.:.:.:.:.\t./.:.:.:.:.:.:.:.:.:.\t./.:.:.:.:.:.:.:.:.:.\t./.:.:.:.:.:.:.:.:.:.\t./.:.:.:.:.:.:.:.:.:.\t./.:.:.:.:.:.:.:.:.:.\t./.:.:.:.:.:.:.:.:.:.\t./.:.:.:.:.:.:.:.:.:.\t./.:.:.:.:.:.:.:.:.:.\t./.:.:.:.:.:.:.:.:.:.\t./.:.:.:.:.:.:.:.:.:.\t./.:.:.:.:.:.:.:.:.:.\t./.:.:.:.:.:.:.:.:.:.\t./.:.:.:.:.:.:.:.:.:.\t./.:.:.:.:.:.:.:.:.:.\t./.:.:.:.:.:.:.:.:.:.\t./.:.:.:.:.:.:.:.:.:.\t./.:.:.:.:.:.:.:.:.:.\n",
      "\u001b[0m\n",
      "\n",
      " \u001b[31mWarning: Wrong read depth\u001b[0m\n",
      "\u001b[34m20\t40546781\t.\tC\tT\t.\t.\tAS_SB_TABLE=0,0|0,0;DP=32;ECNT=5;MBQ=33,36;MFRL=214,196;MMQ=29,29;MPOS=30;POPAF=7.3;TLOD=3.58\tGT:AD:AF:DP:F1R2:F2R1:SB\t./.:.:.:.:.:.:.\t./.:.:.:.:.:.:.\t./.:.:.:.:.:.:.\t./.:.:.:.:.:.:.\t./.:.:.:.:.:.:.\t./.:.:.:.:.:.:.\t./.:.:.:.:.:.:.\t./.:.:.:.:.:.:.\t0/1:5,6:0.451:11:1,1:2,5:1,4,3,3\t./.:.:.:.:.:.:.\t./.:.:.:.:.:.:.\t./.:.:.:.:.:.:.\t./.:.:.:.:.:.:.\t./.:.:.:.:.:.:.\t./.:.:.:.:.:.:.\t./.:.:.:.:.:.:.\t./.:.:.:.:.:.:.\t./.:.:.:.:.:.:.\t./.:.:.:.:.:.:.\t./.:.:.:.:.:.:.\t./.:.:.:.:.:.:.\t0/1:0,0:0.823:0:0,0:0,0:0,0,0,0\t./.:.:.:.:.:.:.\t./.:.:.:.:.:.:.\t./.:.:.:.:.:.:.\t./.:.:.:.:.:.:.\t./.:.:.:.:.:.:.\t./.:.:.:.:.:.:.\t./.:.:.:.:.:.:.\t./.:.:.:.:.:.:.\t./.:.:.:.:.:.:.\t./.:.:.:.:.:.:.\t./.:.:.:.:.:.:.\t./.:.:.:.:.:.:.\t./.:.:.:.:.:.:.\t./.:.:.:.:.:.:.\t./.:.:.:.:.:.:.\n",
      "\u001b[0m\n",
      "\n",
      " \u001b[31mWarning: Wrong read depth\u001b[0m\n",
      "\u001b[34m20\t40546827\t.\tC\tT\t.\t.\tAS_SB_TABLE=0,0|0,0;DP=13;ECNT=5;MBQ=0,0;MFRL=0,0;MMQ=60,60;MPOS=50;POPAF=7.3;TLOD=4.58\tGT:AD:AF:DP:F1R2:F2R1:SB\t./.:.:.:.:.:.:.\t./.:.:.:.:.:.:.\t./.:.:.:.:.:.:.\t./.:.:.:.:.:.:.\t./.:.:.:.:.:.:.\t./.:.:.:.:.:.:.\t./.:.:.:.:.:.:.\t./.:.:.:.:.:.:.\t./.:.:.:.:.:.:.\t./.:.:.:.:.:.:.\t./.:.:.:.:.:.:.\t./.:.:.:.:.:.:.\t./.:.:.:.:.:.:.\t./.:.:.:.:.:.:.\t./.:.:.:.:.:.:.\t./.:.:.:.:.:.:.\t./.:.:.:.:.:.:.\t./.:.:.:.:.:.:.\t./.:.:.:.:.:.:.\t./.:.:.:.:.:.:.\t./.:.:.:.:.:.:.\t0/1:0,0:0.501:0:0,0:0,0:0,0,0,0\t./.:.:.:.:.:.:.\t./.:.:.:.:.:.:.\t./.:.:.:.:.:.:.\t./.:.:.:.:.:.:.\t./.:.:.:.:.:.:.\t./.:.:.:.:.:.:.\t./.:.:.:.:.:.:.\t./.:.:.:.:.:.:.\t./.:.:.:.:.:.:.\t./.:.:.:.:.:.:.\t./.:.:.:.:.:.:.\t./.:.:.:.:.:.:.\t./.:.:.:.:.:.:.\t./.:.:.:.:.:.:.\t./.:.:.:.:.:.:.\n",
      "\u001b[0m\n",
      "\n",
      " \u001b[31mWarning: Wrong read depth\u001b[0m\n",
      "\u001b[34m20\t40546831\t.\tT\tC\t.\t.\tAS_SB_TABLE=0,0|0,0;DP=13;ECNT=5;MBQ=0,0;MFRL=0,0;MMQ=60,60;MPOS=50;POPAF=7.3;TLOD=7.9\tGT:AD:AF:DP:F1R2:F2R1:SB\t./.:.:.:.:.:.:.\t./.:.:.:.:.:.:.\t./.:.:.:.:.:.:.\t./.:.:.:.:.:.:.\t./.:.:.:.:.:.:.\t./.:.:.:.:.:.:.\t./.:.:.:.:.:.:.\t./.:.:.:.:.:.:.\t./.:.:.:.:.:.:.\t./.:.:.:.:.:.:.\t./.:.:.:.:.:.:.\t./.:.:.:.:.:.:.\t./.:.:.:.:.:.:.\t./.:.:.:.:.:.:.\t./.:.:.:.:.:.:.\t./.:.:.:.:.:.:.\t./.:.:.:.:.:.:.\t./.:.:.:.:.:.:.\t./.:.:.:.:.:.:.\t./.:.:.:.:.:.:.\t./.:.:.:.:.:.:.\t0/1:0,0:0.841:0:0,0:0,0:0,0,0,0\t./.:.:.:.:.:.:.\t./.:.:.:.:.:.:.\t./.:.:.:.:.:.:.\t./.:.:.:.:.:.:.\t./.:.:.:.:.:.:.\t./.:.:.:.:.:.:.\t./.:.:.:.:.:.:.\t./.:.:.:.:.:.:.\t./.:.:.:.:.:.:.\t./.:.:.:.:.:.:.\t./.:.:.:.:.:.:.\t./.:.:.:.:.:.:.\t./.:.:.:.:.:.:.\t./.:.:.:.:.:.:.\t./.:.:.:.:.:.:.\n",
      "\u001b[0m\n",
      "\n",
      " \u001b[31mWarning: Wrong read depth\u001b[0m\n",
      "\u001b[34m20\t44386370\t.\tT\tA\t.\t.\tAS_SB_TABLE=0,0|0,0;DP=29;ECNT=10;MBQ=0,0;MFRL=0,0;MMQ=60,60;MPOS=50;POPAF=7.3;TLOD=11.7\tGT:AD:AF:DP:F1R2:F2R1:PGT:PID:PS:SB\t./.:.:.:.:.:.:.:.:.:.\t./.:.:.:.:.:.:.:.:.:.\t./.:.:.:.:.:.:.:.:.:.\t./.:.:.:.:.:.:.:.:.:.\t./.:.:.:.:.:.:.:.:.:.\t./.:.:.:.:.:.:.:.:.:.\t./.:.:.:.:.:.:.:.:.:.\t./.:.:.:.:.:.:.:.:.:.\t./.:.:.:.:.:.:.:.:.:.\t./.:.:.:.:.:.:.:.:.:.\t./.:.:.:.:.:.:.:.:.:.\t./.:.:.:.:.:.:.:.:.:.\t./.:.:.:.:.:.:.:.:.:.\t./.:.:.:.:.:.:.:.:.:.\t./.:.:.:.:.:.:.:.:.:.\t./.:.:.:.:.:.:.:.:.:.\t./.:.:.:.:.:.:.:.:.:.\t./.:.:.:.:.:.:.:.:.:.\t./.:.:.:.:.:.:.:.:.:.\t./.:.:.:.:.:.:.:.:.:.\t./.:.:.:.:.:.:.:.:.:.\t./.:.:.:.:.:.:.:.:.:.\t./.:.:.:.:.:.:.:.:.:.\t./.:.:.:.:.:.:.:.:.:.\t./.:.:.:.:.:.:.:.:.:.\t./.:.:.:.:.:.:.:.:.:.\t./.:.:.:.:.:.:.:.:.:.\t./.:.:.:.:.:.:.:.:.:.\t./.:.:.:.:.:.:.:.:.:.\t./.:.:.:.:.:.:.:.:.:.\t./.:.:.:.:.:.:.:.:.:.\t./.:.:.:.:.:.:.:.:.:.\t./.:.:.:.:.:.:.:.:.:.\t./.:.:.:.:.:.:.:.:.:.\t./.:.:.:.:.:.:.:.:.:.\t0|1:0,0:0.926:0:0,0:0,0:0|1:44386319_G_A:44386319:0,0,0,0\t./.:.:.:.:.:.:.:.:.:.\n",
      "\u001b[0m\n",
      "\u001b[32m1900000 lines processed \u001b[0m\n",
      "\n",
      " \u001b[31mWarning: Wrong read depth\u001b[0m\n",
      "\u001b[34m20\t50931438\t.\tT\tC\t.\t.\tAS_SB_TABLE=0,0|0,0;DP=47;ECNT=2;MBQ=0,34;MFRL=0,246;MMQ=60,29;MPOS=2;POPAF=7.3;TLOD=26.37\tGT:AD:AF:DP:F1R2:F2R1:PGT:PID:PS:SB\t./.:.:.:.:.:.:.:.:.:.\t./.:.:.:.:.:.:.:.:.:.\t./.:.:.:.:.:.:.:.:.:.\t./.:.:.:.:.:.:.:.:.:.\t./.:.:.:.:.:.:.:.:.:.\t./.:.:.:.:.:.:.:.:.:.\t./.:.:.:.:.:.:.:.:.:.\t./.:.:.:.:.:.:.:.:.:.\t./.:.:.:.:.:.:.:.:.:.\t./.:.:.:.:.:.:.:.:.:.\t./.:.:.:.:.:.:.:.:.:.\t./.:.:.:.:.:.:.:.:.:.\t./.:.:.:.:.:.:.:.:.:.\t./.:.:.:.:.:.:.:.:.:.\t./.:.:.:.:.:.:.:.:.:.\t./.:.:.:.:.:.:.:.:.:.\t./.:.:.:.:.:.:.:.:.:.\t0|1:0,0:0.812:0:0,0:0,0:0|1:50931438_T_C:50931438:0,0,0,0\t./.:.:.:.:.:.:.:.:.:.\t./.:.:.:.:.:.:.:.:.:.\t./.:.:.:.:.:.:.:.:.:.\t./.:.:.:.:.:.:.:.:.:.\t0|1:0,5:0.869:5:0,1:0,3:0|1:50931438_T_C:50931438:0,0,5,0\t./.:.:.:.:.:.:.:.:.:.\t./.:.:.:.:.:.:.:.:.:.\t./.:.:.:.:.:.:.:.:.:.\t./.:.:.:.:.:.:.:.:.:.\t./.:.:.:.:.:.:.:.:.:.\t./.:.:.:.:.:.:.:.:.:.\t./.:.:.:.:.:.:.:.:.:.\t./.:.:.:.:.:.:.:.:.:.\t./.:.:.:.:.:.:.:.:.:.\t./.:.:.:.:.:.:.:.:.:.\t./.:.:.:.:.:.:.:.:.:.\t./.:.:.:.:.:.:.:.:.:.\t./.:.:.:.:.:.:.:.:.:.\t./.:.:.:.:.:.:.:.:.:.\n",
      "\u001b[0m\n",
      "\n",
      " \u001b[31mWarning: Wrong read depth\u001b[0m\n",
      "\u001b[34m21\t30204004\t.\tA\tG\t.\t.\tAS_SB_TABLE=0,0|0,0;DP=16;ECNT=2;MBQ=0,31;MFRL=0,213;MMQ=60,29;MPOS=3;POPAF=7.3;TLOD=3\tGT:AD:AF:DP:F1R2:F2R1:PGT:PID:PS:SB\t./.:.:.:.:.:.:.:.:.:.\t./.:.:.:.:.:.:.:.:.:.\t./.:.:.:.:.:.:.:.:.:.\t./.:.:.:.:.:.:.:.:.:.\t./.:.:.:.:.:.:.:.:.:.\t./.:.:.:.:.:.:.:.:.:.\t./.:.:.:.:.:.:.:.:.:.\t./.:.:.:.:.:.:.:.:.:.\t./.:.:.:.:.:.:.:.:.:.\t./.:.:.:.:.:.:.:.:.:.\t./.:.:.:.:.:.:.:.:.:.\t./.:.:.:.:.:.:.:.:.:.\t./.:.:.:.:.:.:.:.:.:.\t./.:.:.:.:.:.:.:.:.:.\t./.:.:.:.:.:.:.:.:.:.\t./.:.:.:.:.:.:.:.:.:.\t./.:.:.:.:.:.:.:.:.:.\t./.:.:.:.:.:.:.:.:.:.\t./.:.:.:.:.:.:.:.:.:.\t./.:.:.:.:.:.:.:.:.:.\t0|1:0,0:0.639:0:0,0:0,0:0|1:30204004_A_G:30204004:0,0,0,0\t./.:.:.:.:.:.:.:.:.:.\t./.:.:.:.:.:.:.:.:.:.\t./.:.:.:.:.:.:.:.:.:.\t./.:.:.:.:.:.:.:.:.:.\t./.:.:.:.:.:.:.:.:.:.\t./.:.:.:.:.:.:.:.:.:.\t./.:.:.:.:.:.:.:.:.:.\t./.:.:.:.:.:.:.:.:.:.\t./.:.:.:.:.:.:.:.:.:.\t./.:.:.:.:.:.:.:.:.:.\t./.:.:.:.:.:.:.:.:.:.\t0/1:0,1:0.684:1:0,0:0,1:.:.:.:0,0,1,0\t./.:.:.:.:.:.:.:.:.:.\t./.:.:.:.:.:.:.:.:.:.\t./.:.:.:.:.:.:.:.:.:.\t./.:.:.:.:.:.:.:.:.:.\n",
      "\u001b[0m\n",
      "\n",
      " \u001b[31mWarning: Wrong read depth\u001b[0m\n",
      "\u001b[34m21\t34563677\t.\tA\tG\t.\t.\tAS_SB_TABLE=0,0|0,0;DP=26;ECNT=7;MBQ=0,0;MFRL=0,0;MMQ=60,60;MPOS=50;POPAF=7.3;TLOD=10.07\tGT:AD:AF:DP:F1R2:F2R1:PGT:PID:PS:SB\t./.:.:.:.:.:.:.:.:.:.\t./.:.:.:.:.:.:.:.:.:.\t./.:.:.:.:.:.:.:.:.:.\t./.:.:.:.:.:.:.:.:.:.\t./.:.:.:.:.:.:.:.:.:.\t./.:.:.:.:.:.:.:.:.:.\t./.:.:.:.:.:.:.:.:.:.\t./.:.:.:.:.:.:.:.:.:.\t./.:.:.:.:.:.:.:.:.:.\t./.:.:.:.:.:.:.:.:.:.\t./.:.:.:.:.:.:.:.:.:.\t./.:.:.:.:.:.:.:.:.:.\t./.:.:.:.:.:.:.:.:.:.\t./.:.:.:.:.:.:.:.:.:.\t0|1:0,0:0.49:0:0,0:0,0:0|1:34563677_A_G:34563677:0,0,0,0\t./.:.:.:.:.:.:.:.:.:.\t./.:.:.:.:.:.:.:.:.:.\t./.:.:.:.:.:.:.:.:.:.\t./.:.:.:.:.:.:.:.:.:.\t./.:.:.:.:.:.:.:.:.:.\t./.:.:.:.:.:.:.:.:.:.\t./.:.:.:.:.:.:.:.:.:.\t./.:.:.:.:.:.:.:.:.:.\t./.:.:.:.:.:.:.:.:.:.\t./.:.:.:.:.:.:.:.:.:.\t./.:.:.:.:.:.:.:.:.:.\t./.:.:.:.:.:.:.:.:.:.\t./.:.:.:.:.:.:.:.:.:.\t./.:.:.:.:.:.:.:.:.:.\t./.:.:.:.:.:.:.:.:.:.\t./.:.:.:.:.:.:.:.:.:.\t./.:.:.:.:.:.:.:.:.:.\t./.:.:.:.:.:.:.:.:.:.\t./.:.:.:.:.:.:.:.:.:.\t./.:.:.:.:.:.:.:.:.:.\t./.:.:.:.:.:.:.:.:.:.\t./.:.:.:.:.:.:.:.:.:.\n",
      "\u001b[0m\n",
      "\n",
      " \u001b[31mWarning: Wrong read depth\u001b[0m\n",
      "\u001b[34m21\t34563693\t.\tC\tG\t.\t.\tAS_SB_TABLE=0,0|0,0;DP=31;ECNT=7;MBQ=0,0;MFRL=0,0;MMQ=60,60;MPOS=50;POPAF=7.3;TLOD=9.87\tGT:AD:AF:DP:F1R2:F2R1:PGT:PID:PS:SB\t./.:.:.:.:.:.:.:.:.:.\t./.:.:.:.:.:.:.:.:.:.\t./.:.:.:.:.:.:.:.:.:.\t./.:.:.:.:.:.:.:.:.:.\t./.:.:.:.:.:.:.:.:.:.\t./.:.:.:.:.:.:.:.:.:.\t./.:.:.:.:.:.:.:.:.:.\t./.:.:.:.:.:.:.:.:.:.\t./.:.:.:.:.:.:.:.:.:.\t./.:.:.:.:.:.:.:.:.:.\t./.:.:.:.:.:.:.:.:.:.\t./.:.:.:.:.:.:.:.:.:.\t./.:.:.:.:.:.:.:.:.:.\t./.:.:.:.:.:.:.:.:.:.\t0|1:0,0:0.446:0:0,0:0,0:0|1:34563677_A_G:34563677:0,0,0,0\t./.:.:.:.:.:.:.:.:.:.\t./.:.:.:.:.:.:.:.:.:.\t./.:.:.:.:.:.:.:.:.:.\t./.:.:.:.:.:.:.:.:.:.\t./.:.:.:.:.:.:.:.:.:.\t./.:.:.:.:.:.:.:.:.:.\t./.:.:.:.:.:.:.:.:.:.\t./.:.:.:.:.:.:.:.:.:.\t./.:.:.:.:.:.:.:.:.:.\t./.:.:.:.:.:.:.:.:.:.\t./.:.:.:.:.:.:.:.:.:.\t./.:.:.:.:.:.:.:.:.:.\t./.:.:.:.:.:.:.:.:.:.\t./.:.:.:.:.:.:.:.:.:.\t./.:.:.:.:.:.:.:.:.:.\t./.:.:.:.:.:.:.:.:.:.\t./.:.:.:.:.:.:.:.:.:.\t./.:.:.:.:.:.:.:.:.:.\t./.:.:.:.:.:.:.:.:.:.\t./.:.:.:.:.:.:.:.:.:.\t./.:.:.:.:.:.:.:.:.:.\t./.:.:.:.:.:.:.:.:.:.\n",
      "\u001b[0m\n",
      "\n",
      " \u001b[31mWarning: Wrong read depth\u001b[0m\n",
      "\u001b[34m21\t34563700\t.\tC\tG\t.\t.\tAS_SB_TABLE=0,0|0,0;DP=33;ECNT=7;MBQ=0,0;MFRL=0,0;MMQ=60,60;MPOS=50;POPAF=7.3;TLOD=9.73\tGT:AD:AF:DP:F1R2:F2R1:PGT:PID:PS:SB\t./.:.:.:.:.:.:.:.:.:.\t./.:.:.:.:.:.:.:.:.:.\t./.:.:.:.:.:.:.:.:.:.\t./.:.:.:.:.:.:.:.:.:.\t./.:.:.:.:.:.:.:.:.:.\t./.:.:.:.:.:.:.:.:.:.\t./.:.:.:.:.:.:.:.:.:.\t./.:.:.:.:.:.:.:.:.:.\t./.:.:.:.:.:.:.:.:.:.\t./.:.:.:.:.:.:.:.:.:.\t./.:.:.:.:.:.:.:.:.:.\t./.:.:.:.:.:.:.:.:.:.\t./.:.:.:.:.:.:.:.:.:.\t./.:.:.:.:.:.:.:.:.:.\t0|1:0,0:0.415:0:0,0:0,0:0|1:34563677_A_G:34563677:0,0,0,0\t./.:.:.:.:.:.:.:.:.:.\t./.:.:.:.:.:.:.:.:.:.\t./.:.:.:.:.:.:.:.:.:.\t./.:.:.:.:.:.:.:.:.:.\t./.:.:.:.:.:.:.:.:.:.\t./.:.:.:.:.:.:.:.:.:.\t./.:.:.:.:.:.:.:.:.:.\t./.:.:.:.:.:.:.:.:.:.\t./.:.:.:.:.:.:.:.:.:.\t./.:.:.:.:.:.:.:.:.:.\t./.:.:.:.:.:.:.:.:.:.\t./.:.:.:.:.:.:.:.:.:.\t./.:.:.:.:.:.:.:.:.:.\t./.:.:.:.:.:.:.:.:.:.\t./.:.:.:.:.:.:.:.:.:.\t./.:.:.:.:.:.:.:.:.:.\t./.:.:.:.:.:.:.:.:.:.\t./.:.:.:.:.:.:.:.:.:.\t./.:.:.:.:.:.:.:.:.:.\t./.:.:.:.:.:.:.:.:.:.\t./.:.:.:.:.:.:.:.:.:.\t./.:.:.:.:.:.:.:.:.:.\n",
      "\u001b[0m\n",
      "\n",
      " \u001b[31mWarning: Wrong read depth\u001b[0m\n",
      "\u001b[34m21\t34563801\t.\tT\tG\t.\t.\tAS_SB_TABLE=0,0|0,0;DP=22;ECNT=7;MBQ=0,0;MFRL=0,0;MMQ=60,60;MPOS=50;POPAF=7.3;TLOD=9.77\tGT:AD:AF:DP:F1R2:F2R1:PGT:PID:PS:SB\t./.:.:.:.:.:.:.:.:.:.\t./.:.:.:.:.:.:.:.:.:.\t./.:.:.:.:.:.:.:.:.:.\t./.:.:.:.:.:.:.:.:.:.\t./.:.:.:.:.:.:.:.:.:.\t./.:.:.:.:.:.:.:.:.:.\t./.:.:.:.:.:.:.:.:.:.\t./.:.:.:.:.:.:.:.:.:.\t./.:.:.:.:.:.:.:.:.:.\t./.:.:.:.:.:.:.:.:.:.\t./.:.:.:.:.:.:.:.:.:.\t./.:.:.:.:.:.:.:.:.:.\t./.:.:.:.:.:.:.:.:.:.\t./.:.:.:.:.:.:.:.:.:.\t0|1:0,0:0.405:0:0,0:0,0:0|1:34563677_A_G:34563677:0,0,0,0\t./.:.:.:.:.:.:.:.:.:.\t./.:.:.:.:.:.:.:.:.:.\t./.:.:.:.:.:.:.:.:.:.\t./.:.:.:.:.:.:.:.:.:.\t./.:.:.:.:.:.:.:.:.:.\t./.:.:.:.:.:.:.:.:.:.\t./.:.:.:.:.:.:.:.:.:.\t./.:.:.:.:.:.:.:.:.:.\t./.:.:.:.:.:.:.:.:.:.\t./.:.:.:.:.:.:.:.:.:.\t./.:.:.:.:.:.:.:.:.:.\t./.:.:.:.:.:.:.:.:.:.\t./.:.:.:.:.:.:.:.:.:.\t./.:.:.:.:.:.:.:.:.:.\t./.:.:.:.:.:.:.:.:.:.\t./.:.:.:.:.:.:.:.:.:.\t./.:.:.:.:.:.:.:.:.:.\t./.:.:.:.:.:.:.:.:.:.\t./.:.:.:.:.:.:.:.:.:.\t./.:.:.:.:.:.:.:.:.:.\t./.:.:.:.:.:.:.:.:.:.\t./.:.:.:.:.:.:.:.:.:.\n",
      "\u001b[0m\n",
      "\n",
      " \u001b[31mWarning: Wrong read depth\u001b[0m\n",
      "\u001b[34m21\t47400745\t.\tG\tC\t.\t.\tAS_SB_TABLE=0,0|7,6;DP=139;ECNT=10;MBQ=0,0;MFRL=0,0;MMQ=60,60;MPOS=50;POPAF=7.3;TLOD=21.21\tGT:AD:AF:DP:F1R2:F2R1:PGT:PID:PS:SB\t./.:.:.:.:.:.:.:.:.:.\t./.:.:.:.:.:.:.:.:.:.\t0|1:0,1:0.93:1:0,0:0,1:0|1:47400745_G_C:47400745:0,0,0,1\t./.:.:.:.:.:.:.:.:.:.\t./.:.:.:.:.:.:.:.:.:.\t0|1:0,8:0.925:8:0,3:0,2:0|1:47400721_G_GTC:47400721:0,0,4,4\t0|1:0,7:0.848:7:0,2:0,4:0|1:47400721_G_GTC:47400721:0,0,2,5\t./.:.:.:.:.:.:.:.:.:.\t0|1:0,0:0.919:0:0,0:0,0:0|1:47400745_G_C:47400745:0,0,0,0\t./.:.:.:.:.:.:.:.:.:.\t./.:.:.:.:.:.:.:.:.:.\t./.:.:.:.:.:.:.:.:.:.\t./.:.:.:.:.:.:.:.:.:.\t./.:.:.:.:.:.:.:.:.:.\t./.:.:.:.:.:.:.:.:.:.\t./.:.:.:.:.:.:.:.:.:.\t./.:.:.:.:.:.:.:.:.:.\t0|1:0,13:0.944:13:0,7:0,5:0|1:47400721_G_GTCTC:47400721:0,0,7,6\t./.:.:.:.:.:.:.:.:.:.\t0|1:0,14:0.941:14:0,6:0,6:0|1:47400721_G_GTCTC:47400721:0,0,8,6\t./.:.:.:.:.:.:.:.:.:.\t0|1:13,0:0.159:13:2,0:11,0:0|1:47400745_G_C:47400745:9,4,0,0\t./.:.:.:.:.:.:.:.:.:.\t./.:.:.:.:.:.:.:.:.:.\t./.:.:.:.:.:.:.:.:.:.\t./.:.:.:.:.:.:.:.:.:.\t./.:.:.:.:.:.:.:.:.:.\t0|1:9,0:0.237:9:2,0:7,0:0|1:47400745_G_C:47400745:4,5,0,0\t0|1:6,0:0.311:6:2,0:3,0:0|1:47400745_G_C:47400745:4,2,0,0\t./.:.:.:.:.:.:.:.:.:.\t./.:.:.:.:.:.:.:.:.:.\t0|1:0,12:0.943:12:0,8:0,4:0|1:47400721_G_GTCTC:47400721:0,0,5,7\t./.:.:.:.:.:.:.:.:.:.\t./.:.:.:.:.:.:.:.:.:.\t./.:.:.:.:.:.:.:.:.:.\t./.:.:.:.:.:.:.:.:.:.\t./.:.:.:.:.:.:.:.:.:.\n",
      "\u001b[0m\n",
      "\n",
      " \u001b[31mWarning: Wrong read depth\u001b[0m\n",
      "\u001b[34m21\t47400759\t.\tC\tG\t.\t.\tAS_SB_TABLE=0,0|7,8;DP=128;ECNT=10;MBQ=0,0;MFRL=0,0;MMQ=60,60;MPOS=50;POPAF=7.3;TLOD=20.92\tGT:AD:AF:DP:F1R2:F2R1:PGT:PID:PS:SB\t./.:.:.:.:.:.:.:.:.:.\t./.:.:.:.:.:.:.:.:.:.\t0|1:0,3:0.93:3:0,1:0,2:0|1:47400745_G_C:47400745:0,0,1,2\t./.:.:.:.:.:.:.:.:.:.\t./.:.:.:.:.:.:.:.:.:.\t./.:.:.:.:.:.:.:.:.:.\t./.:.:.:.:.:.:.:.:.:.\t./.:.:.:.:.:.:.:.:.:.\t0|1:0,0:0.913:0:0,0:0,0:0|1:47400745_G_C:47400745:0,0,0,0\t./.:.:.:.:.:.:.:.:.:.\t./.:.:.:.:.:.:.:.:.:.\t./.:.:.:.:.:.:.:.:.:.\t./.:.:.:.:.:.:.:.:.:.\t./.:.:.:.:.:.:.:.:.:.\t./.:.:.:.:.:.:.:.:.:.\t./.:.:.:.:.:.:.:.:.:.\t./.:.:.:.:.:.:.:.:.:.\t0|1:0,15:0.949:15:0,7:0,4:0|1:47400721_G_GTCTC:47400721:0,0,7,8\t./.:.:.:.:.:.:.:.:.:.\t0|1:0,15:0.948:15:0,7:0,5:0|1:47400721_G_GTCTC:47400721:0,0,9,6\t./.:.:.:.:.:.:.:.:.:.\t0|1:16,0:0.155:16:3,0:12,0:0|1:47400745_G_C:47400745:10,6,0,0\t./.:.:.:.:.:.:.:.:.:.\t./.:.:.:.:.:.:.:.:.:.\t./.:.:.:.:.:.:.:.:.:.\t./.:.:.:.:.:.:.:.:.:.\t./.:.:.:.:.:.:.:.:.:.\t0|1:15,0:0.184:15:5,0:9,0:0|1:47400745_G_C:47400745:6,9,0,0\t0|1:9,0:0.247:9:3,0:2,0:0|1:47400745_G_C:47400745:6,3,0,0\t./.:.:.:.:.:.:.:.:.:.\t./.:.:.:.:.:.:.:.:.:.\t0|1:0,14:0.949:14:0,9:0,4:0|1:47400721_G_GTCTC:47400721:0,0,8,6\t./.:.:.:.:.:.:.:.:.:.\t./.:.:.:.:.:.:.:.:.:.\t./.:.:.:.:.:.:.:.:.:.\t./.:.:.:.:.:.:.:.:.:.\t./.:.:.:.:.:.:.:.:.:.\n",
      "\u001b[0m\n",
      "\n",
      " \u001b[31mWarning: Wrong read depth\u001b[0m\n",
      "\u001b[34m22\t19148660\t.\tC\tT\t.\t.\tAS_SB_TABLE=0,0|0,0;DP=73;ECNT=5;MBQ=34,34;MFRL=177,174;MMQ=60,33;MPOS=37;POPAF=7.3;TLOD=4.14\tGT:AD:AF:DP:F1R2:F2R1:PGT:PID:PS:SB\t./.:.:.:.:.:.:.:.:.:.\t./.:.:.:.:.:.:.:.:.:.\t./.:.:.:.:.:.:.:.:.:.\t./.:.:.:.:.:.:.:.:.:.\t./.:.:.:.:.:.:.:.:.:.\t0|1:0,0:0.809:0:0,0:0,0:0|1:19148606_C_CATAT:19148606:0,0,0,0\t./.:.:.:.:.:.:.:.:.:.\t./.:.:.:.:.:.:.:.:.:.\t./.:.:.:.:.:.:.:.:.:.\t./.:.:.:.:.:.:.:.:.:.\t./.:.:.:.:.:.:.:.:.:.\t./.:.:.:.:.:.:.:.:.:.\t./.:.:.:.:.:.:.:.:.:.\t./.:.:.:.:.:.:.:.:.:.\t./.:.:.:.:.:.:.:.:.:.\t./.:.:.:.:.:.:.:.:.:.\t./.:.:.:.:.:.:.:.:.:.\t./.:.:.:.:.:.:.:.:.:.\t./.:.:.:.:.:.:.:.:.:.\t./.:.:.:.:.:.:.:.:.:.\t./.:.:.:.:.:.:.:.:.:.\t./.:.:.:.:.:.:.:.:.:.\t./.:.:.:.:.:.:.:.:.:.\t./.:.:.:.:.:.:.:.:.:.\t./.:.:.:.:.:.:.:.:.:.\t./.:.:.:.:.:.:.:.:.:.\t./.:.:.:.:.:.:.:.:.:.\t0|1:32,2:0.083:34:15,0:14,2:0|1:19148606_C_CATAT:19148606:21,11,2,0\t./.:.:.:.:.:.:.:.:.:.\t./.:.:.:.:.:.:.:.:.:.\t./.:.:.:.:.:.:.:.:.:.\t./.:.:.:.:.:.:.:.:.:.\t./.:.:.:.:.:.:.:.:.:.\t./.:.:.:.:.:.:.:.:.:.\t./.:.:.:.:.:.:.:.:.:.\t./.:.:.:.:.:.:.:.:.:.\t./.:.:.:.:.:.:.:.:.:.\n",
      "\u001b[0m\n",
      "\u001b[32m2000000 lines processed \u001b[0m\n",
      "\n",
      " \u001b[31mWarning: Wrong read depth\u001b[0m\n",
      "\u001b[34mX\t2365971\t.\tT\tC\t.\t.\tAS_SB_TABLE=0,0|0,0;DP=19;ECNT=6;MBQ=34,37;MFRL=181,181;MMQ=60,29;MPOS=14;POPAF=7.3;TLOD=9.29\tGT:AD:AF:DP:F1R2:F2R1:PGT:PID:PS:SB\t./.:.:.:.:.:.:.:.:.:.\t./.:.:.:.:.:.:.:.:.:.\t./.:.:.:.:.:.:.:.:.:.\t./.:.:.:.:.:.:.:.:.:.\t./.:.:.:.:.:.:.:.:.:.\t0|1:0,0:0.75:0:0,0:0,0:0|1:2365971_T_C:2365971:0,0,0,0\t./.:.:.:.:.:.:.:.:.:.\t./.:.:.:.:.:.:.:.:.:.\t./.:.:.:.:.:.:.:.:.:.\t./.:.:.:.:.:.:.:.:.:.\t./.:.:.:.:.:.:.:.:.:.\t./.:.:.:.:.:.:.:.:.:.\t./.:.:.:.:.:.:.:.:.:.\t./.:.:.:.:.:.:.:.:.:.\t./.:.:.:.:.:.:.:.:.:.\t./.:.:.:.:.:.:.:.:.:.\t0|1:16,3:0.199:19:8,2:6,1:0|1:2365971_T_C:2365971:7,9,3,0\t./.:.:.:.:.:.:.:.:.:.\t./.:.:.:.:.:.:.:.:.:.\t./.:.:.:.:.:.:.:.:.:.\t./.:.:.:.:.:.:.:.:.:.\t./.:.:.:.:.:.:.:.:.:.\t./.:.:.:.:.:.:.:.:.:.\t./.:.:.:.:.:.:.:.:.:.\t./.:.:.:.:.:.:.:.:.:.\t./.:.:.:.:.:.:.:.:.:.\t./.:.:.:.:.:.:.:.:.:.\t./.:.:.:.:.:.:.:.:.:.\t./.:.:.:.:.:.:.:.:.:.\t./.:.:.:.:.:.:.:.:.:.\t./.:.:.:.:.:.:.:.:.:.\t./.:.:.:.:.:.:.:.:.:.\t./.:.:.:.:.:.:.:.:.:.\t./.:.:.:.:.:.:.:.:.:.\t./.:.:.:.:.:.:.:.:.:.\t./.:.:.:.:.:.:.:.:.:.\t./.:.:.:.:.:.:.:.:.:.\n",
      "\u001b[0m\n",
      "\n",
      " \u001b[31mWarning: Wrong read depth\u001b[0m\n",
      "\u001b[34mX\t29820975\t.\tC\tT\t.\t.\tAS_SB_TABLE=0,0|0,0;DP=9;ECNT=8;MBQ=0,0;MFRL=0,0;MMQ=60,60;MPOS=50;POPAF=7.3;TLOD=7.57\tGT:AD:AF:DP:F1R2:F2R1:PGT:PID:PS:SB\t./.:.:.:.:.:.:.:.:.:.\t./.:.:.:.:.:.:.:.:.:.\t./.:.:.:.:.:.:.:.:.:.\t./.:.:.:.:.:.:.:.:.:.\t./.:.:.:.:.:.:.:.:.:.\t./.:.:.:.:.:.:.:.:.:.\t./.:.:.:.:.:.:.:.:.:.\t./.:.:.:.:.:.:.:.:.:.\t./.:.:.:.:.:.:.:.:.:.\t./.:.:.:.:.:.:.:.:.:.\t./.:.:.:.:.:.:.:.:.:.\t./.:.:.:.:.:.:.:.:.:.\t./.:.:.:.:.:.:.:.:.:.\t./.:.:.:.:.:.:.:.:.:.\t./.:.:.:.:.:.:.:.:.:.\t./.:.:.:.:.:.:.:.:.:.\t0|1:0,0:0.775:0:0,0:0,0:0|1:29820918_A_ATACATGTATG:29820918:0,0,0,0\t./.:.:.:.:.:.:.:.:.:.\t./.:.:.:.:.:.:.:.:.:.\t./.:.:.:.:.:.:.:.:.:.\t./.:.:.:.:.:.:.:.:.:.\t./.:.:.:.:.:.:.:.:.:.\t./.:.:.:.:.:.:.:.:.:.\t./.:.:.:.:.:.:.:.:.:.\t./.:.:.:.:.:.:.:.:.:.\t./.:.:.:.:.:.:.:.:.:.\t./.:.:.:.:.:.:.:.:.:.\t./.:.:.:.:.:.:.:.:.:.\t./.:.:.:.:.:.:.:.:.:.\t./.:.:.:.:.:.:.:.:.:.\t./.:.:.:.:.:.:.:.:.:.\t./.:.:.:.:.:.:.:.:.:.\t./.:.:.:.:.:.:.:.:.:.\t./.:.:.:.:.:.:.:.:.:.\t./.:.:.:.:.:.:.:.:.:.\t./.:.:.:.:.:.:.:.:.:.\t./.:.:.:.:.:.:.:.:.:.\n",
      "\u001b[0m\n",
      "\n",
      " \u001b[31mWarning: Wrong read depth\u001b[0m\n",
      "\u001b[34mX\t29821008\t.\tA\tG\t.\t.\tAS_SB_TABLE=0,0|0,0;DP=11;ECNT=8;MBQ=0,0;MFRL=0,0;MMQ=60,60;MPOS=50;POPAF=7.3;TLOD=7.53\tGT:AD:AF:DP:F1R2:F2R1:PGT:PID:PS:SB\t./.:.:.:.:.:.:.:.:.:.\t./.:.:.:.:.:.:.:.:.:.\t./.:.:.:.:.:.:.:.:.:.\t./.:.:.:.:.:.:.:.:.:.\t./.:.:.:.:.:.:.:.:.:.\t./.:.:.:.:.:.:.:.:.:.\t./.:.:.:.:.:.:.:.:.:.\t./.:.:.:.:.:.:.:.:.:.\t./.:.:.:.:.:.:.:.:.:.\t./.:.:.:.:.:.:.:.:.:.\t./.:.:.:.:.:.:.:.:.:.\t./.:.:.:.:.:.:.:.:.:.\t./.:.:.:.:.:.:.:.:.:.\t./.:.:.:.:.:.:.:.:.:.\t./.:.:.:.:.:.:.:.:.:.\t./.:.:.:.:.:.:.:.:.:.\t0|1:0,0:0.781:0:0,0:0,0:0|1:29820918_A_ATACATGTATG:29820918:0,0,0,0\t./.:.:.:.:.:.:.:.:.:.\t./.:.:.:.:.:.:.:.:.:.\t./.:.:.:.:.:.:.:.:.:.\t./.:.:.:.:.:.:.:.:.:.\t./.:.:.:.:.:.:.:.:.:.\t./.:.:.:.:.:.:.:.:.:.\t./.:.:.:.:.:.:.:.:.:.\t./.:.:.:.:.:.:.:.:.:.\t./.:.:.:.:.:.:.:.:.:.\t./.:.:.:.:.:.:.:.:.:.\t./.:.:.:.:.:.:.:.:.:.\t./.:.:.:.:.:.:.:.:.:.\t./.:.:.:.:.:.:.:.:.:.\t./.:.:.:.:.:.:.:.:.:.\t./.:.:.:.:.:.:.:.:.:.\t./.:.:.:.:.:.:.:.:.:.\t./.:.:.:.:.:.:.:.:.:.\t./.:.:.:.:.:.:.:.:.:.\t./.:.:.:.:.:.:.:.:.:.\t./.:.:.:.:.:.:.:.:.:.\n",
      "\u001b[0m\n",
      "\n",
      " \u001b[31mWarning: Wrong read depth\u001b[0m\n",
      "\u001b[34mX\t29821064\t.\tG\tA\t.\t.\tAS_SB_TABLE=0,0|0,0;DP=9;ECNT=4;MBQ=0,0;MFRL=0,0;MMQ=60,60;MPOS=50;POPAF=7.3;TLOD=4.07\tGT:AD:AF:DP:F1R2:F2R1:PGT:PID:PS:SB\t./.:.:.:.:.:.:.:.:.:.\t./.:.:.:.:.:.:.:.:.:.\t./.:.:.:.:.:.:.:.:.:.\t./.:.:.:.:.:.:.:.:.:.\t./.:.:.:.:.:.:.:.:.:.\t./.:.:.:.:.:.:.:.:.:.\t./.:.:.:.:.:.:.:.:.:.\t./.:.:.:.:.:.:.:.:.:.\t./.:.:.:.:.:.:.:.:.:.\t./.:.:.:.:.:.:.:.:.:.\t./.:.:.:.:.:.:.:.:.:.\t./.:.:.:.:.:.:.:.:.:.\t./.:.:.:.:.:.:.:.:.:.\t./.:.:.:.:.:.:.:.:.:.\t./.:.:.:.:.:.:.:.:.:.\t./.:.:.:.:.:.:.:.:.:.\t0|1:0,0:0.753:0:0,0:0,0:0|1:29821064_G_A:29821064:0,0,0,0\t./.:.:.:.:.:.:.:.:.:.\t./.:.:.:.:.:.:.:.:.:.\t./.:.:.:.:.:.:.:.:.:.\t./.:.:.:.:.:.:.:.:.:.\t./.:.:.:.:.:.:.:.:.:.\t./.:.:.:.:.:.:.:.:.:.\t./.:.:.:.:.:.:.:.:.:.\t./.:.:.:.:.:.:.:.:.:.\t./.:.:.:.:.:.:.:.:.:.\t./.:.:.:.:.:.:.:.:.:.\t./.:.:.:.:.:.:.:.:.:.\t./.:.:.:.:.:.:.:.:.:.\t./.:.:.:.:.:.:.:.:.:.\t./.:.:.:.:.:.:.:.:.:.\t./.:.:.:.:.:.:.:.:.:.\t./.:.:.:.:.:.:.:.:.:.\t./.:.:.:.:.:.:.:.:.:.\t./.:.:.:.:.:.:.:.:.:.\t./.:.:.:.:.:.:.:.:.:.\t./.:.:.:.:.:.:.:.:.:.\n",
      "\u001b[0m\n",
      "\n",
      " \u001b[31mWarning: Wrong read depth\u001b[0m\n",
      "\u001b[34mX\t140993905\t.\tC\tT\t.\t.\tAS_SB_TABLE=0,0|0,0;DP=14;ECNT=9;MBQ=0,0;MFRL=0,0;MMQ=60,60;MPOS=50;POPAF=7.3;TLOD=18.05\tGT:AD:AF:DP:F1R2:F2R1:PGT:PID:PS:SB\t./.:.:.:.:.:.:.:.:.:.\t./.:.:.:.:.:.:.:.:.:.\t./.:.:.:.:.:.:.:.:.:.\t./.:.:.:.:.:.:.:.:.:.\t./.:.:.:.:.:.:.:.:.:.\t./.:.:.:.:.:.:.:.:.:.\t./.:.:.:.:.:.:.:.:.:.\t./.:.:.:.:.:.:.:.:.:.\t0|1:0,0:0.931:0:0,0:0,0:0|1:140993859_T_A:140993859:0,0,0,0\t./.:.:.:.:.:.:.:.:.:.\t./.:.:.:.:.:.:.:.:.:.\t./.:.:.:.:.:.:.:.:.:.\t./.:.:.:.:.:.:.:.:.:.\t./.:.:.:.:.:.:.:.:.:.\t./.:.:.:.:.:.:.:.:.:.\t./.:.:.:.:.:.:.:.:.:.\t./.:.:.:.:.:.:.:.:.:.\t./.:.:.:.:.:.:.:.:.:.\t./.:.:.:.:.:.:.:.:.:.\t./.:.:.:.:.:.:.:.:.:.\t./.:.:.:.:.:.:.:.:.:.\t./.:.:.:.:.:.:.:.:.:.\t./.:.:.:.:.:.:.:.:.:.\t./.:.:.:.:.:.:.:.:.:.\t./.:.:.:.:.:.:.:.:.:.\t./.:.:.:.:.:.:.:.:.:.\t./.:.:.:.:.:.:.:.:.:.\t./.:.:.:.:.:.:.:.:.:.\t./.:.:.:.:.:.:.:.:.:.\t./.:.:.:.:.:.:.:.:.:.\t./.:.:.:.:.:.:.:.:.:.\t./.:.:.:.:.:.:.:.:.:.\t./.:.:.:.:.:.:.:.:.:.\t./.:.:.:.:.:.:.:.:.:.\t./.:.:.:.:.:.:.:.:.:.\t./.:.:.:.:.:.:.:.:.:.\t./.:.:.:.:.:.:.:.:.:.\n",
      "\u001b[0m\n",
      "\n",
      " \u001b[31mWarning: Wrong read depth\u001b[0m\n",
      "\u001b[34mX\t140993913\t.\tC\tG\t.\t.\tAS_SB_TABLE=0,0|0,0;DP=14;ECNT=9;MBQ=0,0;MFRL=0,0;MMQ=60,60;MPOS=50;POPAF=7.3;TLOD=18.05\tGT:AD:AF:DP:F1R2:F2R1:PGT:PID:PS:SB\t./.:.:.:.:.:.:.:.:.:.\t./.:.:.:.:.:.:.:.:.:.\t./.:.:.:.:.:.:.:.:.:.\t./.:.:.:.:.:.:.:.:.:.\t./.:.:.:.:.:.:.:.:.:.\t./.:.:.:.:.:.:.:.:.:.\t./.:.:.:.:.:.:.:.:.:.\t./.:.:.:.:.:.:.:.:.:.\t0|1:0,0:0.931:0:0,0:0,0:0|1:140993859_T_A:140993859:0,0,0,0\t./.:.:.:.:.:.:.:.:.:.\t./.:.:.:.:.:.:.:.:.:.\t./.:.:.:.:.:.:.:.:.:.\t./.:.:.:.:.:.:.:.:.:.\t./.:.:.:.:.:.:.:.:.:.\t./.:.:.:.:.:.:.:.:.:.\t./.:.:.:.:.:.:.:.:.:.\t./.:.:.:.:.:.:.:.:.:.\t./.:.:.:.:.:.:.:.:.:.\t./.:.:.:.:.:.:.:.:.:.\t./.:.:.:.:.:.:.:.:.:.\t./.:.:.:.:.:.:.:.:.:.\t./.:.:.:.:.:.:.:.:.:.\t./.:.:.:.:.:.:.:.:.:.\t./.:.:.:.:.:.:.:.:.:.\t./.:.:.:.:.:.:.:.:.:.\t./.:.:.:.:.:.:.:.:.:.\t./.:.:.:.:.:.:.:.:.:.\t./.:.:.:.:.:.:.:.:.:.\t./.:.:.:.:.:.:.:.:.:.\t./.:.:.:.:.:.:.:.:.:.\t./.:.:.:.:.:.:.:.:.:.\t./.:.:.:.:.:.:.:.:.:.\t./.:.:.:.:.:.:.:.:.:.\t./.:.:.:.:.:.:.:.:.:.\t./.:.:.:.:.:.:.:.:.:.\t./.:.:.:.:.:.:.:.:.:.\t./.:.:.:.:.:.:.:.:.:.\n",
      "\u001b[0m\n",
      "\u001b[32m2061066 lines processed \u001b[0m\n"
     ]
    }
   ],
   "source": [
    "all_stats,_ = get_stats(true_negatives_vcf)\n",
    "all_DP_TN, all_DP_inf_TN, all_VAF_TN, in_dbsnp_TN, samples_with_variant_TN = zip(*all_stats)"
   ]
  },
  {
   "cell_type": "code",
   "execution_count": 14,
   "metadata": {},
   "outputs": [
    {
     "name": "stdout",
     "output_type": "stream",
     "text": [
      "Average read depth: 36\n",
      "Median read depth: 28\n"
     ]
    },
    {
     "data": {
      "image/png": "[encoded data removed]",
      "text/plain": [
       "<Figure size 432x288 with 1 Axes>"
      ]
     },
     "metadata": {
      "needs_background": "light"
     },
     "output_type": "display_data"
    }
   ],
   "source": [
    "#Read Depth (as in BAM file) distribution\n",
    "\n",
    "DP_hist, bin_edges = np.histogram(all_DP_TN, bins=50, range=(1.,100.))\n",
    "bin_centers = [(bin_edges[i]+bin_edges[i-1])/2. for i in range(1,len(bin_edges))]\n",
    "\n",
    "plt.bar(bin_centers,DP_hist, width=bin_centers[1]-bin_centers[0])\n",
    "ax=plt.gca()\n",
    "ax.set_xlabel('Read Depth')\n",
    "ax.set_ylabel('# of variants')\n",
    "print(f'Average read depth: {np.mean(all_DP_TN):.0f}')\n",
    "print(f'Median read depth: {np.median(all_DP_TN):.0f}')"
   ]
  },
  {
   "cell_type": "code",
   "execution_count": 15,
   "metadata": {},
   "outputs": [
    {
     "name": "stdout",
     "output_type": "stream",
     "text": [
      "# of variants: 2,900,793\n",
      "# of homozygous variants: 448,402\n",
      "# of heterozygous variants: 2,452,391\n"
     ]
    },
    {
     "data": {
      "image/png": "[encoded data removed]",
      "text/plain": [
       "<Figure size 432x288 with 1 Axes>"
      ]
     },
     "metadata": {
      "needs_background": "light"
     },
     "output_type": "display_data"
    }
   ],
   "source": [
    "#Variant Allele fraction distribution\n",
    "min_DP = 0 #consider only variants with DP above this value\n",
    "\n",
    "all_VAF_TN = np.array(all_VAF_TN)\n",
    "all_DP_inf_TN = np.array(all_DP_inf_TN)\n",
    "\n",
    "VAF_hist, bin_edges = np.histogram(all_VAF_TN[all_DP_inf_TN>=min_DP], bins=20, range=(0.,1.))\n",
    "bin_centers = np.array([(bin_edges[i]+bin_edges[i-1])/2. for i in range(1,len(bin_edges))])\n",
    "bin_centers = bin_centers*100\n",
    "\n",
    "plt.bar(bin_centers,VAF_hist, width=bin_centers[1]-bin_centers[0])\n",
    "ax=plt.gca()\n",
    "ax.set_xlabel('VAF, %')\n",
    "ax.set_ylabel('# of variants')\n",
    "\n",
    "print(f'# of variants: {np.sum(VAF_hist):,}')\n",
    "print(f'# of homozygous variants: {np.sum(VAF_hist[bin_centers>=75]):,}')\n",
    "print(f'# of heterozygous variants: {np.sum(VAF_hist[bin_centers<75]):,}')"
   ]
  },
  {
   "cell_type": "markdown",
   "metadata": {},
   "source": [
    "# SOMATIC calls\n",
    "\n",
    "The somatic calls are in SupplementaryTable 6 of the TCGA-LAML paper.\n",
    "This table has the ReadDepth field which probably doesn't correspond to the read depth in BAM files. Here, we'll get the true read depth and VAF distributions from BAM files."
   ]
  },
  {
   "cell_type": "code",
   "execution_count": null,
   "metadata": {},
   "outputs": [],
   "source": [
    "import pandas as pd\n",
    "import os"
   ]
  },
  {
   "cell_type": "code",
   "execution_count": null,
   "metadata": {},
   "outputs": [],
   "source": [
    "tcga_laml_somatic_table = '/home/icb/sergey.vilov/workspace/vale-variant-calling/TCGA-LAML_calling/TCGA_LAML_suptable6/suptable6_GRCh37.tsv' #SupplementaryTable6 with positions already converted from Build36 to to GRCh37!\n",
    "wgs_data = '/storage/groups/epigenereg01/projects/vale/data/202011061/TCGA/LAML_WGS/'\n",
    "samples_table = '/home/icb/sergey.vilov/workspace/vale-variant-calling/TCGA-LAML_calling/wgs_samples.csv' #table with sample names and path to bam files"
   ]
  },
  {
   "cell_type": "code",
   "execution_count": null,
   "metadata": {},
   "outputs": [],
   "source": [
    "suptable6=pd.read_csv(tcga_laml_somatic_table, sep='\\t', index_col=0)\n",
    "somatic_table=suptable6.copy()\n",
    "\n",
    "#somatic_table=somatic_table[somatic_table['type']=='SNP'] #take only SNPs\n",
    "#print(f'Total number of SNP mutations: {len(somatic_table)}')\n",
    "\n",
    "somatic_table=somatic_table[~somatic_table['WGS_id'].isna()] #take only WGS samples\n",
    "print(f'Number of mutations in WGS samples: {len(somatic_table)}')\n",
    "\n",
    "somatic_table.tail(5)"
   ]
  },
  {
   "cell_type": "code",
   "execution_count": null,
   "metadata": {},
   "outputs": [],
   "source": [
    "samples=pd.read_csv(samples_table, index_col=0)\n",
    "samples=samples[samples['ref']=='GRCh37-lite']#attention to the reference genome\n",
    "samples=samples[samples['type']=='TUMOR']#take only TUMOR samples (as we collect somatic mutations)\n",
    "samples.drop_duplicates(subset='sample', inplace=True)#sometimes there are more than 1 BAM file for a given sample\n",
    "samples['bam_path'] = samples.apply(lambda x:os.path.join(*[wgs_data, x.bam_dir,x.bam_name]), axis=1) #get full path to bam file out of bam_dir and bam_name columns\n",
    "mapping_df=samples[['case_id','sample', 'bam_path']]#matching dataframe to get bam file path using case_id\n",
    "\n",
    "somatic_table.rename({'TCGA_id':'case_id', 'start_GRCh37':'pos', 'chromosome_name':'chrom', 'reference':'ref', 'variant':'alt'}, axis=1,inplace=True)\n",
    "#for each variant in the table, get the path to corresponding BAM file by merging with the UNIQUE case_id column of samples dataframe\n",
    "somatic_table=somatic_table.reset_index().merge(mapping_df, on='case_id',how='left').set_index('index')#preserve index on merge, we'll need it to add real DP and VAF values the variants table\n",
    "somatic_table = somatic_table[['pos', 'chrom', 'ref', 'alt','type', 'bam_path']]\n",
    "\n",
    "#somatic_table=somatic_table[somatic_table['case_id']=='TCGA-AB-2905']\n",
    "somatic_table.head(10) "
   ]
  },
  {
   "cell_type": "code",
   "execution_count": null,
   "metadata": {},
   "outputs": [],
   "source": [
    "import re\n",
    "\n",
    "def DP_and_VAF_from_BAM(bamfile, variant):\n",
    "    \n",
    "    ref = variant['ref']\n",
    "    alt = variant['alt']\n",
    "    l_ref = len(ref)\n",
    "    l_alt = len(alt)\n",
    "    varpos = variant['pos']\n",
    "\n",
    "    if alt=='-' or len(ref)>len(alt):\n",
    "        vartype = 'DEL'\n",
    "        if alt == '-': #for tcga-laml suptable6\n",
    "            varpos -= 1\n",
    "\n",
    "    elif ref=='-' or len(ref)<len(alt):\n",
    "        vartype = 'INS'\n",
    "        \n",
    "    else:\n",
    "        vartype = 'SNP'\n",
    "\n",
    "    #var_reads = []\n",
    "\n",
    "    bam_gen = pysam.AlignmentFile(bamfile, \"rb\")\n",
    "\n",
    "    sup_alt = 0\n",
    "    #sup_ref = 0\n",
    "    #DP = 0\n",
    "\n",
    "    for pileupcolumn in bam_gen.pileup(variant['chrom'], varpos-2, varpos+2, \n",
    "                                   flag_filter=(0x4|0x200|0x400), #exclude unmapped,duplicates and not passing filters alingments\n",
    "                                   max_depth = 300 #certain sites can be very deep.. \n",
    "                                  ):\n",
    "        \n",
    "           if pileupcolumn.pos==varpos-1:\n",
    "                \n",
    "                bases = pileupcolumn.get_query_sequences(add_indels=True)\n",
    "                pos_in_reads = pileupcolumn.get_query_positions()\n",
    "                \n",
    "                if vartype == 'DEL':\n",
    "                    \n",
    "                    for base in bases:\n",
    "                        is_del_after = re.search('-([0-9]+)[ACGTNacgtn]+',base)\n",
    "                        if is_del_after and int(is_del_after.groups(1)[0])==l_ref:\n",
    "                            sup_alt+=1\n",
    "                                                 \n",
    "                    #for pos, read in zip(pos_in_reads,pileupcolumn.pileups):\n",
    "                    #    sup_ref += read.alignment.query_alignment_sequence[pos+1:pos+1+l_var]==ref\n",
    "\n",
    "                elif vartype == 'INS':\n",
    "                    \n",
    "                    for base in bases:\n",
    "                        is_ins_after = re.search('\\+[0-9]+([ACGTNacgtn]+)',base)\n",
    "                        if is_ins_after and is_ins_after.groups(1)[0].upper()==alt:\n",
    "                            sup_alt+=1\n",
    "                            \n",
    "                else:\n",
    "                    sup_alt = sum([b[0].upper()==alt for b in bases])\n",
    "                        \n",
    "                DP = sum([b[0].upper()!='N' for b in bases])\n",
    "   \n",
    "                break\n",
    "    \n",
    "    VAF = sup_alt/DP\n",
    "        \n",
    "    return DP, VAF"
   ]
  },
  {
   "cell_type": "code",
   "execution_count": null,
   "metadata": {
    "tags": []
   },
   "outputs": [],
   "source": [
    "#we shall update suptable6 with DP and VAF calculated from BAM files\n",
    "new_suptable6 = '/home/icb/sergey.vilov/workspace/vale-variant-calling/TCGA-LAML_calling/TCGA_LAML_suptable6/suptable6_GRCh37_DP_VAF.tsv'\n",
    "\n",
    "DP_som = list()\n",
    "VAF_som = list()\n",
    "\n",
    "suptable6['DP_GRCh37'] = np.NaN\n",
    "suptable6['VAF_GRCh37'] = np.NaN\n",
    "\n",
    "N_variants = 0\n",
    "\n",
    "for row_idx, variant in somatic_table.iterrows():\n",
    "    \n",
    "    if not np.isnan(variant['pos']):\n",
    "        \n",
    "        bam_path = variant['bam_path']\n",
    "        \n",
    "        if not (isinstance(bam_path,float) and np.isnan(bam_path)):\n",
    "            \n",
    "            try:\n",
    "                DP, VAF = DP_and_VAF_from_BAM(bam_path, variant)\n",
    "            except:\n",
    "                DP = 9e5\n",
    "                VAF = 9e5\n",
    "        \n",
    "            suptable6.loc[row_idx, 'DP_GRCh37'] = DP #add corrected value of read depth to SupplTable6\n",
    "            suptable6.loc[row_idx, 'VAF_GRCh37'] = np.round(VAF,2) #add VAF to SupplTable6\n",
    "        \n",
    "            DP_som.append(DP)\n",
    "            VAF_som.append(VAF)\n",
    "        \n",
    "            N_variants += 1\n",
    "        \n",
    "            if (N_variants)%100==0:\n",
    "                suptable6.to_csv(new_suptable6, sep='\\t')\n",
    "                print(f'{N_variants} variants processed')\n",
    "                \n",
    "suptable6.to_csv(new_suptable6, sep='\\t')\n",
    "\n",
    "print(f'New SupTable6 created with DP and VAF fields from GRCh37 BAM files')"
   ]
  },
  {
   "cell_type": "code",
   "execution_count": 32,
   "metadata": {},
   "outputs": [
    {
     "name": "stdout",
     "output_type": "stream",
     "text": [
      "Average read depth: nan\n",
      "Median read depth: nan\n"
     ]
    },
    {
     "data": {
      "image/png": "[encoded data removed]",
      "text/plain": [
       "<Figure size 432x288 with 1 Axes>"
      ]
     },
     "metadata": {
      "needs_background": "light"
     },
     "output_type": "display_data"
    }
   ],
   "source": [
    "#Read Depth (as in BAM file) distribution\n",
    "\n",
    "DP_hist, bin_edges = np.histogram(DP_som, bins=50, range=(1.,100.))\n",
    "bin_centers = [(bin_edges[i]+bin_edges[i-1])/2. for i in range(1,len(bin_edges))]\n",
    "\n",
    "plt.bar(bin_centers,DP_hist, width=bin_centers[1]-bin_centers[0])\n",
    "ax=plt.gca()\n",
    "ax.set_xlabel('Read Depth')\n",
    "ax.set_ylabel('# of variants')\n",
    "print(f'Average read depth: {np.mean(DP_som):.0f}')\n",
    "print(f'Median read depth: {np.median(DP_som):.0f}')"
   ]
  },
  {
   "cell_type": "code",
   "execution_count": 34,
   "metadata": {},
   "outputs": [
    {
     "name": "stdout",
     "output_type": "stream",
     "text": [
      "# of variants: 14,864\n",
      "# of homozygous variants: 199\n",
      "# of heterozygous variants: 14,665\n",
      "average heterozygous VAF: 42\n",
      "median heterozygous VAF: 42\n"
     ]
    },
    {
     "data": {
      "image/png": "[encoded data removed]",
      "text/plain": [
       "<Figure size 432x288 with 1 Axes>"
      ]
     },
     "metadata": {
      "needs_background": "light"
     },
     "output_type": "display_data"
    }
   ],
   "source": [
    "#Variant Allele fraction distribution\n",
    "min_DP = 0 #consider only variants with DP above this value\n",
    "\n",
    "all_VAF_som = np.array(VAF_som)\n",
    "all_DP_som = np.array(DP_som)\n",
    "\n",
    "VAF_hist, bin_edges = np.histogram(all_VAF_som[all_DP_som>=min_DP], bins=20, range=(0.,1.))\n",
    "bin_centers = np.array([(bin_edges[i]+bin_edges[i-1])/2. for i in range(1,len(bin_edges))])\n",
    "bin_centers = bin_centers*100\n",
    "\n",
    "plt.bar(bin_centers,VAF_hist, width=bin_centers[1]-bin_centers[0])\n",
    "ax=plt.gca()\n",
    "ax.set_xlabel('VAF, %')\n",
    "ax.set_ylabel('# of variants')\n",
    "\n",
    "print(f'# of variants: {np.sum(VAF_hist):,}')\n",
    "print(f'# of homozygous variants: {np.sum(VAF_hist[bin_centers>75]):,}')\n",
    "print(f'# of heterozygous variants: {np.sum(VAF_hist[bin_centers<75]):,}')\n",
    "print(f'average heterozygous VAF: {np.mean(all_VAF_som[all_VAF_som<75])*100:.0f}')\n",
    "print(f'median heterozygous VAF: {np.median(all_VAF_som[all_VAF_som<75])*100:.0f}')"
   ]
  },
  {
   "cell_type": "code",
   "execution_count": 30,
   "metadata": {},
   "outputs": [
    {
     "data": {
      "text/plain": [
       "(0.0, 100.0)"
      ]
     },
     "execution_count": 30,
     "metadata": {},
     "output_type": "execute_result"
    },
    {
     "data": {
      "image/png": "[encoded data removed]",
      "text/plain": [
       "<Figure size 432x288 with 1 Axes>"
      ]
     },
     "metadata": {
      "needs_background": "light"
     },
     "output_type": "display_data"
    }
   ],
   "source": [
    "import pandas as pd\n",
    "\n",
    "new_suptable6 = '/home/icb/sergey.vilov/workspace/vale-variant-calling/TCGA-LAML_calling/TCGA_LAML_suptable6/suptable6_GRCh37_DP_VAF.tsv'\n",
    "\n",
    "suptable6 = pd.read_csv(new_suptable6, sep='\\t',index_col=0)\n",
    "suptable6=suptable6[~suptable6['WGS_id'].isna()] #take only WGS samples\n",
    "\n",
    "import seaborn as sns\n",
    "\n",
    "somatic_VAF = suptable6['VAF_GRCh37'].values*100\n",
    "germline_VAF = np.random.choice(all_VAF_GL, size = 20000, replace=False)*100\n",
    "\n",
    "sns.histplot({'somatic':somatic_VAF[somatic_VAF<75],'germline':germline_VAF[germline_VAF<75]},bins=20,stat='density')\n",
    "\n",
    "#plt.ylim(0, 1000)\n",
    "ax = plt.gca()\n",
    "\n",
    "ax.set_ylabel('Probability')\n",
    "ax.set_xlabel('VAF,%')\n",
    "ax.set_xlim((0,100))"
   ]
  }
 ],
 "metadata": {
  "kernelspec": {
   "display_name": "Python 3",
   "language": "python",
   "name": "python3"
  },
  "language_info": {
   "codemirror_mode": {
    "name": "ipython",
    "version": 3
   },
   "file_extension": ".py",
   "mimetype": "text/x-python",
   "name": "python",
   "nbconvert_exporter": "python",
   "pygments_lexer": "ipython3",
   "version": "3.6.13"
  }
 },
 "nbformat": 4,
 "nbformat_minor": 4
}

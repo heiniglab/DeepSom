{
 "cells": [
  {
   "cell_type": "code",
   "execution_count": 19,
   "id": "3d7ce7e8-c087-4c7a-ad6f-5cfadd7bb047",
   "metadata": {},
   "outputs": [],
   "source": [
    "import numpy as np\n",
    "import pandas as pd\n",
    "import matplotlib.pyplot as plt\n",
    "%matplotlib inline"
   ]
  },
  {
   "cell_type": "code",
   "execution_count": 20,
   "id": "4b562c71-f15c-43a9-88b3-2a69b7a6142d",
   "metadata": {},
   "outputs": [],
   "source": [
    "snvs_table = '/storage/groups/epigenereg01/workspace/projects/vale/datasets/snvs/variants.snvs.csv.gz'\n",
    "indels_table = '/storage/groups/epigenereg01/workspace/projects/vale/datasets/indels/variants.indels.csv.gz'"
   ]
  },
  {
   "cell_type": "code",
   "execution_count": 21,
   "id": "ef78a95f-93d3-4c3c-9f3c-54b8703d3365",
   "metadata": {},
   "outputs": [
    {
     "name": "stderr",
     "output_type": "stream",
     "text": [
      "/home/icb/sergey.vilov/miniconda3/envs/vale/lib/python3.6/site-packages/IPython/core/interactiveshell.py:2714: DtypeWarning: Columns (4) have mixed types.Specify dtype option on import or set low_memory=False.\n",
      "  interactivity=interactivity, compiler=compiler, result=result)\n",
      "/home/icb/sergey.vilov/miniconda3/envs/vale/lib/python3.6/site-packages/numpy/lib/arraysetops.py:580: FutureWarning: elementwise comparison failed; returning scalar instead, but in the future will perform elementwise comparison\n",
      "  mask |= (ar1 == a)\n"
     ]
    },
    {
     "data": {
      "text/html": [
       "<div>\n",
       "<style scoped>\n",
       "    .dataframe tbody tr th:only-of-type {\n",
       "        vertical-align: middle;\n",
       "    }\n",
       "\n",
       "    .dataframe tbody tr th {\n",
       "        vertical-align: top;\n",
       "    }\n",
       "\n",
       "    .dataframe thead th {\n",
       "        text-align: right;\n",
       "    }\n",
       "</style>\n",
       "<table border=\"1\" class=\"dataframe\">\n",
       "  <thead>\n",
       "    <tr style=\"text-align: right;\">\n",
       "      <th></th>\n",
       "      <th>sample</th>\n",
       "      <th>chrom</th>\n",
       "      <th>pos</th>\n",
       "    </tr>\n",
       "  </thead>\n",
       "  <tbody>\n",
       "    <tr>\n",
       "      <th>0</th>\n",
       "      <td>TCGA-AB-3001-11A-01D-0739-09</td>\n",
       "      <td>1</td>\n",
       "      <td>73841</td>\n",
       "    </tr>\n",
       "    <tr>\n",
       "      <th>9</th>\n",
       "      <td>TCGA-AB-2977-11A-01D-0739-09</td>\n",
       "      <td>1</td>\n",
       "      <td>838555</td>\n",
       "    </tr>\n",
       "    <tr>\n",
       "      <th>18</th>\n",
       "      <td>TCGA-AB-3001-11A-01D-0739-09</td>\n",
       "      <td>1</td>\n",
       "      <td>894519</td>\n",
       "    </tr>\n",
       "    <tr>\n",
       "      <th>27</th>\n",
       "      <td>TCGA-AB-2977-11A-01D-0739-09</td>\n",
       "      <td>1</td>\n",
       "      <td>990380</td>\n",
       "    </tr>\n",
       "    <tr>\n",
       "      <th>36</th>\n",
       "      <td>TCGA-AB-3001-11A-01D-0739-09</td>\n",
       "      <td>1</td>\n",
       "      <td>1130843</td>\n",
       "    </tr>\n",
       "  </tbody>\n",
       "</table>\n",
       "</div>"
      ],
      "text/plain": [
       "                          sample chrom      pos\n",
       "0   TCGA-AB-3001-11A-01D-0739-09     1    73841\n",
       "9   TCGA-AB-2977-11A-01D-0739-09     1   838555\n",
       "18  TCGA-AB-3001-11A-01D-0739-09     1   894519\n",
       "27  TCGA-AB-2977-11A-01D-0739-09     1   990380\n",
       "36  TCGA-AB-3001-11A-01D-0739-09     1  1130843"
      ]
     },
     "execution_count": 21,
     "metadata": {},
     "output_type": "execute_result"
    }
   ],
   "source": [
    "snvs_df = pd.read_csv(snvs_table, index_col=0)\n",
    "snvs_df = snvs_df[snvs_df.kind.isin(('G','S'))]\n",
    "snvs_df = snvs_df[['sample','chrom','pos']]\n",
    "snvs_df=snvs_df[~snvs_df.pos.isna()]\n",
    "snvs_df.pos = snvs_df.pos.astype(np.int64)\n",
    "snvs_df_grouped = snvs_df.groupby(['sample','chrom'])['pos'].apply(lambda x:x.to_numpy())\n",
    "snvs_df = snvs_df.iloc[range(0,len(snvs_df),np.int(len(snvs_df)/100000)),:]\n",
    "snvs_df.head()"
   ]
  },
  {
   "cell_type": "code",
   "execution_count": 23,
   "id": "a2a88131-4583-44b4-8a8d-aa0fc3997e27",
   "metadata": {},
   "outputs": [
    {
     "name": "stderr",
     "output_type": "stream",
     "text": [
      "/home/icb/sergey.vilov/miniconda3/envs/vale/lib/python3.6/site-packages/IPython/core/interactiveshell.py:2714: DtypeWarning: Columns (4) have mixed types.Specify dtype option on import or set low_memory=False.\n",
      "  interactivity=interactivity, compiler=compiler, result=result)\n",
      "/home/icb/sergey.vilov/miniconda3/envs/vale/lib/python3.6/site-packages/numpy/lib/arraysetops.py:580: FutureWarning: elementwise comparison failed; returning scalar instead, but in the future will perform elementwise comparison\n",
      "  mask |= (ar1 == a)\n"
     ]
    },
    {
     "data": {
      "text/html": [
       "<div>\n",
       "<style scoped>\n",
       "    .dataframe tbody tr th:only-of-type {\n",
       "        vertical-align: middle;\n",
       "    }\n",
       "\n",
       "    .dataframe tbody tr th {\n",
       "        vertical-align: top;\n",
       "    }\n",
       "\n",
       "    .dataframe thead th {\n",
       "        text-align: right;\n",
       "    }\n",
       "</style>\n",
       "<table border=\"1\" class=\"dataframe\">\n",
       "  <thead>\n",
       "    <tr style=\"text-align: right;\">\n",
       "      <th></th>\n",
       "      <th>sample</th>\n",
       "      <th>chrom</th>\n",
       "      <th>pos</th>\n",
       "    </tr>\n",
       "  </thead>\n",
       "  <tbody>\n",
       "    <tr>\n",
       "      <th>0</th>\n",
       "      <td>TCGA-AB-2977-11A-01D-0739-09</td>\n",
       "      <td>1</td>\n",
       "      <td>30867</td>\n",
       "    </tr>\n",
       "    <tr>\n",
       "      <th>9</th>\n",
       "      <td>TCGA-AB-3001-11A-01D-0739-09</td>\n",
       "      <td>1</td>\n",
       "      <td>724948</td>\n",
       "    </tr>\n",
       "    <tr>\n",
       "      <th>18</th>\n",
       "      <td>TCGA-AB-3001-11A-01D-0739-09</td>\n",
       "      <td>1</td>\n",
       "      <td>790758</td>\n",
       "    </tr>\n",
       "    <tr>\n",
       "      <th>27</th>\n",
       "      <td>TCGA-AB-3001-11A-01D-0739-09</td>\n",
       "      <td>1</td>\n",
       "      <td>846600</td>\n",
       "    </tr>\n",
       "    <tr>\n",
       "      <th>36</th>\n",
       "      <td>TCGA-AB-2977-11A-01D-0739-09</td>\n",
       "      <td>1</td>\n",
       "      <td>886179</td>\n",
       "    </tr>\n",
       "  </tbody>\n",
       "</table>\n",
       "</div>"
      ],
      "text/plain": [
       "                          sample chrom     pos\n",
       "0   TCGA-AB-2977-11A-01D-0739-09     1   30867\n",
       "9   TCGA-AB-3001-11A-01D-0739-09     1  724948\n",
       "18  TCGA-AB-3001-11A-01D-0739-09     1  790758\n",
       "27  TCGA-AB-3001-11A-01D-0739-09     1  846600\n",
       "36  TCGA-AB-2977-11A-01D-0739-09     1  886179"
      ]
     },
     "execution_count": 23,
     "metadata": {},
     "output_type": "execute_result"
    }
   ],
   "source": [
    "indels_df = pd.read_csv(indels_table, index_col=0)\n",
    "indels_df = indels_df[indels_df.kind.isin(('G','S'))]\n",
    "indels_df = indels_df[['sample','chrom','pos']]\n",
    "indels_df.pos = indels_df.pos.astype(np.int64)\n",
    "indels_df_grouped = indels_df.groupby(['sample','chrom'])['pos'].apply(lambda x:x.to_numpy())\n",
    "indels_df = indels_df.iloc[range(0,len(indels_df),np.int(len(indels_df)/100000)),:]\n",
    "indels_df.head()"
   ]
  },
  {
   "cell_type": "code",
   "execution_count": 24,
   "id": "f35f0024-039b-4387-aec0-7802193c53b0",
   "metadata": {},
   "outputs": [],
   "source": [
    "def neghbouring_variants_count(image_width, df1, df2):\n",
    "    \n",
    "    vars_tot = []\n",
    "    N_tot = 0\n",
    "    \n",
    "    for row_idx, rec in df1.iterrows():\n",
    "\n",
    "        pos = rec.pos\n",
    "        sample_name = rec['sample']\n",
    "        chrom = rec.chrom\n",
    "    \n",
    "        if (sample_name,chrom) in df2.index:\n",
    "            vars_coord = df2.loc[sample_name,chrom] \n",
    "            vars_tot.append(np.sum((vars_coord>pos-image_width//2)&(vars_coord<=pos+image_width//2)&(vars_coord!=pos)))\n",
    "    \n",
    "        N_tot += 1\n",
    "    \n",
    "    return np.array(vars_tot), N_tot"
   ]
  },
  {
   "cell_type": "code",
   "execution_count": 25,
   "id": "13c9b774-7be9-4fde-820e-27f694ff3722",
   "metadata": {},
   "outputs": [
    {
     "name": "stdout",
     "output_type": "stream",
     "text": [
      "With SNP image width equal 150 there are 4% extra indels per image on average\n"
     ]
    }
   ],
   "source": [
    "image_width = 150\n",
    "vars_tot,N_tot = neghbouring_variants_count(image_width, df1=snvs_df, df2=indels_df_grouped)\n",
    "print(f'With SNP image width equal {image_width} there are {vars_tot.sum()/N_tot*100:.0f}% extra indels per image on average')"
   ]
  },
  {
   "cell_type": "code",
   "execution_count": 26,
   "id": "1d24445f-8ff9-4ac0-9ab4-d013c6fc2763",
   "metadata": {},
   "outputs": [
    {
     "name": "stdout",
     "output_type": "stream",
     "text": [
      "With SNP image width equal 150 there are 2% extra snvs per image on average\n"
     ]
    }
   ],
   "source": [
    "vars_tot,N_tot = neghbouring_variants_count(image_width, df1=snvs_df, df2=snvs_df_grouped)\n",
    "print(f'With SNP image width equal {image_width} there are {vars_tot.sum()/N_tot*100:.0f}% extra snvs per image on average')"
   ]
  },
  {
   "cell_type": "code",
   "execution_count": 27,
   "id": "17ef307c-599a-4faa-bb71-2484d3fce8f6",
   "metadata": {},
   "outputs": [
    {
     "name": "stdout",
     "output_type": "stream",
     "text": [
      "With INDEL image width equal 150 there are 12% extra indels per image on average\n"
     ]
    }
   ],
   "source": [
    "vars_tot,N_tot = neghbouring_variants_count(image_width, df1=indels_df, df2=indels_df_grouped)\n",
    "print(f'With INDEL image width equal {image_width} there are {vars_tot.sum()/N_tot*100:.0f}% extra indels per image on average')"
   ]
  },
  {
   "cell_type": "code",
   "execution_count": null,
   "id": "7c334e0e-3209-4dad-a573-cf6116155495",
   "metadata": {},
   "outputs": [],
   "source": []
  }
 ],
 "metadata": {
  "kernelspec": {
   "display_name": "Python 3",
   "language": "python",
   "name": "python3"
  },
  "language_info": {
   "codemirror_mode": {
    "name": "ipython",
    "version": 3
   },
   "file_extension": ".py",
   "mimetype": "text/x-python",
   "name": "python",
   "nbconvert_exporter": "python",
   "pygments_lexer": "ipython3",
   "version": "3.6.12"
  }
 },
 "nbformat": 4,
 "nbformat_minor": 5
}

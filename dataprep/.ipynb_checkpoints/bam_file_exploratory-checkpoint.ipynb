{
 "cells": [
  {
   "cell_type": "markdown",
   "metadata": {},
   "source": [
    "## Get variant image from a BAM file\n",
    "\n",
    "Here, we take a variant and construct a multichannel image from it to prepare Neural Network data.\n",
    "\n",
    "The variant position is taken from the VCF file and the image is constructed out of the reads exctracted from BAM file. No variant annotations from VCF file are encoded in the image"
   ]
  },
  {
   "cell_type": "markdown",
   "metadata": {},
   "source": [
    "Here, we fetch reads using pysam library and pileup them around the variant.\n",
    "For each read the cigar string is analysed to place read bases correctly (taking into account clips, insertions,deletion).\n",
    "If and only if the variant is an insertion, we account for this by placing insertions in the pileup image. Insertions that are not at the variant site are not inserted in the image.\n",
    "However, we mark absolutely all inserions (even if they are not at the variant site) in a dedicated channel by placing '1' at the position after which the insertions start. We mark all insertions with only one symbol, regardles of the insertion length.\n",
    "For deletions, we fill a dedicated channel with '1' throughout the whole deletion length."
   ]
  },
  {
   "cell_type": "code",
   "execution_count": 157,
   "metadata": {},
   "outputs": [],
   "source": [
    "import numpy as np\n",
    "import pysam\n",
    "import matplotlib.pyplot as plt\n",
    "import re\n",
    "%matplotlib inline\n",
    "\n",
    "\n",
    "refname = '/storage/groups/epigenereg01/workspace/projects/vale/TCGA-LAML_calling/resources_GRCh37-lite/reference/GRCh37-lite.fa'\n",
    "bamfile = '/storage/groups/epigenereg01/projects/vale/data/202011061/TCGA/LAML_WGS/03fcf98d-69fc-4abf-a465-8c834383c1f8/2ea3d714e132b70377761db557387c05.bam'\n",
    "germline_vcf = '/storage/groups/epigenereg01/workspace/projects/vale/TCGA-LAML_calling/dna-seq-gatk-variant-calling-TCGA-LAML/filtered/thr_90_0/all.snvs.recalibrated.vcf.gz'\n",
    "#germline_vcf = '/storage/groups/epigenereg01/workspace/projects/vale/TCGA-LAML_calling/dna-seq-gatk-variant-calling-TCGA-LAML/filtered/thr_90_0/all.indels.recalibrated.vcf.gz'"
   ]
  },
  {
   "cell_type": "code",
   "execution_count": 158,
   "metadata": {},
   "outputs": [
    {
     "name": "stdout",
     "output_type": "stream",
     "text": [
      "1\t69356272\trs6588341\tG\tA\t310.05\tPASS\tAC=2;AF=1;AN=2;DB;DP=9;ExcessHet=3.0103;FS=0;MLEAC=2;MLEAF=1;MQ=44.01;POSITIVE_TRAIN_SITE;QD=34.45;SOR=0.892;VQSLOD=5.37;culprit=FS\tGT:AD:DP:GQ:PL\t./.:.:.:.:.\t./.:.:.:.:.\t./.:.:.:.:.\t./.:.:.:.:.\t./.:.:.:.:.\t./.:.:.:.:.\t./.:.:.:.:.\t./.:.:.:.:.\t./.:.:.:.:.\t./.:.:.:.:.\t./.:.:.:.:.\t./.:.:.:.:.\t./.:.:.:.:.\t./.:.:.:.:.\t./.:.:.:.:.\t./.:.:.:.:.\t./.:.:.:.:.\t./.:.:.:.:.\t1/1:0,9:9:27:324,27,0\t./.:.:.:.:.\t./.:.:.:.:.\t./.:.:.:.:.\t./.:.:.:.:.\t./.:.:.:.:.\t./.:.:.:.:.\t./.:.:.:.:.\t./.:.:.:.:.\t./.:.:.:.:.\t./.:.:.:.:.\t./.:.:.:.:.\t./.:.:.:.:.\t./.:.:.:.:.\t./.:.:.:.:.\t./.:.:.:.:.\t./.:.:.:.:.\t./.:.:.:.:.\t./.:.:.:.:.\n",
      "\n",
      "1\t69359943\trs10889791\tC\tT\t450.06\tPASS\tAC=2;AF=1;AN=2;DB;DP=14;ExcessHet=3.0103;FS=0;MLEAC=2;MLEAF=1;MQ=36.64;POSITIVE_TRAIN_SITE;QD=32.15;SOR=0.976;VQSLOD=4.77;culprit=FS\tGT:AD:DP:GQ:PL\t./.:.:.:.:.\t./.:.:.:.:.\t./.:.:.:.:.\t./.:.:.:.:.\t./.:.:.:.:.\t./.:.:.:.:.\t./.:.:.:.:.\t./.:.:.:.:.\t./.:.:.:.:.\t./.:.:.:.:.\t./.:.:.:.:.\t./.:.:.:.:.\t./.:.:.:.:.\t./.:.:.:.:.\t./.:.:.:.:.\t./.:.:.:.:.\t./.:.:.:.:.\t./.:.:.:.:.\t1/1:0,14:14:42:464,42,0\t./.:.:.:.:.\t./.:.:.:.:.\t./.:.:.:.:.\t./.:.:.:.:.\t./.:.:.:.:.\t./.:.:.:.:.\t./.:.:.:.:.\t./.:.:.:.:.\t./.:.:.:.:.\t./.:.:.:.:.\t./.:.:.:.:.\t./.:.:.:.:.\t./.:.:.:.:.\t./.:.:.:.:.\t./.:.:.:.:.\t./.:.:.:.:.\t./.:.:.:.:.\t./.:.:.:.:.\n",
      "\n",
      "1\t69364064\trs7554768\tA\tG\t478.06\tPASS\tAC=2;AF=1;AN=2;DB;DP=14;ExcessHet=3.0103;FS=0;MLEAC=2;MLEAF=1;MQ=49.93;QD=34.15;SOR=2.303;VQSLOD=2.85;culprit=FS\tGT:AD:DP:GQ:PL\t./.:.:.:.:.\t./.:.:.:.:.\t./.:.:.:.:.\t./.:.:.:.:.\t./.:.:.:.:.\t./.:.:.:.:.\t./.:.:.:.:.\t./.:.:.:.:.\t./.:.:.:.:.\t./.:.:.:.:.\t./.:.:.:.:.\t./.:.:.:.:.\t./.:.:.:.:.\t./.:.:.:.:.\t./.:.:.:.:.\t./.:.:.:.:.\t./.:.:.:.:.\t./.:.:.:.:.\t1/1:0,14:14:42:492,42,0\t./.:.:.:.:.\t./.:.:.:.:.\t./.:.:.:.:.\t./.:.:.:.:.\t./.:.:.:.:.\t./.:.:.:.:.\t./.:.:.:.:.\t./.:.:.:.:.\t./.:.:.:.:.\t./.:.:.:.:.\t./.:.:.:.:.\t./.:.:.:.:.\t./.:.:.:.:.\t./.:.:.:.:.\t./.:.:.:.:.\t./.:.:.:.:.\t./.:.:.:.:.\t./.:.:.:.:.\n",
      "\n",
      "1\t69364488\t.\tC\tA\t1058.06\tPASS\tAC=4;AF=1;AN=4;DP=49;ExcessHet=3.0103;FS=0;MLEAC=2;MLEAF=1;MQ=58.49;POSITIVE_TRAIN_SITE;QD=28.34;SOR=1.071;VQSLOD=5.25;culprit=FS\tGT:AD:DP:GQ:PL\t./.:.:.:.:.\t./.:.:.:.:.\t./.:.:.:.:.\t./.:.:.:.:.\t./.:.:.:.:.\t./.:.:.:.:.\t./.:.:.:.:.\t./.:.:.:.:.\t1/1:0,29:29:87:1072,87,0\t./.:.:.:.:.\t./.:.:.:.:.\t./.:.:.:.:.\t./.:.:.:.:.\t./.:.:.:.:.\t./.:.:.:.:.\t./.:.:.:.:.\t./.:.:.:.:.\t./.:.:.:.:.\t1/1:0,14:14:42:480,42,0\t./.:.:.:.:.\t./.:.:.:.:.\t./.:.:.:.:.\t./.:.:.:.:.\t./.:.:.:.:.\t./.:.:.:.:.\t./.:.:.:.:.\t./.:.:.:.:.\t./.:.:.:.:.\t./.:.:.:.:.\t./.:.:.:.:.\t./.:.:.:.:.\t./.:.:.:.:.\t./.:.:.:.:.\t./.:.:.:.:.\t./.:.:.:.:.\t./.:.:.:.:.\t./.:.:.:.:.\n",
      "\n",
      "1\t69369837\trs7551318\tG\tT\t671.06\tPASS\tAC=2;AF=1;AN=2;DB;DP=22;ExcessHet=3.0103;FS=0;MLEAC=2;MLEAF=1;MQ=51.89;POSITIVE_TRAIN_SITE;QD=28.73;SOR=1.609;VQSLOD=5.59;culprit=FS\tGT:AD:DP:GQ:PL\t./.:.:.:.:.\t./.:.:.:.:.\t./.:.:.:.:.\t./.:.:.:.:.\t./.:.:.:.:.\t./.:.:.:.:.\t./.:.:.:.:.\t./.:.:.:.:.\t./.:.:.:.:.\t./.:.:.:.:.\t./.:.:.:.:.\t./.:.:.:.:.\t./.:.:.:.:.\t./.:.:.:.:.\t./.:.:.:.:.\t./.:.:.:.:.\t./.:.:.:.:.\t./.:.:.:.:.\t1/1:0,19:19:57:685,57,0\t./.:.:.:.:.\t./.:.:.:.:.\t./.:.:.:.:.\t./.:.:.:.:.\t./.:.:.:.:.\t./.:.:.:.:.\t./.:.:.:.:.\t./.:.:.:.:.\t./.:.:.:.:.\t./.:.:.:.:.\t./.:.:.:.:.\t./.:.:.:.:.\t./.:.:.:.:.\t./.:.:.:.:.\t./.:.:.:.:.\t./.:.:.:.:.\t./.:.:.:.:.\t./.:.:.:.:.\n",
      "\n",
      "1\t69377375\trs9436856\tT\tG\t1740.06\tPASS\tAC=4;AF=1;AN=4;DB;DP=96;ExcessHet=3.0103;FS=0;MLEAC=2;MLEAF=1;MQ=55.97;POSITIVE_TRAIN_SITE;QD=31.87;SOR=1.345;VQSLOD=5.4;culprit=FS\tGT:AD:DP:GQ:PL\t./.:.:.:.:.\t./.:.:.:.:.\t./.:.:.:.:.\t./.:.:.:.:.\t./.:.:.:.:.\t./.:.:.:.:.\t./.:.:.:.:.\t./.:.:.:.:.\t1/1:0,49:49:99:1754,147,0\t./.:.:.:.:.\t./.:.:.:.:.\t./.:.:.:.:.\t./.:.:.:.:.\t./.:.:.:.:.\t./.:.:.:.:.\t./.:.:.:.:.\t./.:.:.:.:.\t./.:.:.:.:.\t1/1:0,42:42:99:1354,125,0\t./.:.:.:.:.\t./.:.:.:.:.\t./.:.:.:.:.\t./.:.:.:.:.\t./.:.:.:.:.\t./.:.:.:.:.\t./.:.:.:.:.\t./.:.:.:.:.\t./.:.:.:.:.\t./.:.:.:.:.\t./.:.:.:.:.\t./.:.:.:.:.\t./.:.:.:.:.\t./.:.:.:.:.\t./.:.:.:.:.\t./.:.:.:.:.\t./.:.:.:.:.\t./.:.:.:.:.\n",
      "\n",
      "1\t69377859\trs542634949\tA\tG\t436.64\tPASS\tAC=1;AF=0.5;AN=2;BaseQRankSum=0.126;DB;DP=22;ExcessHet=3.0103;FS=0;MLEAC=1;MLEAF=0.5;MQ=50.34;MQRankSum=-0.551;QD=21.83;ReadPosRankSum=0.578;SOR=0.467;VQSLOD=4.14;culprit=FS\tGT:AD:DP:GQ:PL\t./.:.:.:.:.\t./.:.:.:.:.\t./.:.:.:.:.\t./.:.:.:.:.\t./.:.:.:.:.\t./.:.:.:.:.\t./.:.:.:.:.\t./.:.:.:.:.\t./.:.:.:.:.\t./.:.:.:.:.\t./.:.:.:.:.\t./.:.:.:.:.\t./.:.:.:.:.\t./.:.:.:.:.\t./.:.:.:.:.\t./.:.:.:.:.\t./.:.:.:.:.\t./.:.:.:.:.\t0/1:6,14:20:99:444,0,165\t./.:.:.:.:.\t./.:.:.:.:.\t./.:.:.:.:.\t./.:.:.:.:.\t./.:.:.:.:.\t./.:.:.:.:.\t./.:.:.:.:.\t./.:.:.:.:.\t./.:.:.:.:.\t./.:.:.:.:.\t./.:.:.:.:.\t./.:.:.:.:.\t./.:.:.:.:.\t./.:.:.:.:.\t./.:.:.:.:.\t./.:.:.:.:.\t./.:.:.:.:.\t./.:.:.:.:.\n",
      "\n",
      "1\t69383272\trs6588343\tG\tA\t1753.06\tPASS\tAC=4;AF=1;AN=4;DB;DP=87;ExcessHet=3.0103;FS=0;MLEAC=2;MLEAF=1;MQ=58.87;POSITIVE_TRAIN_SITE;QD=32.69;SOR=1.203;VQSLOD=6.12;culprit=FS\tGT:AD:DP:GQ:PL\t./.:.:.:.:.\t./.:.:.:.:.\t./.:.:.:.:.\t./.:.:.:.:.\t./.:.:.:.:.\t./.:.:.:.:.\t./.:.:.:.:.\t./.:.:.:.:.\t1/1:0,46:46:99:1767,138,0\t./.:.:.:.:.\t./.:.:.:.:.\t./.:.:.:.:.\t./.:.:.:.:.\t./.:.:.:.:.\t./.:.:.:.:.\t./.:.:.:.:.\t./.:.:.:.:.\t./.:.:.:.:.\t1/1:0,35:35:99:1256,105,0\t./.:.:.:.:.\t./.:.:.:.:.\t./.:.:.:.:.\t./.:.:.:.:.\t./.:.:.:.:.\t./.:.:.:.:.\t./.:.:.:.:.\t./.:.:.:.:.\t./.:.:.:.:.\t./.:.:.:.:.\t./.:.:.:.:.\t./.:.:.:.:.\t./.:.:.:.:.\t./.:.:.:.:.\t./.:.:.:.:.\t./.:.:.:.:.\t./.:.:.:.:.\t./.:.:.:.:.\n",
      "\n",
      "1\t69385766\trs4558025\tT\tC\t362.06\tPASS\tAC=2;AF=1;AN=2;DB;DP=12;ExcessHet=3.0103;FS=0;MLEAC=2;MLEAF=1;MQ=52.2;POSITIVE_TRAIN_SITE;QD=32.91;SOR=1.27;VQSLOD=5.5;culprit=FS\tGT:AD:DP:GQ:PL\t./.:.:.:.:.\t./.:.:.:.:.\t./.:.:.:.:.\t./.:.:.:.:.\t./.:.:.:.:.\t./.:.:.:.:.\t./.:.:.:.:.\t./.:.:.:.:.\t./.:.:.:.:.\t./.:.:.:.:.\t./.:.:.:.:.\t./.:.:.:.:.\t./.:.:.:.:.\t./.:.:.:.:.\t./.:.:.:.:.\t./.:.:.:.:.\t./.:.:.:.:.\t./.:.:.:.:.\t1/1:0,11:11:33:376,33,0\t./.:.:.:.:.\t./.:.:.:.:.\t./.:.:.:.:.\t./.:.:.:.:.\t./.:.:.:.:.\t./.:.:.:.:.\t./.:.:.:.:.\t./.:.:.:.:.\t./.:.:.:.:.\t./.:.:.:.:.\t./.:.:.:.:.\t./.:.:.:.:.\t./.:.:.:.:.\t./.:.:.:.:.\t./.:.:.:.:.\t./.:.:.:.:.\t./.:.:.:.:.\t./.:.:.:.:.\n",
      "\n",
      "1\t69394194\trs78323029\tT\tC\t60.32\tPASS\tAC=2;AF=1;AN=2;DB;DP=3;ExcessHet=3.0103;FS=0;MLEAC=1;MLEAF=0.5;MQ=42.02;QD=30.16;SOR=2.303;VQSLOD=3.52;culprit=FS\tGT:AD:DP:GQ:PL\t./.:.:.:.:.\t./.:.:.:.:.\t./.:.:.:.:.\t./.:.:.:.:.\t./.:.:.:.:.\t./.:.:.:.:.\t./.:.:.:.:.\t./.:.:.:.:.\t./.:.:.:.:.\t./.:.:.:.:.\t./.:.:.:.:.\t./.:.:.:.:.\t./.:.:.:.:.\t./.:.:.:.:.\t./.:.:.:.:.\t./.:.:.:.:.\t./.:.:.:.:.\t./.:.:.:.:.\t1/1:0,2:2:6:72,6,0\t./.:.:.:.:.\t./.:.:.:.:.\t./.:.:.:.:.\t./.:.:.:.:.\t./.:.:.:.:.\t./.:.:.:.:.\t./.:.:.:.:.\t./.:.:.:.:.\t./.:.:.:.:.\t./.:.:.:.:.\t./.:.:.:.:.\t./.:.:.:.:.\t./.:.:.:.:.\t./.:.:.:.:.\t./.:.:.:.:.\t./.:.:.:.:.\t./.:.:.:.:.\t./.:.:.:.:.\n",
      "\n",
      "1\t69395432\t.\tG\tT\t1294.06\tPASS\tAC=4;AF=1;AN=4;DP=37;ExcessHet=3.0103;FS=0;MLEAC=1;MLEAF=0.5;MQ=57.94;POSITIVE_TRAIN_SITE;QD=30.98;SOR=1.418;VQSLOD=4.94;culprit=FS\tGT:AD:DP:GQ:PL\t./.:.:.:.:.\t./.:.:.:.:.\t./.:.:.:.:.\t./.:.:.:.:.\t./.:.:.:.:.\t./.:.:.:.:.\t./.:.:.:.:.\t./.:.:.:.:.\t1/1:0,34:34:99:1308,102,0\t./.:.:.:.:.\t./.:.:.:.:.\t./.:.:.:.:.\t./.:.:.:.:.\t./.:.:.:.:.\t./.:.:.:.:.\t./.:.:.:.:.\t./.:.:.:.:.\t./.:.:.:.:.\t1/1:0,3:3:9:104,9,0\t./.:.:.:.:.\t./.:.:.:.:.\t./.:.:.:.:.\t./.:.:.:.:.\t./.:.:.:.:.\t./.:.:.:.:.\t./.:.:.:.:.\t./.:.:.:.:.\t./.:.:.:.:.\t./.:.:.:.:.\t./.:.:.:.:.\t./.:.:.:.:.\t./.:.:.:.:.\t./.:.:.:.:.\t./.:.:.:.:.\t./.:.:.:.:.\t./.:.:.:.:.\t./.:.:.:.:.\n",
      "\n",
      "1\t69402199\trs6690112\tC\tT\t1758.06\tPASS\tAC=4;AF=1;AN=4;DB;DP=68;ExcessHet=3.0103;FS=0;MLEAC=2;MLEAF=1;MQ=59.51;POSITIVE_TRAIN_SITE;QD=29.24;SOR=1.28;VQSLOD=5.45;culprit=FS\tGT:AD:DP:GQ:PL\t./.:.:.:.:.\t./.:.:.:.:.\t./.:.:.:.:.\t./.:.:.:.:.\t./.:.:.:.:.\t./.:.:.:.:.\t./.:.:.:.:.\t./.:.:.:.:.\t1/1:0,45:45:99:1772,135,0\t./.:.:.:.:.\t./.:.:.:.:.\t./.:.:.:.:.\t./.:.:.:.:.\t./.:.:.:.:.\t./.:.:.:.:.\t./.:.:.:.:.\t./.:.:.:.:.\t./.:.:.:.:.\t1/1:0,20:20:60:667,60,0\t./.:.:.:.:.\t./.:.:.:.:.\t./.:.:.:.:.\t./.:.:.:.:.\t./.:.:.:.:.\t./.:.:.:.:.\t./.:.:.:.:.\t./.:.:.:.:.\t./.:.:.:.:.\t./.:.:.:.:.\t./.:.:.:.:.\t./.:.:.:.:.\t./.:.:.:.:.\t./.:.:.:.:.\t./.:.:.:.:.\t./.:.:.:.:.\t./.:.:.:.:.\t./.:.:.:.:.\n",
      "\n",
      "1\t69406796\trs72682212\tG\tA\t616.64\tPASS\tAC=1;AF=0.5;AN=2;BaseQRankSum=0.919;DB;DP=28;ExcessHet=3.0103;FS=1.983;MLEAC=1;MLEAF=0.5;MQ=58.5;MQRankSum=-0.507;POSITIVE_TRAIN_SITE;QD=22.84;ReadPosRankSum=-0.444;SOR=0.318;VQSLOD=2.82;culprit=FS\tGT:AD:DP:GQ:PL\t./.:.:.:.:.\t./.:.:.:.:.\t./.:.:.:.:.\t./.:.:.:.:.\t./.:.:.:.:.\t./.:.:.:.:.\t./.:.:.:.:.\t./.:.:.:.:.\t./.:.:.:.:.\t./.:.:.:.:.\t./.:.:.:.:.\t./.:.:.:.:.\t./.:.:.:.:.\t./.:.:.:.:.\t./.:.:.:.:.\t./.:.:.:.:.\t./.:.:.:.:.\t./.:.:.:.:.\t0/1:7,20:27:99:624,0,154\t./.:.:.:.:.\t./.:.:.:.:.\t./.:.:.:.:.\t./.:.:.:.:.\t./.:.:.:.:.\t./.:.:.:.:.\t./.:.:.:.:.\t./.:.:.:.:.\t./.:.:.:.:.\t./.:.:.:.:.\t./.:.:.:.:.\t./.:.:.:.:.\t./.:.:.:.:.\t./.:.:.:.:.\t./.:.:.:.:.\t./.:.:.:.:.\t./.:.:.:.:.\t./.:.:.:.:.\n",
      "\n",
      "1\t69420375\trs4301671\tT\tA\t823.06\tPASS\tAC=2;AF=1;AN=2;DB;DP=24;ExcessHet=3.0103;FS=0;MLEAC=2;MLEAF=1;MQ=57.05;POSITIVE_TRAIN_SITE;QD=27.24;SOR=1.179;VQSLOD=5.02;culprit=FS\tGT:AD:DP:GQ:PL\t./.:.:.:.:.\t./.:.:.:.:.\t./.:.:.:.:.\t./.:.:.:.:.\t./.:.:.:.:.\t./.:.:.:.:.\t./.:.:.:.:.\t./.:.:.:.:.\t./.:.:.:.:.\t./.:.:.:.:.\t./.:.:.:.:.\t./.:.:.:.:.\t./.:.:.:.:.\t./.:.:.:.:.\t./.:.:.:.:.\t./.:.:.:.:.\t./.:.:.:.:.\t./.:.:.:.:.\t1/1:0,23:23:69:837,69,0\t./.:.:.:.:.\t./.:.:.:.:.\t./.:.:.:.:.\t./.:.:.:.:.\t./.:.:.:.:.\t./.:.:.:.:.\t./.:.:.:.:.\t./.:.:.:.:.\t./.:.:.:.:.\t./.:.:.:.:.\t./.:.:.:.:.\t./.:.:.:.:.\t./.:.:.:.:.\t./.:.:.:.:.\t./.:.:.:.:.\t./.:.:.:.:.\t./.:.:.:.:.\t./.:.:.:.:.\n",
      "\n",
      "1\t69421826\trs1396022\tG\tA\t749.06\tPASS\tAC=2;AF=1;AN=2;DB;DP=23;ExcessHet=3.0103;FS=0;MLEAC=2;MLEAF=1;MQ=48.94;POSITIVE_TRAIN_SITE;QD=34.05;SOR=1.609;VQSLOD=5.16;culprit=FS\tGT:AD:DP:GQ:PL\t./.:.:.:.:.\t./.:.:.:.:.\t./.:.:.:.:.\t./.:.:.:.:.\t./.:.:.:.:.\t./.:.:.:.:.\t./.:.:.:.:.\t./.:.:.:.:.\t./.:.:.:.:.\t./.:.:.:.:.\t./.:.:.:.:.\t./.:.:.:.:.\t./.:.:.:.:.\t./.:.:.:.:.\t./.:.:.:.:.\t./.:.:.:.:.\t./.:.:.:.:.\t./.:.:.:.:.\t1/1:0,22:22:66:763,66,0\t./.:.:.:.:.\t./.:.:.:.:.\t./.:.:.:.:.\t./.:.:.:.:.\t./.:.:.:.:.\t./.:.:.:.:.\t./.:.:.:.:.\t./.:.:.:.:.\t./.:.:.:.:.\t./.:.:.:.:.\t./.:.:.:.:.\t./.:.:.:.:.\t./.:.:.:.:.\t./.:.:.:.:.\t./.:.:.:.:.\t./.:.:.:.:.\t./.:.:.:.:.\t./.:.:.:.:.\n",
      "\n",
      "1\t69421826\trs1396022\tG\tA\t749.06\tPASS\tAC=2;AF=1;AN=2;DB;DP=23;ExcessHet=3.0103;FS=0;MLEAC=2;MLEAF=1;MQ=48.94;POSITIVE_TRAIN_SITE;QD=34.05;SOR=1.609;VQSLOD=5.16;culprit=FS\tGT:AD:DP:GQ:PL\t./.:.:.:.:.\t./.:.:.:.:.\t./.:.:.:.:.\t./.:.:.:.:.\t./.:.:.:.:.\t./.:.:.:.:.\t./.:.:.:.:.\t./.:.:.:.:.\t./.:.:.:.:.\t./.:.:.:.:.\t./.:.:.:.:.\t./.:.:.:.:.\t./.:.:.:.:.\t./.:.:.:.:.\t./.:.:.:.:.\t./.:.:.:.:.\t./.:.:.:.:.\t./.:.:.:.:.\t1/1:0,22:22:66:763,66,0\t./.:.:.:.:.\t./.:.:.:.:.\t./.:.:.:.:.\t./.:.:.:.:.\t./.:.:.:.:.\t./.:.:.:.:.\t./.:.:.:.:.\t./.:.:.:.:.\t./.:.:.:.:.\t./.:.:.:.:.\t./.:.:.:.:.\t./.:.:.:.:.\t./.:.:.:.:.\t./.:.:.:.:.\t./.:.:.:.:.\t./.:.:.:.:.\t./.:.:.:.:.\t./.:.:.:.:.\n",
      "\n"
     ]
    }
   ],
   "source": [
    "vcf_in = pysam.VariantFile(germline_vcf)\n",
    "\n",
    "row_idx = 0\n",
    "\n",
    "variants = []\n",
    "\n",
    "for rec in vcf_in.fetch():\n",
    "    if rec.samples['H_KA-478908-0815169']['GT']==(None,None):# or len(rec.alts[0])<3:\n",
    "        continue\n",
    "    print(rec)\n",
    "    row_idx += 1\n",
    "    if row_idx==15:\n",
    "            break\n",
    "    variants.append(dict(chrom=rec.chrom, pos=rec.pos, ref=rec.ref, alts=rec.alts))\n",
    "\n",
    "print(rec)\n",
    "pos=rec.pos\n",
    "ref=rec.ref\n",
    "alt=rec.alts[0]"
   ]
  },
  {
   "cell_type": "code",
   "execution_count": 159,
   "metadata": {},
   "outputs": [],
   "source": [
    "def nucl_map(letters):\n",
    "    nmap={'A':0,'C':1,'T':2,'G':3, 'N':4, 'K':5, '*':6, 'M':7} #asterix for deletion\n",
    "    if len(letters)>1:\n",
    "        return([nmap[n] for n in letters])\n",
    "    else:      \n",
    "        return nmap[letters] #ACTGNK-->012345\n",
    "    \n",
    "def nucl_unmap(numbers):\n",
    "    unmap=('A','C','T','G','N','K','*', 'M')\n",
    "    if isinstance(numbers, (list, tuple, np.ndarray)):\n",
    "        return([unmap[int(n)] for n in numbers])\n",
    "    else:      \n",
    "        return unmap[int(numbers)] #012345-->ACTGNK\n",
    "    \n",
    "def phred_qual(qual_val, kind):\n",
    "    if kind == 'base':\n",
    "        #assert isinstance(qual_val, str), \"When the kind kwarg is 'base', the input is expected to be a str\"\n",
    "        acc = 10 ** ((ord(qual_val) - 33) / -10)\n",
    "    elif kind == 'map':\n",
    "        #assert isinstance(qual_val, int), \"When the kind kwarg is 'map', the input is expected to be an in\"\n",
    "        acc = 10 ** (qual_val / -10)\n",
    "    return acc"
   ]
  },
  {
   "cell_type": "code",
   "execution_count": 160,
   "metadata": {},
   "outputs": [
    {
     "data": {
      "text/plain": [
       "{'chrom': '1', 'pos': 69420375, 'ref': 'T', 'alts': ('A',)}"
      ]
     },
     "execution_count": 160,
     "metadata": {},
     "output_type": "execute_result"
    }
   ],
   "source": [
    "variant=variants[13]\n",
    "variant"
   ]
  },
  {
   "cell_type": "code",
   "execution_count": 161,
   "metadata": {},
   "outputs": [],
   "source": [
    "#variant = {'chrom': '3', 'pos': 60830521, 'ref': 'C', 'alts': ('T',)}\n",
    "#bamfile = '/storage/groups/epigenereg01/projects/vale/data/202011061/TCGA/LAML_WGS/bb7d9491-b96e-4d8c-bfdc-9b61d8012112/46091923f2dd69b5704e3e63aa5dc27e.bam'"
   ]
  },
  {
   "cell_type": "code",
   "execution_count": 162,
   "metadata": {},
   "outputs": [],
   "source": [
    "max_reads = 100 #max image height, the probability to have a read depth above this value should be small\n",
    "\n",
    "width = 150 # image width: 2x the most probable read length\n",
    "\n",
    "reads_cut_strategy = 'topbottom'"
   ]
  },
  {
   "cell_type": "code",
   "execution_count": 163,
   "metadata": {},
   "outputs": [],
   "source": [
    "samfile = pysam.AlignmentFile(bamfile, \"rb\" )\n",
    "\n",
    "raw_reads = []\n",
    "\n",
    "#collect all the reads around the candidate variant position\n",
    "for read_idx,read in enumerate(samfile.fetch(variant['chrom'], variant['pos']-2, variant['pos']+2)):\n",
    "    if (read.pos<=variant['pos']-1 and read.pos+read.rlen>variant['pos']-1 and \n",
    "        read.flag&(0x4|0x200|0x400)==0):\n",
    "            raw_reads.append((read.pos,read.seq,read.qual,read.flag,read.cigartuples))\n",
    "    if read_idx>=300:\n",
    "        break"
   ]
  },
  {
   "cell_type": "code",
   "execution_count": 164,
   "metadata": {},
   "outputs": [],
   "source": [
    "#if there more reads than we can include in the image, we have to remove some of them\n",
    "\n",
    "N_reads_tot = len(raw_reads)\n",
    "\n",
    "if reads_cut_strategy == 'center':\n",
    "    #keep reads at the top and at the bottom, remove the central part\n",
    "    raw_reads = raw_reads[:max_reads//2] + raw_reads[max(N_reads_tot-max_reads//2,0):N_reads_tot]\n",
    "elif reads_cut_strategy == 'topbottom':\n",
    "    #keep reads in the center, remove at the top and at the bottom\n",
    "    shift = max(N_reads_tot//2-max_reads//2,0)\n",
    "    raw_reads = raw_reads[shift:shift+max_reads]"
   ]
  },
  {
   "cell_type": "code",
   "execution_count": 165,
   "metadata": {},
   "outputs": [],
   "source": [
    "#now we aling reads according to their cigar strings\n",
    "\n",
    "alinged_reads = []\n",
    "\n",
    "variant_is_insertion = variant['ref']=='-' or len(variant['ref'])<len(variant['alts'][0]) #collect insertions at the variant site only if the variant is an insertion\n",
    "ins_at_variant = [] #insertions at the variant site for all reads\n",
    "max_ins_length_at_variant = 0\n",
    "\n",
    "for read_idx, read in enumerate(raw_reads):\n",
    "    \n",
    "    pos,seq,qual,flag,cigartuples = read\n",
    "        \n",
    "    clipped = 0 #soft clip length at the beginning of the read\n",
    "    alinged_seq = []\n",
    "    alinged_qual = []\n",
    "    is_ins_read = [] #positions of insertions in alinged read\n",
    "    is_del_read = [] #positions of deletions in alinged read\n",
    "    ins = []\n",
    "    ins_len = 0\n",
    "    \n",
    "    seq = nucl_map(seq) # letters to numbers  \n",
    "\n",
    "    qual = np.array([phred_qual(q, 'base') for q in qual]) #probability that base is called INCORRECTLY\n",
    "    qual = 1.-qual #probability that the base is called CORRECTLY\n",
    "    \n",
    "    c = 0 #current position in the original (not alingned) read\n",
    "    \n",
    "    #print(read_idx)\n",
    "    #print(cigartuples)\n",
    "    \n",
    "    for op in cigartuples:\n",
    "        optype, oplen = op #type and length of cigar operation\n",
    "        if optype==5: #hard clip:do nothing as it's not included in seq\n",
    "            continue\n",
    "        elif optype==4:#soft clip: exclude these positions from alinged seq as they aren't used by callers\n",
    "            #print('Soft clip detected')\n",
    "            if c==0: #if soft clip at the beginning\n",
    "                clipped=oplen #used to recalculate the insertion position\n",
    "            c+=oplen\n",
    "            #print(oplen)\n",
    "        elif optype==2 or optype==3 or optype==6:#deletion or padding\n",
    "            #print('deletion detected')\n",
    "            alinged_seq.extend([nucl_map('*')]*oplen)\n",
    "            alinged_qual.extend([0]*oplen)\n",
    "            is_ins_read.extend([0]*oplen)\n",
    "            is_del_read.extend([1]*oplen)#we mark ALL asterix as deletion (whereas insertions of any length we mark with only 1 symbol)\n",
    "        elif optype==1:#insertion\n",
    "            #print('insertion detected')\n",
    "            ins_pos=pos+c-clipped #absolute position AFTER which there is an insertion\n",
    "            if ins_pos == variant['pos'] and variant_is_insertion: #we collect insertions only if they are at the variant site\n",
    "                ins_len = oplen\n",
    "                ins = (ins_len, seq[c:c+oplen], qual[c:c+oplen])\n",
    "            if is_ins_read: \n",
    "                #print(ins_pos)\n",
    "                is_ins_read[-1]=1 #indicate that the NEXT operation is insertion - each insertion is marked only by 1 symbol, independently of its length\n",
    "            c+=oplen\n",
    "        else: #match or mismatch\n",
    "            alinged_seq.extend(seq[c:c+oplen])\n",
    "            alinged_qual.extend(qual[c:c+oplen])\n",
    "            is_ins_read.extend([0]*oplen)\n",
    "            is_del_read.extend([0]*oplen)            \n",
    "            c+=oplen\n",
    "    \n",
    "    if  pos+len(alinged_seq)+ins_len>variant['pos']-1: #length of aligned sequence may differ from length of the original sequence : we must make sure that we still cover the variant site\n",
    "        alinged_reads.append((pos,alinged_seq,alinged_qual,flag,is_ins_read,is_del_read))\n",
    "        \n",
    "        ins_at_variant.append(ins)\n",
    "        max_ins_length_at_variant = max(max_ins_length_at_variant, ins_len)\n",
    "    \n",
    "N_reads = len(alinged_reads)"
   ]
  },
  {
   "cell_type": "code",
   "execution_count": 166,
   "metadata": {},
   "outputs": [],
   "source": [
    "reads_im = np.zeros((N_reads,2,width)) #reads_image: N_reads x bases/quality x width\n",
    "reads_im[:,0,:] = nucl_map('N') #bases for all reads, default: no data ('N')\n",
    "reads_im[:,1,:] = 0.25 #probability to have the corresponding basis, default:equal probability of all bases 0.2\n",
    "\n",
    "indels_chn = np.zeros((N_reads,width,2)) # encoding of indels\n",
    "\n",
    "for read_idx, read in enumerate(alinged_reads):\n",
    "    \n",
    "    pos,seq,qual,flag,is_ins_read,is_del_read = read\n",
    "        \n",
    "    start_pos = pos-(variant['pos']-1-width//2) #relative position of the read in the image\n",
    "    \n",
    "    if start_pos<0:\n",
    "        \n",
    "        seq = seq[-start_pos:]\n",
    "        qual = qual[-start_pos:]\n",
    "        is_ins_read = is_ins_read[-start_pos:]\n",
    "        is_del_read = is_del_read[-start_pos:]\n",
    "        \n",
    "        start_pos = 0\n",
    "        \n",
    "    rlen = len(seq)\n",
    "    \n",
    "    reads_im[read_idx,0,start_pos:start_pos+rlen] = seq[:width-start_pos]\n",
    "    reads_im[read_idx,1,start_pos:start_pos+rlen] = qual[:width-start_pos]\n",
    "    \n",
    "    indels_chn[read_idx,start_pos:start_pos+rlen,0] = is_ins_read[:width-start_pos]\n",
    "    indels_chn[read_idx,start_pos:start_pos+rlen,1] = is_del_read[:width-start_pos]"
   ]
  },
  {
   "cell_type": "code",
   "execution_count": 167,
   "metadata": {},
   "outputs": [],
   "source": [
    "#get the original reference sequence from the fasta file, variant being roughly in the center\n",
    "reffile = pysam.FastaFile(refname)\n",
    "ref_bases = np.array(list(reffile.fetch(variant['chrom'], variant['pos']-width//2-1, variant['pos']-width//2+width-1))) #piece of reference genome, variant being in center\n",
    "if max_ins_length_at_variant and variant_is_insertion: #insert deletions in the reference sequence if variant is an insertion\n",
    "    ref_bases = np.insert(ref_bases[:-max_ins_length_at_variant], width//2+1, (['*']*max_ins_length_at_variant))\n",
    "ref_bases = np.array(list(map(nucl_map,ref_bases))) # letters to numbers"
   ]
  },
  {
   "cell_type": "code",
   "execution_count": 168,
   "metadata": {},
   "outputs": [],
   "source": [
    "if variant_is_insertion and max_ins_length_at_variant:\n",
    "    \n",
    "\n",
    "    reads_im[:,0,:] = np.hstack((reads_im[:,0,:width//2+1],np.ones((N_reads,max_ins_length_at_variant))*nucl_map('*'),reads_im[:,0,width//2+1:-max_ins_length_at_variant]))\n",
    "    reads_im[:,1,:] = np.hstack((reads_im[:,1,:width//2+1],np.zeros((N_reads,max_ins_length_at_variant)),reads_im[:,1,width//2+1:-max_ins_length_at_variant]))\n",
    "\n",
    "    indels_chn[:,:,0] = np.hstack((indels_chn[:,:width//2+1,0],np.zeros((N_reads,max_ins_length_at_variant)),indels_chn[:,width//2+1:-max_ins_length_at_variant,0]))\n",
    "    indels_chn[:,:,1] = np.hstack((indels_chn[:,:width//2+1,1],np.ones((N_reads,max_ins_length_at_variant)),indels_chn[:,width//2+1:-max_ins_length_at_variant,1]))\n",
    "    \n",
    "    for read_idx,ins in enumerate(ins_at_variant):\n",
    "        \n",
    "        if ins:\n",
    "            \n",
    "            ins_len,seq,qual = ins\n",
    "                        \n",
    "            reads_im[read_idx,0,width//2+1:width//2+1+ins_len] = seq[:width//2]\n",
    "            reads_im[read_idx,1,width//2+1:width//2+1+ins_len] = qual[:width//2]\n",
    "        \n",
    "            #indels_chn[read_idx,width//2+1:width//2+1+ins_len,0] = 1#insertions\n",
    "            indels_chn[read_idx,width//2+1:width//2+1+ins_len,1] = 0#fill deletions with 0 where there's actually an insertion"
   ]
  },
  {
   "cell_type": "code",
   "execution_count": 169,
   "metadata": {},
   "outputs": [],
   "source": [
    "p_hot_reads = np.zeros((N_reads,width,4)) #p-hot encoding of reads probabilities \n",
    "\n",
    "flags_reads = np.zeros((N_reads,width,6)) # encoding of read flags\n",
    "\n",
    "for basis_idx in range(4):\n",
    "    p_hot_reads[:,:,basis_idx] = np.where(reads_im[:,0,:]==basis_idx, reads_im[:,1,:], (1.-reads_im[:,1,:])/3.)\n",
    "\n",
    "del_row, del_col = np.where(reads_im[:,0,:]==6) #deletions\n",
    "p_hot_reads[del_row, del_col, :] = 0.\n",
    "#indels_chn[del_row, del_col, 1] = True\n",
    "\n",
    "M_row, M_col = np.where(reads_im[:,0,:]==7) #M: either A or C, each with probability 0.5\n",
    "p_hot_reads[M_row, M_col, 0] = 1\n",
    "p_hot_reads[M_row, M_col, 1] = 1\n",
    "\n",
    "K_row, K_col = np.where(reads_im[:,0,:]==5) #K: either G or T, each with probability 0.5\n",
    "p_hot_reads[K_row, K_col, 2] = 1\n",
    "p_hot_reads[K_row, K_col, 3] = 1\n",
    "\n",
    "for read_idx, (_,_,_,flag,_,_) in enumerate(alinged_reads):\n",
    "    flags_reads[read_idx,:,0]=flag&0x2   #each segment properly aligned according to the aligner\n",
    "    flags_reads[read_idx,:,1]=flag&0x8   #next segment unmapped\n",
    "    flags_reads[read_idx,:,2]=flag&0x10  #SEQ being reverse complemented\n",
    "    flags_reads[read_idx,:,3]=flag&0x20  #SEQ of the next segment in the template being reverse complemented\n",
    "    flags_reads[read_idx,:,4]=flag&0x100 #secondary alignment\n",
    "    flags_reads[read_idx,:,5]=flag&0x800 #supplementary alignment\n",
    "    flags_reads[read_idx,:] = flags_reads[read_idx,:]>0\n",
    "\n",
    "#one-hot encoding of reference bases in the 1st 4 channels of all reads\n",
    "one_hot_ref = np.zeros((1,width,4)) \n",
    "for basis_idx in range(4):\n",
    "    one_hot_ref[:,(ref_bases==basis_idx),basis_idx] = 1.\n",
    "one_hot_ref[:,(ref_bases==4),:] = 1 #N\n",
    "one_hot_ref[:,(ref_bases==7),0] = 1 #M\n",
    "one_hot_ref[:,(ref_bases==7),1] = 1 #M\n",
    "one_hot_ref[:,(ref_bases==5),2] = 1 #K\n",
    "one_hot_ref[:,(ref_bases==5),3] = 1 #K"
   ]
  },
  {
   "cell_type": "code",
   "execution_count": 170,
   "metadata": {},
   "outputs": [
    {
     "data": {
      "text/plain": [
       "<matplotlib.image.AxesImage at 0x7f9497df4048>"
      ]
     },
     "execution_count": 170,
     "metadata": {},
     "output_type": "execute_result"
    },
    {
     "data": {
      "image/png": "[encoded data removed]",
      "text/plain": [
       "<Figure size 720x720 with 1 Axes>"
      ]
     },
     "metadata": {},
     "output_type": "display_data"
    }
   ],
   "source": [
    "#visualize difference image\n",
    "\n",
    "#ref_im = ref_bases.reshape(1,-1)*np.ones((N_reads,width)) #broadcast to the right size\n",
    "diff=reads_im[:,0,:]-ref_bases\n",
    "diff[diff!=0]=0.5 #where bases are different btw reads and reference\n",
    "diff[diff==0]=1\n",
    "diff[reads_im[:,0,:]==4]=0 #where there is no data (N)\n",
    "\n",
    "fig = plt.figure(figsize = (10,10))\n",
    "ax = plt.gca()\n",
    "ax.set_xticks([])\n",
    "ax.set_yticks([])\n",
    "plt.imshow(diff, cmap='viridis')\n"
   ]
  },
  {
   "cell_type": "code",
   "execution_count": 171,
   "metadata": {},
   "outputs": [
    {
     "name": "stdout",
     "output_type": "stream",
     "text": [
      "GGGGTAGGATTTCAATGTACAAATT\u001b[34mT\u001b[0mAGGGAGACACAAACATTCAGGCCA\n",
      "GGGGTAGGATTTCAATGTACAAATT\u001b[31mA\u001b[0mNNNNNNNNNNNNNNNNNNNNNNNN\n",
      "GGGGTAGGATTTCAATGTACAAATT\u001b[31mA\u001b[0mAGGNNNNNNNNNNNNNNNNNNNNN\n",
      "GGGGTAGGATTTCAATGTACAAATT\u001b[31mA\u001b[0mAGGGAGNNNNNNNNNNNNNNNNNN\n",
      "GGGGTAGGATTTCAATGTACAAATT\u001b[31mA\u001b[0mAGGGAGANNNNNNNNNNNNNNNNN\n",
      "GGGGTAGGATTTCAATGTACAAATT\u001b[31mA\u001b[0mAGGGAGACNNNNNNNNNNNNNNNN\n",
      "GGGGTAGGATTTCAATGTACAAATT\u001b[31mA\u001b[0mAGGGAGACANNNNNNNNNNNNNNN\n",
      "GGGGTAGGATTTCAATGTACAAATT\u001b[31mA\u001b[0mAGGGAGACACANNNNNNNNNNNNN\n",
      "GGGGTAGGATTTCAATGTACAAATT\u001b[31mA\u001b[0mAGGGAGACACAAACNNNNNNNNNN\n",
      "GGGGTAGGATTTCAATGTACAAATT\u001b[31mA\u001b[0mAGGGAGACACANNNNNNNNNNNNN\n",
      "GGGGTAGGATTTCAATGTACAAATT\u001b[31mA\u001b[0mNGGGAGACACAAACATNNNNNNNN\n",
      "GGGGTAGGATTTCAATGTACAAATT\u001b[31mA\u001b[0mAGGGAGACACAAACATTCANNNNN\n",
      "GGGGTAGGATTTCAATGTACAAATT\u001b[31mA\u001b[0mAGGGAGACACAAACATTCAGNNNN\n",
      "GGGGTAGGATTTC\u001b[31mG\u001b[0mATGTACAAATT\u001b[31mA\u001b[0mAGGGAGACACAAACATTCAGGCCN\n",
      "GGGGTAGGATTTCAATGTACAAATT\u001b[31mA\u001b[0mAGGGAGACACAAACATTCAGGCCA\n",
      "GGGGTAGGATTTCAATGTACAAATT\u001b[31mA\u001b[0mAGGGAGACACAAACATTCAGGCCA\n",
      "GGGGTAGGATTTCAATG\u001b[31mA\u001b[0mACAAATT\u001b[31mA\u001b[0mAGGGAGACACAAACATTCAGGCCA\n",
      "GGGGTAGGATTTCAATGTACAAATT\u001b[31mA\u001b[0mAGGGAGACACAAACATTCAGGCCA\n",
      "GGGGTAGGATTTCAATGTACAAATT\u001b[31mA\u001b[0mAGGGAGACACAAACATTCAGGCCA\n",
      "GGGGTAGGATTTCAATGTACAAATT\u001b[31mA\u001b[0mAGGGAGACACAAACATTCAGGCCA\n",
      "GGGGTAGGATTTCAATGTACAAATT\u001b[31mA\u001b[0mAGGGAGACACAAACATTCAGGCCA\n",
      "GGGGTAGG\u001b[31m*\u001b[0m\u001b[31m*\u001b[0m\u001b[31m*\u001b[0m\u001b[31m*\u001b[0m\u001b[31m*\u001b[0mAATGTACAAATT\u001b[31mA\u001b[0mAGGGAGACACAAANNNNNNNNNNN\n",
      "GGGGTAGGATTTCAATGTACAAATT\u001b[31mA\u001b[0mAGGGAGACACAAACATTCAGGCCA\n",
      "NGGGTAGGATTTCAATGTACAAATT\u001b[31mA\u001b[0mAGGGAGACACAAACATTCAGGCCA\n",
      "NNNGTAGGATTTCAATGTACAAATT\u001b[31mA\u001b[0mAGGGAGACACAAACATTCAGGCCA\n",
      "NNNNNNNNNNNNNNNNNNNNNNNTT\u001b[31mA\u001b[0mAGGGAGACACAAACATTCAGGCCA\n"
     ]
    }
   ],
   "source": [
    "#visualise reads pileup in text\n",
    "diff = reads_im[:,0,:]-ref_bases\n",
    "diff = (diff!=0)\n",
    "variant_column = width//2\n",
    "\n",
    "reads_letters = [list(map(lambda x:nucl_unmap(x), x)) for x in reads_im[:,0,:]] #map numbers back to letters\n",
    "#reads_strs = list(map(lambda x:''.join(x), reads_letters))\n",
    "\n",
    "ref_letters = nucl_unmap(ref_bases)  #map numbers back to letters\n",
    "ref_letters[variant_column] = \"\\x1b[34m{}\\x1b[0m\".format(ref_letters[variant_column]) #dye the site at variant position in blue using ANSI escape code\n",
    "ref_str = ''.join(ref_letters) #ref bases as a string\n",
    "\n",
    "N_crop = 50 #bases to omit on each side \n",
    "\n",
    "print(ref_str[N_crop:-N_crop])\n",
    "\n",
    "highlight_column = -1#choose any column to highlight\n",
    "\n",
    "for idx_read in range(0,N_reads,1):\n",
    "    read = reads_letters[idx_read] #read bases as a string\n",
    "    read = read[N_crop:-N_crop]\n",
    "    for c_ind in range(len(read)):\n",
    "        read[c_ind] = (read[c_ind] if N_crop+c_ind!=highlight_column else \"\\x1b[36m{}\\x1b[0m\".format(read[c_ind]))\n",
    "        read[c_ind] = (read[c_ind] if not diff[idx_read,N_crop+c_ind] or read[c_ind] in ('N') else \"\\x1b[31m{}\\x1b[0m\".format(read[c_ind]))#dye the site at mismatches in red using ANSI escape code\n",
    "    read_str = ''.join(read)\n",
    "    print(read_str)\n"
   ]
  },
  {
   "cell_type": "code",
   "execution_count": 172,
   "metadata": {},
   "outputs": [],
   "source": [
    "def pcolor(image, yticklabels=[],xticklabels=[], cmap='binary',figsize = (10,10)):\n",
    "    fig = plt.figure(figsize = figsize)\n",
    "    ax = plt.gca()\n",
    "    ax.set_xticks([])\n",
    "    ax.set_yticks([])\n",
    "    plt.imshow(image, cmap = cmap)\n",
    "    \n",
    "    #major ticks - grid\n",
    "    ax.set_yticks(np.arange(-0.5, image.shape[0]-1, 1), minor=False)\n",
    "    ax.set_xticks(np.arange(-0.5, image.shape[1]-1, 1), minor=False)\n",
    "    ax.set_yticklabels([], minor=False)\n",
    "    ax.set_xticklabels([], minor=False)  \n",
    "    ax.tick_params(axis=\"y\",direction=\"in\", pad=-22)\n",
    "    ax.tick_params(axis=\"x\",direction=\"in\", pad=-22)\n",
    "    #minor ticks - labels\n",
    "    if yticklabels:\n",
    "        ax.set_yticks(np.arange(-0.1, image.shape[0]-1, 1), minor=True)\n",
    "        ax.set_yticklabels(yticklabels, minor=True)\n",
    "    if xticklabels:\n",
    "        ax.set_xticks(np.arange(-0.1, image.shape[1]-1, 1), minor=True)\n",
    "        ax.set_xticklabels(xticklabels, minor=True)\n",
    "    \n",
    "    ax.grid(which='major', axis='both', linestyle='-', color='k', linewidth=2)"
   ]
  },
  {
   "cell_type": "code",
   "execution_count": 173,
   "metadata": {},
   "outputs": [
    {
     "data": {
      "image/png": "[encoded data removed]",
      "text/plain": [
       "<Figure size 1080x1080 with 1 Axes>"
      ]
     },
     "metadata": {
      "needs_background": "light"
     },
     "output_type": "display_data"
    }
   ],
   "source": [
    "from matplotlib.colors import ListedColormap\n",
    "nucl_colors=np.array([(255,255,255), (228,26,28), (55,126,184), (77,175,74), (152,78,163)])/255. #colors for NACTG\n",
    "nucl_cmap = ListedColormap(nucl_colors)\n",
    "\n",
    "#visualize reference channels (they are the same for all reads)\n",
    "\n",
    "ref_im = np.transpose(one_hot_ref[0,N_crop:-N_crop,:]).copy().astype(np.ubyte) #reference tensor is the same for all reads, we choose read 0\n",
    "\n",
    "for nucl_idx in range(4):\n",
    "    ref_im[nucl_idx,:]=ref_im[nucl_idx,:]*(nucl_idx+1)\n",
    "\n",
    "ref_letters = nucl_unmap(ref_bases) #map numbers back to letters\n",
    "\n",
    "pcolor(ref_im, yticklabels=['A','C','T','G'], xticklabels=ref_letters[N_crop:-N_crop], cmap=nucl_cmap,figsize = (15,15))"
   ]
  },
  {
   "cell_type": "code",
   "execution_count": 174,
   "metadata": {},
   "outputs": [
    {
     "data": {
      "image/png": "[encoded data removed]",
      "text/plain": [
       "<Figure size 1080x1080 with 1 Axes>"
      ]
     },
     "metadata": {
      "needs_background": "light"
     },
     "output_type": "display_data"
    },
    {
     "data": {
      "image/png": "[encoded data removed]",
      "text/plain": [
       "<Figure size 1080x1080 with 1 Axes>"
      ]
     },
     "metadata": {
      "needs_background": "light"
     },
     "output_type": "display_data"
    },
    {
     "data": {
      "image/png": "[encoded data removed]",
      "text/plain": [
       "<Figure size 1080x1080 with 1 Axes>"
      ]
     },
     "metadata": {
      "needs_background": "light"
     },
     "output_type": "display_data"
    }
   ],
   "source": [
    "#visualize channels specific to a given read\n",
    "\n",
    "read_number = 17\n",
    "N_crop = 50\n",
    "\n",
    "reads_letters = [list(map(lambda x:nucl_unmap(x), x)) for x in reads_im[:,0,:]] #map numbers back to letters\n",
    "\n",
    "phreads_im = np.transpose(p_hot_reads[read_number,N_crop:-N_crop,:]).copy() \n",
    "pcolor(phreads_im, yticklabels=['A','C','T','G'], xticklabels=reads_letters[read_number][N_crop:-N_crop], cmap='Greens',figsize = (15,15))\n",
    "\n",
    "\n",
    "indels_im = np.transpose(indels_chn[read_number,N_crop:-N_crop,:]) \n",
    "pcolor(indels_im, yticklabels=['INS','DEL'], xticklabels=reads_letters[read_number][N_crop:-N_crop], cmap='binary',figsize = (15,15))\n",
    "\n",
    "\n",
    "flags_im = np.transpose(flags_reads[read_number,N_crop:-N_crop,:])\n",
    "pcolor(flags_im, yticklabels=['0x2','0x8','0x10','0x20','0x100', '0x800'], xticklabels=reads_letters[read_number][N_crop:-N_crop], cmap='binary',figsize = (15,15))\n"
   ]
  },
  {
   "cell_type": "code",
   "execution_count": 175,
   "metadata": {},
   "outputs": [
    {
     "name": "stdout",
     "output_type": "stream",
     "text": [
      "Flag: 163\n",
      "\n",
      "Flag    1 (0x1  ): True\n",
      "Flag    2 (0x2  ): True\n",
      "Flag    4 (0x4  ): False\n",
      "Flag    8 (0x8  ): False\n",
      "Flag   16 (0x10 ): False\n",
      "Flag   32 (0x20 ): True\n",
      "Flag   64 (0x40 ): False\n",
      "Flag  128 (0x80 ): True\n",
      "Flag  256 (0x100): False\n",
      "Flag  512 (0x200): False\n",
      "Flag 1024 (0x400): False\n",
      "Flag 2048 (0x800): False\n"
     ]
    }
   ],
   "source": [
    "#print values of all flags\n",
    "all_reads_flags = [flag for (_,_,_,flag,_,_) in alinged_reads]\n",
    "print(f'Flag: {all_reads_flags[read_number]}\\n')\n",
    "for flag in map(lambda x: 2**x,range(12)):\n",
    "    print(f'Flag {flag:4d} ({hex(flag):5}): {all_reads_flags[read_number]&flag>0}')"
   ]
  },
  {
   "cell_type": "code",
   "execution_count": 176,
   "metadata": {},
   "outputs": [],
   "source": [
    "# How much memory takes one image?\n",
    "import pickle\n",
    "with open('test.img', 'wb') as f:\n",
    "    pickle.dump({'one_hot_ref':one_hot_ref.astype(np.bool), 'p_hot_reads':(p_hot_reads*10000).astype(np.ushort), 'indels_chn':indels_chn.astype(np.bool), 'flags_reads':flags_reads.astype(np.bool)},f)\n"
   ]
  },
  {
   "cell_type": "code",
   "execution_count": 177,
   "metadata": {},
   "outputs": [
    {
     "name": "stdout",
     "output_type": "stream",
     "text": [
      "-rw-r--r--. 1 sergey.vilov OG-ICB-User 60K May 11 10:52 test.img\n"
     ]
    }
   ],
   "source": [
    "!ls -alh test.img"
   ]
  }
 ],
 "metadata": {
  "kernelspec": {
   "display_name": "Python 3",
   "language": "python",
   "name": "python3"
  },
  "language_info": {
   "codemirror_mode": {
    "name": "ipython",
    "version": 3
   },
   "file_extension": ".py",
   "mimetype": "text/x-python",
   "name": "python",
   "nbconvert_exporter": "python",
   "pygments_lexer": "ipython3",
   "version": "3.6.13"
  }
 },
 "nbformat": 4,
 "nbformat_minor": 4
}

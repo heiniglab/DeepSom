{
 "cells": [
  {
   "cell_type": "markdown",
   "metadata": {},
   "source": [
    "## Get variant image from a BAM file\n",
    "\n",
    "Here, we take a variant and construct a multichannel image from it to prepare Neural Network data.\n",
    "\n",
    "The variant position is taken from the VCF file and the image is constructed out of the reads exctracted from BAM file. No variant annotations from VCF file are encoded in the image"
   ]
  },
  {
   "cell_type": "markdown",
   "metadata": {},
   "source": [
    "Here, we fetch reads using pysam library and pileup them around the variant.\n",
    "For each read the cigar string is analysed to place read bases correctly (taking into account clips, insertions,deletion).\n",
    "If and only if the variant is an insertion, we account for this by placing insertions in the pileup image. Insertions that are not at the variant site are not inserted in the image.\n",
    "However, we mark absolutely all inserions (even if they are not at the variant site) in a dedicated channel by placing '1' at the position after which the insertions start. We mark all insertions with only one symbol, regardles of the insertion length.\n",
    "For deletions, we fill a dedicated channel with '1' throughout the whole deletion length."
   ]
  },
  {
   "cell_type": "code",
   "execution_count": 1,
   "metadata": {},
   "outputs": [],
   "source": [
    "import numpy as np\n",
    "import pysam\n",
    "import matplotlib.pyplot as plt\n",
    "import re\n",
    "import sys\n",
    "%matplotlib inline\n",
    "\n",
    "from variant_to_image_helpers import * #some helper functions\n",
    "#from variant_to_image import * #some helper functions\n",
    "\n",
    "#reference FASTA file\n",
    "ref_fasta_file = '/storage/groups/epigenereg01/workspace/projects/vale/calling/MLL/resources_GRCh37/GRCh37.fa'"
   ]
  },
  {
   "cell_type": "code",
   "execution_count": 47,
   "metadata": {},
   "outputs": [],
   "source": [
    "#example variant\n",
    "\n",
    "variant = {'pos': 9626706, 'chrom': '3', 'ref': 'G', 'alt': 'T', 'refpos': 9626706}\n",
    "bamfile = '/storage/groups/epigenereg01/workspace/projects/vale/data/icgc/GACA-CN/bam/6d938d97451c6a07ada759f376b95a4a.bam'"
   ]
  },
  {
   "cell_type": "code",
   "execution_count": 48,
   "metadata": {},
   "outputs": [],
   "source": [
    "image_max_height = 20 #max image height, the probability to have a read depth above this value should be small\n",
    "\n",
    "image_width = 150 # image width: 2x the most probable read length\n",
    "\n",
    "image_crop_strategy = 'topbottom'\n",
    "\n",
    "image_sort_by_variant = True #sort reads by letter in the variant column\n",
    "\n",
    "image_check_variant_column = True #check if there's any alternative allele in the variant column (some variants may be corrupted due to a bad variant position etc)"
   ]
  },
  {
   "cell_type": "code",
   "execution_count": 49,
   "metadata": {},
   "outputs": [],
   "source": [
    "variant_column_idx = image_width//2 "
   ]
  },
  {
   "cell_type": "code",
   "execution_count": 50,
   "metadata": {},
   "outputs": [
    {
     "name": "stdout",
     "output_type": "stream",
     "text": [
      "Reference sequence: TTGTATAGTGATGAAGTCTGAGATTTTAGCACACCTGTCACCTAAGTAATGTACATTGTACCCAATATGTATTTTGTTTGTTTGTTTGTTTGTTTGTTTGTTTGTTTTGAGACAGAGTTTCGCTCTTGTTGCCCAGGCTGGAGTGCAATG\n"
     ]
    }
   ],
   "source": [
    "def get_ref_bases(variant):\n",
    "\n",
    "    '''\n",
    "    Get reference sequence around the variant positon, variant being roughly in the center\n",
    "    '''\n",
    "    reffile = pysam.FastaFile(ref_fasta_file)\n",
    "\n",
    "    ref_bases = reffile.fetch(variant['chrom'], variant['refpos']-variant_column_idx-1, variant['refpos']-variant_column_idx+image_width-1) \n",
    "    \n",
    "    ref_bases = ref_bases.upper()\n",
    "    \n",
    "    if ref_bases[variant_column_idx]!=variant['ref']:\n",
    "        raise Exception('Variant reference allele not found in the right position in the reference bases string!')\n",
    "\n",
    "    ref_bases = list(ref_bases)\n",
    "    \n",
    "    print('Reference sequence: ' + ''.join(ref_bases))\n",
    "    \n",
    "    ref_bases = np.array(list(map(encode_bases,ref_bases))) # letters to digits\n",
    "\n",
    "    return ref_bases\n",
    "\n",
    "ref_bases = get_ref_bases(variant)"
   ]
  },
  {
   "cell_type": "code",
   "execution_count": 51,
   "metadata": {},
   "outputs": [],
   "source": [
    "samfile = pysam.AlignmentFile(bamfile, \"rb\" )\n",
    "\n",
    "raw_reads = []\n",
    "\n",
    "EXCLUDE_FLAGS = 0x4|0x200|0x400 #exclude \"segment unmapped\", \"not passing filters\", \"PCR or optical duplicate\" \n",
    "\n",
    "#collect all the reads around the candidate variant position\n",
    "for read in samfile.fetch(variant['chrom'], variant['pos']-2, variant['pos']+2):\n",
    "    if (read.pos<=variant['pos']-1 and read.reference_end>variant['pos'] and \n",
    "        read.flag&EXCLUDE_FLAGS==0):\n",
    "            raw_reads.append((read.pos,read.seq,read.qual,read.flag,read.cigartuples))\n",
    "    if len(raw_reads)>=300:#sometimes there are a lot of reads, we don't need all of them\n",
    "        break"
   ]
  },
  {
   "cell_type": "code",
   "execution_count": 52,
   "metadata": {},
   "outputs": [],
   "source": [
    "def get_phred_qual(qual_symbol):\n",
    "    '''\n",
    "    Return the probability that the base is called incorrectly\n",
    "    \n",
    "    Input: ANCII quality character\n",
    "    Output: Probability\n",
    "    '''\n",
    "    \n",
    "    probability = 10 ** ((ord(qual_symbol) - 33) / -10)\n",
    "    \n",
    "    return probability\n",
    "\n",
    "def compute_VAF_DP(variant_column, alt):\n",
    "    '''\n",
    "    Return VAF and DP for the variant column\n",
    "    '''\n",
    "    DP = len(variant_column)\n",
    "    VAF = (variant_column == encode_bases(alt)).sum()/DP\n",
    "           \n",
    "    return VAF,DP"
   ]
  },
  {
   "cell_type": "code",
   "execution_count": 53,
   "metadata": {},
   "outputs": [],
   "source": [
    "#Align reads according to their CIGAR strings.\n",
    "\n",
    "#For each read the cigar string is analysed to place read bases correctly (taking into account clips, insertions,deletion).\n",
    "\n",
    "aligned_reads = []\n",
    "\n",
    "for read_idx, read in enumerate(raw_reads):\n",
    "    \n",
    "    pos,seq,qual,flag,cigartuples = read\n",
    "        \n",
    "    aligned_seq = []  #aligned read sequence\n",
    "    aligned_qual = [] #aligned read qualities\n",
    "    \n",
    "    seq = seq.upper()\n",
    "    seq = encode_bases(seq) # read sequence encoding: letters to digits  \n",
    "    \n",
    "    qual = np.array([get_phred_qual(q) for q in qual])     #probability that the base is called INCORRECTLY\n",
    "    qual = 1.-qual                                              #probability that the base is called CORRECTLY\n",
    "\n",
    "    c = 0 #current position in the original (not aligned) read\n",
    "    \n",
    "    #we move along the original read sequence and make insertions/delections when necessary\n",
    "    for op in cigartuples:\n",
    "        optype, oplen = op #type and length of cigar operation\n",
    "        if optype==5:#hard clip:do nothing as it's not included in seq\n",
    "            continue\n",
    "        elif optype==4:#soft clip: exclude these positions from aligned seq as they aren't used by callers\n",
    "            c+=oplen\n",
    "        elif optype==2 or optype==3 or optype==6: #deletion or padding\n",
    "            aligned_seq.extend([encode_bases('*')]*oplen)\n",
    "            aligned_qual.extend([0]*oplen)\n",
    "        elif optype==1:#insertion\n",
    "            c+=oplen\n",
    "        else: #match or mismatch\n",
    "            aligned_seq.extend(seq[c:c+oplen])\n",
    "            aligned_qual.extend(qual[c:c+oplen])  \n",
    "            c+=oplen\n",
    "            \n",
    "    aligned_reads.append((pos,aligned_seq,aligned_qual,flag))\n",
    "                \n",
    "N_reads = len(aligned_reads)"
   ]
  },
  {
   "cell_type": "code",
   "execution_count": 54,
   "metadata": {},
   "outputs": [
    {
     "name": "stdout",
     "output_type": "stream",
     "text": [
      "Before cropping: Read depth (DP): 44, VAF:1.0\n"
     ]
    }
   ],
   "source": [
    "variant_column = np.array([read_seq[(variant['pos']-1)-read_pos] for read_pos, read_seq, *_ in aligned_reads])\n",
    "\n",
    "VAF0,DP0 = compute_VAF_DP(variant_column, variant['alt'])\n",
    "\n",
    "print(f'Before cropping: Read depth (DP): {DP0}, VAF:{VAF0}')"
   ]
  },
  {
   "cell_type": "code",
   "execution_count": 55,
   "metadata": {},
   "outputs": [
    {
     "name": "stdout",
     "output_type": "stream",
     "text": [
      "After cropping: Read depth (DP): 20, VAF:1.0\n"
     ]
    }
   ],
   "source": [
    "#if there more reads than we can include in the image, we have to remove some of them\n",
    "\n",
    "if image_crop_strategy == 'center':\n",
    "    #keep reads at the top and at the bottom, remove the central part\n",
    "    aligned_reads = aligned_reads[:image_max_height//2] + aligned_reads[max(N_reads_tot-image_max_height//2,0):N_reads]\n",
    "elif image_crop_strategy == 'topbottom':\n",
    "    #keep reads in the center, remove at the top and at the bottom\n",
    "    shift = max(N_reads//2-image_max_height//2,0)\n",
    "    aligned_reads = aligned_reads[shift:shift+image_max_height]\n",
    "    \n",
    "variant_column = np.array([read_seq[(variant['pos']-1)-read_pos] for read_pos, read_seq, *_ in aligned_reads])\n",
    "\n",
    "VAF,DP = compute_VAF_DP(variant_column, variant['alt'])\n",
    "\n",
    "N_reads = len(aligned_reads)\n",
    "\n",
    "print(f'After cropping: Read depth (DP): {DP}, VAF:{VAF}')"
   ]
  },
  {
   "cell_type": "code",
   "execution_count": 56,
   "metadata": {},
   "outputs": [],
   "source": [
    "if image_check_variant_column:\n",
    "    #check if (after cropping) we still have the alternative allele in the variant column\n",
    "    variant_column = np.array([read_seq[(variant['pos']-1)-read_pos] for read_pos, read_seq, *_ in aligned_reads])\n",
    "    is_alt = (variant_column==encode_bases(variant['alt']))\n",
    "    if (isinstance(is_alt, bool) and not is_alt) or not is_alt.any():\n",
    "        print('No reads with variant found in the variant column!')"
   ]
  },
  {
   "cell_type": "code",
   "execution_count": 57,
   "metadata": {},
   "outputs": [],
   "source": [
    "if image_sort_by_variant:\n",
    "    \n",
    "    variant_column = np.array([read_seq[(variant['pos']-1)-read_pos] for read_pos, read_seq, *_ in aligned_reads])\n",
    "    diff = (variant_column==encode_bases(variant['ref'])).astype(int)-(variant_column>3).astype(int).tolist() #all N,M,K letters will go to the bottom\n",
    "    aligned_reads_sorted_tuple = sorted(zip(aligned_reads,diff),key=lambda x:x[1], reverse=True)\n",
    "    aligned_reads = [read[0] for read in aligned_reads_sorted_tuple]"
   ]
  },
  {
   "cell_type": "code",
   "execution_count": 58,
   "metadata": {},
   "outputs": [],
   "source": [
    "reads_im = np.zeros((N_reads,image_width,2)) # 2 channels to encode sequence and probability of each read base\n",
    "\n",
    "reads_im[:,:,0] = encode_bases('N') #bases for all reads, default: no data ('N')\n",
    "reads_im[:,:,1] = 1/4. #probability to have the corresponding basis, default:equal probability of all bases\n",
    "\n",
    "for read_idx, read in enumerate(aligned_reads):\n",
    "    \n",
    "    pos,seq,qual,flag = read #absolute position, sequence, quality scores and flags of the read\n",
    "        \n",
    "    start_pos = pos-(variant['pos']-1-variant_column_idx) #relative position of the read in the image\n",
    "    \n",
    "    if start_pos<0: #left end of the read is beyond the defined image edge\n",
    "        \n",
    "        #reject data that's beyond the image\n",
    "        seq = seq[-start_pos:]\n",
    "        qual = qual[-start_pos:]\n",
    "        start_pos = 0\n",
    "        \n",
    "    rlen = len(seq)\n",
    "    \n",
    "    reads_im[read_idx,start_pos:start_pos+rlen,0] = seq[:image_width-start_pos]\n",
    "    reads_im[read_idx,start_pos:start_pos+rlen,1] = qual[:image_width-start_pos]"
   ]
  },
  {
   "cell_type": "code",
   "execution_count": 59,
   "metadata": {},
   "outputs": [],
   "source": [
    "def replace_bases(variant_new, variant_old, reads_im_old, ref_bases_old):\n",
    "    '''\n",
    "    Replaces sequences for a given variant, while keeping read qualities and flags of original reads\n",
    "    '''\n",
    "    \n",
    "    #variant_column = reads_im_old.shape[2]//2\n",
    "\n",
    "    new_alt = variant_new['alt']\n",
    "    \n",
    "    #get new fragment of reference sequence\n",
    "    new_ref_seq_num = get_ref_bases(variant_new)\n",
    "    new_ref = decode_bases(new_ref_seq_num[variant_column_idx])\n",
    "\n",
    "    #numerical encoding for bases\n",
    "    new_ref_num = new_ref_seq_num[variant_column_idx]\n",
    "    new_alt_num = encode_bases(new_alt)\n",
    "\n",
    "    diff = reads_im_old[:,:,0]-ref_bases_old\n",
    "    diff = np.where(diff==0,1,-1) #indicate whether the current position is diferent from reference bases\n",
    "    diff[reads_im_old[:,:,0]>3] = 0 #special letters (N,K,*, etc): we won't change them\n",
    "\n",
    "    new_ref_seq_num_exp = np.expand_dims(new_ref_seq_num,0) + np.zeros((reads_im_old.shape[0],1)) #expand numerical encoding of reference bases on all reads\n",
    "\n",
    "    new_reads_num = np.zeros((reads_im_old.shape[0],reads_im_old.shape[1])) #numerical encoding of reads bases\n",
    "    \n",
    "    new_reads_num[diff==1] = new_ref_seq_num_exp[diff==1] #copy reference bases to read bases when there's no change\n",
    "    new_reads_num[diff==0] = reads_im[:,:,0][diff==0] #copy special letters\n",
    " \n",
    "    #when there's a difference btw read and reference base, choose any letter which is not the reference base\n",
    "    for i,j in np.vstack(np.where(diff==-1)).T:\n",
    "        choice =[0,1,2,3]\n",
    "        choice.remove(new_ref_seq_num_exp[i,j])\n",
    "        new_reads_num[i,j] = np.random.choice(choice)\n",
    "\n",
    "    #variant column is special: we replace the alternative allele\n",
    "    read_supp_alt = (reads_im_old[:,variant_column_idx,0].astype(int)==encode_bases(variant_old['alt']))\n",
    "    new_reads_num[read_supp_alt, variant_column_idx] = new_alt_num\n",
    "\n",
    "    reads_im_new = np.zeros((reads_im_old.shape))\n",
    "    reads_im_new[:,:,1] = reads_im_old[:,:,1]\n",
    "    reads_im_new[:,:,0] = new_reads_num\n",
    "    \n",
    "    ref_bases_new = new_ref_seq_num\n",
    "    \n",
    "    return reads_im_new, ref_bases_new"
   ]
  },
  {
   "cell_type": "code",
   "execution_count": 60,
   "metadata": {},
   "outputs": [
    {
     "name": "stdout",
     "output_type": "stream",
     "text": [
      "Reference sequence: GGTCACAGGGCTGGCCCAGGCTGCAGGAAGCGCGGGAGGTGGACAGGGAGGCTGTGGGTTGCACCCAGGCCCTGGGGCCTCCTCCTGCAGTGATGGGGGCAATGGGTGGCTCTGGGTGTGACCCCAGCTCCGGCCTCCTTTTTCATCTGG\n"
     ]
    }
   ],
   "source": [
    "replace_variant = True #replace variant (data augmentation)\n",
    "\n",
    "if replace_variant:\n",
    "    \n",
    "    new_variant = {k:v for k,v in variant.items()}\n",
    "    \n",
    "    new_variant = {'alt':'T', 'ref':'G', 'chrom':'22', 'refpos':40094296}\n",
    "\n",
    "    reads_im, ref_bases = replace_bases(new_variant, variant, reads_im, ref_bases)\n",
    "    \n",
    "    variant = new_variant"
   ]
  },
  {
   "cell_type": "code",
   "execution_count": 61,
   "metadata": {},
   "outputs": [
    {
     "name": "stdout",
     "output_type": "stream",
     "text": [
      "GCTGTGGGTTGCACCCAGGCCCTGG\u001b[34mG\u001b[0mGCCTCCTCCTGCAGTGATGGGGGC\n",
      "GCTGTGGGTTGCACCCAGGCC\u001b[31mA\u001b[0mTGG\u001b[31mT\u001b[0mGCCTCCTCCTGCAGTGATGGGGNN\n",
      "GCTGTGGGTTGCACCCAGGCC\u001b[31mT\u001b[0mTGG\u001b[31mT\u001b[0mGCCTCCTCCTGCAGTGATGGGGGC\n",
      "GCTGTGGGTTGCACCCAGGCC\u001b[31mT\u001b[0mTGG\u001b[31mT\u001b[0mGCCTCCTCCTGCAGTGATGGGGGC\n",
      "GCTGTGGGTTGCACCCAGGCC\u001b[31mA\u001b[0mTGG\u001b[31mT\u001b[0mGCCTCCTCCTGCAGTGATGGGGGC\n",
      "GCTGTGGGTTGCACCCAGGCC\u001b[31mA\u001b[0mTGG\u001b[31mT\u001b[0mGCCTCCTCCTGCAGTGATGGGGGC\n",
      "GCTGTGGGTTGCACCCAGGCC\u001b[31mA\u001b[0mTGG\u001b[31mT\u001b[0mGCCTCCTCCTGCAGTGATGGGGGC\n",
      "GCTGTGGGTTGCACCCAGGCC\u001b[31mT\u001b[0mTGG\u001b[31mT\u001b[0mGCCTCCTCCTGCAGTGATGGGGGC\n",
      "GCTGTGGGTTGCACCCAGGCC\u001b[31mT\u001b[0mTGG\u001b[31mT\u001b[0mGCCTCCTCCTGCAGTGATGGGGGC\n",
      "GCTGTGGGTTGCACCCAGGCC\u001b[31mG\u001b[0mTGG\u001b[31mT\u001b[0mGCCTCCTCCTGCAGTGATGGGGGC\n",
      "GCTGTGGGTTGCACCCAGGCC\u001b[31mT\u001b[0mTGG\u001b[31mT\u001b[0mGCCTCCTCCTGCAGTGATGGGGGC\n",
      "GCTGTGGGTTGCACCCAGGCC\u001b[31mT\u001b[0mTGG\u001b[31mT\u001b[0mGCCTCCTCCTGCAGTGATGGGGGC\n",
      "GCTGTGGGTTGCACCCAGGCC\u001b[31mG\u001b[0mTGG\u001b[31mT\u001b[0mGCCTCCTCCTGCAGTGATGGGGGC\n",
      "GCTGTGGGTTGCACCCAGGCC\u001b[31mG\u001b[0mTGG\u001b[31mT\u001b[0mGCCTCCTCCTGCAGTGATGGGGGC\n",
      "GCTGTGGGTTGCACCCAGGCC\u001b[31mA\u001b[0mTGG\u001b[31mT\u001b[0mGCCTCCTCCTGCAGTGATGGGGGC\n",
      "GCTGTGGGTTGCACCCAGGCC\u001b[31mG\u001b[0mTGG\u001b[31mT\u001b[0mGCCTCCTCCTGCAGTGATGGGGGC\n",
      "GCTGTGGGTTGCACCCAGGCC\u001b[31mT\u001b[0mTGG\u001b[31mT\u001b[0mGCCTCCTCCTGCAGTGATGGGGGC\n",
      "GCTGTGGGTTGCACCCAGGCC\u001b[31mA\u001b[0mTGG\u001b[31mT\u001b[0mGCCTC\u001b[31mT\u001b[0mTCCTGCAGTGATGGGGGC\n",
      "GCTGTGGGTTGCACCCAGGCC\u001b[31mG\u001b[0mTGG\u001b[31mT\u001b[0mGCCTCCTCCTGCAGTGATGGGGGC\n",
      "GCTGTGGGTTGCACCCAGGCC\u001b[31mG\u001b[0mTGG\u001b[31mT\u001b[0mGCCTCCTCCTGCAGTGATGGGGGC\n",
      "NCTGTGGGTTGCACCCAGGCC\u001b[31mG\u001b[0mTGG\u001b[31mT\u001b[0mGCCTCCTCCTGCAGTGATGGGGGC\n"
     ]
    }
   ],
   "source": [
    "show_diff_text(reads_im, ref_bases)"
   ]
  },
  {
   "cell_type": "code",
   "execution_count": 62,
   "metadata": {},
   "outputs": [
    {
     "data": {
      "image/png": "[encoded data removed]",
      "text/plain": [
       "<Figure size 720x720 with 1 Axes>"
      ]
     },
     "metadata": {},
     "output_type": "display_data"
    }
   ],
   "source": [
    "show_diff_image(reads_im, ref_bases)"
   ]
  },
  {
   "cell_type": "code",
   "execution_count": 18,
   "metadata": {},
   "outputs": [],
   "source": [
    "p_hot_reads = np.zeros((N_reads,image_width,4)) # p-hot encoding of reads probabilities: each channel gives the probability of the corresponding base (ACTG)\n",
    "\n",
    "for basis_idx in range(4):\n",
    "    p_hot_reads[:,:,basis_idx] = np.where(reads_im[:,:,0]==basis_idx, reads_im[:,:,1], (1.-reads_im[:,:,1])/3.)\n",
    "\n",
    "del_row, del_col = np.where(reads_im[:,0,:]==6) #deletions\n",
    "p_hot_reads[del_row, del_col, :] = 0.\n",
    "\n",
    "M_row, M_col = np.where(reads_im[:,0,:]==7) #M: either A or C, each with probability 0.5\n",
    "p_hot_reads[M_row, M_col, 0] = 1.\n",
    "p_hot_reads[M_row, M_col, 1] = 1.\n",
    "\n",
    "K_row, K_col = np.where(reads_im[:,0,:]==5) #K: either G or T, each with probability 0.5\n",
    "p_hot_reads[K_row, K_col, 2] = 1.\n",
    "p_hot_reads[K_row, K_col, 3] = 1."
   ]
  },
  {
   "cell_type": "code",
   "execution_count": 19,
   "metadata": {},
   "outputs": [],
   "source": [
    "one_hot_ref = np.zeros((1,image_width,4)) #one-hot encoding of reference bases, same for all reads\n",
    "\n",
    "for basis_idx in range(4):\n",
    "    one_hot_ref[:,(ref_bases==basis_idx),basis_idx] = 1.\n",
    "\n",
    "one_hot_ref[:,(ref_bases==4),:] = 1 #N\n",
    "one_hot_ref[:,(ref_bases==7),0] = 1 #M\n",
    "one_hot_ref[:,(ref_bases==7),1] = 1 #M\n",
    "one_hot_ref[:,(ref_bases==5),2] = 1 #K\n",
    "one_hot_ref[:,(ref_bases==5),3] = 1 #K\n",
    "    \n",
    "flags_reads = np.zeros((N_reads,image_width,6)) # encoding of 6 flags, different for all reads\n",
    "\n",
    "#loop over flags of all reads\n",
    "for read_idx, (_,_,_,flag) in enumerate(aligned_reads):\n",
    "    flags_reads[read_idx,:,0]=flag&0x2   #each segment properly aligned according to the aligner\n",
    "    flags_reads[read_idx,:,1]=flag&0x8   #next segment unmapped\n",
    "    flags_reads[read_idx,:,2]=flag&0x10  #SEQ being reverse complemented\n",
    "    flags_reads[read_idx,:,3]=flag&0x20  #SEQ of the next segment in the template being reverse complemented\n",
    "    flags_reads[read_idx,:,4]=flag&0x100 #secondary alignment\n",
    "    flags_reads[read_idx,:,5]=flag&0x800 #supplementary alignment\n",
    "    flags_reads[read_idx,:] = flags_reads[read_idx,:]>0 #to boolean"
   ]
  },
  {
   "cell_type": "code",
   "execution_count": 20,
   "metadata": {},
   "outputs": [
    {
     "data": {
      "image/png": "[encoded data removed]",
      "text/plain": [
       "<Figure size 1080x1080 with 1 Axes>"
      ]
     },
     "metadata": {
      "needs_background": "light"
     },
     "output_type": "display_data"
    }
   ],
   "source": [
    "#visualize reference channels (they are the same for all reads)\n",
    "\n",
    "N_crop = 50 #bases to omit on each side of the variant position, to make lines shorter\n",
    "\n",
    "from matplotlib.colors import ListedColormap\n",
    "\n",
    "nucl_colors=np.array([(255,255,255), (228,26,28), (55,126,184), (77,175,74), (152,78,163)])/255. #colors for NACTG\n",
    "nucl_cmap = ListedColormap(nucl_colors)\n",
    "\n",
    "ref_im = np.transpose(one_hot_ref[0, N_crop:-N_crop,:]).copy().astype(np.ubyte) #reference tensor is the same for all reads, we choose read 0\n",
    "\n",
    "for base_idx in range(4):\n",
    "    ref_im[base_idx,:]=ref_im[base_idx,:]*(base_idx+1) #color corresponds to the base index  \n",
    "\n",
    "ref_letters = decode_bases(ref_bases) #seqence decoding:map digits back to letters\n",
    "\n",
    "pcolor(ref_im, yticklabels=['A','C','T','G'], xticklabels=ref_letters[N_crop:-N_crop], cmap=nucl_cmap, figsize = (15,15))"
   ]
  },
  {
   "cell_type": "code",
   "execution_count": 21,
   "metadata": {},
   "outputs": [
    {
     "data": {
      "image/png": "[encoded data removed]",
      "text/plain": [
       "<Figure size 1080x1080 with 1 Axes>"
      ]
     },
     "metadata": {
      "needs_background": "light"
     },
     "output_type": "display_data"
    },
    {
     "data": {
      "image/png": "[encoded data removed]",
      "text/plain": [
       "<Figure size 1080x1080 with 1 Axes>"
      ]
     },
     "metadata": {
      "needs_background": "light"
     },
     "output_type": "display_data"
    }
   ],
   "source": [
    "#visualize channels specific to a given read\n",
    "\n",
    "read_number = 1\n",
    "\n",
    "N_crop = 50 #bases to omit on each side of the variant position, to make lines shorter\n",
    "\n",
    "reads_letters = [list(map(lambda x:decode_bases(x), x)) for x in reads_im[:,0,:]] #seqence decoding:map digits back to letters\n",
    "\n",
    "phreads_im = np.transpose(p_hot_reads[read_number,N_crop:-N_crop,:]).copy() \n",
    "pcolor(phreads_im, yticklabels=['A','C','T','G'], xticklabels=reads_letters[read_number][N_crop:-N_crop], cmap='Greens',figsize = (15,15))\n",
    "\n",
    "flags_im = np.transpose(flags_reads[read_number,N_crop:-N_crop,:])\n",
    "pcolor(flags_im, yticklabels=['0x2','0x8','0x10','0x20','0x100', '0x800'], xticklabels=reads_letters[read_number][N_crop:-N_crop], cmap='binary',figsize = (15,15))"
   ]
  },
  {
   "cell_type": "code",
   "execution_count": 22,
   "metadata": {},
   "outputs": [
    {
     "name": "stdout",
     "output_type": "stream",
     "text": [
      "Flag: 147\n",
      "\n",
      "Flag    1 (0x1  ): True\n",
      "Flag    2 (0x2  ): True\n",
      "Flag    4 (0x4  ): False\n",
      "Flag    8 (0x8  ): False\n",
      "Flag   16 (0x10 ): True\n",
      "Flag   32 (0x20 ): False\n",
      "Flag   64 (0x40 ): False\n",
      "Flag  128 (0x80 ): True\n",
      "Flag  256 (0x100): False\n",
      "Flag  512 (0x200): False\n",
      "Flag 1024 (0x400): False\n",
      "Flag 2048 (0x800): False\n"
     ]
    }
   ],
   "source": [
    "#print values of all flags\n",
    "all_reads_flags = [flag for (_,_,_,flag) in aligned_reads]\n",
    "print(f'Flag: {all_reads_flags[read_number]}\\n')\n",
    "for flag in map(lambda x: 2**x,range(12)):\n",
    "    print(f'Flag {flag:4d} ({hex(flag):5}): {all_reads_flags[read_number]&flag>0}')"
   ]
  },
  {
   "cell_type": "code",
   "execution_count": 23,
   "metadata": {},
   "outputs": [
    {
     "name": "stdout",
     "output_type": "stream",
     "text": [
      "-rw-r--r--. 1 sergey.vilov OG-ICB-User 42K Dec 16  2021 test.img\n"
     ]
    }
   ],
   "source": [
    "# How much memory does one image take?\n",
    "\n",
    "image = {'one_hot_ref':one_hot_ref.astype(bool),\n",
    "             'p_hot_reads':(p_hot_reads*1e4).astype(np.ushort),  \n",
    "            'flags_reads':flags_reads.astype(bool)}\n",
    "    \n",
    "import pickle\n",
    "\n",
    "with open('test.img', 'wb') as f:\n",
    "    pickle.dump(image,f)\n",
    "    \n",
    "!ls -alh test.img\n",
    "!rm test.img"
   ]
  },
  {
   "cell_type": "code",
   "execution_count": 24,
   "metadata": {},
   "outputs": [
    {
     "data": {
      "text/plain": [
       "'CAGGCCCTGGGGCCTCCTCCT'"
      ]
     },
     "execution_count": 24,
     "metadata": {},
     "output_type": "execute_result"
    }
   ],
   "source": [
    "ref_support = ''.join(decode_bases(ref_bases)[variant_column_idx-10:variant_column_idx+11]) # reference sequence around the variant\n",
    "ref_support"
   ]
  }
 ],
 "metadata": {
  "kernelspec": {
   "display_name": "Python 3 (ipykernel)",
   "language": "python",
   "name": "python3"
  },
  "language_info": {
   "codemirror_mode": {
    "name": "ipython",
    "version": 3
   },
   "file_extension": ".py",
   "mimetype": "text/x-python",
   "name": "python",
   "nbconvert_exporter": "python",
   "pygments_lexer": "ipython3",
   "version": "3.9.6"
  }
 },
 "nbformat": 4,
 "nbformat_minor": 4
}

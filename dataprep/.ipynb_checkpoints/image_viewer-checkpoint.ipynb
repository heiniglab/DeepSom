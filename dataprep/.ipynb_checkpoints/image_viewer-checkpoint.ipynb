{
 "cells": [
  {
   "cell_type": "markdown",
   "id": "f087bac1-992d-4401-82ca-bd944c007ffa",
   "metadata": {},
   "source": [
    "## Viewer to check variant .img files"
   ]
  },
  {
   "cell_type": "code",
   "execution_count": 3,
   "id": "1529f743-22ca-4a09-9cfa-7dd52fa76c08",
   "metadata": {},
   "outputs": [],
   "source": [
    "import numpy as np\n",
    "import pysam\n",
    "import matplotlib.pyplot as plt\n",
    "import sys\n",
    "import pickle\n",
    "\n",
    "\n",
    "%matplotlib inline\n",
    "\n",
    "#input_img = 'test.img'\n",
    "#input_img =  '/storage/groups/epigenereg01/workspace/projects/vale/datasets/snvs/TCGA-LAML/germline/HOM/5/58355032_60888310-051121-1213-90.imgb'\n",
    "\n",
    "input_img =  '/storage/groups/epigenereg01/workspace/projects/vale/datasets2/snvs/GiB_NA12878/germline/HET/chr2/16276016_19312701-060421-1253-2.imgb'\n"
   ]
  },
  {
   "cell_type": "code",
   "execution_count": 17,
   "id": "ac81ca60-9fb1-4fa2-8289-5b936d75a2c5",
   "metadata": {},
   "outputs": [],
   "source": [
    "with open(input_img, 'rb') as f:\n",
    "    images = pickle.load(f)\n",
    "    image = images['images'][10]\n",
    "    \n",
    "#with open('test.img', 'rb') as f:\n",
    "#    image = pickle.load(f)\n",
    "    \n",
    "nucl_map={'A':0,'C':1,'T':2,'G':3, 'N':4, 'K':5, '*':6}\n",
    "nucl_unmap=('A','C','T','G','N','K','*')\n",
    "\n",
    "#reads_im = image['reads_im']\n",
    "#ref_bases = image['ref_bases']\n",
    "#background_im = image['background_im']\n",
    "one_hot_ref = image['one_hot_ref']\n",
    "p_hot_reads = image['p_hot_reads']/1e4\n",
    "indels_chn = image['indels_chn']\n",
    "flags_reads = image['flags_reads']\n",
    "\n",
    "N_reads,width,_ = image['p_hot_reads'].shape\n",
    "\n",
    "ref_bases = np.zeros((width,),dtype=np.ubyte)\n",
    "one_hot_ref_1 = one_hot_ref[0,:,:].reshape((width,4)) #take the 0th read as reference channels are the same in all reads\n",
    "\n",
    "ref_bases[one_hot_ref_1[:,0]==True]=nucl_map['A']\n",
    "ref_bases[one_hot_ref_1[:,1]==True]=nucl_map['C']\n",
    "ref_bases[one_hot_ref_1[:,2]==True]=nucl_map['T']\n",
    "ref_bases[one_hot_ref_1[:,3]==True]=nucl_map['G']\n",
    "ref_bases[one_hot_ref_1.sum(1)==4]=nucl_map['N']\n",
    "ref_bases[one_hot_ref_1.sum(1)==2]=nucl_map['K']\n",
    "ref_bases[one_hot_ref_1.sum(1)<0.2]=nucl_map['*']\n",
    "\n",
    "one_hot_reads = p_hot_reads.copy()\n",
    "\n",
    "one_hot_reads[one_hot_reads<0.2]=0\n",
    "one_hot_reads[one_hot_reads>=0.2]=True\n",
    "\n",
    "reads_im = np.zeros((N_reads,2,width))\n",
    "\n",
    "for read_idx in range(N_reads):\n",
    "    read = one_hot_reads[read_idx, : ,:]\n",
    "    reads_im[read_idx,0,read[:,0]==True]=nucl_map['A']\n",
    "    reads_im[read_idx,0,read[:,1]==True]=nucl_map['C']\n",
    "    reads_im[read_idx,0,read[:,2]==True]=nucl_map['T']\n",
    "    reads_im[read_idx,0,read[:,3]==True]=nucl_map['G']\n",
    "    reads_im[read_idx,0,read.sum(1)==4]=nucl_map['N']\n",
    "    reads_im[read_idx,0,read.sum(1)==2]=nucl_map['K']\n",
    "    reads_im[read_idx,0,read.sum(1)<0.2]=nucl_map['*']"
   ]
  },
  {
   "cell_type": "code",
   "execution_count": 18,
   "id": "37a9965c-ad17-45bc-a9a8-c76a22332a80",
   "metadata": {},
   "outputs": [
    {
     "name": "stdout",
     "output_type": "stream",
     "text": [
      "GAGAGAAAATACCGTATGAACTCCT\u001b[34mG\u001b[0mTTTTTAATTACATTGATCTGTACC\n",
      "GAGAGAAAATACCGTATGAACTCCTGTTTTNNNNNNNNNNNNNNNNNNNN\n",
      "GAGAGAAAATACCGTATGAACTCCT\u001b[31mA\u001b[0mTTTTTNNNNNNNNNNNNNNNNNNN\n",
      "GAGAGAA\u001b[31mG\u001b[0mATACCGTATGAACTCCTGNNNNNNNNNNNNNNNNNNNNNNNN\n",
      "GAGAGAAAATACCGTATGAACTCCT\u001b[31mA\u001b[0mTTTTTAATTACATTGATCNNNNNN\n",
      "GAGAGAAAA\u001b[31mG\u001b[0mACCGTATGAACTCCT\u001b[31mA\u001b[0mTTTTTAATNNNNNNNNNNNNNNNN\n",
      "GAGAGAAAATACCGTATGAACTCCTGTTTTTAATTACATTGATCTGTACN\n",
      "GAGAGAAAATACCGTATGAACTCCT\u001b[31mA\u001b[0mTNNNNNNNNNNNNNNNNNNNNNNN\n",
      "GAGAGAAAATACCGTATGAACTCCT\u001b[31mA\u001b[0mTTTTTAATTACATTGATCTGTACC\n",
      "GAGAGAAAATACCGTATGAACTCCTGTTTTTANNNNNNNNNNNNNNNNNN\n",
      "GAGAGAAAATACCGTATGAACTCCTGTTTTTAATTACATTGATCTGTACC\n",
      "GAGAGAAAATACCGTATGAACTCCTGTTTTTANNNNNNNNNNNNNNNNNN\n",
      "GAGAGAAAATACCGTATGAACTCCT\u001b[31mA\u001b[0mTTT\u001b[31mG\u001b[0mTAATTACATTGA\u001b[31mG\u001b[0mCTGTACC\n",
      "GAGAGAAAATACCGTATGAACTCCTGTTTTTAATTACATTGANNNNNNNN\n",
      "GAGAGAAAATACCGTATGAACTCCTGTTTTTAATTACATTGATCTGTACC\n",
      "GAGAGAAAATACCGTATGAACTCCT\u001b[31mA\u001b[0mTTTTTAATTACATTGATCTGTACC\n",
      "GAGAGAAAATACCGTATGAACTCCT\u001b[31mA\u001b[0mTTTTTAATTACATTGATCTGTACC\n",
      "GAGAGAAAATACCGTATGAACTCCT\u001b[31mA\u001b[0mTTTTTAATTACATTGATCTGTACC\n",
      "GAGAGAAAATACCGTATGAACTCCTGT\u001b[31mA\u001b[0mTTTAATTACATTGATCT\u001b[31mT\u001b[0mTACC\n",
      "GAGAGAAAATACCGTATGAACTCCTGTTTTTAATTACATTGATCTGTACC\n",
      "GAGAGAAAATACCGTATGAACTCCTGTTTTTAATTACATTGATCTGTACC\n",
      "GAGAGAAAATACCGTATGAACTCCTGTTTTTAATTACATTGATCTGTACC\n",
      "GAGA\u001b[31mT\u001b[0mAAAATACCGTATGAACTCCT\u001b[31mA\u001b[0mTTTTTAATTACATTGATNNNNNNN\n",
      "GAGAGAAAATACCGTATGAACTCCTGTTTTTAATTACATTGATCTGTACC\n",
      "GAGAGAAAATACCGTATGAACTCCT\u001b[31mA\u001b[0mTTTTTAATTACATTGATCTGTACC\n",
      "GAGAGAAAATACCGTATGAACTCCT\u001b[31mA\u001b[0mTTTTTAATTACATTGATCTGTACC\n",
      "GAGAGAAAATACCGTATGAACTCCT\u001b[31mA\u001b[0mTTTTTAATTACATTGATCTGTACC\n",
      "GAGAGAAAATACCGTATGAACTCCT\u001b[31mA\u001b[0mTTTTTAATTACATTGATCTGTACC\n",
      "GAGAGAAAATACCGTATGAACTCCTGTTTTTAATTACATTGATCTGTACC\n",
      "GAGAGAAAATACCGTATGAACTCCTGTTTTTAATTACATTGATCTGTACC\n",
      "GAGAG\u001b[31mC\u001b[0mAAATACCGTATGAACTCCT\u001b[31mA\u001b[0mTTTTTAATTAC\u001b[31mC\u001b[0mTTGATCTGTACC\n",
      "GAGAGAAAATACCGTATGAACTCCTGTTTTTAATTACATTGATCTGTACC\n",
      "GAGAG\u001b[31mC\u001b[0mAAATACCGTATGAACTCCT\u001b[31mA\u001b[0mTTTTTAATTACATTGATCTGTACC\n",
      "GAGAGAAAATACCGTATGAACTCCT\u001b[31mA\u001b[0mTTTTTAATTACATTGATCTGTACC\n",
      "GAGAGAAAATACCGTATGAACTCCTGTTTTTAATTACATTGATCTGTACC\n",
      "GAGAGAAAATACCGTATGAACTCCTGTTTTTAATTACATTGATCTGTACC\n",
      "GAGAGAAAATACCGTATGAACTCCTGTTTTTAATTACATTGATCTGTACC\n",
      "GAGAGAAAATACCGTATGAACTCCT\u001b[31mA\u001b[0mTTTTTAATTACATTGATCTGTACC\n",
      "GAGAGAAAATACCGTATGAACTCCTGTTTTTAATTACATTGATCTGTACC\n",
      "GAGAGAAAATACCG\u001b[31mG\u001b[0mA\u001b[31mG\u001b[0m\u001b[31mA\u001b[0m\u001b[31mC\u001b[0mACT\u001b[31mA\u001b[0mCT\u001b[31mA\u001b[0mTTTT\u001b[31mC\u001b[0mA\u001b[31mT\u001b[0mTTACA\u001b[31mC\u001b[0mTGATCTGTACC\n",
      "GAGAGAAAATACCGTATGAACTCCT\u001b[31mA\u001b[0mTTTTT\u001b[31mC\u001b[0mATTACATTG\u001b[31mC\u001b[0mT\u001b[31mG\u001b[0mTGT\u001b[31mC\u001b[0mCC\n",
      "GAGAGAAAATACCGTATGAACTCCT\u001b[31mA\u001b[0mTTTTTAATTACATTGATCTGTACC\n",
      "GAGAGAAAATACCGTATGAACTCCT\u001b[31mA\u001b[0mTTTTTAATTACATTGATCTGTACC\n",
      "GAGAGAAAATACCGTATGAACTCCTGTTTTTAATTACATTGATCTGTACC\n",
      "GAGAGAAAATACCGTATGAACTCCTGTTTTTAATTACATTGATCTGTACC\n",
      "NAGAGAAAATACCGTATGAACTCCTGTTTTTAATTACATTGATCTGTACC\n",
      "NNNNGAAAATACCGTATGAACTCCT\u001b[31mA\u001b[0mTTTTTAATTACATTGATCTGTACC\n",
      "NNNNNNNAATACCGTATGAACTCCTGTTTTTAATTACATTGATCTGTACC\n",
      "NNNNNNNNNNACCGTATGAACTCCTGTTTTTAATTACATTGATCTGTACC\n",
      "NNNNNNNNNNACCGTATGAACTCCTGTTTTTAATTACATTGATCTGTACC\n",
      "NNNNNNNNNNNNNGTATGAACTCCTGTTTTTAATTACATTGATCTGTACC\n",
      "NNNNNNNNNNNNNGTATGAACTCCTGTTTTTAATTACATTGATCTGTACC\n",
      "NNNNNNNNNNNNNNNATGAACTCCT\u001b[31mA\u001b[0mTTTTTAATTACATTGATCTGTACC\n",
      "NNNNNNNNNNNNNNNATGAACTCCTGTTTTTAATTACATTGATCTG\u001b[31mG\u001b[0mAC\u001b[31mA\u001b[0m\n",
      "NNNNNNNNNNNNNNNNNGAACTCCT\u001b[31mA\u001b[0mTTTTTAATTACATTGATCTGTA\u001b[31mA\u001b[0mC\n",
      "NNNNNNNNNNNNNNNNNGAACTCCT\u001b[31mA\u001b[0mTTTTTAATTACATTGATCTGTACC\n",
      "NNNNNNNNNNNNNNNNNNNACTCCT\u001b[31mA\u001b[0mTTTTTAATTACATTGATCTGTACC\n",
      "NNNNNNNNNNNNNNNNNNNNNTCCT\u001b[31mA\u001b[0mTTTTTAATTACATTGATCTGTACC\n",
      "NNNNNNNNNNNNNNNNNNNNNNNNT\u001b[31mA\u001b[0mTTTTTAATTACATTGATC\u001b[31mG\u001b[0mGTACC\n",
      "NNNNNNNNNNNNNNNNNNNNNNNNT\u001b[31mA\u001b[0mTTTTTAATTACATTGATCTGTACC\n",
      "NNNNNNNNNNNNNNNNNNNNNNNNN\u001b[31mA\u001b[0mTTTTTAATTACATTGATCTGTACC\n"
     ]
    }
   ],
   "source": [
    "#visualise reads pileup in text\n",
    "\n",
    "diff = reads_im[:,0,:]-ref_bases\n",
    "diff = (diff!=0)\n",
    "variant_column = width//2\n",
    "\n",
    "reads_letters = [list(map(lambda x:nucl_unmap[int(x)], x)) for x in reads_im[:,0,:]] #map numbers back to letters\n",
    "#reads_strs = list(map(lambda x:''.join(x), reads_letters))\n",
    "\n",
    "ref_letters = list(map(lambda x:nucl_unmap[int(x)], ref_bases)) #map numbers back to letters\n",
    "ref_letters[variant_column] = \"\\x1b[34m{}\\x1b[0m\".format(ref_letters[variant_column]) #dye the site at variant position in blue using ANSI escape code\n",
    "ref_str = ''.join(ref_letters) #ref bases as a string\n",
    "\n",
    "N_crop = 50 #bases to omit on each side \n",
    "\n",
    "print(ref_str[N_crop:-N_crop])\n",
    "\n",
    "highlight_column = -1 #choose any column to highlight\n",
    "\n",
    "for idx_read in range(0,N_reads,1):\n",
    "    read = reads_letters[idx_read] #read bases as a string\n",
    "    read = read[N_crop:-N_crop]\n",
    "    for c_ind in range(len(read)):\n",
    "        read[c_ind] = (read[c_ind] if N_crop+c_ind!=highlight_column else \"\\x1b[36m{}\\x1b[0m\".format(read[c_ind]))\n",
    "        read[c_ind] = (read[c_ind] if not diff[idx_read,N_crop+c_ind] or read[c_ind]=='N' else \"\\x1b[31m{}\\x1b[0m\".format(read[c_ind]))#dye the site at mismatches in red using ANSI escape code\n",
    "    read_str = ''.join(read)\n",
    "    print(read_str)"
   ]
  },
  {
   "cell_type": "code",
   "execution_count": 15,
   "id": "a6923bbe-4252-4721-b15b-a92f7e308df4",
   "metadata": {},
   "outputs": [],
   "source": [
    "def pcolor(image, yticklabels=[],xticklabels=[], cmap='binary',figsize = (10,10)):\n",
    "    fig = plt.figure(figsize = figsize)\n",
    "    ax = plt.gca()\n",
    "    ax.set_xticks([])\n",
    "    ax.set_yticks([])\n",
    "    plt.imshow(image, cmap = cmap)\n",
    "    \n",
    "    #major ticks - grid\n",
    "    ax.set_yticks(np.arange(-0.5, image.shape[0]-1, 1), minor=False)\n",
    "    ax.set_xticks(np.arange(-0.5, image.shape[1]-1, 1), minor=False)\n",
    "    ax.set_yticklabels([], minor=False)\n",
    "    ax.set_xticklabels([], minor=False)  \n",
    "    ax.tick_params(axis=\"y\",direction=\"in\", pad=-22)\n",
    "    ax.tick_params(axis=\"x\",direction=\"in\", pad=-22)\n",
    "    #minor ticks - labels\n",
    "    if yticklabels:\n",
    "        ax.set_yticks(np.arange(-0.1, image.shape[0]-1, 1), minor=True)\n",
    "        ax.set_yticklabels(yticklabels, minor=True)\n",
    "    if xticklabels:\n",
    "        ax.set_xticks(np.arange(-0.1, image.shape[1]-1, 1), minor=True)\n",
    "        ax.set_xticklabels(xticklabels, minor=True)\n",
    "    \n",
    "    ax.grid(which='major', axis='both', linestyle='-', color='k', linewidth=2)"
   ]
  },
  {
   "cell_type": "code",
   "execution_count": 16,
   "id": "6e1a6d85-6566-42b5-a998-d1b79f0e2b35",
   "metadata": {},
   "outputs": [
    {
     "data": {
      "image/png": "[encoded data removed]",
      "text/plain": [
       "<Figure size 1080x1080 with 1 Axes>"
      ]
     },
     "metadata": {
      "needs_background": "light"
     },
     "output_type": "display_data"
    }
   ],
   "source": [
    "from matplotlib.colors import ListedColormap\n",
    "nucl_colors=np.array([(255,255,255), (228,26,28), (55,126,184), (77,175,74), (152,78,163)])/255. #colors for NACTG\n",
    "nucl_cmap = ListedColormap(nucl_colors)\n",
    "\n",
    "#visualize reference channels (they are the same for all reads)\n",
    "\n",
    "ref_im = np.transpose(one_hot_ref[0,N_crop:-N_crop,:]).copy().astype(np.ubyte) #reference tensor is the same for all reads, we choose read 0\n",
    "\n",
    "for nucl_idx in range(4):\n",
    "    ref_im[nucl_idx,:]=ref_im[nucl_idx,:]*(nucl_idx+1)\n",
    "\n",
    "ref_letters = list(map(lambda x:nucl_unmap[int(x)], ref_bases)) #map numbers back to letters\n",
    "\n",
    "pcolor(ref_im, yticklabels=['A','C','T','G'], xticklabels=ref_letters[N_crop:-N_crop], cmap=nucl_cmap,figsize = (15,15))"
   ]
  },
  {
   "cell_type": "code",
   "execution_count": 8,
   "id": "e24e0db0-7b62-4f49-a2a8-1fefb9709c1f",
   "metadata": {},
   "outputs": [
    {
     "data": {
      "image/png": "[encoded data removed]",
      "text/plain": [
       "<Figure size 1080x1080 with 1 Axes>"
      ]
     },
     "metadata": {
      "needs_background": "light"
     },
     "output_type": "display_data"
    },
    {
     "data": {
      "image/png": "[encoded data removed]",
      "text/plain": [
       "<Figure size 1080x1080 with 1 Axes>"
      ]
     },
     "metadata": {
      "needs_background": "light"
     },
     "output_type": "display_data"
    },
    {
     "data": {
      "image/png": "[encoded data removed]",
      "text/plain": [
       "<Figure size 1080x1080 with 1 Axes>"
      ]
     },
     "metadata": {
      "needs_background": "light"
     },
     "output_type": "display_data"
    }
   ],
   "source": [
    "#visualize channels specific to a given read\n",
    "\n",
    "read_number = 4\n",
    "\n",
    "reads_letters = [list(map(lambda x:nucl_unmap[int(x)], x)) for x in reads_im[:,0,:]] #map numbers back to letters\n",
    "\n",
    "phreads_im = np.transpose(p_hot_reads[read_number,N_crop:-N_crop,:]).copy() \n",
    "pcolor(phreads_im, yticklabels=['A','C','T','G'], xticklabels=reads_letters[read_number][N_crop:-N_crop], cmap='Greens',figsize = (15,15))\n",
    "\n",
    "\n",
    "indels_im = np.transpose(indels_chn[read_number,N_crop:-N_crop,:]) \n",
    "pcolor(indels_im, yticklabels=['INS','DEL'], xticklabels=reads_letters[read_number][N_crop:-N_crop], cmap='binary',figsize = (15,15))\n",
    "\n",
    "\n",
    "flags_im = np.transpose(flags_reads[read_number,N_crop:-N_crop,:])\n",
    "pcolor(flags_im, yticklabels=['0x2','0x8','0x10','0x20','0x100', '0x800'], xticklabels=reads_letters[read_number][N_crop:-N_crop], cmap='binary',figsize = (15,15))\n"
   ]
  },
  {
   "cell_type": "code",
   "execution_count": null,
   "id": "508d4431-5200-4cc7-ad3b-2adfa25ad513",
   "metadata": {},
   "outputs": [],
   "source": []
  },
  {
   "cell_type": "code",
   "execution_count": null,
   "id": "3a679368-e832-4e4d-bbdc-4ab3fe6ab2bd",
   "metadata": {},
   "outputs": [],
   "source": []
  }
 ],
 "metadata": {
  "kernelspec": {
   "display_name": "Python 3",
   "language": "python",
   "name": "python3"
  },
  "language_info": {
   "codemirror_mode": {
    "name": "ipython",
    "version": 3
   },
   "file_extension": ".py",
   "mimetype": "text/x-python",
   "name": "python",
   "nbconvert_exporter": "python",
   "pygments_lexer": "ipython3",
   "version": "3.6.13"
  }
 },
 "nbformat": 4,
 "nbformat_minor": 5
}
